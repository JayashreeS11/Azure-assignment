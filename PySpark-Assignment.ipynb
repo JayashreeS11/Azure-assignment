{
 "cells": [
  {
   "cell_type": "code",
   "execution_count": 0,
   "metadata": {
    "application/vnd.databricks.v1+cell": {
     "cellMetadata": {
      "byteLimit": 2048000,
      "rowLimit": 10000
     },
     "inputWidgets": {},
     "nuid": "66486c4a-dcba-42b7-a659-8eacc1e6094a",
     "showTitle": false,
     "title": ""
    }
   },
   "outputs": [],
   "source": [
    "# Replace values with your Azure Storage credentials\n",
    "storage_account_name = \"pysparkstorageaccnt\"\n",
    "storage_account_access_key = \"uXDKIkT9KnlL5CSHFqu9auafAdlRXFPDFvWICxSrBvKd6CksPLgNEuzQnlWscUJXmm6kh0xwCx/D+AStSzOnCQ==\"\n",
    "container_name = \"pyspark\"\n",
    "mount_point = \"/mnt/pysparkcontainer\"\n",
    "\n"
   ]
  },
  {
   "cell_type": "code",
   "execution_count": 0,
   "metadata": {
    "application/vnd.databricks.v1+cell": {
     "cellMetadata": {
      "byteLimit": 2048000,
      "rowLimit": 10000
     },
     "inputWidgets": {},
     "nuid": "415413a7-542b-4e29-8f90-700d82b90a79",
     "showTitle": false,
     "title": ""
    }
   },
   "outputs": [
    {
     "output_type": "stream",
     "name": "stdout",
     "output_type": "stream",
     "text": [
      "/mnt/pysparkcontainer has been unmounted.\n"
     ]
    },
    {
     "output_type": "execute_result",
     "data": {
      "text/plain": [
       "True"
      ]
     },
     "execution_count": 210,
     "metadata": {},
     "output_type": "execute_result"
    }
   ],
   "source": [
    "# Mount Azure Storage Container to DBFS\n",
    "if any(mount.mountPoint == mount_point for mount in dbutils.fs.mounts()):\n",
    "    dbutils.fs.unmount(mount_point)\n",
    "dbutils.fs.mount(\n",
    "    source = \"wasbs://\" + container_name + \"@\" + storage_account_name + \".blob.core.windows.net\",\n",
    "    mount_point = mount_point,\n",
    "    extra_configs = {\"fs.azure.account.key.\" + storage_account_name + \".blob.core.windows.net\": storage_account_access_key})\n"
   ]
  },
  {
   "cell_type": "markdown",
   "metadata": {
    "application/vnd.databricks.v1+cell": {
     "cellMetadata": {
      "byteLimit": 2048000,
      "rowLimit": 10000
     },
     "inputWidgets": {},
     "nuid": "40192854-3391-4bd6-bf29-85b5bb92cfd1",
     "showTitle": false,
     "title": ""
    }
   },
   "source": [
    "## What is bigdata?\n",
    "\n",
    "Big data refers to extremely large and complex datasets that cannot be easily managed or analyzed using traditional data processing tools or methods. These datasets typically contain a wide variety of data types, including structured, semi-structured, and unstructured data, and they may originate from various sources such as sensors, social media platforms, transaction records, mobile devices, and more. The characteristics that define big data are 6 V's\n",
    "1.Volume\n",
    "2.Velocity\n",
    "3.Variety\n",
    "4.Variability\n",
    "5.Veracity\n",
    "6.Value"
   ]
  },
  {
   "cell_type": "markdown",
   "metadata": {
    "application/vnd.databricks.v1+cell": {
     "cellMetadata": {
      "byteLimit": 2048000,
      "rowLimit": 10000
     },
     "inputWidgets": {},
     "nuid": "b640df12-5145-42a4-93fd-5260fc22effc",
     "showTitle": false,
     "title": ""
    }
   },
   "source": [
    "## Why spark?\n",
    "Spark is a popular choice for big data processing and analytics for several reasons. \n",
    "1. Its speed and performance significantly outpace traditional data processing frameworks like MapReduce due to its in-memory computing capabilities and optimized execution engine. This allows Spark to process large datasets much faster, making it ideal for real-time or near-real-time analytics.\n",
    "2. Spark offers a rich set of libraries and APIs for various data processing tasks, including SQL queries, machine learning, graph processing, and streaming analytics, enabling a wide range of use cases within a single unified platform. \n",
    "3. Spark's compatibility with multiple programming languages such as Scala, Java, Python, and R makes it accessible to a broader audience of developers and data scientists.\n",
    "4. Spark's fault tolerance and scalability allow it to handle massive datasets and distributed computing environments efficiently, making it well-suited for large-scale data processing tasks in both on-premises and cloud environments.\n",
    "5. Overall, Spark's combination of speed, versatility, scalability, and ease of use makes it a compelling choice for organizations seeking to derive insights and value from their big data assets."
   ]
  },
  {
   "cell_type": "markdown",
   "metadata": {
    "application/vnd.databricks.v1+cell": {
     "cellMetadata": {
      "byteLimit": 2048000,
      "rowLimit": 10000
     },
     "inputWidgets": {},
     "nuid": "9efdacf6-6ac5-4df3-9606-04ca0ff4b8e5",
     "showTitle": false,
     "title": ""
    }
   },
   "source": [
    "## What is spark?\n",
    "1. Apache Spark is an open-source distributed computing system designed for processing and analyzing large-scale datasets. It provides an easy-to-use, unified analytics engine for big data processing, with support for various data processing tasks such as batch processing, real-time stream processing, machine learning, and graph processing.\n",
    "2. Spark was developed to address the limitations of existing distributed data processing frameworks like MapReduce by introducing in-memory computing and optimized query execution techniques. This allows Spark to achieve significantly faster processing speeds, making it suitable for both interactive data analysis and real-time data processing.\n",
    "3. One of the key features of Spark is its resilient distributed dataset (RDD) abstraction, which represents data distributed across multiple nodes in a cluster and enables fault tolerance and parallel processing. Spark builds upon RDDs with higher-level APIs like DataFrames and Datasets, providing a more user-friendly interface for data manipulation and analysis.\n",
    "4. Spark also comes with a rich ecosystem of libraries, including Spark SQL for structured data processing, MLlib for machine learning, GraphX for graph processing, and Spark Streaming for real-time stream processing. These libraries make it easy for developers and data scientists to perform various data processing tasks within the same unified platform.\n"
   ]
  },
  {
   "cell_type": "markdown",
   "metadata": {
    "application/vnd.databricks.v1+cell": {
     "cellMetadata": {
      "byteLimit": 2048000,
      "rowLimit": 10000
     },
     "inputWidgets": {},
     "nuid": "35963c5f-66a1-4777-af67-3b92d6293dd7",
     "showTitle": false,
     "title": ""
    }
   },
   "source": [
    "## Internals of spark?\n",
    "The internals of Apache Spark involve several key components and concepts that enable its distributed computing capabilities:\n",
    "\n",
    "1. **Cluster Manager**: Spark can run on various cluster managers like Apache Mesos, Hadoop YARN, or its standalone cluster manager. The cluster manager allocates resources and manages the execution of Spark applications across a cluster of machines.\n",
    "\n",
    "2. **Driver Program**: The driver program is the main control program that coordinates the execution of a Spark application. It splits the application into tasks and schedules them for execution on the cluster.\n",
    "\n",
    "3. **Executors**: Executors are worker nodes responsible for running the tasks assigned by the driver program. They manage the execution of tasks and store data in memory or on disk. Executors run within containers managed by the cluster manager.\n",
    "\n",
    "4. **Resilient Distributed Dataset (RDD)**: RDD is the fundamental data abstraction in Spark, representing an immutable distributed collection of objects across the cluster. RDDs support parallel processing and provide fault tolerance through lineage information, enabling recovery from failures.\n",
    "\n",
    "5. **Directed Acyclic Graph (DAG) Scheduler**: Spark applications are represented as DAGs of stages, where each stage consists of multiple tasks that can be executed in parallel. The DAG scheduler divides the application into stages and determines their dependencies, optimizing task execution based on data locality and resource availability.\n",
    "\n",
    "6. **Task Scheduler**: The task scheduler runs tasks on executors in a distributed manner, coordinating task execution based on the DAG schedule generated by the DAG scheduler.\n",
    "\n",
    "7. **Memory Management**: Spark utilizes memory for caching RDDs and intermediate data during computation, improving performance by reducing the need for disk I/O. Memory management includes components like the Spark Memory Manager, which oversees memory allocation and eviction, and the Block Manager, which manages data storage and retrieval.\n",
    "\n",
    "8. **Optimization**: Spark performs various optimizations to improve performance, including query optimization in Spark SQL, data partitioning, and pipelining of operations to minimize data movement across the network.\n",
    "\n",
    "Understanding these internals helps developers and administrators optimize Spark applications for performance and scalability in distributed computing environments."
   ]
  },
  {
   "cell_type": "markdown",
   "metadata": {
    "application/vnd.databricks.v1+cell": {
     "cellMetadata": {
      "byteLimit": 2048000,
      "rowLimit": 10000
     },
     "inputWidgets": {},
     "nuid": "8591cd3c-a887-45f0-afea-f4a4c42f3cf2",
     "showTitle": false,
     "title": ""
    }
   },
   "source": [
    "## Highlevel API of spark?\n",
    "Apache Spark provides several high-level APIs that abstract away the complexities of distributed computing and enable developers to write concise and efficient code for various data processing tasks. Some of the main high-level APIs in Spark include:\n",
    "\n",
    "1. **Spark SQL**: Spark SQL provides a domain-specific language (DSL) and APIs for working with structured data, enabling developers to execute SQL queries, manipulate DataFrames and Datasets, and perform relational and procedural operations on structured data. Spark SQL seamlessly integrates with other Spark components, allowing SQL queries to be executed on RDDs, DataFrames, or Datasets.\n",
    "\n",
    "2. **DataFrame API**: DataFrame API provides a higher-level abstraction for working with structured data in Spark. DataFrames are distributed collections of data organized into named columns, similar to tables in a relational database. The DataFrame API offers a rich set of operations for data manipulation, filtering, aggregation, joining, and more, making it easy to perform complex data transformations using a familiar tabular format.\n",
    "\n",
    "3. **Dataset API**: Dataset API is an extension of the DataFrame API that provides type-safe, object-oriented programming interfaces for working with structured and semi-structured data in Spark. Datasets combine the benefits of DataFrames (high-level abstraction, optimization, and query optimization) with the benefits of RDDs (type safety, object-oriented programming), allowing developers to write expressive, efficient, and type-safe code for data processing tasks.\n",
    "\n",
    "4. **Spark MLlib (Machine Learning Library)**: Spark MLlib is a scalable machine learning library built on top of Spark that provides a wide range of algorithms and tools for machine learning and data mining tasks. MLlib offers APIs for building, training, evaluating, and deploying machine learning models on large-scale datasets, enabling developers to perform tasks such as classification, regression, clustering, collaborative filtering, and more.\n",
    "\n",
    "5. **Spark GraphX**: Spark GraphX is a distributed graph processing library built on top of Spark that provides APIs for building and executing graph algorithms on large-scale graphs. GraphX enables developers to create and manipulate graph structures, perform graph computation and analysis, and implement graph algorithms such as PageRank, connected components, shortest paths, and more, using a scalable and fault-tolerant framework.\n",
    "\n",
    "These high-level APIs abstract away the complexities of distributed computing and provide developers with powerful tools and abstractions for building scalable, efficient, and expressive data processing and analytics applications in Spark."
   ]
  },
  {
   "cell_type": "code",
   "execution_count": 0,
   "metadata": {
    "application/vnd.databricks.v1+cell": {
     "cellMetadata": {
      "byteLimit": 2048000,
      "rowLimit": 10000
     },
     "inputWidgets": {},
     "nuid": "99265296-2d9c-493a-b2aa-055820a7bb26",
     "showTitle": false,
     "title": ""
    }
   },
   "outputs": [],
   "source": [
    "import pyspark\n",
    "from pyspark.sql import SparkSession\n",
    "conf=pyspark.SparkConf()\n",
    "spark = SparkSession.builder.config(conf=conf).appName('Test').getOrCreate()"
   ]
  },
  {
   "cell_type": "code",
   "execution_count": 0,
   "metadata": {
    "application/vnd.databricks.v1+cell": {
     "cellMetadata": {
      "byteLimit": 2048000,
      "rowLimit": 10000
     },
     "inputWidgets": {},
     "nuid": "ef1bfc7a-f0a4-4b3d-b505-a41a5fbb06b5",
     "showTitle": false,
     "title": ""
    }
   },
   "outputs": [],
   "source": [
    "myRange = spark.range(1000).toDF(\"number\")"
   ]
  },
  {
   "cell_type": "code",
   "execution_count": 0,
   "metadata": {
    "application/vnd.databricks.v1+cell": {
     "cellMetadata": {
      "byteLimit": 2048000,
      "rowLimit": 10000
     },
     "inputWidgets": {},
     "nuid": "d9f7cece-ebc9-43c8-82dd-98cc5badef0b",
     "showTitle": false,
     "title": ""
    }
   },
   "outputs": [
    {
     "output_type": "stream",
     "name": "stdout",
     "output_type": "stream",
     "text": [
      "+------+\n|number|\n+------+\n|     0|\n|     1|\n|     2|\n|     3|\n|     4|\n|     5|\n|     6|\n|     7|\n|     8|\n|     9|\n|    10|\n|    11|\n|    12|\n|    13|\n|    14|\n|    15|\n|    16|\n|    17|\n|    18|\n|    19|\n+------+\nonly showing top 20 rows\n\n"
     ]
    }
   ],
   "source": [
    "myRange.show()"
   ]
  },
  {
   "cell_type": "code",
   "execution_count": 0,
   "metadata": {
    "application/vnd.databricks.v1+cell": {
     "cellMetadata": {
      "byteLimit": 2048000,
      "rowLimit": 10000
     },
     "inputWidgets": {},
     "nuid": "3b0a1a59-88da-4ff8-bc58-0f5497d5fc82",
     "showTitle": false,
     "title": ""
    }
   },
   "outputs": [],
   "source": [
    "flightData2015 = spark\\\n",
    ".read\\\n",
    ".option(\"inferSchema\", \"true\")\\\n",
    ".option(\"header\", \"true\")\\\n",
    ".csv(\"/mnt/pysparkcontainer/2015-summary.csv\")\n"
   ]
  },
  {
   "cell_type": "code",
   "execution_count": 0,
   "metadata": {
    "application/vnd.databricks.v1+cell": {
     "cellMetadata": {
      "byteLimit": 2048000,
      "rowLimit": 10000
     },
     "inputWidgets": {},
     "nuid": "4ceae15f-6677-44e3-b636-edbce7a97517",
     "showTitle": false,
     "title": ""
    }
   },
   "outputs": [
    {
     "output_type": "stream",
     "name": "stdout",
     "output_type": "stream",
     "text": [
      "+--------------------+-------------------+-----+\n|   DEST_COUNTRY_NAME|ORIGIN_COUNTRY_NAME|count|\n+--------------------+-------------------+-----+\n|       United States|            Romania|   15|\n|       United States|            Croatia|    1|\n|       United States|            Ireland|  344|\n|               Egypt|      United States|   15|\n|       United States|              India|   62|\n|       United States|          Singapore|    1|\n|       United States|            Grenada|   62|\n|          Costa Rica|      United States|  588|\n|             Senegal|      United States|   40|\n|             Moldova|      United States|    1|\n|       United States|       Sint Maarten|  325|\n|       United States|   Marshall Islands|   39|\n|              Guyana|      United States|   64|\n|               Malta|      United States|    1|\n|            Anguilla|      United States|   41|\n|             Bolivia|      United States|   30|\n|       United States|           Paraguay|    6|\n|             Algeria|      United States|    4|\n|Turks and Caicos ...|      United States|  230|\n|       United States|          Gibraltar|    1|\n+--------------------+-------------------+-----+\nonly showing top 20 rows\n\n"
     ]
    }
   ],
   "source": [
    "flightData2015.show()"
   ]
  },
  {
   "cell_type": "code",
   "execution_count": 0,
   "metadata": {
    "application/vnd.databricks.v1+cell": {
     "cellMetadata": {
      "byteLimit": 2048000,
      "rowLimit": 10000
     },
     "inputWidgets": {},
     "nuid": "f8a962fc-59b1-4bcb-b894-bacfc12d492c",
     "showTitle": false,
     "title": ""
    }
   },
   "outputs": [
    {
     "output_type": "stream",
     "name": "stdout",
     "output_type": "stream",
     "text": [
      "== Physical Plan ==\nAdaptiveSparkPlan isFinalPlan=false\n+- Sort [count#19538 ASC NULLS FIRST], true, 0\n   +- Exchange rangepartitioning(count#19538 ASC NULLS FIRST, 20), ENSURE_REQUIREMENTS, [plan_id=11880]\n      +- FileScan csv [DEST_COUNTRY_NAME#19536,ORIGIN_COUNTRY_NAME#19537,count#19538] Batched: false, DataFilters: [], Format: CSV, Location: InMemoryFileIndex(1 paths)[dbfs:/mnt/pysparkcontainer/2015-summary.csv], PartitionFilters: [], PushedFilters: [], ReadSchema: struct<DEST_COUNTRY_NAME:string,ORIGIN_COUNTRY_NAME:string,count:int>\n\n\n"
     ]
    }
   ],
   "source": [
    "flightData2015.sort(\"count\").explain()"
   ]
  },
  {
   "cell_type": "code",
   "execution_count": 0,
   "metadata": {
    "application/vnd.databricks.v1+cell": {
     "cellMetadata": {
      "byteLimit": 2048000,
      "rowLimit": 10000
     },
     "inputWidgets": {},
     "nuid": "cc3edadc-8cff-4754-9142-17ba0954edb0",
     "showTitle": false,
     "title": ""
    }
   },
   "outputs": [
    {
     "output_type": "execute_result",
     "data": {
      "text/plain": [
       "[Row(DEST_COUNTRY_NAME='United States', ORIGIN_COUNTRY_NAME='Romania', count=15),\n",
       " Row(DEST_COUNTRY_NAME='United States', ORIGIN_COUNTRY_NAME='Croatia', count=1),\n",
       " Row(DEST_COUNTRY_NAME='United States', ORIGIN_COUNTRY_NAME='Ireland', count=344),\n",
       " Row(DEST_COUNTRY_NAME='Egypt', ORIGIN_COUNTRY_NAME='United States', count=15),\n",
       " Row(DEST_COUNTRY_NAME='United States', ORIGIN_COUNTRY_NAME='India', count=62)]"
      ]
     },
     "execution_count": 217,
     "metadata": {},
     "output_type": "execute_result"
    }
   ],
   "source": [
    "flightData2015.take(5)"
   ]
  },
  {
   "cell_type": "code",
   "execution_count": 0,
   "metadata": {
    "application/vnd.databricks.v1+cell": {
     "cellMetadata": {
      "byteLimit": 2048000,
      "rowLimit": 10000
     },
     "inputWidgets": {},
     "nuid": "2f0940bf-34b9-43f8-80e0-3bddb205affa",
     "showTitle": false,
     "title": ""
    }
   },
   "outputs": [],
   "source": [
    "spark.conf.set(\"spark.sql.shuffle.partitions\", \"5\")\n"
   ]
  },
  {
   "cell_type": "code",
   "execution_count": 0,
   "metadata": {
    "application/vnd.databricks.v1+cell": {
     "cellMetadata": {
      "byteLimit": 2048000,
      "rowLimit": 10000
     },
     "inputWidgets": {},
     "nuid": "2669f88b-210e-45c5-b1b2-ff4675837d62",
     "showTitle": false,
     "title": ""
    }
   },
   "outputs": [
    {
     "output_type": "execute_result",
     "data": {
      "text/plain": [
       "[Row(DEST_COUNTRY_NAME='United States', ORIGIN_COUNTRY_NAME='Singapore', count=1),\n",
       " Row(DEST_COUNTRY_NAME='Moldova', ORIGIN_COUNTRY_NAME='United States', count=1)]"
      ]
     },
     "execution_count": 219,
     "metadata": {},
     "output_type": "execute_result"
    }
   ],
   "source": [
    "flightData2015.sort(\"count\").take(2)"
   ]
  },
  {
   "cell_type": "code",
   "execution_count": 0,
   "metadata": {
    "application/vnd.databricks.v1+cell": {
     "cellMetadata": {
      "byteLimit": 2048000,
      "rowLimit": 10000
     },
     "inputWidgets": {},
     "nuid": "a3f32e10-be1c-4a2c-9be1-eca42da3a6ae",
     "showTitle": false,
     "title": ""
    }
   },
   "outputs": [],
   "source": [
    "flightData2015.createOrReplaceTempView(\"flight_data_2015\")"
   ]
  },
  {
   "cell_type": "code",
   "execution_count": 0,
   "metadata": {
    "application/vnd.databricks.v1+cell": {
     "cellMetadata": {
      "byteLimit": 2048000,
      "rowLimit": 10000
     },
     "inputWidgets": {},
     "nuid": "00f028a0-cde5-495b-9296-a839b290fb03",
     "showTitle": false,
     "title": ""
    }
   },
   "outputs": [
    {
     "output_type": "stream",
     "name": "stdout",
     "output_type": "stream",
     "text": [
      "== Physical Plan ==\nAdaptiveSparkPlan isFinalPlan=false\n+- HashAggregate(keys=[DEST_COUNTRY_NAME#19536], functions=[finalmerge_count(merge count#19577L) AS count(1)#19565L])\n   +- Exchange hashpartitioning(DEST_COUNTRY_NAME#19536, 5), ENSURE_REQUIREMENTS, [plan_id=11916]\n      +- HashAggregate(keys=[DEST_COUNTRY_NAME#19536], functions=[partial_count(1) AS count#19577L])\n         +- FileScan csv [DEST_COUNTRY_NAME#19536] Batched: false, DataFilters: [], Format: CSV, Location: InMemoryFileIndex(1 paths)[dbfs:/mnt/pysparkcontainer/2015-summary.csv], PartitionFilters: [], PushedFilters: [], ReadSchema: struct<DEST_COUNTRY_NAME:string>\n\n\n== Physical Plan ==\nAdaptiveSparkPlan isFinalPlan=false\n+- HashAggregate(keys=[DEST_COUNTRY_NAME#19536], functions=[finalmerge_count(merge count#19579L) AS count(1)#19572L])\n   +- Exchange hashpartitioning(DEST_COUNTRY_NAME#19536, 5), ENSURE_REQUIREMENTS, [plan_id=11936]\n      +- HashAggregate(keys=[DEST_COUNTRY_NAME#19536], functions=[partial_count(1) AS count#19579L])\n         +- FileScan csv [DEST_COUNTRY_NAME#19536] Batched: false, DataFilters: [], Format: CSV, Location: InMemoryFileIndex(1 paths)[dbfs:/mnt/pysparkcontainer/2015-summary.csv], PartitionFilters: [], PushedFilters: [], ReadSchema: struct<DEST_COUNTRY_NAME:string>\n\n\n"
     ]
    }
   ],
   "source": [
    "sqlWay = spark.sql(\"\"\"\n",
    "SELECT DEST_COUNTRY_NAME, count(1)\n",
    "FROM flight_data_2015\n",
    "GROUP BY DEST_COUNTRY_NAME\n",
    "\"\"\")\n",
    "\n",
    "dataFrameWay = flightData2015\\\n",
    ".groupBy(\"DEST_COUNTRY_NAME\")\\\n",
    ".count()\n",
    "\n",
    "sqlWay.explain()\n",
    "dataFrameWay.explain()\n"
   ]
  },
  {
   "cell_type": "code",
   "execution_count": 0,
   "metadata": {
    "application/vnd.databricks.v1+cell": {
     "cellMetadata": {
      "byteLimit": 2048000,
      "rowLimit": 10000
     },
     "inputWidgets": {},
     "nuid": "4ddba0c1-66ee-4df9-80a3-33555d5cc9f5",
     "showTitle": false,
     "title": ""
    }
   },
   "outputs": [
    {
     "output_type": "execute_result",
     "data": {
      "text/plain": [
       "[Row(max(count)=370002)]"
      ]
     },
     "execution_count": 222,
     "metadata": {},
     "output_type": "execute_result"
    }
   ],
   "source": [
    "spark.sql(\"SELECT max(count) from flight_data_2015\").take(1)"
   ]
  },
  {
   "cell_type": "code",
   "execution_count": 0,
   "metadata": {
    "application/vnd.databricks.v1+cell": {
     "cellMetadata": {
      "byteLimit": 2048000,
      "rowLimit": 10000
     },
     "inputWidgets": {},
     "nuid": "a60d2dff-3ea8-4fd1-b0d8-3d062f9bee50",
     "showTitle": false,
     "title": ""
    }
   },
   "outputs": [
    {
     "output_type": "execute_result",
     "data": {
      "text/plain": [
       "[Row(max(count)=370002)]"
      ]
     },
     "execution_count": 223,
     "metadata": {},
     "output_type": "execute_result"
    }
   ],
   "source": [
    "from pyspark.sql.functions import max\n",
    "flightData2015.select(max(\"count\")).take(1)"
   ]
  },
  {
   "cell_type": "markdown",
   "metadata": {
    "application/vnd.databricks.v1+cell": {
     "cellMetadata": {
      "byteLimit": 2048000,
      "rowLimit": 10000
     },
     "inputWidgets": {},
     "nuid": "dd9ee2d5-f328-41a7-adce-7ea515718611",
     "showTitle": false,
     "title": ""
    }
   },
   "source": [
    "maxSql = spark.sql(\"\"\"\n",
    "SELECT DEST_COUNTRY_NAME, sum(count) as destination_total\n",
    "FROM flight_data_2015\n",
    "GROUP BY DEST_COUNTRY_NAME\n",
    "ORDER BY sum(count) DESC\n",
    "LIMIT 5\n",
    "\"\"\")\n",
    "maxSql.show()"
   ]
  },
  {
   "cell_type": "code",
   "execution_count": 0,
   "metadata": {
    "application/vnd.databricks.v1+cell": {
     "cellMetadata": {
      "byteLimit": 2048000,
      "rowLimit": 10000
     },
     "inputWidgets": {},
     "nuid": "ea275cd0-62e4-4920-8a37-68656ca8b25e",
     "showTitle": false,
     "title": ""
    }
   },
   "outputs": [
    {
     "output_type": "stream",
     "name": "stdout",
     "output_type": "stream",
     "text": [
      "+-----------------+-----------------+\n|DEST_COUNTRY_NAME|destination_total|\n+-----------------+-----------------+\n|    United States|           411352|\n|           Canada|             8399|\n|           Mexico|             7140|\n|   United Kingdom|             2025|\n|            Japan|             1548|\n+-----------------+-----------------+\n\n"
     ]
    }
   ],
   "source": [
    "from pyspark.sql.functions import desc\n",
    "flightData2015\\\n",
    ".groupBy(\"DEST_COUNTRY_NAME\")\\\n",
    ".sum(\"count\")\\\n",
    ".withColumnRenamed(\"sum(count)\", \"destination_total\")\\\n",
    ".sort(desc(\"destination_total\"))\\\n",
    ".limit(5)\\\n",
    ".show()"
   ]
  },
  {
   "cell_type": "markdown",
   "metadata": {
    "application/vnd.databricks.v1+cell": {
     "cellMetadata": {
      "byteLimit": 2048000,
      "rowLimit": 10000
     },
     "inputWidgets": {},
     "nuid": "03814b99-c9d5-4d79-971b-1ac95bb822c7",
     "showTitle": false,
     "title": ""
    }
   },
   "source": [
    "![image.png](attachment:44006774-07f1-4691-80df-0807b4af307e.png)"
   ]
  },
  {
   "cell_type": "code",
   "execution_count": 0,
   "metadata": {
    "application/vnd.databricks.v1+cell": {
     "cellMetadata": {
      "byteLimit": 2048000,
      "rowLimit": 10000
     },
     "inputWidgets": {},
     "nuid": "8d0f0bf1-eb0d-475a-90f8-8add917b3da7",
     "showTitle": false,
     "title": ""
    }
   },
   "outputs": [],
   "source": [
    "staticDataFrame = spark.read.format(\"csv\")\\\n",
    ".option(\"header\", \"true\")\\\n",
    ".option(\"inferSchema\", \"true\")\\\n",
    ".load(\"mnt/pysparkcontainer/retail-data_by-day/*.csv\")\n",
    "staticDataFrame.createOrReplaceTempView(\"retail_data\")\n",
    "staticSchema = staticDataFrame.schema\n"
   ]
  },
  {
   "cell_type": "code",
   "execution_count": 0,
   "metadata": {
    "application/vnd.databricks.v1+cell": {
     "cellMetadata": {
      "byteLimit": 2048000,
      "rowLimit": 10000
     },
     "inputWidgets": {},
     "nuid": "cddeb476-fb19-443a-84f3-c4dd6f0f6527",
     "showTitle": false,
     "title": ""
    }
   },
   "outputs": [
    {
     "output_type": "stream",
     "name": "stdout",
     "output_type": "stream",
     "text": [
      "+----------+--------------------+------------------+\n|CustomerId|              window|   sum(total_cost)|\n+----------+--------------------+------------------+\n|   14075.0|{2011-12-05 00:00...|316.78000000000003|\n|   18180.0|{2011-12-05 00:00...|            310.73|\n|   15358.0|{2011-12-05 00:00...| 830.0600000000003|\n|   15392.0|{2011-12-05 00:00...|304.40999999999997|\n|   15290.0|{2011-12-05 00:00...|263.02000000000004|\n+----------+--------------------+------------------+\nonly showing top 5 rows\n\n"
     ]
    }
   ],
   "source": [
    "from pyspark.sql.functions import window, column, desc, col\n",
    "staticDataFrame\\\n",
    ".selectExpr(\n",
    "\"CustomerId\",\n",
    "\"(UnitPrice * Quantity) as total_cost\",\n",
    "\"InvoiceDate\")\\\n",
    ".groupBy(\n",
    "col(\"CustomerId\"), window(col(\"InvoiceDate\"), \"1 day\"))\\\n",
    ".sum(\"total_cost\")\\\n",
    ".show(5)\n"
   ]
  },
  {
   "cell_type": "code",
   "execution_count": 0,
   "metadata": {
    "application/vnd.databricks.v1+cell": {
     "cellMetadata": {
      "byteLimit": 2048000,
      "rowLimit": 10000
     },
     "inputWidgets": {},
     "nuid": "018ff0e5-f031-4fd0-a71a-fb8435a3c76b",
     "showTitle": false,
     "title": ""
    }
   },
   "outputs": [],
   "source": [
    "spark.conf.set(\"spark.sql.shuffle.partitions\",\"5\")"
   ]
  },
  {
   "cell_type": "code",
   "execution_count": 0,
   "metadata": {
    "application/vnd.databricks.v1+cell": {
     "cellMetadata": {
      "byteLimit": 2048000,
      "rowLimit": 10000
     },
     "inputWidgets": {},
     "nuid": "ddb5456d-673e-49c9-99dd-fc991a9abcfb",
     "showTitle": false,
     "title": ""
    }
   },
   "outputs": [],
   "source": [
    "streamingDataFrame = spark.readStream\\\n",
    ".schema(staticSchema)\\\n",
    ".option(\"maxFilesPerTrigger\", 1)\\\n",
    ".format(\"csv\")\\\n",
    ".option(\"header\", \"true\")\\\n",
    ".load(\"mnt/pysparkcontainer/retail-data_by-day/*.csv\")"
   ]
  },
  {
   "cell_type": "code",
   "execution_count": 0,
   "metadata": {
    "application/vnd.databricks.v1+cell": {
     "cellMetadata": {
      "byteLimit": 2048000,
      "rowLimit": 10000
     },
     "inputWidgets": {},
     "nuid": "75f79efd-e9b2-4f86-9e3a-edec7f350365",
     "showTitle": false,
     "title": ""
    }
   },
   "outputs": [
    {
     "output_type": "execute_result",
     "data": {
      "text/plain": [
       "True"
      ]
     },
     "execution_count": 229,
     "metadata": {},
     "output_type": "execute_result"
    }
   ],
   "source": [
    "streamingDataFrame.isStreaming"
   ]
  },
  {
   "cell_type": "code",
   "execution_count": 0,
   "metadata": {
    "application/vnd.databricks.v1+cell": {
     "cellMetadata": {
      "byteLimit": 2048000,
      "rowLimit": 10000
     },
     "inputWidgets": {},
     "nuid": "e7c316ed-bc4e-49ff-b02e-2cc08f82d93c",
     "showTitle": false,
     "title": ""
    }
   },
   "outputs": [],
   "source": [
    "purchaseByCustomerPerHour = streamingDataFrame\\\n",
    ".selectExpr(\n",
    "\"CustomerId\",\n",
    "\"(UnitPrice * Quantity) as total_cost\",\n",
    "\"InvoiceDate\")\\\n",
    ".groupBy(\n",
    "col(\"CustomerId\"), window(col(\"InvoiceDate\"), \"1 day\"))\\\n",
    ".sum(\"total_cost\")"
   ]
  },
  {
   "cell_type": "code",
   "execution_count": 0,
   "metadata": {
    "application/vnd.databricks.v1+cell": {
     "cellMetadata": {
      "byteLimit": 2048000,
      "rowLimit": 10000
     },
     "inputWidgets": {},
     "nuid": "a6d0d281-93e8-4402-810e-3a6cdef6f2d4",
     "showTitle": false,
     "title": ""
    }
   },
   "outputs": [
    {
     "output_type": "stream",
     "name": "stdout",
     "output_type": "stream",
     "text": [
      "root\n |-- InvoiceNo: string (nullable = true)\n |-- StockCode: string (nullable = true)\n |-- Description: string (nullable = true)\n |-- Quantity: integer (nullable = true)\n |-- InvoiceDate: timestamp (nullable = true)\n |-- UnitPrice: double (nullable = true)\n |-- CustomerID: double (nullable = true)\n |-- Country: string (nullable = true)\n\n"
     ]
    }
   ],
   "source": [
    "staticDataFrame.printSchema()"
   ]
  },
  {
   "cell_type": "code",
   "execution_count": 0,
   "metadata": {
    "application/vnd.databricks.v1+cell": {
     "cellMetadata": {
      "byteLimit": 2048000,
      "rowLimit": 10000
     },
     "inputWidgets": {},
     "nuid": "1a0e6b03-424b-470d-8822-f92f95dffc7c",
     "showTitle": false,
     "title": ""
    }
   },
   "outputs": [],
   "source": [
    "from pyspark.sql.functions import date_format, col\n",
    "preppedDataFrame = staticDataFrame\\\n",
    ".na.fill(0)\\\n",
    ".withColumn(\"day_of_week\", date_format(col(\"InvoiceDate\"), \"EEEE\"))\\\n",
    ".coalesce(5)"
   ]
  },
  {
   "cell_type": "code",
   "execution_count": 0,
   "metadata": {
    "application/vnd.databricks.v1+cell": {
     "cellMetadata": {
      "byteLimit": 2048000,
      "rowLimit": 10000
     },
     "inputWidgets": {},
     "nuid": "4e1750e8-5297-44bf-a186-dc5a07c01929",
     "showTitle": false,
     "title": ""
    }
   },
   "outputs": [],
   "source": [
    "trainDataFrame = preppedDataFrame\\\n",
    ".where(\"InvoiceDate < '2011-07-01'\")\n",
    "testDataFrame = preppedDataFrame\\\n",
    ".where(\"InvoiceDate >= '2011-07-01'\")\n"
   ]
  },
  {
   "cell_type": "code",
   "execution_count": 0,
   "metadata": {
    "application/vnd.databricks.v1+cell": {
     "cellMetadata": {
      "byteLimit": 2048000,
      "rowLimit": 10000
     },
     "inputWidgets": {},
     "nuid": "38144798-3f25-4402-9d86-327b19c7a239",
     "showTitle": false,
     "title": ""
    }
   },
   "outputs": [
    {
     "output_type": "stream",
     "name": "stdout",
     "output_type": "stream",
     "text": [
      "245903\n296006\n"
     ]
    }
   ],
   "source": [
    "print(trainDataFrame.count())\n",
    "print(testDataFrame.count())\n"
   ]
  },
  {
   "cell_type": "code",
   "execution_count": 0,
   "metadata": {
    "application/vnd.databricks.v1+cell": {
     "cellMetadata": {
      "byteLimit": 2048000,
      "rowLimit": 10000
     },
     "inputWidgets": {},
     "nuid": "b428f41f-8869-4dd9-b483-0a3ccbbe1b00",
     "showTitle": false,
     "title": ""
    }
   },
   "outputs": [],
   "source": [
    "from pyspark.ml.feature import StringIndexer\n",
    "indexer = StringIndexer()\\\n",
    ".setInputCol(\"day_of_week\")\\\n",
    ".setOutputCol(\"day_of_week_index\")\n"
   ]
  },
  {
   "cell_type": "code",
   "execution_count": 0,
   "metadata": {
    "application/vnd.databricks.v1+cell": {
     "cellMetadata": {
      "byteLimit": 2048000,
      "rowLimit": 10000
     },
     "inputWidgets": {},
     "nuid": "60cf5ea9-d272-4fb3-89b2-cb045a3a3198",
     "showTitle": false,
     "title": ""
    }
   },
   "outputs": [],
   "source": [
    "from pyspark.ml.feature import OneHotEncoder\n",
    "encoder = OneHotEncoder()\\\n",
    ".setInputCol(\"day_of_week_index\")\\\n",
    ".setOutputCol(\"day_of_week_encoded\")\n"
   ]
  },
  {
   "cell_type": "code",
   "execution_count": 0,
   "metadata": {
    "application/vnd.databricks.v1+cell": {
     "cellMetadata": {
      "byteLimit": 2048000,
      "rowLimit": 10000
     },
     "inputWidgets": {},
     "nuid": "95260459-1182-49a3-afbf-22d599cbf368",
     "showTitle": false,
     "title": ""
    }
   },
   "outputs": [],
   "source": [
    "from pyspark.ml.feature import VectorAssembler\n",
    "vectorAssembler = VectorAssembler()\\\n",
    ".setInputCols([\"UnitPrice\", \"Quantity\", \"day_of_week_encoded\"])\\\n",
    ".setOutputCol(\"features\")\n"
   ]
  },
  {
   "cell_type": "code",
   "execution_count": 0,
   "metadata": {
    "application/vnd.databricks.v1+cell": {
     "cellMetadata": {
      "byteLimit": 2048000,
      "rowLimit": 10000
     },
     "inputWidgets": {},
     "nuid": "42f43ed1-2183-407b-8360-0bd215603b63",
     "showTitle": false,
     "title": ""
    }
   },
   "outputs": [],
   "source": [
    "from pyspark.ml import Pipeline\n",
    "transformationPipeline = Pipeline()\\\n",
    ".setStages([indexer, encoder, vectorAssembler])\n"
   ]
  },
  {
   "cell_type": "code",
   "execution_count": 0,
   "metadata": {
    "application/vnd.databricks.v1+cell": {
     "cellMetadata": {
      "byteLimit": 2048000,
      "rowLimit": 10000
     },
     "inputWidgets": {},
     "nuid": "1b39bf1f-92c7-4c96-a105-a41e4275c467",
     "showTitle": false,
     "title": ""
    }
   },
   "outputs": [],
   "source": [
    "fittedPipeline = transformationPipeline.fit(trainDataFrame)"
   ]
  },
  {
   "cell_type": "code",
   "execution_count": 0,
   "metadata": {
    "application/vnd.databricks.v1+cell": {
     "cellMetadata": {
      "byteLimit": 2048000,
      "rowLimit": 10000
     },
     "inputWidgets": {},
     "nuid": "8d527f23-5343-4e75-b0ad-31bbc829aea0",
     "showTitle": false,
     "title": ""
    }
   },
   "outputs": [],
   "source": [
    "transformedTraining = fittedPipeline.transform(trainDataFrame)\n",
    "transformedTest = fittedPipeline.transform(testDataFrame)"
   ]
  },
  {
   "cell_type": "code",
   "execution_count": 0,
   "metadata": {
    "application/vnd.databricks.v1+cell": {
     "cellMetadata": {
      "byteLimit": 2048000,
      "rowLimit": 10000
     },
     "inputWidgets": {},
     "nuid": "c0b9e8ad-52e9-42c6-97e2-5433f95065ae",
     "showTitle": false,
     "title": ""
    }
   },
   "outputs": [],
   "source": [
    "from pyspark.ml.clustering import KMeans\n",
    "kmeans = KMeans()\\\n",
    ".setK(20)\\\n",
    ".setSeed(1)"
   ]
  },
  {
   "cell_type": "code",
   "execution_count": 0,
   "metadata": {
    "application/vnd.databricks.v1+cell": {
     "cellMetadata": {
      "byteLimit": 2048000,
      "rowLimit": 10000
     },
     "inputWidgets": {},
     "nuid": "543885cd-3644-4908-a9e9-552bbb716120",
     "showTitle": false,
     "title": ""
    }
   },
   "outputs": [],
   "source": [
    "kmModel = kmeans.fit(transformedTraining)"
   ]
  },
  {
   "cell_type": "code",
   "execution_count": 0,
   "metadata": {
    "application/vnd.databricks.v1+cell": {
     "cellMetadata": {
      "byteLimit": 2048000,
      "rowLimit": 10000
     },
     "inputWidgets": {},
     "nuid": "7eee8d07-8822-4eef-a55b-7d971860e80f",
     "showTitle": false,
     "title": ""
    }
   },
   "outputs": [
    {
     "output_type": "stream",
     "name": "stdout",
     "output_type": "stream",
     "text": [
      "Silhouette with squared euclidean distance = 0.9606170087900685\n"
     ]
    }
   ],
   "source": [
    "from pyspark.ml.evaluation import ClusteringEvaluator\n",
    "evaluator = ClusteringEvaluator()\n",
    "silhouette = evaluator.evaluate(kmModel.transform(transformedTest))\n",
    "print(\"Silhouette with squared euclidean distance = \" + str(silhouette))\n"
   ]
  },
  {
   "cell_type": "code",
   "execution_count": 0,
   "metadata": {
    "application/vnd.databricks.v1+cell": {
     "cellMetadata": {
      "byteLimit": 2048000,
      "rowLimit": 10000
     },
     "inputWidgets": {},
     "nuid": "4643b3a6-ebe3-4c71-a463-4b3b670f5508",
     "showTitle": false,
     "title": ""
    }
   },
   "outputs": [
    {
     "output_type": "execute_result",
     "data": {
      "text/plain": [
       "DataFrame[_1: bigint]"
      ]
     },
     "execution_count": 244,
     "metadata": {},
     "output_type": "execute_result"
    }
   ],
   "source": [
    "from pyspark.sql import Row\n",
    "spark.sparkContext.parallelize([Row(1), Row(2), Row(3)]).toDF()"
   ]
  },
  {
   "cell_type": "markdown",
   "metadata": {
    "application/vnd.databricks.v1+cell": {
     "cellMetadata": {
      "byteLimit": 2048000,
      "rowLimit": 10000
     },
     "inputWidgets": {},
     "nuid": "932d9ed7-19b3-4f81-aaba-d551fde14381",
     "showTitle": false,
     "title": ""
    }
   },
   "source": [
    "Chapter 4"
   ]
  },
  {
   "cell_type": "code",
   "execution_count": 0,
   "metadata": {
    "application/vnd.databricks.v1+cell": {
     "cellMetadata": {
      "byteLimit": 2048000,
      "rowLimit": 10000
     },
     "inputWidgets": {},
     "nuid": "0425508d-e1ee-4b85-8882-c4b2dc44513d",
     "showTitle": false,
     "title": ""
    }
   },
   "outputs": [
    {
     "output_type": "execute_result",
     "data": {
      "text/plain": [
       "DataFrame[(number + 10): bigint]"
      ]
     },
     "execution_count": 245,
     "metadata": {},
     "output_type": "execute_result"
    }
   ],
   "source": [
    "df = spark.range(500).toDF(\"number\")\n",
    "df.select(df[\"number\"] + 10)"
   ]
  },
  {
   "cell_type": "code",
   "execution_count": 0,
   "metadata": {
    "application/vnd.databricks.v1+cell": {
     "cellMetadata": {
      "byteLimit": 2048000,
      "rowLimit": 10000
     },
     "inputWidgets": {},
     "nuid": "6085fc32-0079-4b70-b7ab-4498aae45032",
     "showTitle": false,
     "title": ""
    }
   },
   "outputs": [
    {
     "output_type": "execute_result",
     "data": {
      "text/plain": [
       "[Row(id=0), Row(id=1)]"
      ]
     },
     "execution_count": 246,
     "metadata": {},
     "output_type": "execute_result"
    }
   ],
   "source": [
    "spark.range(2).collect()"
   ]
  },
  {
   "cell_type": "markdown",
   "metadata": {
    "application/vnd.databricks.v1+cell": {
     "cellMetadata": {
      "byteLimit": 2048000,
      "rowLimit": 10000
     },
     "inputWidgets": {},
     "nuid": "e2723295-1a68-414b-bd1e-c2dbb2778d48",
     "showTitle": false,
     "title": ""
    }
   },
   "source": [
    "# Chapter 5"
   ]
  },
  {
   "cell_type": "code",
   "execution_count": 0,
   "metadata": {
    "application/vnd.databricks.v1+cell": {
     "cellMetadata": {
      "byteLimit": 2048000,
      "rowLimit": 10000
     },
     "inputWidgets": {},
     "nuid": "e0381f4b-0e6c-42c2-96c2-2623743a8354",
     "showTitle": false,
     "title": ""
    }
   },
   "outputs": [],
   "source": [
    "df = spark.read.format(\"json\").load(\"/mnt/pysparkcontainer/flight-data_json/2015-summary.json\")"
   ]
  },
  {
   "cell_type": "code",
   "execution_count": 0,
   "metadata": {
    "application/vnd.databricks.v1+cell": {
     "cellMetadata": {
      "byteLimit": 2048000,
      "rowLimit": 10000
     },
     "inputWidgets": {},
     "nuid": "559611e6-66b9-4e35-ae4f-5908c6de470e",
     "showTitle": false,
     "title": ""
    }
   },
   "outputs": [
    {
     "output_type": "stream",
     "name": "stdout",
     "output_type": "stream",
     "text": [
      "root\n |-- DEST_COUNTRY_NAME: string (nullable = true)\n |-- ORIGIN_COUNTRY_NAME: string (nullable = true)\n |-- count: long (nullable = true)\n\n"
     ]
    }
   ],
   "source": [
    "df.printSchema()"
   ]
  },
  {
   "cell_type": "code",
   "execution_count": 0,
   "metadata": {
    "application/vnd.databricks.v1+cell": {
     "cellMetadata": {
      "byteLimit": 2048000,
      "rowLimit": 10000
     },
     "inputWidgets": {},
     "nuid": "ab82562e-fdd8-44d5-bfbd-c75e3c8a801f",
     "showTitle": false,
     "title": ""
    }
   },
   "outputs": [
    {
     "output_type": "execute_result",
     "data": {
      "text/plain": [
       "StructType([StructField('DEST_COUNTRY_NAME', StringType(), True), StructField('ORIGIN_COUNTRY_NAME', StringType(), True), StructField('count', LongType(), True)])"
      ]
     },
     "execution_count": 249,
     "metadata": {},
     "output_type": "execute_result"
    }
   ],
   "source": [
    "spark.read.format(\"json\").load(\"/mnt/pysparkcontainer/flight-data_json/2015-summary.json\").schema\n"
   ]
  },
  {
   "cell_type": "code",
   "execution_count": 0,
   "metadata": {
    "application/vnd.databricks.v1+cell": {
     "cellMetadata": {
      "byteLimit": 2048000,
      "rowLimit": 10000
     },
     "inputWidgets": {},
     "nuid": "166815c3-095c-4451-aceb-cb7897e780c2",
     "showTitle": false,
     "title": ""
    }
   },
   "outputs": [],
   "source": [
    "from pyspark.sql.types import StructField, StructType, StringType, LongType\n",
    "myManualSchema = StructType([\n",
    "StructField(\"DEST_COUNTRY_NAME\", StringType(), True),\n",
    "StructField(\"ORIGIN_COUNTRY_NAME\", StringType(), True),\n",
    "StructField(\"count\", LongType(), False, metadata={\"hello\":\"world\"})\n",
    "])\n",
    "df = spark.read.format(\"json\").schema(myManualSchema)\\\n",
    ".load(\"/mnt/pysparkcontainer/flight-data_json/2015-summary.json\")\n"
   ]
  },
  {
   "cell_type": "markdown",
   "metadata": {
    "application/vnd.databricks.v1+cell": {
     "cellMetadata": {
      "byteLimit": 2048000,
      "rowLimit": 10000
     },
     "inputWidgets": {},
     "nuid": "15bebc43-627d-4254-bb2b-7c52a29081be",
     "showTitle": false,
     "title": ""
    }
   },
   "source": [
    "#### columns"
   ]
  },
  {
   "cell_type": "code",
   "execution_count": 0,
   "metadata": {
    "application/vnd.databricks.v1+cell": {
     "cellMetadata": {
      "byteLimit": 2048000,
      "rowLimit": 10000
     },
     "inputWidgets": {},
     "nuid": "91e83112-3e51-4d62-8a06-cd27e04722c0",
     "showTitle": false,
     "title": ""
    }
   },
   "outputs": [
    {
     "output_type": "execute_result",
     "data": {
      "text/plain": [
       "Column<'someColumnName'>"
      ]
     },
     "execution_count": 251,
     "metadata": {},
     "output_type": "execute_result"
    }
   ],
   "source": [
    "from pyspark.sql.functions import col, column\n",
    "col(\"someColumnName\")\n",
    "column(\"someColumnName\")"
   ]
  },
  {
   "cell_type": "code",
   "execution_count": 0,
   "metadata": {
    "application/vnd.databricks.v1+cell": {
     "cellMetadata": {
      "byteLimit": 2048000,
      "rowLimit": 10000
     },
     "inputWidgets": {},
     "nuid": "e085a75d-a58d-4b2a-9c97-89cfad5eacd5",
     "showTitle": false,
     "title": ""
    }
   },
   "outputs": [
    {
     "output_type": "execute_result",
     "data": {
      "text/plain": [
       "['DEST_COUNTRY_NAME', 'ORIGIN_COUNTRY_NAME', 'count']"
      ]
     },
     "execution_count": 253,
     "metadata": {},
     "output_type": "execute_result"
    }
   ],
   "source": [
    "df.columns"
   ]
  },
  {
   "cell_type": "markdown",
   "metadata": {
    "application/vnd.databricks.v1+cell": {
     "cellMetadata": {
      "byteLimit": 2048000,
      "rowLimit": 10000
     },
     "inputWidgets": {},
     "nuid": "af82daf4-299a-4961-8e52-b93deeffe335",
     "showTitle": false,
     "title": ""
    }
   },
   "source": [
    "#### Expressions"
   ]
  },
  {
   "cell_type": "code",
   "execution_count": 0,
   "metadata": {
    "application/vnd.databricks.v1+cell": {
     "cellMetadata": {
      "byteLimit": 2048000,
      "rowLimit": 10000
     },
     "inputWidgets": {},
     "nuid": "1ae87656-4fc2-45cb-8bb4-46e4f037a740",
     "showTitle": false,
     "title": ""
    }
   },
   "outputs": [
    {
     "output_type": "execute_result",
     "data": {
      "text/plain": [
       "Column<'((((someCol + 5) * 200) - 6) < otherCol)'>"
      ]
     },
     "execution_count": 254,
     "metadata": {},
     "output_type": "execute_result"
    }
   ],
   "source": [
    "(((col(\"someCol\") + 5) * 200) - 6) < col(\"otherCol\")"
   ]
  },
  {
   "cell_type": "code",
   "execution_count": 0,
   "metadata": {
    "application/vnd.databricks.v1+cell": {
     "cellMetadata": {
      "byteLimit": 2048000,
      "rowLimit": 10000
     },
     "inputWidgets": {},
     "nuid": "2ea17d0e-a8ab-466b-9af2-7862c56c9130",
     "showTitle": false,
     "title": ""
    }
   },
   "outputs": [
    {
     "output_type": "execute_result",
     "data": {
      "text/plain": [
       "Column<'((((someCol + 5) * 200) - 6) < otherCol)'>"
      ]
     },
     "execution_count": 255,
     "metadata": {},
     "output_type": "execute_result"
    }
   ],
   "source": [
    "from pyspark.sql.functions import expr\n",
    "expr(\"(((someCol + 5) * 200) - 6) < otherCol\")\n"
   ]
  },
  {
   "cell_type": "markdown",
   "metadata": {
    "application/vnd.databricks.v1+cell": {
     "cellMetadata": {
      "byteLimit": 2048000,
      "rowLimit": 10000
     },
     "inputWidgets": {},
     "nuid": "22e6dab6-7690-41d9-9da5-279ddf4a0894",
     "showTitle": false,
     "title": ""
    }
   },
   "source": [
    "#### Creating Rows"
   ]
  },
  {
   "cell_type": "code",
   "execution_count": 0,
   "metadata": {
    "application/vnd.databricks.v1+cell": {
     "cellMetadata": {
      "byteLimit": 2048000,
      "rowLimit": 10000
     },
     "inputWidgets": {},
     "nuid": "7cbe4774-3406-4f7a-8d89-5fa670ee30ec",
     "showTitle": false,
     "title": ""
    }
   },
   "outputs": [],
   "source": [
    "from pyspark.sql import Row\n",
    "myRow = Row(\"Hello\", None, 1, False)"
   ]
  },
  {
   "cell_type": "code",
   "execution_count": 0,
   "metadata": {
    "application/vnd.databricks.v1+cell": {
     "cellMetadata": {
      "byteLimit": 2048000,
      "rowLimit": 10000
     },
     "inputWidgets": {},
     "nuid": "029cc512-905b-4932-a8c3-3a4c2a0a53f3",
     "showTitle": false,
     "title": ""
    }
   },
   "outputs": [
    {
     "output_type": "stream",
     "name": "stdout",
     "output_type": "stream",
     "text": [
      "Hello\n1\n"
     ]
    }
   ],
   "source": [
    "print(myRow[0])\n",
    "print(myRow[2])\n"
   ]
  },
  {
   "cell_type": "markdown",
   "metadata": {
    "application/vnd.databricks.v1+cell": {
     "cellMetadata": {
      "byteLimit": 2048000,
      "rowLimit": 10000
     },
     "inputWidgets": {},
     "nuid": "808a37b3-6f81-45c8-a4a4-6801d9c27b9a",
     "showTitle": false,
     "title": ""
    }
   },
   "source": [
    "#### Creating DataFrames"
   ]
  },
  {
   "cell_type": "code",
   "execution_count": 0,
   "metadata": {
    "application/vnd.databricks.v1+cell": {
     "cellMetadata": {
      "byteLimit": 2048000,
      "rowLimit": 10000
     },
     "inputWidgets": {},
     "nuid": "44e600c8-2944-4cdc-9e90-6ec5b2542197",
     "showTitle": false,
     "title": ""
    }
   },
   "outputs": [],
   "source": [
    "df = spark.read.format(\"json\").load(\"/mnt/pysparkcontainer/flight-data_json/2015-summary.json\")\n",
    "df.createOrReplaceTempView(\"dfTable\")\n"
   ]
  },
  {
   "cell_type": "markdown",
   "metadata": {
    "application/vnd.databricks.v1+cell": {
     "cellMetadata": {
      "byteLimit": 2048000,
      "rowLimit": 10000
     },
     "inputWidgets": {},
     "nuid": "2a106cae-3fce-4655-89eb-798cffee0153",
     "showTitle": false,
     "title": ""
    }
   },
   "source": [
    "We can also create DataFrames on the fly by taking a set of rows and converting them to a\n",
    "DataFrame."
   ]
  },
  {
   "cell_type": "code",
   "execution_count": 0,
   "metadata": {
    "application/vnd.databricks.v1+cell": {
     "cellMetadata": {
      "byteLimit": 2048000,
      "rowLimit": 10000
     },
     "inputWidgets": {},
     "nuid": "bfdc6ce7-8f51-42c9-bdc6-b2ea99d07e79",
     "showTitle": false,
     "title": ""
    }
   },
   "outputs": [
    {
     "output_type": "stream",
     "name": "stdout",
     "output_type": "stream",
     "text": [
      "+-----+----+-----+\n| some| col|names|\n+-----+----+-----+\n|Hello|NULL|    1|\n+-----+----+-----+\n\n"
     ]
    }
   ],
   "source": [
    "from pyspark.sql import Row\n",
    "from pyspark.sql.types import StructField, StructType, StringType, LongType\n",
    "myManualSchema = StructType([\n",
    "StructField(\"some\", StringType(), True),\n",
    "StructField(\"col\", StringType(), True),\n",
    "StructField(\"names\", LongType(), False)\n",
    "])\n",
    "myRow = Row(\"Hello\", None, 1)\n",
    "myDf = spark.createDataFrame([myRow], myManualSchema)\n",
    "myDf.show()"
   ]
  },
  {
   "cell_type": "code",
   "execution_count": 0,
   "metadata": {
    "application/vnd.databricks.v1+cell": {
     "cellMetadata": {
      "byteLimit": 2048000,
      "rowLimit": 10000
     },
     "inputWidgets": {},
     "nuid": "4b31dfe6-3a24-4b0c-b614-452f3fefc767",
     "showTitle": false,
     "title": ""
    }
   },
   "outputs": [
    {
     "output_type": "stream",
     "name": "stdout",
     "output_type": "stream",
     "text": [
      "+-----------------+\n|DEST_COUNTRY_NAME|\n+-----------------+\n|    United States|\n|    United States|\n+-----------------+\nonly showing top 2 rows\n\n"
     ]
    }
   ],
   "source": [
    "df.select(\"DEST_COUNTRY_NAME\").show(2)\n"
   ]
  },
  {
   "cell_type": "code",
   "execution_count": 0,
   "metadata": {
    "application/vnd.databricks.v1+cell": {
     "cellMetadata": {
      "byteLimit": 2048000,
      "rowLimit": 10000
     },
     "inputWidgets": {},
     "nuid": "71307c52-f0dd-4d9e-9cd3-df326973d2cb",
     "showTitle": false,
     "title": ""
    }
   },
   "outputs": [
    {
     "output_type": "stream",
     "name": "stdout",
     "output_type": "stream",
     "text": [
      "+-----------------+-------------------+\n|DEST_COUNTRY_NAME|ORIGIN_COUNTRY_NAME|\n+-----------------+-------------------+\n|    United States|            Romania|\n|    United States|            Croatia|\n+-----------------+-------------------+\nonly showing top 2 rows\n\n"
     ]
    }
   ],
   "source": [
    "df.select(\"DEST_COUNTRY_NAME\", \"ORIGIN_COUNTRY_NAME\").show(2)\n"
   ]
  },
  {
   "cell_type": "markdown",
   "metadata": {
    "application/vnd.databricks.v1+cell": {
     "cellMetadata": {
      "byteLimit": 2048000,
      "rowLimit": 10000
     },
     "inputWidgets": {},
     "nuid": "f82b6af3-aea4-40be-bf36-4ed901a5b2b0",
     "showTitle": false,
     "title": ""
    }
   },
   "source": [
    "Different ways of referring columns"
   ]
  },
  {
   "cell_type": "code",
   "execution_count": 0,
   "metadata": {
    "application/vnd.databricks.v1+cell": {
     "cellMetadata": {
      "byteLimit": 2048000,
      "rowLimit": 10000
     },
     "inputWidgets": {},
     "nuid": "ffd2a4c9-fde7-40f0-89b5-1a395f6e474d",
     "showTitle": false,
     "title": ""
    }
   },
   "outputs": [
    {
     "output_type": "stream",
     "name": "stdout",
     "output_type": "stream",
     "text": [
      "+-----------------+-----------------+-----------------+\n|DEST_COUNTRY_NAME|DEST_COUNTRY_NAME|DEST_COUNTRY_NAME|\n+-----------------+-----------------+-----------------+\n|    United States|    United States|    United States|\n|    United States|    United States|    United States|\n+-----------------+-----------------+-----------------+\nonly showing top 2 rows\n\n"
     ]
    }
   ],
   "source": [
    "from pyspark.sql.functions import expr, col, column\n",
    "df.select(\n",
    "expr(\"DEST_COUNTRY_NAME\"),\n",
    "col(\"DEST_COUNTRY_NAME\"),\n",
    "column(\"DEST_COUNTRY_NAME\"))\\\n",
    ".show(2)\n"
   ]
  },
  {
   "cell_type": "code",
   "execution_count": 0,
   "metadata": {
    "application/vnd.databricks.v1+cell": {
     "cellMetadata": {
      "byteLimit": 2048000,
      "rowLimit": 10000
     },
     "inputWidgets": {},
     "nuid": "bda2ebac-e3ae-42c9-a467-da7c3ecea271",
     "showTitle": false,
     "title": ""
    }
   },
   "outputs": [
    {
     "output_type": "execute_result",
     "data": {
      "text/plain": [
       "DataFrame[DEST_COUNTRY_NAME: string, DEST_COUNTRY_NAME: string]"
      ]
     },
     "execution_count": 263,
     "metadata": {},
     "output_type": "execute_result"
    }
   ],
   "source": [
    "df.select(col(\"DEST_COUNTRY_NAME\"), \"DEST_COUNTRY_NAME\")"
   ]
  },
  {
   "cell_type": "code",
   "execution_count": 0,
   "metadata": {
    "application/vnd.databricks.v1+cell": {
     "cellMetadata": {
      "byteLimit": 2048000,
      "rowLimit": 10000
     },
     "inputWidgets": {},
     "nuid": "bc3b57ed-4266-4f6c-827b-372c4f5d61ef",
     "showTitle": false,
     "title": ""
    }
   },
   "outputs": [
    {
     "output_type": "stream",
     "name": "stdout",
     "output_type": "stream",
     "text": [
      "+-------------+\n|  destination|\n+-------------+\n|United States|\n|United States|\n+-------------+\nonly showing top 2 rows\n\n"
     ]
    }
   ],
   "source": [
    "df.select(expr(\"DEST_COUNTRY_NAME AS destination\")).show(2)\n"
   ]
  },
  {
   "cell_type": "code",
   "execution_count": 0,
   "metadata": {
    "application/vnd.databricks.v1+cell": {
     "cellMetadata": {
      "byteLimit": 2048000,
      "rowLimit": 10000
     },
     "inputWidgets": {},
     "nuid": "d9edb60d-c2ac-4422-9130-a459fe4441dd",
     "showTitle": false,
     "title": ""
    }
   },
   "outputs": [
    {
     "output_type": "stream",
     "name": "stdout",
     "output_type": "stream",
     "text": [
      "+-----------------+\n|DEST_COUNTRY_NAME|\n+-----------------+\n|    United States|\n|    United States|\n+-----------------+\nonly showing top 2 rows\n\n"
     ]
    }
   ],
   "source": [
    "df.select(expr(\"DEST_COUNTRY_NAME as destination\").alias(\"DEST_COUNTRY_NAME\"))\\\n",
    ".show(2)\n"
   ]
  },
  {
   "cell_type": "markdown",
   "metadata": {
    "application/vnd.databricks.v1+cell": {
     "cellMetadata": {
      "byteLimit": 2048000,
      "rowLimit": 10000
     },
     "inputWidgets": {},
     "nuid": "f3b790c7-a4ca-44b3-bce0-c550185204af",
     "showTitle": false,
     "title": ""
    }
   },
   "source": [
    "Because select followed by a series of expr is such a common pattern, Spark has a shorthand\n",
    "for doing this efficiently: selectExpr"
   ]
  },
  {
   "cell_type": "code",
   "execution_count": 0,
   "metadata": {
    "application/vnd.databricks.v1+cell": {
     "cellMetadata": {
      "byteLimit": 2048000,
      "rowLimit": 10000
     },
     "inputWidgets": {},
     "nuid": "65abea3d-2248-47bc-9527-a2a3cfcb6794",
     "showTitle": false,
     "title": ""
    }
   },
   "outputs": [
    {
     "output_type": "stream",
     "name": "stdout",
     "output_type": "stream",
     "text": [
      "+-------------+-----------------+\n|newColumnName|DEST_COUNTRY_NAME|\n+-------------+-----------------+\n|United States|    United States|\n|United States|    United States|\n+-------------+-----------------+\nonly showing top 2 rows\n\n"
     ]
    }
   ],
   "source": [
    "df.selectExpr(\"DEST_COUNTRY_NAME as newColumnName\", \"DEST_COUNTRY_NAME\").show(2)"
   ]
  },
  {
   "cell_type": "code",
   "execution_count": 0,
   "metadata": {
    "application/vnd.databricks.v1+cell": {
     "cellMetadata": {
      "byteLimit": 2048000,
      "rowLimit": 10000
     },
     "inputWidgets": {},
     "nuid": "b51c4039-05d1-4fbb-ad85-e046b572e321",
     "showTitle": false,
     "title": ""
    }
   },
   "outputs": [
    {
     "output_type": "stream",
     "name": "stdout",
     "output_type": "stream",
     "text": [
      "+-----------------+-------------------+-----+-------------+\n|DEST_COUNTRY_NAME|ORIGIN_COUNTRY_NAME|count|withinCountry|\n+-----------------+-------------------+-----+-------------+\n|    United States|            Romania|   15|        false|\n|    United States|            Croatia|    1|        false|\n+-----------------+-------------------+-----+-------------+\nonly showing top 2 rows\n\n"
     ]
    }
   ],
   "source": [
    "df.selectExpr(\n",
    "\"*\", # all original columns\n",
    "\"(DEST_COUNTRY_NAME = ORIGIN_COUNTRY_NAME) as withinCountry\")\\\n",
    ".show(2)\n"
   ]
  },
  {
   "cell_type": "markdown",
   "metadata": {
    "application/vnd.databricks.v1+cell": {
     "cellMetadata": {
      "byteLimit": 2048000,
      "rowLimit": 10000
     },
     "inputWidgets": {},
     "nuid": "49903647-4aa7-4dfc-a4e4-5e508e13a61d",
     "showTitle": false,
     "title": ""
    }
   },
   "source": [
    "#### Converting to Spark Types - Literals"
   ]
  },
  {
   "cell_type": "markdown",
   "metadata": {
    "application/vnd.databricks.v1+cell": {
     "cellMetadata": {
      "byteLimit": 2048000,
      "rowLimit": 10000
     },
     "inputWidgets": {},
     "nuid": "981ad86f-c87f-4ef5-b1b8-1591f3dc9e40",
     "showTitle": false,
     "title": ""
    }
   },
   "source": [
    "Sometimes, we need to pass explicit values into Spark that are just a value (rather than a new\n",
    "column). This might be a constant value or something we’ll need to compare to later on. The\n",
    "way we do this is through literals"
   ]
  },
  {
   "cell_type": "code",
   "execution_count": 0,
   "metadata": {
    "application/vnd.databricks.v1+cell": {
     "cellMetadata": {
      "byteLimit": 2048000,
      "rowLimit": 10000
     },
     "inputWidgets": {},
     "nuid": "027b0972-c2ff-4446-9399-31d8c64a64b6",
     "showTitle": false,
     "title": ""
    }
   },
   "outputs": [
    {
     "output_type": "stream",
     "name": "stdout",
     "output_type": "stream",
     "text": [
      "+-----------------+-------------------+-----+---+\n|DEST_COUNTRY_NAME|ORIGIN_COUNTRY_NAME|count|One|\n+-----------------+-------------------+-----+---+\n|    United States|            Romania|   15|  1|\n|    United States|            Croatia|    1|  1|\n+-----------------+-------------------+-----+---+\nonly showing top 2 rows\n\n"
     ]
    }
   ],
   "source": [
    "from pyspark.sql.functions import lit\n",
    "df.select(expr(\"*\"), lit(1).alias(\"One\")).show(2)\n"
   ]
  },
  {
   "cell_type": "markdown",
   "metadata": {
    "application/vnd.databricks.v1+cell": {
     "cellMetadata": {
      "byteLimit": 2048000,
      "rowLimit": 10000
     },
     "inputWidgets": {},
     "nuid": "acdfc96e-1fc1-4ae6-bfcf-f79d47095a15",
     "showTitle": false,
     "title": ""
    }
   },
   "source": [
    "#### Adding, Renaming and Removing columns"
   ]
  },
  {
   "cell_type": "code",
   "execution_count": 0,
   "metadata": {
    "application/vnd.databricks.v1+cell": {
     "cellMetadata": {
      "byteLimit": 2048000,
      "rowLimit": 10000
     },
     "inputWidgets": {},
     "nuid": "e013f228-ff25-4140-b530-6a53a55db16b",
     "showTitle": false,
     "title": ""
    }
   },
   "outputs": [
    {
     "output_type": "stream",
     "name": "stdout",
     "output_type": "stream",
     "text": [
      "+-----------------+-------------------+-----+---------+\n|DEST_COUNTRY_NAME|ORIGIN_COUNTRY_NAME|count|numberOne|\n+-----------------+-------------------+-----+---------+\n|    United States|            Romania|   15|        1|\n|    United States|            Croatia|    1|        1|\n+-----------------+-------------------+-----+---------+\nonly showing top 2 rows\n\n"
     ]
    }
   ],
   "source": [
    "df.withColumn(\"numberOne\", lit(1)).show(2)"
   ]
  },
  {
   "cell_type": "code",
   "execution_count": 0,
   "metadata": {
    "application/vnd.databricks.v1+cell": {
     "cellMetadata": {
      "byteLimit": 2048000,
      "rowLimit": 10000
     },
     "inputWidgets": {},
     "nuid": "77105b96-b1c2-4ac1-aa51-d5a8b51d8548",
     "showTitle": false,
     "title": ""
    }
   },
   "outputs": [
    {
     "output_type": "stream",
     "name": "stdout",
     "output_type": "stream",
     "text": [
      "+-----------------+-------------------+-----+-------------+\n|DEST_COUNTRY_NAME|ORIGIN_COUNTRY_NAME|count|withinCountry|\n+-----------------+-------------------+-----+-------------+\n|    United States|            Romania|   15|        false|\n|    United States|            Croatia|    1|        false|\n+-----------------+-------------------+-----+-------------+\nonly showing top 2 rows\n\n"
     ]
    }
   ],
   "source": [
    "df.withColumn(\"withinCountry\", expr(\"ORIGIN_COUNTRY_NAME == DEST_COUNTRY_NAME\"))\\\n",
    ".show(2)\n"
   ]
  },
  {
   "cell_type": "code",
   "execution_count": 0,
   "metadata": {
    "application/vnd.databricks.v1+cell": {
     "cellMetadata": {
      "byteLimit": 2048000,
      "rowLimit": 10000
     },
     "inputWidgets": {},
     "nuid": "8025cc85-4ba8-48aa-a481-7613a038c3ed",
     "showTitle": false,
     "title": ""
    }
   },
   "outputs": [
    {
     "output_type": "execute_result",
     "data": {
      "text/plain": [
       "['dest', 'ORIGIN_COUNTRY_NAME', 'count']"
      ]
     },
     "execution_count": 271,
     "metadata": {},
     "output_type": "execute_result"
    }
   ],
   "source": [
    "df.withColumnRenamed(\"DEST_COUNTRY_NAME\", \"dest\").columns"
   ]
  },
  {
   "cell_type": "code",
   "execution_count": 0,
   "metadata": {
    "application/vnd.databricks.v1+cell": {
     "cellMetadata": {
      "byteLimit": 2048000,
      "rowLimit": 10000
     },
     "inputWidgets": {},
     "nuid": "fb0ff9d6-47fc-4ff4-9b83-68dc49c85a51",
     "showTitle": false,
     "title": ""
    }
   },
   "outputs": [
    {
     "output_type": "execute_result",
     "data": {
      "text/plain": [
       "['DEST_COUNTRY_NAME', 'count']"
      ]
     },
     "execution_count": 272,
     "metadata": {},
     "output_type": "execute_result"
    }
   ],
   "source": [
    "df.drop(\"ORIGIN_COUNTRY_NAME\").columns"
   ]
  },
  {
   "cell_type": "markdown",
   "metadata": {
    "application/vnd.databricks.v1+cell": {
     "cellMetadata": {
      "byteLimit": 2048000,
      "rowLimit": 10000
     },
     "inputWidgets": {},
     "nuid": "4e9f5025-764e-4a54-87df-9147404722a4",
     "showTitle": false,
     "title": ""
    }
   },
   "source": [
    "Changing datatype of column"
   ]
  },
  {
   "cell_type": "code",
   "execution_count": 0,
   "metadata": {
    "application/vnd.databricks.v1+cell": {
     "cellMetadata": {
      "byteLimit": 2048000,
      "rowLimit": 10000
     },
     "inputWidgets": {},
     "nuid": "e387cb4f-bdc1-43c9-9de9-f118ebab7e16",
     "showTitle": false,
     "title": ""
    }
   },
   "outputs": [
    {
     "output_type": "execute_result",
     "data": {
      "text/plain": [
       "DataFrame[DEST_COUNTRY_NAME: string, ORIGIN_COUNTRY_NAME: string, count: bigint, count2: bigint]"
      ]
     },
     "execution_count": 273,
     "metadata": {},
     "output_type": "execute_result"
    }
   ],
   "source": [
    "df.withColumn(\"count2\", col(\"count\").cast(\"long\"))\n"
   ]
  },
  {
   "cell_type": "markdown",
   "metadata": {
    "application/vnd.databricks.v1+cell": {
     "cellMetadata": {
      "byteLimit": 2048000,
      "rowLimit": 10000
     },
     "inputWidgets": {},
     "nuid": "8d4b3556-5f24-47e0-bd10-819e00157bb7",
     "showTitle": false,
     "title": ""
    }
   },
   "source": [
    "#### Filtering"
   ]
  },
  {
   "cell_type": "code",
   "execution_count": 0,
   "metadata": {
    "application/vnd.databricks.v1+cell": {
     "cellMetadata": {
      "byteLimit": 2048000,
      "rowLimit": 10000
     },
     "inputWidgets": {},
     "nuid": "dc771449-f60f-4462-81ca-97ece40ad7ce",
     "showTitle": false,
     "title": ""
    }
   },
   "outputs": [
    {
     "output_type": "stream",
     "name": "stdout",
     "output_type": "stream",
     "text": [
      "+-----------------+-------------------+-----+\n|DEST_COUNTRY_NAME|ORIGIN_COUNTRY_NAME|count|\n+-----------------+-------------------+-----+\n|    United States|            Croatia|    1|\n|    United States|          Singapore|    1|\n+-----------------+-------------------+-----+\nonly showing top 2 rows\n\n+-----------------+-------------------+-----+\n|DEST_COUNTRY_NAME|ORIGIN_COUNTRY_NAME|count|\n+-----------------+-------------------+-----+\n|    United States|            Croatia|    1|\n|    United States|          Singapore|    1|\n+-----------------+-------------------+-----+\nonly showing top 2 rows\n\n"
     ]
    }
   ],
   "source": [
    "df.filter(col(\"count\") < 2).show(2)\n",
    "df.where(\"count < 2\").show(2)\n"
   ]
  },
  {
   "cell_type": "code",
   "execution_count": 0,
   "metadata": {
    "application/vnd.databricks.v1+cell": {
     "cellMetadata": {
      "byteLimit": 2048000,
      "rowLimit": 10000
     },
     "inputWidgets": {},
     "nuid": "9e649e73-f730-4c95-bd2b-125871de861d",
     "showTitle": false,
     "title": ""
    }
   },
   "outputs": [
    {
     "output_type": "stream",
     "name": "stdout",
     "output_type": "stream",
     "text": [
      "+-----------------+-------------------+-----+\n|DEST_COUNTRY_NAME|ORIGIN_COUNTRY_NAME|count|\n+-----------------+-------------------+-----+\n|    United States|          Singapore|    1|\n|          Moldova|      United States|    1|\n+-----------------+-------------------+-----+\nonly showing top 2 rows\n\n"
     ]
    }
   ],
   "source": [
    "df.where(col(\"count\") < 2).where(col(\"ORIGIN_COUNTRY_NAME\") != \"Croatia\")\\\n",
    ".show(2)"
   ]
  },
  {
   "cell_type": "markdown",
   "metadata": {
    "application/vnd.databricks.v1+cell": {
     "cellMetadata": {
      "byteLimit": 2048000,
      "rowLimit": 10000
     },
     "inputWidgets": {},
     "nuid": "8f483519-2a22-4d8b-819c-f40ed4989a35",
     "showTitle": false,
     "title": ""
    }
   },
   "source": [
    "Unique rows"
   ]
  },
  {
   "cell_type": "code",
   "execution_count": 0,
   "metadata": {
    "application/vnd.databricks.v1+cell": {
     "cellMetadata": {
      "byteLimit": 2048000,
      "rowLimit": 10000
     },
     "inputWidgets": {},
     "nuid": "63376d07-e134-4642-8032-a42eeb484450",
     "showTitle": false,
     "title": ""
    }
   },
   "outputs": [
    {
     "output_type": "execute_result",
     "data": {
      "text/plain": [
       "256"
      ]
     },
     "execution_count": 276,
     "metadata": {},
     "output_type": "execute_result"
    }
   ],
   "source": [
    "df.select(\"ORIGIN_COUNTRY_NAME\", \"DEST_COUNTRY_NAME\").distinct().count()"
   ]
  },
  {
   "cell_type": "code",
   "execution_count": 0,
   "metadata": {
    "application/vnd.databricks.v1+cell": {
     "cellMetadata": {
      "byteLimit": 2048000,
      "rowLimit": 10000
     },
     "inputWidgets": {},
     "nuid": "41b42d9c-c1b1-44ef-8d1f-ba898e923fc2",
     "showTitle": false,
     "title": ""
    }
   },
   "outputs": [
    {
     "output_type": "execute_result",
     "data": {
      "text/plain": [
       "125"
      ]
     },
     "execution_count": 277,
     "metadata": {},
     "output_type": "execute_result"
    }
   ],
   "source": [
    "df.select(\"ORIGIN_COUNTRY_NAME\").distinct().count()"
   ]
  },
  {
   "cell_type": "markdown",
   "metadata": {
    "application/vnd.databricks.v1+cell": {
     "cellMetadata": {
      "byteLimit": 2048000,
      "rowLimit": 10000
     },
     "inputWidgets": {},
     "nuid": "53130791-2797-489b-97ef-0c4770d72fa0",
     "showTitle": false,
     "title": ""
    }
   },
   "source": [
    "#### Random Samples"
   ]
  },
  {
   "cell_type": "code",
   "execution_count": 0,
   "metadata": {
    "application/vnd.databricks.v1+cell": {
     "cellMetadata": {
      "byteLimit": 2048000,
      "rowLimit": 10000
     },
     "inputWidgets": {},
     "nuid": "cf3a4173-54ed-4f90-92c7-4fe080816db0",
     "showTitle": false,
     "title": ""
    }
   },
   "outputs": [
    {
     "output_type": "execute_result",
     "data": {
      "text/plain": [
       "138"
      ]
     },
     "execution_count": 278,
     "metadata": {},
     "output_type": "execute_result"
    }
   ],
   "source": [
    "seed = 5\n",
    "withReplacement = False\n",
    "fraction = 0.5\n",
    "df.sample(withReplacement, fraction, seed).count()"
   ]
  },
  {
   "cell_type": "markdown",
   "metadata": {
    "application/vnd.databricks.v1+cell": {
     "cellMetadata": {
      "byteLimit": 2048000,
      "rowLimit": 10000
     },
     "inputWidgets": {},
     "nuid": "7205fb96-55e8-407e-a0bf-eeb01827aa3d",
     "showTitle": false,
     "title": ""
    }
   },
   "source": [
    "#### Union"
   ]
  },
  {
   "cell_type": "markdown",
   "metadata": {
    "application/vnd.databricks.v1+cell": {
     "cellMetadata": {
      "byteLimit": 2048000,
      "rowLimit": 10000
     },
     "inputWidgets": {},
     "nuid": "3edee824-200c-4f23-aa02-5338a2eace7e",
     "showTitle": false,
     "title": ""
    }
   },
   "source": [
    "DataFrames are immutable. This means users cannot\n",
    "append to DataFrames because that would be changing it. To append to a DataFrame, you must\n",
    "union the original DataFrame along with the new DataFrame\n",
    "To union two DataFrames, you must be sure that they have the same schema and\n",
    "number of columns; otherwise, the union will fail."
   ]
  },
  {
   "cell_type": "code",
   "execution_count": 0,
   "metadata": {
    "application/vnd.databricks.v1+cell": {
     "cellMetadata": {
      "byteLimit": 2048000,
      "rowLimit": 10000
     },
     "inputWidgets": {},
     "nuid": "f649a3ca-74ad-41d6-a314-1869969d57ae",
     "showTitle": false,
     "title": ""
    }
   },
   "outputs": [
    {
     "output_type": "stream",
     "name": "stdout",
     "output_type": "stream",
     "text": [
      "+-----------------+-------------------+-----+\n|DEST_COUNTRY_NAME|ORIGIN_COUNTRY_NAME|count|\n+-----------------+-------------------+-----+\n|      New Country|      Other Country|    5|\n|    New Country 2|    Other Country 3|    1|\n+-----------------+-------------------+-----+\n\n"
     ]
    }
   ],
   "source": [
    "from pyspark.sql import Row\n",
    "schema = df.schema\n",
    "newRows = [\n",
    "Row(\"New Country\", \"Other Country\", 5),\n",
    "Row(\"New Country 2\", \"Other Country 3\", 1)\n",
    "]\n",
    "parallelizedRows = spark.sparkContext.parallelize(newRows)\n",
    "newDF = spark.createDataFrame(parallelizedRows, schema)\n",
    "newDF.show()"
   ]
  },
  {
   "cell_type": "code",
   "execution_count": 0,
   "metadata": {
    "application/vnd.databricks.v1+cell": {
     "cellMetadata": {
      "byteLimit": 2048000,
      "rowLimit": 10000
     },
     "inputWidgets": {},
     "nuid": "ab0d429e-f6b9-4b1a-a025-79fd8a781580",
     "showTitle": false,
     "title": ""
    }
   },
   "outputs": [
    {
     "output_type": "stream",
     "name": "stdout",
     "output_type": "stream",
     "text": [
      "+-----------------+-------------------+-----+\n|DEST_COUNTRY_NAME|ORIGIN_COUNTRY_NAME|count|\n+-----------------+-------------------+-----+\n|    United States|            Croatia|    1|\n|    United States|          Singapore|    1|\n|    United States|          Gibraltar|    1|\n|    United States|             Cyprus|    1|\n|    United States|            Estonia|    1|\n|    United States|          Lithuania|    1|\n|    United States|           Bulgaria|    1|\n|    United States|            Georgia|    1|\n|    United States|            Bahrain|    1|\n|    United States|   Papua New Guinea|    1|\n|    United States|         Montenegro|    1|\n|    United States|            Namibia|    1|\n|    New Country 2|    Other Country 3|    1|\n+-----------------+-------------------+-----+\n\n"
     ]
    }
   ],
   "source": [
    "df.union(newDF)\\\n",
    ".where(\"count = 1\")\\\n",
    ".where(col(\"ORIGIN_COUNTRY_NAME\") != \"United States\")\\\n",
    ".show()\n"
   ]
  },
  {
   "cell_type": "markdown",
   "metadata": {
    "application/vnd.databricks.v1+cell": {
     "cellMetadata": {
      "byteLimit": 2048000,
      "rowLimit": 10000
     },
     "inputWidgets": {},
     "nuid": "14386a5b-f3b7-41fa-b138-0617fdd535ea",
     "showTitle": false,
     "title": ""
    }
   },
   "source": [
    "#### Sorting rows"
   ]
  },
  {
   "cell_type": "code",
   "execution_count": 0,
   "metadata": {
    "application/vnd.databricks.v1+cell": {
     "cellMetadata": {
      "byteLimit": 2048000,
      "rowLimit": 10000
     },
     "inputWidgets": {},
     "nuid": "70113f34-3365-4236-af3e-450d90a4382b",
     "showTitle": false,
     "title": ""
    }
   },
   "outputs": [
    {
     "output_type": "stream",
     "name": "stdout",
     "output_type": "stream",
     "text": [
      "+--------------------+-------------------+-----+\n|   DEST_COUNTRY_NAME|ORIGIN_COUNTRY_NAME|count|\n+--------------------+-------------------+-----+\n|               Malta|      United States|    1|\n|Saint Vincent and...|      United States|    1|\n|       United States|            Croatia|    1|\n|       United States|          Gibraltar|    1|\n|       United States|          Singapore|    1|\n+--------------------+-------------------+-----+\nonly showing top 5 rows\n\n+-----------------+-------------------+-----+\n|DEST_COUNTRY_NAME|ORIGIN_COUNTRY_NAME|count|\n+-----------------+-------------------+-----+\n|     Burkina Faso|      United States|    1|\n|    Cote d'Ivoire|      United States|    1|\n|           Cyprus|      United States|    1|\n|         Djibouti|      United States|    1|\n|        Indonesia|      United States|    1|\n+-----------------+-------------------+-----+\nonly showing top 5 rows\n\n+-----------------+-------------------+-----+\n|DEST_COUNTRY_NAME|ORIGIN_COUNTRY_NAME|count|\n+-----------------+-------------------+-----+\n|     Burkina Faso|      United States|    1|\n|    Cote d'Ivoire|      United States|    1|\n|           Cyprus|      United States|    1|\n|         Djibouti|      United States|    1|\n|        Indonesia|      United States|    1|\n+-----------------+-------------------+-----+\nonly showing top 5 rows\n\n"
     ]
    }
   ],
   "source": [
    "df.sort(\"count\").show(5)\n",
    "df.orderBy(\"count\", \"DEST_COUNTRY_NAME\").show(5)\n",
    "df.orderBy(col(\"count\"), col(\"DEST_COUNTRY_NAME\")).show(5)\n"
   ]
  },
  {
   "cell_type": "code",
   "execution_count": 0,
   "metadata": {
    "application/vnd.databricks.v1+cell": {
     "cellMetadata": {
      "byteLimit": 2048000,
      "rowLimit": 10000
     },
     "inputWidgets": {},
     "nuid": "c60db271-ec0d-4951-b708-7bb0e2ca5f3c",
     "showTitle": false,
     "title": ""
    }
   },
   "outputs": [
    {
     "output_type": "stream",
     "name": "stdout",
     "output_type": "stream",
     "text": [
      "+-----------------+-------------------+-----+\n|DEST_COUNTRY_NAME|ORIGIN_COUNTRY_NAME|count|\n+-----------------+-------------------+-----+\n|          Moldova|      United States|    1|\n|    United States|            Croatia|    1|\n+-----------------+-------------------+-----+\nonly showing top 2 rows\n\n+-----------------+-------------------+------+\n|DEST_COUNTRY_NAME|ORIGIN_COUNTRY_NAME| count|\n+-----------------+-------------------+------+\n|    United States|      United States|370002|\n|    United States|             Canada|  8483|\n+-----------------+-------------------+------+\nonly showing top 2 rows\n\n"
     ]
    }
   ],
   "source": [
    "from pyspark.sql.functions import desc, asc\n",
    "df.orderBy(expr(\"count desc\")).show(2)\n",
    "df.orderBy(col(\"count\").desc(), col(\"DEST_COUNTRY_NAME\").asc()).show(2)\n"
   ]
  },
  {
   "cell_type": "markdown",
   "metadata": {
    "application/vnd.databricks.v1+cell": {
     "cellMetadata": {
      "byteLimit": 2048000,
      "rowLimit": 10000
     },
     "inputWidgets": {},
     "nuid": "0bc627c7-585f-47cc-b0f9-4fa08b2cd408",
     "showTitle": false,
     "title": ""
    }
   },
   "source": [
    "#### Partitions and Coalesce"
   ]
  },
  {
   "cell_type": "markdown",
   "metadata": {
    "application/vnd.databricks.v1+cell": {
     "cellMetadata": {
      "byteLimit": 2048000,
      "rowLimit": 10000
     },
     "inputWidgets": {},
     "nuid": "c70f04a8-13e6-4294-bdd7-d69239e9b838",
     "showTitle": false,
     "title": ""
    }
   },
   "source": [
    "Another important optimization opportunity is to partition the data according to some frequently\n",
    "filtered columns, which control the physical layout of data across the cluster including the\n",
    "partitioning scheme and the number of partitions.\n",
    "Repartition will incur a full shuffle of the data, regardless of whether one is necessary."
   ]
  },
  {
   "cell_type": "code",
   "execution_count": 0,
   "metadata": {
    "application/vnd.databricks.v1+cell": {
     "cellMetadata": {
      "byteLimit": 2048000,
      "rowLimit": 10000
     },
     "inputWidgets": {},
     "nuid": "f7bd7b26-b967-41db-97f6-2534f4fd7a48",
     "showTitle": false,
     "title": ""
    }
   },
   "outputs": [
    {
     "output_type": "execute_result",
     "data": {
      "text/plain": [
       "1"
      ]
     },
     "execution_count": 283,
     "metadata": {},
     "output_type": "execute_result"
    }
   ],
   "source": [
    "df.rdd.getNumPartitions()\n"
   ]
  },
  {
   "cell_type": "code",
   "execution_count": 0,
   "metadata": {
    "application/vnd.databricks.v1+cell": {
     "cellMetadata": {
      "byteLimit": 2048000,
      "rowLimit": 10000
     },
     "inputWidgets": {},
     "nuid": "bb9f8946-6d5a-4ca9-828a-d3131117eb43",
     "showTitle": false,
     "title": ""
    }
   },
   "outputs": [
    {
     "output_type": "execute_result",
     "data": {
      "text/plain": [
       "DataFrame[DEST_COUNTRY_NAME: string, ORIGIN_COUNTRY_NAME: string, count: bigint]"
      ]
     },
     "execution_count": 284,
     "metadata": {},
     "output_type": "execute_result"
    }
   ],
   "source": [
    "df.repartition(5)"
   ]
  },
  {
   "cell_type": "code",
   "execution_count": 0,
   "metadata": {
    "application/vnd.databricks.v1+cell": {
     "cellMetadata": {
      "byteLimit": 2048000,
      "rowLimit": 10000
     },
     "inputWidgets": {},
     "nuid": "59bf2822-c1c8-4d63-864b-02e6a6d0473e",
     "showTitle": false,
     "title": ""
    }
   },
   "outputs": [
    {
     "output_type": "execute_result",
     "data": {
      "text/plain": [
       "DataFrame[DEST_COUNTRY_NAME: string, ORIGIN_COUNTRY_NAME: string, count: bigint]"
      ]
     },
     "execution_count": 285,
     "metadata": {},
     "output_type": "execute_result"
    }
   ],
   "source": [
    "df.repartition(col(\"DEST_COUNTRY_NAME\"))"
   ]
  },
  {
   "cell_type": "code",
   "execution_count": 0,
   "metadata": {
    "application/vnd.databricks.v1+cell": {
     "cellMetadata": {
      "byteLimit": 2048000,
      "rowLimit": 10000
     },
     "inputWidgets": {},
     "nuid": "0121ccb9-30f3-44c7-952e-fac5ca6f8679",
     "showTitle": false,
     "title": ""
    }
   },
   "outputs": [
    {
     "output_type": "execute_result",
     "data": {
      "text/plain": [
       "DataFrame[DEST_COUNTRY_NAME: string, ORIGIN_COUNTRY_NAME: string, count: bigint]"
      ]
     },
     "execution_count": 286,
     "metadata": {},
     "output_type": "execute_result"
    }
   ],
   "source": [
    "df.repartition(5, col(\"DEST_COUNTRY_NAME\"))"
   ]
  },
  {
   "cell_type": "markdown",
   "metadata": {
    "application/vnd.databricks.v1+cell": {
     "cellMetadata": {
      "byteLimit": 2048000,
      "rowLimit": 10000
     },
     "inputWidgets": {},
     "nuid": "74fde1d2-2a47-44b7-adb7-a2026aec1f7b",
     "showTitle": false,
     "title": ""
    }
   },
   "source": [
    "Coalesce, on the other hand, will not incur a full shuffle and will try to combine partitions."
   ]
  },
  {
   "cell_type": "code",
   "execution_count": 0,
   "metadata": {
    "application/vnd.databricks.v1+cell": {
     "cellMetadata": {
      "byteLimit": 2048000,
      "rowLimit": 10000
     },
     "inputWidgets": {},
     "nuid": "343ed2c5-1fdb-4412-80a6-57678ecb2b1c",
     "showTitle": false,
     "title": ""
    }
   },
   "outputs": [
    {
     "output_type": "execute_result",
     "data": {
      "text/plain": [
       "DataFrame[DEST_COUNTRY_NAME: string, ORIGIN_COUNTRY_NAME: string, count: bigint]"
      ]
     },
     "execution_count": 287,
     "metadata": {},
     "output_type": "execute_result"
    }
   ],
   "source": [
    "df.repartition(5, col(\"DEST_COUNTRY_NAME\")).coalesce(2)\n"
   ]
  },
  {
   "cell_type": "markdown",
   "metadata": {
    "application/vnd.databricks.v1+cell": {
     "cellMetadata": {
      "byteLimit": 2048000,
      "rowLimit": 10000
     },
     "inputWidgets": {},
     "nuid": "5e153afa-9748-4adc-a405-08a79579b084",
     "showTitle": false,
     "title": ""
    }
   },
   "source": [
    "#### Collecting Rows to the Driver\n",
    "\n",
    "There are\n",
    "times when you’ll want to collect some of your data to the driver in order to manipulate it on\n",
    "your local machine."
   ]
  },
  {
   "cell_type": "code",
   "execution_count": 0,
   "metadata": {
    "application/vnd.databricks.v1+cell": {
     "cellMetadata": {
      "byteLimit": 2048000,
      "rowLimit": 10000
     },
     "inputWidgets": {},
     "nuid": "1ea61df3-a3ca-482d-8033-fd733ccaacad",
     "showTitle": false,
     "title": ""
    }
   },
   "outputs": [
    {
     "output_type": "stream",
     "name": "stdout",
     "output_type": "stream",
     "text": [
      "+-----------------+-------------------+-----+\n|DEST_COUNTRY_NAME|ORIGIN_COUNTRY_NAME|count|\n+-----------------+-------------------+-----+\n|    United States|            Romania|   15|\n|    United States|            Croatia|    1|\n|    United States|            Ireland|  344|\n|            Egypt|      United States|   15|\n|    United States|              India|   62|\n|    United States|          Singapore|    1|\n|    United States|            Grenada|   62|\n|       Costa Rica|      United States|  588|\n|          Senegal|      United States|   40|\n|          Moldova|      United States|    1|\n+-----------------+-------------------+-----+\n\n+-----------------+-------------------+-----+\n|DEST_COUNTRY_NAME|ORIGIN_COUNTRY_NAME|count|\n+-----------------+-------------------+-----+\n|United States    |Romania            |15   |\n|United States    |Croatia            |1    |\n|United States    |Ireland            |344  |\n|Egypt            |United States      |15   |\n|United States    |India              |62   |\n+-----------------+-------------------+-----+\nonly showing top 5 rows\n\n"
     ]
    },
    {
     "output_type": "execute_result",
     "data": {
      "text/plain": [
       "[Row(DEST_COUNTRY_NAME='United States', ORIGIN_COUNTRY_NAME='Romania', count=15),\n",
       " Row(DEST_COUNTRY_NAME='United States', ORIGIN_COUNTRY_NAME='Croatia', count=1),\n",
       " Row(DEST_COUNTRY_NAME='United States', ORIGIN_COUNTRY_NAME='Ireland', count=344),\n",
       " Row(DEST_COUNTRY_NAME='Egypt', ORIGIN_COUNTRY_NAME='United States', count=15),\n",
       " Row(DEST_COUNTRY_NAME='United States', ORIGIN_COUNTRY_NAME='India', count=62),\n",
       " Row(DEST_COUNTRY_NAME='United States', ORIGIN_COUNTRY_NAME='Singapore', count=1),\n",
       " Row(DEST_COUNTRY_NAME='United States', ORIGIN_COUNTRY_NAME='Grenada', count=62),\n",
       " Row(DEST_COUNTRY_NAME='Costa Rica', ORIGIN_COUNTRY_NAME='United States', count=588),\n",
       " Row(DEST_COUNTRY_NAME='Senegal', ORIGIN_COUNTRY_NAME='United States', count=40),\n",
       " Row(DEST_COUNTRY_NAME='Moldova', ORIGIN_COUNTRY_NAME='United States', count=1)]"
      ]
     },
     "execution_count": 288,
     "metadata": {},
     "output_type": "execute_result"
    }
   ],
   "source": [
    "collectDF = df.limit(10)\n",
    "collectDF.take(5) # take works with an Integer count\n",
    "collectDF.show() # this prints it out nicely\n",
    "collectDF.show(5, False)\n",
    "collectDF.collect()\n"
   ]
  },
  {
   "cell_type": "markdown",
   "metadata": {
    "application/vnd.databricks.v1+cell": {
     "cellMetadata": {
      "byteLimit": 2048000,
      "rowLimit": 10000
     },
     "inputWidgets": {},
     "nuid": "0d2e0874-48cd-4e32-8f0c-c0516445c637",
     "showTitle": false,
     "title": ""
    }
   },
   "source": [
    "# Chapter 6"
   ]
  },
  {
   "cell_type": "code",
   "execution_count": 0,
   "metadata": {
    "application/vnd.databricks.v1+cell": {
     "cellMetadata": {
      "byteLimit": 2048000,
      "rowLimit": 10000
     },
     "inputWidgets": {},
     "nuid": "e7749811-9898-4eb2-a02f-c5b039421e9b",
     "showTitle": false,
     "title": ""
    }
   },
   "outputs": [
    {
     "output_type": "stream",
     "name": "stdout",
     "output_type": "stream",
     "text": [
      "root\n |-- InvoiceNo: string (nullable = true)\n |-- StockCode: string (nullable = true)\n |-- Description: string (nullable = true)\n |-- Quantity: integer (nullable = true)\n |-- InvoiceDate: timestamp (nullable = true)\n |-- UnitPrice: double (nullable = true)\n |-- CustomerID: double (nullable = true)\n |-- Country: string (nullable = true)\n\n"
     ]
    }
   ],
   "source": [
    "df = spark.read.format(\"csv\")\\\n",
    ".option(\"header\", \"true\")\\\n",
    ".option(\"inferSchema\", \"true\")\\\n",
    ".load(\"/mnt/pysparkcontainer/retail-data_by-day/2010-12-01.csv\")\n",
    "df.printSchema()\n",
    "df.createOrReplaceTempView(\"dfTable\")\n"
   ]
  },
  {
   "cell_type": "code",
   "execution_count": 0,
   "metadata": {
    "application/vnd.databricks.v1+cell": {
     "cellMetadata": {
      "byteLimit": 2048000,
      "rowLimit": 10000
     },
     "inputWidgets": {},
     "nuid": "ccc6bb9b-4314-4ec9-b687-c6bd37891c57",
     "showTitle": false,
     "title": ""
    }
   },
   "outputs": [
    {
     "output_type": "stream",
     "name": "stdout",
     "output_type": "stream",
     "text": [
      "+---+----+---+\n|  5|five|5.0|\n+---+----+---+\n|  5|five|5.0|\n|  5|five|5.0|\n|  5|five|5.0|\n|  5|five|5.0|\n|  5|five|5.0|\n+---+----+---+\nonly showing top 5 rows\n\n"
     ]
    }
   ],
   "source": [
    "from pyspark.sql.functions import lit\n",
    "df.select(lit(5), lit(\"five\"), lit(5.0)).show(5)\n"
   ]
  },
  {
   "cell_type": "markdown",
   "metadata": {
    "application/vnd.databricks.v1+cell": {
     "cellMetadata": {
      "byteLimit": 2048000,
      "rowLimit": 10000
     },
     "inputWidgets": {},
     "nuid": "d683f437-c0b8-4473-b1e6-24366030ed5e",
     "showTitle": false,
     "title": ""
    }
   },
   "source": [
    "#### Booleans"
   ]
  },
  {
   "cell_type": "code",
   "execution_count": 0,
   "metadata": {
    "application/vnd.databricks.v1+cell": {
     "cellMetadata": {
      "byteLimit": 2048000,
      "rowLimit": 10000
     },
     "inputWidgets": {},
     "nuid": "2924a94e-6809-4bad-a229-ee8abb4a5454",
     "showTitle": false,
     "title": ""
    }
   },
   "outputs": [
    {
     "output_type": "stream",
     "name": "stdout",
     "output_type": "stream",
     "text": [
      "+---------+-----------------------------+\n|InvoiceNo|Description                  |\n+---------+-----------------------------+\n|536366   |HAND WARMER UNION JACK       |\n|536366   |HAND WARMER RED POLKA DOT    |\n|536367   |ASSORTED COLOUR BIRD ORNAMENT|\n|536367   |POPPY'S PLAYHOUSE BEDROOM    |\n|536367   |POPPY'S PLAYHOUSE KITCHEN    |\n+---------+-----------------------------+\nonly showing top 5 rows\n\n"
     ]
    }
   ],
   "source": [
    "from pyspark.sql.functions import col\n",
    "df.where(col(\"InvoiceNo\") != 536365)\\\n",
    ".select(\"InvoiceNo\", \"Description\")\\\n",
    ".show(5, False)\n"
   ]
  },
  {
   "cell_type": "markdown",
   "metadata": {
    "application/vnd.databricks.v1+cell": {
     "cellMetadata": {
      "byteLimit": 2048000,
      "rowLimit": 10000
     },
     "inputWidgets": {},
     "nuid": "c1bc6682-7ffe-490a-9890-5f1ab05cd6cb",
     "showTitle": false,
     "title": ""
    }
   },
   "source": [
    "The instr function is used to find the occurrence of a substring within a string column.\n",
    "It returns 1 if the substring is found in string, returns 0 otherwise"
   ]
  },
  {
   "cell_type": "code",
   "execution_count": 0,
   "metadata": {
    "application/vnd.databricks.v1+cell": {
     "cellMetadata": {
      "byteLimit": 2048000,
      "rowLimit": 10000
     },
     "inputWidgets": {},
     "nuid": "81980551-bb4c-45a0-9e31-c121811f396f",
     "showTitle": false,
     "title": ""
    }
   },
   "outputs": [
    {
     "output_type": "stream",
     "name": "stdout",
     "output_type": "stream",
     "text": [
      "+---------+---------+--------------+--------+-------------------+---------+----------+--------------+\n|InvoiceNo|StockCode|   Description|Quantity|        InvoiceDate|UnitPrice|CustomerID|       Country|\n+---------+---------+--------------+--------+-------------------+---------+----------+--------------+\n|   536544|      DOT|DOTCOM POSTAGE|       1|2010-12-01 14:32:00|   569.77|      NULL|United Kingdom|\n|   536592|      DOT|DOTCOM POSTAGE|       1|2010-12-01 17:06:00|   607.49|      NULL|United Kingdom|\n+---------+---------+--------------+--------+-------------------+---------+----------+--------------+\n\n"
     ]
    }
   ],
   "source": [
    "from pyspark.sql.functions import instr\n",
    "priceFilter = col(\"UnitPrice\") > 600\n",
    "descripFilter = instr(df.Description, \"POSTAGE\") >= 1\n",
    "df.where(df.StockCode.isin(\"DOT\")).where(priceFilter | descripFilter).show()"
   ]
  },
  {
   "cell_type": "code",
   "execution_count": 0,
   "metadata": {
    "application/vnd.databricks.v1+cell": {
     "cellMetadata": {
      "byteLimit": 2048000,
      "rowLimit": 10000
     },
     "inputWidgets": {},
     "nuid": "99a61b73-da8e-4d19-8fd0-e2c111a593aa",
     "showTitle": false,
     "title": ""
    }
   },
   "outputs": [
    {
     "output_type": "stream",
     "name": "stdout",
     "output_type": "stream",
     "text": [
      "+---------+-----------+\n|unitPrice|isExpensive|\n+---------+-----------+\n|   569.77|       true|\n|   607.49|       true|\n+---------+-----------+\n\n"
     ]
    }
   ],
   "source": [
    "from pyspark.sql.functions import instr\n",
    "DOTCodeFilter = col(\"StockCode\") == \"DOT\"\n",
    "priceFilter = col(\"UnitPrice\") > 600\n",
    "descripFilter = instr(col(\"Description\"), \"POSTAGE\") >= 1\n",
    "df.withColumn(\"isExpensive\", DOTCodeFilter & (priceFilter | descripFilter))\\\n",
    ".where(\"isExpensive\")\\\n",
    ".select(\"unitPrice\", \"isExpensive\").show(5)"
   ]
  },
  {
   "cell_type": "markdown",
   "metadata": {
    "application/vnd.databricks.v1+cell": {
     "cellMetadata": {
      "byteLimit": 2048000,
      "rowLimit": 10000
     },
     "inputWidgets": {},
     "nuid": "7ddc772e-e75e-432d-8a75-38a8302a3712",
     "showTitle": false,
     "title": ""
    }
   },
   "source": [
    "#### Working with numbers"
   ]
  },
  {
   "cell_type": "code",
   "execution_count": 0,
   "metadata": {
    "application/vnd.databricks.v1+cell": {
     "cellMetadata": {
      "byteLimit": 2048000,
      "rowLimit": 10000
     },
     "inputWidgets": {},
     "nuid": "cf2ddca4-0372-4c1a-a95e-351759739943",
     "showTitle": false,
     "title": ""
    }
   },
   "outputs": [
    {
     "output_type": "stream",
     "name": "stdout",
     "output_type": "stream",
     "text": [
      "+----------+------------------+\n|CustomerId|      realQuantity|\n+----------+------------------+\n|   17850.0|239.08999999999997|\n|   17850.0|          418.7156|\n+----------+------------------+\nonly showing top 2 rows\n\n"
     ]
    }
   ],
   "source": [
    "from pyspark.sql.functions import expr, pow\n",
    "fabricatedQuantity = pow(col(\"Quantity\") * col(\"UnitPrice\"), 2) + 5\n",
    "df.select(expr(\"CustomerId\"), fabricatedQuantity.alias(\"realQuantity\")).show(2)\n"
   ]
  },
  {
   "cell_type": "code",
   "execution_count": 0,
   "metadata": {
    "application/vnd.databricks.v1+cell": {
     "cellMetadata": {
      "byteLimit": 2048000,
      "rowLimit": 10000
     },
     "inputWidgets": {},
     "nuid": "322e0b9c-2270-491e-be92-a75e38345d48",
     "showTitle": false,
     "title": ""
    }
   },
   "outputs": [
    {
     "output_type": "stream",
     "name": "stdout",
     "output_type": "stream",
     "text": [
      "+----------+------------------+\n|CustomerId|      realQuantity|\n+----------+------------------+\n|   17850.0|239.08999999999997|\n|   17850.0|          418.7156|\n+----------+------------------+\nonly showing top 2 rows\n\n"
     ]
    }
   ],
   "source": [
    "df.selectExpr(\n",
    "\"CustomerId\",\n",
    "\"(POWER((Quantity * UnitPrice), 2.0) + 5) as realQuantity\").show(2)"
   ]
  },
  {
   "cell_type": "code",
   "execution_count": 0,
   "metadata": {
    "application/vnd.databricks.v1+cell": {
     "cellMetadata": {
      "byteLimit": 2048000,
      "rowLimit": 10000
     },
     "inputWidgets": {},
     "nuid": "24fd2fd7-2f5f-4bbc-af7b-ea337c74d209",
     "showTitle": false,
     "title": ""
    }
   },
   "outputs": [
    {
     "output_type": "stream",
     "name": "stdout",
     "output_type": "stream",
     "text": [
      "+-------+---------+\n|rounded|UnitPrice|\n+-------+---------+\n|    2.6|     2.55|\n|    3.4|     3.39|\n|    2.8|     2.75|\n|    3.4|     3.39|\n|    3.4|     3.39|\n+-------+---------+\nonly showing top 5 rows\n\n"
     ]
    }
   ],
   "source": [
    "from pyspark.sql.functions import round, bround\n",
    "df.select(round(col(\"UnitPrice\"), 1).alias(\"rounded\"), col(\"UnitPrice\")).show(5)"
   ]
  },
  {
   "cell_type": "code",
   "execution_count": 0,
   "metadata": {
    "application/vnd.databricks.v1+cell": {
     "cellMetadata": {
      "byteLimit": 2048000,
      "rowLimit": 10000
     },
     "inputWidgets": {},
     "nuid": "f6243473-5d6f-44d9-a5fa-7f9ee188e90f",
     "showTitle": false,
     "title": ""
    }
   },
   "outputs": [
    {
     "output_type": "stream",
     "name": "stdout",
     "output_type": "stream",
     "text": [
      "+-------------+--------------+\n|round(2.5, 0)|bround(2.5, 0)|\n+-------------+--------------+\n|          3.0|           2.0|\n|          3.0|           2.0|\n+-------------+--------------+\nonly showing top 2 rows\n\n"
     ]
    }
   ],
   "source": [
    "df.select(round(lit(\"2.5\")), bround(lit(\"2.5\"))).show(2)\n"
   ]
  },
  {
   "cell_type": "code",
   "execution_count": 0,
   "metadata": {
    "application/vnd.databricks.v1+cell": {
     "cellMetadata": {
      "byteLimit": 2048000,
      "rowLimit": 10000
     },
     "inputWidgets": {},
     "nuid": "a260f9f1-8743-4924-bd91-a8504fef70d6",
     "showTitle": false,
     "title": ""
    }
   },
   "outputs": [
    {
     "output_type": "stream",
     "name": "stdout",
     "output_type": "stream",
     "text": [
      "+-------------------------+\n|corr(Quantity, UnitPrice)|\n+-------------------------+\n|     -0.04112314436835551|\n+-------------------------+\n\n"
     ]
    }
   ],
   "source": [
    "from pyspark.sql.functions import corr\n",
    "df.stat.corr(\"Quantity\", \"UnitPrice\")\n",
    "df.select(corr(\"Quantity\", \"UnitPrice\")).show()\n"
   ]
  },
  {
   "cell_type": "code",
   "execution_count": 0,
   "metadata": {
    "application/vnd.databricks.v1+cell": {
     "cellMetadata": {
      "byteLimit": 2048000,
      "rowLimit": 10000
     },
     "inputWidgets": {},
     "nuid": "694adb46-9e68-4d10-b967-76c18c432195",
     "showTitle": false,
     "title": ""
    }
   },
   "outputs": [
    {
     "output_type": "stream",
     "name": "stdout",
     "output_type": "stream",
     "text": [
      "+-------+-----------------+------------------+--------------------+------------------+------------------+------------------+--------------+\n|summary|        InvoiceNo|         StockCode|         Description|          Quantity|         UnitPrice|        CustomerID|       Country|\n+-------+-----------------+------------------+--------------------+------------------+------------------+------------------+--------------+\n|  count|             3108|              3108|                3098|              3108|              3108|              1968|          3108|\n|   mean| 536516.684944841|27834.304044117645|                NULL| 8.627413127413128| 4.151946589446603|15661.388719512195|          NULL|\n| stddev|72.89447869788873|17407.897548583845|                NULL|26.371821677029203|15.638659854603892|1854.4496996893627|          NULL|\n|    min|           536365|             10002| 4 PURPLE FLOCK D...|               -24|               0.0|           12431.0|     Australia|\n|    max|          C536548|              POST|ZINC WILLIE WINKI...|               600|            607.49|           18229.0|United Kingdom|\n+-------+-----------------+------------------+--------------------+------------------+------------------+------------------+--------------+\n\n"
     ]
    }
   ],
   "source": [
    "df.describe().show()"
   ]
  },
  {
   "cell_type": "code",
   "execution_count": 0,
   "metadata": {
    "application/vnd.databricks.v1+cell": {
     "cellMetadata": {
      "byteLimit": 2048000,
      "rowLimit": 10000
     },
     "inputWidgets": {},
     "nuid": "facc8f15-9002-4c64-836e-e3f205e4a96a",
     "showTitle": false,
     "title": ""
    }
   },
   "outputs": [
    {
     "output_type": "execute_result",
     "data": {
      "text/plain": [
       "[2.51]"
      ]
     },
     "execution_count": 300,
     "metadata": {},
     "output_type": "execute_result"
    }
   ],
   "source": [
    "colName = \"UnitPrice\"\n",
    "quantileProbs = [0.5]\n",
    "relError = 0.05\n",
    "df.stat.approxQuantile(\"UnitPrice\", quantileProbs, relError)"
   ]
  },
  {
   "cell_type": "code",
   "execution_count": 0,
   "metadata": {
    "application/vnd.databricks.v1+cell": {
     "cellMetadata": {
      "byteLimit": 2048000,
      "rowLimit": 10000
     },
     "inputWidgets": {},
     "nuid": "5ac31778-17ae-4537-8adb-fd49dcf20e4e",
     "showTitle": false,
     "title": ""
    }
   },
   "outputs": [
    {
     "output_type": "stream",
     "name": "stdout",
     "output_type": "stream",
     "text": [
      "+------------------+---+---+---+---+---+---+---+---+---+---+---+---+---+---+---+---+---+---+---+---+---+---+---+---+---+---+---+---+---+---+---+---+---+---+---+---+---+---+---+---+---+---+---+---+---+---+---+---+---+---+---+---+---+---+---+---+---+---+---+---+---+---+---+---+---+---+\n|StockCode_Quantity| -1|-10|-12| -2|-24| -3| -4| -5| -6| -7|  1| 10|100| 11| 12|120|128| 13| 14|144| 15| 16| 17| 18| 19|192|  2| 20|200| 21|216| 22| 23| 24| 25|252| 27| 28|288|  3| 30| 32| 33| 34| 36|384|  4| 40|432| 47| 48|480|  5| 50| 56|  6| 60|600| 64|  7| 70| 72|  8| 80|  9| 96|\n+------------------+---+---+---+---+---+---+---+---+---+---+---+---+---+---+---+---+---+---+---+---+---+---+---+---+---+---+---+---+---+---+---+---+---+---+---+---+---+---+---+---+---+---+---+---+---+---+---+---+---+---+---+---+---+---+---+---+---+---+---+---+---+---+---+---+---+---+\n|            84029E|  0|  0|  0|  0|  0|  0|  0|  0|  0|  0|  3|  0|  0|  0|  0|  0|  0|  0|  0|  0|  0|  0|  0|  0|  0|  0|  1|  0|  0|  0|  0|  0|  0|  1|  0|  0|  0|  0|  0|  0|  0|  0|  0|  0|  0|  1|  1|  0|  0|  0|  0|  0|  0|  0|  0|  5|  0|  0|  0|  0|  0|  0|  1|  0|  0|  1|\n|             22386|  0|  0|  0|  0|  0|  0|  0|  0|  0|  0|  2|  1|  0|  0|  0|  0|  0|  0|  0|  0|  0|  0|  0|  0|  0|  0|  0|  0|  0|  0|  0|  0|  0|  0|  0|  0|  0|  0|  0|  1|  1|  0|  0|  0|  0|  0|  0|  0|  0|  0|  0|  0|  0|  0|  0|  0|  0|  0|  0|  0|  0|  0|  0|  0|  0|  0|\n|             21931|  0|  0|  0|  0|  0|  0|  0|  0|  0|  0|  2|  1|  0|  0|  0|  0|  0|  0|  0|  0|  0|  0|  0|  0|  0|  0|  1|  0|  0|  0|  0|  0|  0|  0|  0|  0|  0|  0|  0|  0|  0|  0|  0|  0|  0|  0|  0|  1|  0|  0|  0|  0|  0|  0|  0|  0|  0|  0|  0|  0|  0|  0|  0|  0|  0|  0|\n|             84854|  0|  0|  0|  0|  0|  0|  0|  0|  0|  0|  0|  0|  0|  0|  0|  0|  0|  0|  0|  0|  0|  0|  0|  0|  0|  0|  0|  0|  0|  0|  0|  0|  0|  0|  0|  0|  0|  0|  0|  0|  0|  0|  0|  0|  0|  0|  0|  0|  0|  0|  0|  0|  1|  0|  0|  0|  0|  0|  0|  0|  0|  0|  0|  0|  0|  0|\n|             22771|  0|  0|  0|  0|  0|  0|  0|  0|  0|  0|  0|  1|  0|  0|  1|  0|  0|  0|  0|  0|  0|  0|  0|  0|  0|  0|  0|  0|  0|  0|  0|  0|  0|  2|  0|  0|  0|  0|  0|  0|  0|  0|  0|  0|  0|  0|  0|  0|  0|  0|  0|  0|  0|  0|  0|  0|  0|  0|  0|  0|  0|  0|  0|  0|  0|  0|\n|             21557|  0|  0|  0|  0|  0|  0|  0|  0|  0|  0|  1|  0|  0|  0|  0|  0|  0|  0|  0|  0|  0|  0|  0|  0|  0|  0|  1|  0|  0|  0|  0|  0|  0|  0|  0|  0|  0|  0|  0|  0|  0|  0|  0|  0|  0|  0|  0|  0|  0|  0|  0|  0|  0|  0|  0|  0|  0|  0|  0|  0|  0|  0|  0|  0|  0|  0|\n|             22379|  0|  0|  0|  0|  0|  0|  0|  0|  0|  0|  1|  1|  0|  0|  0|  0|  0|  0|  0|  0|  0|  0|  0|  0|  0|  0|  2|  1|  0|  0|  0|  0|  0|  0|  0|  0|  0|  0|  0|  0|  0|  0|  0|  0|  0|  0|  0|  0|  0|  0|  0|  0|  1|  0|  0|  0|  0|  0|  0|  0|  0|  0|  0|  0|  0|  0|\n|             21340|  0|  0|  0|  0|  0|  0|  0|  0|  0|  0|  3|  0|  0|  0|  0|  0|  0|  0|  0|  0|  0|  0|  0|  0|  0|  0|  1|  0|  0|  0|  0|  0|  0|  0|  0|  0|  0|  0|  0|  0|  0|  0|  0|  0|  0|  0|  0|  0|  0|  0|  0|  0|  0|  0|  0|  0|  0|  0|  0|  0|  0|  0|  0|  0|  0|  0|\n|            85099B|  0|  0|  0|  0|  0|  0|  0|  0|  0|  0|  4|  1|  2|  0|  0|  0|  0|  0|  0|  0|  0|  0|  0|  0|  0|  0|  1|  0|  1|  0|  0|  0|  0|  0|  0|  0|  0|  0|  0|  0|  1|  0|  0|  0|  0|  0|  0|  1|  0|  0|  0|  0|  0|  0|  0|  0|  0|  0|  0|  0|  1|  0|  0|  0|  0|  0|\n|             22779|  0|  0|  0|  0|  0|  0|  0|  0|  0|  0|  0|  0|  0|  0|  0|  0|  0|  0|  0|  0|  0|  0|  0|  0|  0|  1|  0|  0|  0|  0|  0|  0|  0|  0|  0|  0|  0|  0|  0|  0|  0|  0|  0|  0|  0|  0|  0|  0|  0|  0|  0|  0|  0|  0|  0|  0|  0|  0|  0|  0|  0|  0|  1|  0|  0|  0|\n|             22962|  0|  0|  0|  0|  0|  0|  0|  0|  0|  0|  0|  0|  0|  0|  2|  0|  0|  0|  0|  0|  0|  0|  0|  0|  0|  0|  0|  0|  0|  0|  0|  0|  0|  0|  0|  0|  0|  0|  0|  0|  0|  0|  0|  0|  0|  0|  1|  0|  0|  0|  1|  0|  0|  0|  0|  0|  0|  0|  0|  0|  0|  0|  0|  0|  0|  0|\n|             22556|  0|  0|  1|  0|  0|  0|  0|  0|  0|  0|  0|  0|  0|  0|  0|  0|  0|  0|  0|  0|  0|  0|  0|  0|  0|  0|  0|  0|  0|  0|  0|  0|  0|  1|  0|  0|  0|  0|  0|  0|  0|  0|  0|  0|  0|  0|  0|  0|  0|  0|  0|  0|  0|  0|  0|  0|  0|  0|  0|  0|  0|  0|  0|  0|  0|  0|\n|             21983|  0|  0|  0|  0|  1|  0|  0|  0|  0|  0|  0|  0|  0|  0|  0|  0|  0|  0|  0|  0|  0|  0|  0|  0|  0|  0|  0|  0|  0|  0|  0|  0|  0|  0|  0|  0|  0|  0|  0|  0|  0|  0|  0|  0|  0|  0|  0|  0|  0|  0|  1|  0|  0|  0|  0|  0|  0|  0|  0|  0|  0|  0|  0|  0|  0|  0|\n|             21891|  0|  0|  0|  0|  0|  0|  0|  0|  0|  0|  0|  0|  0|  0|  3|  0|  0|  0|  0|  0|  0|  0|  0|  0|  0|  0|  1|  0|  0|  0|  0|  0|  0|  0|  0|  0|  0|  0|  0|  0|  0|  0|  0|  0|  0|  0|  1|  0|  0|  0|  0|  0|  0|  0|  0|  0|  0|  0|  0|  0|  0|  0|  0|  0|  0|  0|\n|             22110|  0|  0|  0|  0|  0|  0|  0|  0|  0|  0|  1|  0|  0|  0|  0|  0|  0|  0|  0|  0|  0|  0|  0|  0|  0|  0|  1|  0|  0|  0|  0|  0|  0|  0|  0|  0|  0|  0|  0|  0|  0|  0|  0|  0|  0|  0|  0|  0|  0|  0|  0|  0|  0|  0|  0|  1|  0|  0|  0|  0|  0|  0|  0|  0|  0|  0|\n|             82581|  0|  0|  0|  0|  0|  0|  0|  0|  0|  0|  0|  0|  0|  0|  0|  0|  0|  0|  0|  0|  0|  0|  0|  0|  0|  0|  1|  0|  0|  0|  0|  0|  0|  0|  0|  0|  0|  0|  0|  0|  0|  0|  0|  0|  0|  0|  0|  0|  0|  0|  0|  0|  0|  0|  0|  0|  0|  0|  0|  0|  0|  0|  0|  0|  0|  0|\n|             22964|  0|  0|  0|  0|  0|  0|  0|  0|  0|  0|  0|  0|  0|  0|  1|  0|  0|  0|  0|  0|  0|  0|  0|  0|  0|  0|  0|  0|  0|  0|  0|  0|  0|  0|  0|  0|  0|  0|  0|  0|  0|  0|  0|  0|  0|  0|  1|  0|  0|  0|  0|  0|  0|  0|  0|  1|  0|  0|  0|  0|  0|  0|  0|  0|  0|  0|\n|             20717|  0|  0|  0|  0|  0|  0|  0|  0|  0|  0|  2|  0|  0|  0|  0|  0|  0|  0|  0|  0|  0|  0|  0|  0|  0|  0|  0|  0|  0|  0|  0|  0|  0|  0|  0|  0|  0|  0|  0|  0|  0|  0|  0|  0|  0|  0|  0|  0|  0|  0|  0|  0|  0|  0|  0|  0|  0|  0|  0|  0|  0|  0|  0|  0|  0|  0|\n|             22328|  0|  0|  0|  0|  0|  0|  0|  0|  0|  0|  1|  0|  0|  0|  0|  0|  0|  0|  0|  0|  0|  0|  0|  0|  0|  0|  0|  0|  0|  0|  0|  0|  0|  0|  0|  0|  0|  0|  0|  0|  0|  0|  0|  0|  0|  0|  0|  0|  0|  0|  0|  0|  0|  0|  0|  0|  0|  0|  0|  0|  0|  0|  0|  0|  0|  0|\n|             22630|  0|  0|  0|  0|  0|  0|  0|  0|  0|  0|  1|  0|  0|  0|  0|  0|  0|  0|  0|  0|  0|  0|  0|  0|  0|  0|  1|  0|  0|  0|  0|  0|  0|  0|  0|  0|  0|  0|  0|  0|  0|  0|  0|  0|  0|  0|  0|  0|  0|  0|  0|  0|  0|  0|  0|  0|  0|  0|  0|  0|  0|  0|  0|  0|  0|  0|\n+------------------+---+---+---+---+---+---+---+---+---+---+---+---+---+---+---+---+---+---+---+---+---+---+---+---+---+---+---+---+---+---+---+---+---+---+---+---+---+---+---+---+---+---+---+---+---+---+---+---+---+---+---+---+---+---+---+---+---+---+---+---+---+---+---+---+---+---+\nonly showing top 20 rows\n\n"
     ]
    }
   ],
   "source": [
    "df.stat.crosstab(\"StockCode\", \"Quantity\").show()"
   ]
  },
  {
   "cell_type": "code",
   "execution_count": 0,
   "metadata": {
    "application/vnd.databricks.v1+cell": {
     "cellMetadata": {
      "byteLimit": 2048000,
      "rowLimit": 10000
     },
     "inputWidgets": {},
     "nuid": "388ac9c1-9786-478a-8805-dfd899d4e936",
     "showTitle": false,
     "title": ""
    }
   },
   "outputs": [
    {
     "output_type": "stream",
     "name": "stdout",
     "output_type": "stream",
     "text": [
      "+--------------------+--------------------+\n| StockCode_freqItems|  Quantity_freqItems|\n+--------------------+--------------------+\n|[22086, 21705, 72...|[200, 128, 23, 50...|\n+--------------------+--------------------+\n\n"
     ]
    }
   ],
   "source": [
    "df.stat.freqItems([\"StockCode\", \"Quantity\"]).show()\n"
   ]
  },
  {
   "cell_type": "code",
   "execution_count": 0,
   "metadata": {
    "application/vnd.databricks.v1+cell": {
     "cellMetadata": {
      "byteLimit": 2048000,
      "rowLimit": 10000
     },
     "inputWidgets": {},
     "nuid": "cb655628-9e86-40ce-807a-acdda9377d99",
     "showTitle": false,
     "title": ""
    }
   },
   "outputs": [
    {
     "output_type": "stream",
     "name": "stdout",
     "output_type": "stream",
     "text": [
      "+-----------------------------+\n|monotonically_increasing_id()|\n+-----------------------------+\n|                            0|\n|                            1|\n+-----------------------------+\nonly showing top 2 rows\n\n"
     ]
    }
   ],
   "source": [
    "from pyspark.sql.functions import monotonically_increasing_id\n",
    "df.select(monotonically_increasing_id()).show(2)\n"
   ]
  },
  {
   "cell_type": "markdown",
   "metadata": {
    "application/vnd.databricks.v1+cell": {
     "cellMetadata": {
      "byteLimit": 2048000,
      "rowLimit": 10000
     },
     "inputWidgets": {},
     "nuid": "a55985c1-7d12-45b9-a1ed-b246ab0ab2f3",
     "showTitle": false,
     "title": ""
    }
   },
   "source": [
    "#### Working with strings"
   ]
  },
  {
   "cell_type": "code",
   "execution_count": 0,
   "metadata": {
    "application/vnd.databricks.v1+cell": {
     "cellMetadata": {
      "byteLimit": 2048000,
      "rowLimit": 10000
     },
     "inputWidgets": {},
     "nuid": "5cbb1996-5cf1-4a95-bd8c-d3c1c960a5c8",
     "showTitle": false,
     "title": ""
    }
   },
   "outputs": [
    {
     "output_type": "stream",
     "name": "stdout",
     "output_type": "stream",
     "text": [
      "+--------------------+\n|initcap(Description)|\n+--------------------+\n|White Hanging Hea...|\n| White Metal Lantern|\n|Cream Cupid Heart...|\n|Knitted Union Fla...|\n|Red Woolly Hottie...|\n|Set 7 Babushka Ne...|\n|Glass Star Froste...|\n|Hand Warmer Union...|\n|Hand Warmer Red P...|\n|Assorted Colour B...|\n|Poppy's Playhouse...|\n|Poppy's Playhouse...|\n|Feltcraft Princes...|\n|Ivory Knitted Mug...|\n|Box Of 6 Assorted...|\n|Box Of Vintage Ji...|\n|Box Of Vintage Al...|\n|Home Building Blo...|\n|Love Building Blo...|\n|Recipe Box With M...|\n+--------------------+\nonly showing top 20 rows\n\n"
     ]
    }
   ],
   "source": [
    "from pyspark.sql.functions import initcap\n",
    "df.select(initcap(col(\"Description\"))).show()\n"
   ]
  },
  {
   "cell_type": "code",
   "execution_count": 0,
   "metadata": {
    "application/vnd.databricks.v1+cell": {
     "cellMetadata": {
      "byteLimit": 2048000,
      "rowLimit": 10000
     },
     "inputWidgets": {},
     "nuid": "7b332939-c42a-4fc1-a605-27cf8103a5a0",
     "showTitle": false,
     "title": ""
    }
   },
   "outputs": [
    {
     "output_type": "stream",
     "name": "stdout",
     "output_type": "stream",
     "text": [
      "+--------------------+--------------------+-------------------------+\n|         Description|  lower(Description)|upper(lower(Description))|\n+--------------------+--------------------+-------------------------+\n|WHITE HANGING HEA...|white hanging hea...|     WHITE HANGING HEA...|\n| WHITE METAL LANTERN| white metal lantern|      WHITE METAL LANTERN|\n+--------------------+--------------------+-------------------------+\nonly showing top 2 rows\n\n"
     ]
    }
   ],
   "source": [
    "from pyspark.sql.functions import lower, upper\n",
    "df.select(col(\"Description\"),\n",
    "lower(col(\"Description\")),\n",
    "upper(lower(col(\"Description\")))).show(2)"
   ]
  },
  {
   "cell_type": "code",
   "execution_count": 0,
   "metadata": {
    "application/vnd.databricks.v1+cell": {
     "cellMetadata": {
      "byteLimit": 2048000,
      "rowLimit": 10000
     },
     "inputWidgets": {},
     "nuid": "df0c29a5-6aa3-494c-a37e-6eec02a9ded3",
     "showTitle": false,
     "title": ""
    }
   },
   "outputs": [
    {
     "output_type": "stream",
     "name": "stdout",
     "output_type": "stream",
     "text": [
      "+------+------+-----+---+----------+\n| ltrim| rtrim| trim| lp|        rp|\n+------+------+-----+---+----------+\n|HELLO | HELLO|HELLO|HEL|HELLO     |\n|HELLO | HELLO|HELLO|HEL|HELLO     |\n+------+------+-----+---+----------+\nonly showing top 2 rows\n\n"
     ]
    }
   ],
   "source": [
    "from pyspark.sql.functions import lit, ltrim, rtrim, rpad, lpad, trim\n",
    "df.select(\n",
    "ltrim(lit(\" HELLO \")).alias(\"ltrim\"),\n",
    "rtrim(lit(\" HELLO \")).alias(\"rtrim\"),\n",
    "trim(lit(\" HELLO \")).alias(\"trim\"),\n",
    "lpad(lit(\"HELLO\"), 3, \" \").alias(\"lp\"),\n",
    "rpad(lit(\"HELLO\"), 10, \" \").alias(\"rp\")).show(2)"
   ]
  },
  {
   "cell_type": "markdown",
   "metadata": {
    "application/vnd.databricks.v1+cell": {
     "cellMetadata": {
      "byteLimit": 2048000,
      "rowLimit": 10000
     },
     "inputWidgets": {},
     "nuid": "f55479d2-d7b4-4900-a535-0e6db316268c",
     "showTitle": false,
     "title": ""
    }
   },
   "source": [
    "#### Regular Expressions\n",
    "one of the most frequently performed tasks is searching for the existence of one string\n",
    "in another or replacing all mentions of a string with another value. This is often done with a tool\n",
    "called regular expressions that exists in many programming languages. Regular expressions give\n",
    "the user an ability to specify a set of rules to use to either extract values from a string or replace\n",
    "them with some other values.\n"
   ]
  },
  {
   "cell_type": "code",
   "execution_count": 0,
   "metadata": {
    "application/vnd.databricks.v1+cell": {
     "cellMetadata": {
      "byteLimit": 2048000,
      "rowLimit": 10000
     },
     "inputWidgets": {},
     "nuid": "eacdea97-87e8-4632-bab9-e9beac642daf",
     "showTitle": false,
     "title": ""
    }
   },
   "outputs": [
    {
     "output_type": "stream",
     "name": "stdout",
     "output_type": "stream",
     "text": [
      "+--------------------+--------------------+\n|         color_clean|         Description|\n+--------------------+--------------------+\n|COLOR HANGING HEA...|WHITE HANGING HEA...|\n| COLOR METAL LANTERN| WHITE METAL LANTERN|\n+--------------------+--------------------+\nonly showing top 2 rows\n\n"
     ]
    }
   ],
   "source": [
    "from pyspark.sql.functions import regexp_replace\n",
    "regex_string = \"BLACK|WHITE|RED|GREEN|BLUE\"\n",
    "df.select(\n",
    "regexp_replace(col(\"Description\"), regex_string, \"COLOR\").alias(\"color_clean\"),\n",
    "col(\"Description\")).show(2)\n"
   ]
  },
  {
   "cell_type": "code",
   "execution_count": 0,
   "metadata": {
    "application/vnd.databricks.v1+cell": {
     "cellMetadata": {
      "byteLimit": 2048000,
      "rowLimit": 10000
     },
     "inputWidgets": {},
     "nuid": "a22275b1-90ba-46d9-8fd5-6c5fab7b3667",
     "showTitle": false,
     "title": ""
    }
   },
   "outputs": [
    {
     "output_type": "stream",
     "name": "stdout",
     "output_type": "stream",
     "text": [
      "+----------------------------------+--------------------+\n|translate(Description, LEET, 1337)|         Description|\n+----------------------------------+--------------------+\n|              WHI73 HANGING H3A...|WHITE HANGING HEA...|\n|               WHI73 M37A1 1AN73RN| WHITE METAL LANTERN|\n+----------------------------------+--------------------+\nonly showing top 2 rows\n\n"
     ]
    }
   ],
   "source": [
    "from pyspark.sql.functions import translate\n",
    "df.select(translate(col(\"Description\"), \"LEET\", \"1337\"),col(\"Description\"))\\\n",
    ".show(2)\n"
   ]
  },
  {
   "cell_type": "code",
   "execution_count": 0,
   "metadata": {
    "application/vnd.databricks.v1+cell": {
     "cellMetadata": {
      "byteLimit": 2048000,
      "rowLimit": 10000
     },
     "inputWidgets": {},
     "nuid": "8f27bde6-b099-4861-832c-e4261c0a785f",
     "showTitle": false,
     "title": ""
    }
   },
   "outputs": [
    {
     "output_type": "stream",
     "name": "stdout",
     "output_type": "stream",
     "text": [
      "+-----------+--------------------+\n|color_clean|         Description|\n+-----------+--------------------+\n|      WHITE|WHITE HANGING HEA...|\n|      WHITE| WHITE METAL LANTERN|\n+-----------+--------------------+\nonly showing top 2 rows\n\n"
     ]
    }
   ],
   "source": [
    "from pyspark.sql.functions import regexp_extract\n",
    "extract_str = \"(BLACK|WHITE|RED|GREEN|BLUE)\"\n",
    "df.select(\n",
    "regexp_extract(col(\"Description\"), extract_str, 1).alias(\"color_clean\"),\n",
    "col(\"Description\")).show(2)\n"
   ]
  },
  {
   "cell_type": "code",
   "execution_count": 0,
   "metadata": {
    "application/vnd.databricks.v1+cell": {
     "cellMetadata": {
      "byteLimit": 2048000,
      "rowLimit": 10000
     },
     "inputWidgets": {},
     "nuid": "1ae934d3-4fd3-4ff6-b671-fd3b0d247a9a",
     "showTitle": false,
     "title": ""
    }
   },
   "outputs": [
    {
     "output_type": "stream",
     "name": "stdout",
     "output_type": "stream",
     "text": [
      "+--------------+----------------------------------+\n|hasSimpleColor|Description                       |\n+--------------+----------------------------------+\n|true          |WHITE HANGING HEART T-LIGHT HOLDER|\n|true          |WHITE METAL LANTERN               |\n|true          |RED WOOLLY HOTTIE WHITE HEART.    |\n+--------------+----------------------------------+\nonly showing top 3 rows\n\n"
     ]
    }
   ],
   "source": [
    "from pyspark.sql.functions import instr\n",
    "containsBlack = instr(col(\"Description\"), \"BLACK\") >= 1\n",
    "containsWhite = instr(col(\"Description\"), \"WHITE\") >= 1\n",
    "df.withColumn(\"hasSimpleColor\", containsBlack | containsWhite)\\\n",
    ".where(\"hasSimpleColor\")\\\n",
    ".select(\"hasSimpleColor\",\"Description\").show(3, False)\n"
   ]
  },
  {
   "cell_type": "code",
   "execution_count": 0,
   "metadata": {
    "application/vnd.databricks.v1+cell": {
     "cellMetadata": {
      "byteLimit": 2048000,
      "rowLimit": 10000
     },
     "inputWidgets": {},
     "nuid": "45b3ce37-3688-476f-b898-eb39db64e749",
     "showTitle": false,
     "title": ""
    }
   },
   "outputs": [
    {
     "output_type": "stream",
     "name": "stdout",
     "output_type": "stream",
     "text": [
      "+----------------------------------+\n|Description                       |\n+----------------------------------+\n|WHITE HANGING HEART T-LIGHT HOLDER|\n|WHITE METAL LANTERN               |\n|RED WOOLLY HOTTIE WHITE HEART.    |\n+----------------------------------+\nonly showing top 3 rows\n\n"
     ]
    }
   ],
   "source": [
    "from pyspark.sql.functions import expr, locate\n",
    "simpleColors = [\"black\", \"white\", \"red\", \"green\", \"blue\"]\n",
    "def color_locator(column, color_string):\n",
    "    return locate(color_string.upper(), column)\\\n",
    "        .cast(\"boolean\")\\\n",
    "        .alias(\"is_\" + color_string)\n",
    "selectedColumns = [color_locator(df.Description, c) for c in simpleColors]\n",
    "selectedColumns.append(expr(\"*\")) # has to a be Column type\n",
    "df.select(*selectedColumns).where(expr(\"is_white OR is_red\"))\\\n",
    ".select(\"Description\").show(3, False)\n"
   ]
  },
  {
   "cell_type": "markdown",
   "metadata": {
    "application/vnd.databricks.v1+cell": {
     "cellMetadata": {
      "byteLimit": 2048000,
      "rowLimit": 10000
     },
     "inputWidgets": {},
     "nuid": "e33c3ce1-f66e-47a6-a38e-6ca5e4b64c33",
     "showTitle": false,
     "title": ""
    }
   },
   "source": [
    "#### DateTime\n",
    "Spark will not throw an error if it cannot parse the date; rather, it will just return null"
   ]
  },
  {
   "cell_type": "code",
   "execution_count": 0,
   "metadata": {
    "application/vnd.databricks.v1+cell": {
     "cellMetadata": {
      "byteLimit": 2048000,
      "rowLimit": 10000
     },
     "inputWidgets": {},
     "nuid": "2dfcda51-b15a-48c1-992a-78d6c60c7a93",
     "showTitle": false,
     "title": ""
    }
   },
   "outputs": [
    {
     "output_type": "stream",
     "name": "stdout",
     "output_type": "stream",
     "text": [
      "root\n |-- id: long (nullable = false)\n |-- today: date (nullable = false)\n |-- now: timestamp (nullable = false)\n\n+---+----------+--------------------+\n| id|     today|                 now|\n+---+----------+--------------------+\n|  0|2024-05-22|2024-05-22 05:58:...|\n|  1|2024-05-22|2024-05-22 05:58:...|\n|  2|2024-05-22|2024-05-22 05:58:...|\n|  3|2024-05-22|2024-05-22 05:58:...|\n|  4|2024-05-22|2024-05-22 05:58:...|\n|  5|2024-05-22|2024-05-22 05:58:...|\n|  6|2024-05-22|2024-05-22 05:58:...|\n|  7|2024-05-22|2024-05-22 05:58:...|\n|  8|2024-05-22|2024-05-22 05:58:...|\n|  9|2024-05-22|2024-05-22 05:58:...|\n+---+----------+--------------------+\n\n"
     ]
    }
   ],
   "source": [
    "from pyspark.sql.functions import current_date, current_timestamp\n",
    "dateDF = spark.range(10)\\\n",
    ".withColumn(\"today\", current_date())\\\n",
    ".withColumn(\"now\", current_timestamp())\n",
    "dateDF.createOrReplaceTempView(\"dateTable\")\n",
    "dateDF.printSchema()\n",
    "dateDF.show()\n"
   ]
  },
  {
   "cell_type": "code",
   "execution_count": 0,
   "metadata": {
    "application/vnd.databricks.v1+cell": {
     "cellMetadata": {
      "byteLimit": 2048000,
      "rowLimit": 10000
     },
     "inputWidgets": {},
     "nuid": "ef08e239-6375-4511-9a44-bbcb969501c8",
     "showTitle": false,
     "title": ""
    }
   },
   "outputs": [
    {
     "output_type": "stream",
     "name": "stdout",
     "output_type": "stream",
     "text": [
      "+------------------+------------------+\n|date_sub(today, 5)|date_add(today, 5)|\n+------------------+------------------+\n|        2024-05-17|        2024-05-27|\n+------------------+------------------+\nonly showing top 1 row\n\n"
     ]
    }
   ],
   "source": [
    "from pyspark.sql.functions import date_add, date_sub\n",
    "dateDF.select(date_sub(col(\"today\"), 5), date_add(col(\"today\"), 5)).show(1)\n"
   ]
  },
  {
   "cell_type": "code",
   "execution_count": 0,
   "metadata": {
    "application/vnd.databricks.v1+cell": {
     "cellMetadata": {
      "byteLimit": 2048000,
      "rowLimit": 10000
     },
     "inputWidgets": {},
     "nuid": "fa8ead09-709b-4d2a-a248-06b397f6f481",
     "showTitle": false,
     "title": ""
    }
   },
   "outputs": [
    {
     "output_type": "stream",
     "name": "stdout",
     "output_type": "stream",
     "text": [
      "+-------------------------+\n|datediff(week_ago, today)|\n+-------------------------+\n|                       -7|\n+-------------------------+\nonly showing top 1 row\n\n+--------------------------------+\n|months_between(start, end, true)|\n+--------------------------------+\n|                    -16.67741935|\n+--------------------------------+\nonly showing top 1 row\n\n"
     ]
    }
   ],
   "source": [
    "from pyspark.sql.functions import datediff, months_between, to_date\n",
    "dateDF.withColumn(\"week_ago\", date_sub(col(\"today\"), 7))\\\n",
    ".select(datediff(col(\"week_ago\"), col(\"today\"))).show(1)\n",
    "dateDF.select(\n",
    "to_date(lit(\"2016-01-01\")).alias(\"start\"),\n",
    "to_date(lit(\"2017-05-22\")).alias(\"end\"))\\\n",
    ".select(months_between(col(\"start\"), col(\"end\"))).show(1)\n"
   ]
  },
  {
   "cell_type": "code",
   "execution_count": 0,
   "metadata": {
    "application/vnd.databricks.v1+cell": {
     "cellMetadata": {
      "byteLimit": 2048000,
      "rowLimit": 10000
     },
     "inputWidgets": {},
     "nuid": "9874b943-d779-4377-a865-7674a96684cd",
     "showTitle": false,
     "title": ""
    }
   },
   "outputs": [
    {
     "output_type": "stream",
     "name": "stdout",
     "output_type": "stream",
     "text": [
      "+-------------+\n|to_date(date)|\n+-------------+\n|   2017-01-01|\n+-------------+\nonly showing top 1 row\n\n"
     ]
    }
   ],
   "source": [
    "from pyspark.sql.functions import to_date, lit\n",
    "spark.range(5).withColumn(\"date\", lit(\"2017-01-01\"))\\\n",
    ".select(to_date(col(\"date\"))).show(1)"
   ]
  },
  {
   "cell_type": "code",
   "execution_count": 0,
   "metadata": {
    "application/vnd.databricks.v1+cell": {
     "cellMetadata": {
      "byteLimit": 2048000,
      "rowLimit": 10000
     },
     "inputWidgets": {},
     "nuid": "bb82263f-bc1a-4464-9c2f-3ac40c58312a",
     "showTitle": false,
     "title": ""
    }
   },
   "outputs": [
    {
     "output_type": "stream",
     "name": "stdout",
     "output_type": "stream",
     "text": [
      "+-------------------+-------------------+\n|to_date(2016-20-12)|to_date(2017-12-11)|\n+-------------------+-------------------+\n|               NULL|         2017-12-11|\n+-------------------+-------------------+\nonly showing top 1 row\n\n"
     ]
    }
   ],
   "source": [
    "dateDF.select(to_date(lit(\"2016-20-12\")),to_date(lit(\"2017-12-11\"))).show(1)\n"
   ]
  },
  {
   "cell_type": "code",
   "execution_count": 0,
   "metadata": {
    "application/vnd.databricks.v1+cell": {
     "cellMetadata": {
      "byteLimit": 2048000,
      "rowLimit": 10000
     },
     "inputWidgets": {},
     "nuid": "65a78864-fbc9-4ce9-9200-9b15d6d0a67f",
     "showTitle": false,
     "title": ""
    }
   },
   "outputs": [
    {
     "output_type": "stream",
     "name": "stdout",
     "output_type": "stream",
     "text": [
      "+----------+----------+\n|      date|     date2|\n+----------+----------+\n|2017-11-12|2017-12-20|\n+----------+----------+\n\n"
     ]
    }
   ],
   "source": [
    "from pyspark.sql.functions import to_date\n",
    "dateFormat = \"yyyy-dd-MM\"\n",
    "cleanDateDF = spark.range(1).select(\n",
    "to_date(lit(\"2017-12-11\"), dateFormat).alias(\"date\"),\n",
    "to_date(lit(\"2017-20-12\"), dateFormat).alias(\"date2\"))\n",
    "cleanDateDF.createOrReplaceTempView(\"dateTable2\")\n",
    "cleanDateDF.show()\n"
   ]
  },
  {
   "cell_type": "code",
   "execution_count": 0,
   "metadata": {
    "application/vnd.databricks.v1+cell": {
     "cellMetadata": {
      "byteLimit": 2048000,
      "rowLimit": 10000
     },
     "inputWidgets": {},
     "nuid": "a6b21434-25b4-4ad4-8fa6-e7c4337d330b",
     "showTitle": false,
     "title": ""
    }
   },
   "outputs": [
    {
     "output_type": "stream",
     "name": "stdout",
     "output_type": "stream",
     "text": [
      "+------------------------------+\n|to_timestamp(date, yyyy-dd-MM)|\n+------------------------------+\n|           2017-11-12 00:00:00|\n+------------------------------+\n\n"
     ]
    }
   ],
   "source": [
    "from pyspark.sql.functions import to_timestamp\n",
    "cleanDateDF.select(to_timestamp(col(\"date\"), dateFormat)).show()"
   ]
  },
  {
   "cell_type": "code",
   "execution_count": 0,
   "metadata": {
    "application/vnd.databricks.v1+cell": {
     "cellMetadata": {
      "byteLimit": 2048000,
      "rowLimit": 10000
     },
     "inputWidgets": {},
     "nuid": "f69307eb-86a4-4878-a6c6-7eff8bdc5bde",
     "showTitle": false,
     "title": ""
    }
   },
   "outputs": [
    {
     "output_type": "stream",
     "name": "stdout",
     "output_type": "stream",
     "text": [
      "+----------+----------+\n|      date|     date2|\n+----------+----------+\n|2017-11-12|2017-12-20|\n+----------+----------+\n\n"
     ]
    }
   ],
   "source": [
    "cleanDateDF.filter(col(\"date2\") > lit(\"2017-12-12\")).show()"
   ]
  },
  {
   "cell_type": "markdown",
   "metadata": {
    "application/vnd.databricks.v1+cell": {
     "cellMetadata": {
      "byteLimit": 2048000,
      "rowLimit": 10000
     },
     "inputWidgets": {},
     "nuid": "8ebf969f-a3d7-49bd-9dee-179774edcfe9",
     "showTitle": false,
     "title": ""
    }
   },
   "source": [
    "#### Coalesce\n",
    "Spark includes a function to allow you to select the first non-null value from a set of columns by\n",
    "using the coalesce function."
   ]
  },
  {
   "cell_type": "code",
   "execution_count": 0,
   "metadata": {
    "application/vnd.databricks.v1+cell": {
     "cellMetadata": {
      "byteLimit": 2048000,
      "rowLimit": 10000
     },
     "inputWidgets": {},
     "nuid": "662461fe-5b07-4cc6-b59d-9d1c97e0d68e",
     "showTitle": false,
     "title": ""
    }
   },
   "outputs": [
    {
     "output_type": "stream",
     "name": "stdout",
     "output_type": "stream",
     "text": [
      "+---------------------------------+\n|coalesce(Description, CustomerId)|\n+---------------------------------+\n|             WHITE HANGING HEA...|\n|              WHITE METAL LANTERN|\n|             CREAM CUPID HEART...|\n|             KNITTED UNION FLA...|\n|             RED WOOLLY HOTTIE...|\n|             SET 7 BABUSHKA NE...|\n|             GLASS STAR FROSTE...|\n|             HAND WARMER UNION...|\n|             HAND WARMER RED P...|\n|             ASSORTED COLOUR B...|\n|             POPPY'S PLAYHOUSE...|\n|             POPPY'S PLAYHOUSE...|\n|             FELTCRAFT PRINCES...|\n|             IVORY KNITTED MUG...|\n|             BOX OF 6 ASSORTED...|\n|             BOX OF VINTAGE JI...|\n|             BOX OF VINTAGE AL...|\n|             HOME BUILDING BLO...|\n|             LOVE BUILDING BLO...|\n|             RECIPE BOX WITH M...|\n+---------------------------------+\nonly showing top 20 rows\n\n"
     ]
    }
   ],
   "source": [
    "from pyspark.sql.functions import coalesce\n",
    "df.select(coalesce(col(\"Description\"), col(\"CustomerId\"))).show()\n"
   ]
  },
  {
   "cell_type": "markdown",
   "metadata": {
    "application/vnd.databricks.v1+cell": {
     "cellMetadata": {
      "byteLimit": 2048000,
      "rowLimit": 10000
     },
     "inputWidgets": {},
     "nuid": "298264ec-c323-4fad-93a4-0214f2211eb5",
     "showTitle": false,
     "title": ""
    }
   },
   "source": [
    "#### Null"
   ]
  },
  {
   "cell_type": "code",
   "execution_count": 0,
   "metadata": {
    "application/vnd.databricks.v1+cell": {
     "cellMetadata": {
      "byteLimit": 2048000,
      "rowLimit": 10000
     },
     "inputWidgets": {},
     "nuid": "331cc661-77cc-4f1e-9e4f-e878333dbaaa",
     "showTitle": false,
     "title": ""
    }
   },
   "outputs": [
    {
     "output_type": "execute_result",
     "data": {
      "text/plain": [
       "DataFrame[InvoiceNo: string, StockCode: string, Description: string, Quantity: int, InvoiceDate: timestamp, UnitPrice: double, CustomerID: double, Country: string]"
      ]
     },
     "execution_count": 321,
     "metadata": {},
     "output_type": "execute_result"
    }
   ],
   "source": [
    "df.na.drop(\"any\")"
   ]
  },
  {
   "cell_type": "code",
   "execution_count": 0,
   "metadata": {
    "application/vnd.databricks.v1+cell": {
     "cellMetadata": {
      "byteLimit": 2048000,
      "rowLimit": 10000
     },
     "inputWidgets": {},
     "nuid": "9e7cc315-fe22-4d30-9291-8180dda9aef3",
     "showTitle": false,
     "title": ""
    }
   },
   "outputs": [
    {
     "output_type": "execute_result",
     "data": {
      "text/plain": [
       "DataFrame[InvoiceNo: string, StockCode: string, Description: string, Quantity: int, InvoiceDate: timestamp, UnitPrice: double, CustomerID: double, Country: string]"
      ]
     },
     "execution_count": 322,
     "metadata": {},
     "output_type": "execute_result"
    }
   ],
   "source": [
    "df.na.fill(\"All Null values become this string\")"
   ]
  },
  {
   "cell_type": "code",
   "execution_count": 0,
   "metadata": {
    "application/vnd.databricks.v1+cell": {
     "cellMetadata": {
      "byteLimit": 2048000,
      "rowLimit": 10000
     },
     "inputWidgets": {},
     "nuid": "08be3f13-9fb6-4822-ad9e-d451f18f5dc9",
     "showTitle": false,
     "title": ""
    }
   },
   "outputs": [
    {
     "output_type": "execute_result",
     "data": {
      "text/plain": [
       "DataFrame[InvoiceNo: string, StockCode: string, Description: string, Quantity: int, InvoiceDate: timestamp, UnitPrice: double, CustomerID: double, Country: string]"
      ]
     },
     "execution_count": 323,
     "metadata": {},
     "output_type": "execute_result"
    }
   ],
   "source": [
    "df.na.fill(\"all\", subset=[\"StockCode\", \"InvoiceNo\"])"
   ]
  },
  {
   "cell_type": "code",
   "execution_count": 0,
   "metadata": {
    "application/vnd.databricks.v1+cell": {
     "cellMetadata": {
      "byteLimit": 2048000,
      "rowLimit": 10000
     },
     "inputWidgets": {},
     "nuid": "daa49a7a-a15e-426b-afda-2aa9d81cec47",
     "showTitle": false,
     "title": ""
    }
   },
   "outputs": [
    {
     "output_type": "execute_result",
     "data": {
      "text/plain": [
       "DataFrame[InvoiceNo: string, StockCode: string, Description: string, Quantity: int, InvoiceDate: timestamp, UnitPrice: double, CustomerID: double, Country: string]"
      ]
     },
     "execution_count": 324,
     "metadata": {},
     "output_type": "execute_result"
    }
   ],
   "source": [
    "fill_cols_vals = {\"StockCode\": 5, \"Description\" : \"No Value\"}\n",
    "df.na.fill(fill_cols_vals)"
   ]
  },
  {
   "cell_type": "code",
   "execution_count": 0,
   "metadata": {
    "application/vnd.databricks.v1+cell": {
     "cellMetadata": {
      "byteLimit": 2048000,
      "rowLimit": 10000
     },
     "inputWidgets": {},
     "nuid": "892b7693-ddf8-4c35-9a6b-8111edf83457",
     "showTitle": false,
     "title": ""
    }
   },
   "outputs": [
    {
     "output_type": "execute_result",
     "data": {
      "text/plain": [
       "DataFrame[InvoiceNo: string, StockCode: string, Description: string, Quantity: int, InvoiceDate: timestamp, UnitPrice: double, CustomerID: double, Country: string]"
      ]
     },
     "execution_count": 325,
     "metadata": {},
     "output_type": "execute_result"
    }
   ],
   "source": [
    "df.na.replace([\"\"], [\"UNKNOWN\"], \"Description\")\n"
   ]
  },
  {
   "cell_type": "markdown",
   "metadata": {
    "application/vnd.databricks.v1+cell": {
     "cellMetadata": {
      "byteLimit": 2048000,
      "rowLimit": 10000
     },
     "inputWidgets": {},
     "nuid": "74e3c172-80e4-490f-895f-bed071b0127b",
     "showTitle": false,
     "title": ""
    }
   },
   "source": [
    "#### Arrays"
   ]
  },
  {
   "cell_type": "code",
   "execution_count": 0,
   "metadata": {
    "application/vnd.databricks.v1+cell": {
     "cellMetadata": {
      "byteLimit": 2048000,
      "rowLimit": 10000
     },
     "inputWidgets": {},
     "nuid": "359b19bb-fb26-4dc0-88d1-3236fedb778d",
     "showTitle": false,
     "title": ""
    }
   },
   "outputs": [
    {
     "output_type": "stream",
     "name": "stdout",
     "output_type": "stream",
     "text": [
      "+-------------------------+\n|split(Description,  , -1)|\n+-------------------------+\n|     [WHITE, HANGING, ...|\n|     [WHITE, METAL, LA...|\n+-------------------------+\nonly showing top 2 rows\n\n"
     ]
    }
   ],
   "source": [
    "from pyspark.sql.functions import split\n",
    "df.select(split(col(\"Description\"), \" \")).show(2)"
   ]
  },
  {
   "cell_type": "code",
   "execution_count": 0,
   "metadata": {
    "application/vnd.databricks.v1+cell": {
     "cellMetadata": {
      "byteLimit": 2048000,
      "rowLimit": 10000
     },
     "inputWidgets": {},
     "nuid": "5e599cb3-8380-49aa-862f-280702fc80d0",
     "showTitle": false,
     "title": ""
    }
   },
   "outputs": [
    {
     "output_type": "stream",
     "name": "stdout",
     "output_type": "stream",
     "text": [
      "+------------+\n|array_col[0]|\n+------------+\n|       WHITE|\n|       WHITE|\n+------------+\nonly showing top 2 rows\n\n"
     ]
    }
   ],
   "source": [
    "df.select(split(col(\"Description\"), \" \").alias(\"array_col\"))\\\n",
    ".selectExpr(\"array_col[0]\").show(2)\n"
   ]
  },
  {
   "cell_type": "code",
   "execution_count": 0,
   "metadata": {
    "application/vnd.databricks.v1+cell": {
     "cellMetadata": {
      "byteLimit": 2048000,
      "rowLimit": 10000
     },
     "inputWidgets": {},
     "nuid": "b521add4-7346-4289-95e9-7cafeba35b01",
     "showTitle": false,
     "title": ""
    }
   },
   "outputs": [
    {
     "output_type": "stream",
     "name": "stdout",
     "output_type": "stream",
     "text": [
      "+-------------------------------+\n|size(split(Description,  , -1))|\n+-------------------------------+\n|                              5|\n|                              3|\n+-------------------------------+\nonly showing top 2 rows\n\n"
     ]
    }
   ],
   "source": [
    "from pyspark.sql.functions import size\n",
    "df.select(size(split(col(\"Description\"), \" \"))).show(2)"
   ]
  },
  {
   "cell_type": "code",
   "execution_count": 0,
   "metadata": {
    "application/vnd.databricks.v1+cell": {
     "cellMetadata": {
      "byteLimit": 2048000,
      "rowLimit": 10000
     },
     "inputWidgets": {},
     "nuid": "a415e913-829e-4f16-b8e4-fa5ff6bde175",
     "showTitle": false,
     "title": ""
    }
   },
   "outputs": [
    {
     "output_type": "stream",
     "name": "stdout",
     "output_type": "stream",
     "text": [
      "+------------------------------------------------+\n|array_contains(split(Description,  , -1), WHITE)|\n+------------------------------------------------+\n|                                            true|\n|                                            true|\n+------------------------------------------------+\nonly showing top 2 rows\n\n"
     ]
    }
   ],
   "source": [
    "from pyspark.sql.functions import array_contains\n",
    "df.select(array_contains(split(col(\"Description\"), \" \"), \"WHITE\")).show(2)\n"
   ]
  },
  {
   "cell_type": "code",
   "execution_count": 0,
   "metadata": {
    "application/vnd.databricks.v1+cell": {
     "cellMetadata": {
      "byteLimit": 2048000,
      "rowLimit": 10000
     },
     "inputWidgets": {},
     "nuid": "cb238437-b2c0-436b-91ab-58e4cfff5f8f",
     "showTitle": false,
     "title": ""
    }
   },
   "outputs": [
    {
     "output_type": "stream",
     "name": "stdout",
     "output_type": "stream",
     "text": [
      "+--------------------+---------+--------+\n|         Description|InvoiceNo|exploded|\n+--------------------+---------+--------+\n|WHITE HANGING HEA...|   536365|   WHITE|\n|WHITE HANGING HEA...|   536365| HANGING|\n+--------------------+---------+--------+\nonly showing top 2 rows\n\n"
     ]
    }
   ],
   "source": [
    "from pyspark.sql.functions import split, explode\n",
    "df.withColumn(\"splitted\", split(col(\"Description\"), \" \"))\\\n",
    ".withColumn(\"exploded\", explode(col(\"splitted\")))\\\n",
    ".select(\"Description\", \"InvoiceNo\", \"exploded\").show(2)\n"
   ]
  },
  {
   "cell_type": "code",
   "execution_count": 0,
   "metadata": {
    "application/vnd.databricks.v1+cell": {
     "cellMetadata": {
      "byteLimit": 2048000,
      "rowLimit": 10000
     },
     "inputWidgets": {},
     "nuid": "cf35cdc2-e921-4808-8227-d77d0f5b015b",
     "showTitle": false,
     "title": ""
    }
   },
   "outputs": [
    {
     "output_type": "stream",
     "name": "stdout",
     "output_type": "stream",
     "text": [
      "+--------------------+\n|         complex_map|\n+--------------------+\n|{WHITE HANGING HE...|\n|{WHITE METAL LANT...|\n+--------------------+\nonly showing top 2 rows\n\n"
     ]
    }
   ],
   "source": [
    "from pyspark.sql.functions import create_map\n",
    "df.select(create_map(col(\"Description\"), col(\"InvoiceNo\")).alias(\"complex_map\"))\\\n",
    ".show(2)"
   ]
  },
  {
   "cell_type": "code",
   "execution_count": 0,
   "metadata": {
    "application/vnd.databricks.v1+cell": {
     "cellMetadata": {
      "byteLimit": 2048000,
      "rowLimit": 10000
     },
     "inputWidgets": {},
     "nuid": "4f10f93d-0e91-4c91-9522-c585f30c3d49",
     "showTitle": false,
     "title": ""
    }
   },
   "outputs": [
    {
     "output_type": "stream",
     "name": "stdout",
     "output_type": "stream",
     "text": [
      "+--------------------------------+\n|complex_map[WHITE METAL LANTERN]|\n+--------------------------------+\n|                            NULL|\n|                          536365|\n+--------------------------------+\nonly showing top 2 rows\n\n"
     ]
    }
   ],
   "source": [
    "df.select(create_map(col(\"Description\"), col(\"InvoiceNo\")).alias(\"complex_map\"))\\\n",
    ".selectExpr(\"complex_map['WHITE METAL LANTERN']\").show(2)\n"
   ]
  },
  {
   "cell_type": "markdown",
   "metadata": {
    "application/vnd.databricks.v1+cell": {
     "cellMetadata": {
      "byteLimit": 2048000,
      "rowLimit": 10000
     },
     "inputWidgets": {},
     "nuid": "d2721359-eb56-4a2b-b163-057f0e8ccf04",
     "showTitle": false,
     "title": ""
    }
   },
   "source": [
    "#### json"
   ]
  },
  {
   "cell_type": "code",
   "execution_count": 0,
   "metadata": {
    "application/vnd.databricks.v1+cell": {
     "cellMetadata": {
      "byteLimit": 2048000,
      "rowLimit": 10000
     },
     "inputWidgets": {},
     "nuid": "aae3022a-6812-411b-b578-d9b705da3f91",
     "showTitle": false,
     "title": ""
    }
   },
   "outputs": [],
   "source": [
    "jsonDF = spark.range(1).selectExpr(\"\"\"\n",
    "'{\"myJSONKey\" : {\"myJSONValue\" : [1, 2, 3]}}' as jsonString\"\"\")"
   ]
  },
  {
   "cell_type": "code",
   "execution_count": 0,
   "metadata": {
    "application/vnd.databricks.v1+cell": {
     "cellMetadata": {
      "byteLimit": 2048000,
      "rowLimit": 10000
     },
     "inputWidgets": {},
     "nuid": "b4e926e6-8edb-4faa-af18-4ef111754d1a",
     "showTitle": false,
     "title": ""
    }
   },
   "outputs": [
    {
     "output_type": "stream",
     "name": "stdout",
     "output_type": "stream",
     "text": [
      "+------+--------------------+\n|column|                  c0|\n+------+--------------------+\n|     2|{\"myJSONValue\":[1...|\n+------+--------------------+\n\n"
     ]
    }
   ],
   "source": [
    "from pyspark.sql.functions import get_json_object, json_tuple\n",
    "jsonDF.select(\n",
    "    get_json_object(col(\"jsonString\"), \"$.myJSONKey.myJSONValue[1]\").alias(\"column\"),\n",
    "    json_tuple(col(\"jsonString\"), \"myJSONKey\")).show(2)\n"
   ]
  },
  {
   "cell_type": "code",
   "execution_count": 0,
   "metadata": {
    "application/vnd.databricks.v1+cell": {
     "cellMetadata": {
      "byteLimit": 2048000,
      "rowLimit": 10000
     },
     "inputWidgets": {},
     "nuid": "11c05572-bad1-467d-9107-9672da37464a",
     "showTitle": false,
     "title": ""
    }
   },
   "outputs": [
    {
     "output_type": "execute_result",
     "data": {
      "text/plain": [
       "DataFrame[to_json(myStruct): string]"
      ]
     },
     "execution_count": 335,
     "metadata": {},
     "output_type": "execute_result"
    }
   ],
   "source": [
    "from pyspark.sql.functions import to_json\n",
    "df.selectExpr(\"(InvoiceNo, Description) as myStruct\")\\\n",
    ".select(to_json(col(\"myStruct\")))\n"
   ]
  },
  {
   "cell_type": "markdown",
   "metadata": {
    "application/vnd.databricks.v1+cell": {
     "cellMetadata": {
      "byteLimit": 2048000,
      "rowLimit": 10000
     },
     "inputWidgets": {},
     "nuid": "c2854383-9543-4704-84e1-f456ff7189b2",
     "showTitle": false,
     "title": ""
    }
   },
   "source": [
    "#### User defined Functions"
   ]
  },
  {
   "cell_type": "code",
   "execution_count": 0,
   "metadata": {
    "application/vnd.databricks.v1+cell": {
     "cellMetadata": {
      "byteLimit": 2048000,
      "rowLimit": 10000
     },
     "inputWidgets": {},
     "nuid": "2247678e-2290-47ee-a173-17f6c5bfa7cf",
     "showTitle": false,
     "title": ""
    }
   },
   "outputs": [
    {
     "output_type": "execute_result",
     "data": {
      "text/plain": [
       "8.0"
      ]
     },
     "execution_count": 336,
     "metadata": {},
     "output_type": "execute_result"
    }
   ],
   "source": [
    "udfExampleDF = spark.range(5).toDF(\"num\")\n",
    "def power3(double_value):\n",
    "    return double_value ** 3\n",
    "power3(2.0)\n"
   ]
  },
  {
   "cell_type": "code",
   "execution_count": 0,
   "metadata": {
    "application/vnd.databricks.v1+cell": {
     "cellMetadata": {
      "byteLimit": 2048000,
      "rowLimit": 10000
     },
     "inputWidgets": {},
     "nuid": "47f57c4c-4115-4d72-9772-4139fa882e90",
     "showTitle": false,
     "title": ""
    }
   },
   "outputs": [],
   "source": [
    "# dbutils.fs.unmount(mount_point)"
   ]
  },
  {
   "cell_type": "code",
   "execution_count": 0,
   "metadata": {
    "application/vnd.databricks.v1+cell": {
     "cellMetadata": {
      "byteLimit": 2048000,
      "rowLimit": 10000
     },
     "inputWidgets": {},
     "nuid": "04573f8c-4189-4ff9-9479-efa67c469efc",
     "showTitle": false,
     "title": ""
    }
   },
   "outputs": [
    {
     "output_type": "stream",
     "name": "stdout",
     "output_type": "stream",
     "text": [
      "+-----------+\n|power3(num)|\n+-----------+\n|          0|\n|          1|\n+-----------+\nonly showing top 2 rows\n\n"
     ]
    }
   ],
   "source": [
    "from pyspark.sql.functions import udf\n",
    "power3udf = udf(power3)\n",
    "from pyspark.sql.functions import col\n",
    "udfExampleDF.select(power3udf(col(\"num\"))).show(2)\n",
    "\n"
   ]
  },
  {
   "cell_type": "markdown",
   "metadata": {
    "application/vnd.databricks.v1+cell": {
     "cellMetadata": {
      "byteLimit": 2048000,
      "rowLimit": 10000
     },
     "inputWidgets": {},
     "nuid": "199a0b5a-b3e7-495d-808b-e12557da72b5",
     "showTitle": false,
     "title": ""
    }
   },
   "source": [
    "## Chapter 7 - Aggregations\n",
    "In an aggregation, you will specify a key or grouping and an aggregation function that specifies\n",
    "how you should transform one or more columns. This function must produce one result for each\n",
    "group, given multiple input values\n",
    "1.groupby\n",
    "2.window \n",
    "3.grouping set\n",
    "4.rollup\n",
    "5.cube\n",
    "\n",
    "Standard deviation and variance -  single column aggregation\n",
    "Correlation and Covariance - aggregation/comparison of 2 columns"
   ]
  },
  {
   "cell_type": "code",
   "execution_count": 0,
   "metadata": {
    "application/vnd.databricks.v1+cell": {
     "cellMetadata": {
      "byteLimit": 2048000,
      "rowLimit": 10000
     },
     "inputWidgets": {},
     "nuid": "d46d1bb7-da7a-4634-80f3-77d61bd6050f",
     "showTitle": false,
     "title": ""
    }
   },
   "outputs": [],
   "source": [
    "df = spark.read.format(\"csv\")\\\n",
    ".option(\"header\", \"true\")\\\n",
    ".option(\"inferSchema\", \"true\")\\\n",
    ".load(\"/mnt/pysparkcontainer/online-retail-dataset.csv\")\\\n",
    ".coalesce(5)\n",
    "df.cache()\n",
    "df.createOrReplaceTempView(\"dfTable\")\n"
   ]
  },
  {
   "cell_type": "code",
   "execution_count": 0,
   "metadata": {
    "application/vnd.databricks.v1+cell": {
     "cellMetadata": {
      "byteLimit": 2048000,
      "rowLimit": 10000
     },
     "inputWidgets": {},
     "nuid": "e255f074-cbdf-4d5c-8b2a-94a73b29f6bb",
     "showTitle": false,
     "title": ""
    }
   },
   "outputs": [
    {
     "output_type": "execute_result",
     "data": {
      "text/plain": [
       "541909"
      ]
     },
     "execution_count": 340,
     "metadata": {},
     "output_type": "execute_result"
    }
   ],
   "source": [
    "df.count()"
   ]
  },
  {
   "cell_type": "code",
   "execution_count": 0,
   "metadata": {
    "application/vnd.databricks.v1+cell": {
     "cellMetadata": {
      "byteLimit": 2048000,
      "rowLimit": 10000
     },
     "inputWidgets": {},
     "nuid": "f7ca5a24-c15c-4df7-8c42-a0750178073e",
     "showTitle": false,
     "title": ""
    }
   },
   "outputs": [
    {
     "output_type": "stream",
     "name": "stdout",
     "output_type": "stream",
     "text": [
      "+----------------+\n|count(StockCode)|\n+----------------+\n|          541909|\n+----------------+\n\n"
     ]
    }
   ],
   "source": [
    "from pyspark.sql.functions import count\n",
    "df.select(count(\"StockCode\")).show() "
   ]
  },
  {
   "cell_type": "code",
   "execution_count": 0,
   "metadata": {
    "application/vnd.databricks.v1+cell": {
     "cellMetadata": {
      "byteLimit": 2048000,
      "rowLimit": 10000
     },
     "inputWidgets": {},
     "nuid": "24a57694-839e-42d9-8cd0-80ac3c5688b0",
     "showTitle": false,
     "title": ""
    }
   },
   "outputs": [
    {
     "output_type": "stream",
     "name": "stdout",
     "output_type": "stream",
     "text": [
      "+-------------------------+\n|count(DISTINCT StockCode)|\n+-------------------------+\n|                     4070|\n+-------------------------+\n\n"
     ]
    }
   ],
   "source": [
    "from pyspark.sql.functions import countDistinct\n",
    "df.select(countDistinct(\"StockCode\")).show()"
   ]
  },
  {
   "cell_type": "code",
   "execution_count": 0,
   "metadata": {
    "application/vnd.databricks.v1+cell": {
     "cellMetadata": {
      "byteLimit": 2048000,
      "rowLimit": 10000
     },
     "inputWidgets": {},
     "nuid": "840b838c-f849-4b80-b9e6-8dfdb8341bb1",
     "showTitle": false,
     "title": ""
    }
   },
   "outputs": [
    {
     "output_type": "stream",
     "name": "stdout",
     "output_type": "stream",
     "text": [
      "+--------------------------------+\n|approx_count_distinct(StockCode)|\n+--------------------------------+\n|                            3364|\n+--------------------------------+\n\n"
     ]
    }
   ],
   "source": [
    "from pyspark.sql.functions import approx_count_distinct\n",
    "df.select(approx_count_distinct(\"StockCode\", 0.1)).show()"
   ]
  },
  {
   "cell_type": "code",
   "execution_count": 0,
   "metadata": {
    "application/vnd.databricks.v1+cell": {
     "cellMetadata": {
      "byteLimit": 2048000,
      "rowLimit": 10000
     },
     "inputWidgets": {},
     "nuid": "c08b16b0-92d6-4a2c-a653-bc32c1198616",
     "showTitle": false,
     "title": ""
    }
   },
   "outputs": [
    {
     "output_type": "stream",
     "name": "stdout",
     "output_type": "stream",
     "text": [
      "+----------------+---------------+\n|first(StockCode)|last(StockCode)|\n+----------------+---------------+\n|          85123A|          22138|\n+----------------+---------------+\n\n"
     ]
    }
   ],
   "source": [
    "from pyspark.sql.functions import first, last\n",
    "df.select(first(\"StockCode\"), last(\"StockCode\")).show()\n"
   ]
  },
  {
   "cell_type": "code",
   "execution_count": 0,
   "metadata": {
    "application/vnd.databricks.v1+cell": {
     "cellMetadata": {
      "byteLimit": 2048000,
      "rowLimit": 10000
     },
     "inputWidgets": {},
     "nuid": "8a3bcabc-852e-41cd-a9bf-189989e84ea1",
     "showTitle": false,
     "title": ""
    }
   },
   "outputs": [
    {
     "output_type": "stream",
     "name": "stdout",
     "output_type": "stream",
     "text": [
      "+-------------+-------------+\n|min(Quantity)|max(Quantity)|\n+-------------+-------------+\n|       -80995|        80995|\n+-------------+-------------+\n\n"
     ]
    }
   ],
   "source": [
    "from pyspark.sql.functions import min, max\n",
    "df.select(min(\"Quantity\"), max(\"Quantity\")).show()\n"
   ]
  },
  {
   "cell_type": "code",
   "execution_count": 0,
   "metadata": {
    "application/vnd.databricks.v1+cell": {
     "cellMetadata": {
      "byteLimit": 2048000,
      "rowLimit": 10000
     },
     "inputWidgets": {},
     "nuid": "25f8738d-9852-42b2-8f75-0a3cb16a7949",
     "showTitle": false,
     "title": ""
    }
   },
   "outputs": [
    {
     "output_type": "stream",
     "name": "stdout",
     "output_type": "stream",
     "text": [
      "+-------------+\n|sum(Quantity)|\n+-------------+\n|      5176450|\n+-------------+\n\n"
     ]
    }
   ],
   "source": [
    "from pyspark.sql.functions import sum\n",
    "df.select(sum(\"Quantity\")).show() # 5176450"
   ]
  },
  {
   "cell_type": "code",
   "execution_count": 0,
   "metadata": {
    "application/vnd.databricks.v1+cell": {
     "cellMetadata": {
      "byteLimit": 2048000,
      "rowLimit": 10000
     },
     "inputWidgets": {},
     "nuid": "24295543-a07e-46e3-90e3-170bdf21ac94",
     "showTitle": false,
     "title": ""
    }
   },
   "outputs": [
    {
     "output_type": "stream",
     "name": "stdout",
     "output_type": "stream",
     "text": [
      "+----------------------+\n|sum(DISTINCT Quantity)|\n+----------------------+\n|                 29310|\n+----------------------+\n\n"
     ]
    }
   ],
   "source": [
    "from pyspark.sql.functions import sumDistinct\n",
    "df.select(sumDistinct(\"Quantity\")).show()"
   ]
  },
  {
   "cell_type": "code",
   "execution_count": 0,
   "metadata": {
    "application/vnd.databricks.v1+cell": {
     "cellMetadata": {
      "byteLimit": 2048000,
      "rowLimit": 10000
     },
     "inputWidgets": {},
     "nuid": "6e962847-5783-46e7-8688-dd39b9379428",
     "showTitle": false,
     "title": ""
    }
   },
   "outputs": [
    {
     "output_type": "stream",
     "name": "stdout",
     "output_type": "stream",
     "text": [
      "+--------------------------------------+----------------+----------------+\n|(total_purchases / total_transactions)|   avg_purchases|  mean_purchases|\n+--------------------------------------+----------------+----------------+\n|                      9.55224954743324|9.55224954743324|9.55224954743324|\n+--------------------------------------+----------------+----------------+\n\n"
     ]
    }
   ],
   "source": [
    "from pyspark.sql.functions import sum, count, avg, expr\n",
    "df.select(\n",
    "count(\"Quantity\").alias(\"total_transactions\"),\n",
    "sum(\"Quantity\").alias(\"total_purchases\"),\n",
    "avg(\"Quantity\").alias(\"avg_purchases\"),\n",
    "expr(\"mean(Quantity)\").alias(\"mean_purchases\"))\\\n",
    ".selectExpr(\n",
    "\"total_purchases/total_transactions\",\n",
    "\"avg_purchases\",\n",
    "\"mean_purchases\").show()\n"
   ]
  },
  {
   "cell_type": "code",
   "execution_count": 0,
   "metadata": {
    "application/vnd.databricks.v1+cell": {
     "cellMetadata": {
      "byteLimit": 2048000,
      "rowLimit": 10000
     },
     "inputWidgets": {},
     "nuid": "b101bdc1-5278-47d8-b9ff-d6efbd84696d",
     "showTitle": false,
     "title": ""
    }
   },
   "outputs": [
    {
     "output_type": "stream",
     "name": "stdout",
     "output_type": "stream",
     "text": [
      "+-----------------+------------------+--------------------+---------------------+\n|var_pop(Quantity)|var_samp(Quantity)|stddev_pop(Quantity)|stddev_samp(Quantity)|\n+-----------------+------------------+--------------------+---------------------+\n|47559.30364660923| 47559.39140929892|  218.08095663447835|   218.08115785023455|\n+-----------------+------------------+--------------------+---------------------+\n\n"
     ]
    }
   ],
   "source": [
    "from pyspark.sql.functions import var_pop, stddev_pop\n",
    "from pyspark.sql.functions import var_samp, stddev_samp\n",
    "df.select(var_pop(\"Quantity\"), var_samp(\"Quantity\"),\n",
    "stddev_pop(\"Quantity\"), stddev_samp(\"Quantity\")).show()\n"
   ]
  },
  {
   "cell_type": "code",
   "execution_count": 0,
   "metadata": {
    "application/vnd.databricks.v1+cell": {
     "cellMetadata": {
      "byteLimit": 2048000,
      "rowLimit": 10000
     },
     "inputWidgets": {},
     "nuid": "af92d8f0-3d73-48ec-bcbd-12dc84404bbf",
     "showTitle": false,
     "title": ""
    }
   },
   "outputs": [
    {
     "output_type": "stream",
     "name": "stdout",
     "output_type": "stream",
     "text": [
      "+--------------------+------------------+\n|  skewness(Quantity)|kurtosis(Quantity)|\n+--------------------+------------------+\n|-0.26407557610528376|119768.05495530753|\n+--------------------+------------------+\n\n"
     ]
    }
   ],
   "source": [
    "from pyspark.sql.functions import skewness, kurtosis\n",
    "df.select(skewness(\"Quantity\"), kurtosis(\"Quantity\")).show()\n"
   ]
  },
  {
   "cell_type": "code",
   "execution_count": 0,
   "metadata": {
    "application/vnd.databricks.v1+cell": {
     "cellMetadata": {
      "byteLimit": 2048000,
      "rowLimit": 10000
     },
     "inputWidgets": {},
     "nuid": "ea8c6c17-6edc-4cfb-bab5-44f855f7a7b3",
     "showTitle": false,
     "title": ""
    }
   },
   "outputs": [
    {
     "output_type": "stream",
     "name": "stdout",
     "output_type": "stream",
     "text": [
      "+-------------------------+-------------------------------+------------------------------+\n|corr(InvoiceNo, Quantity)|covar_samp(InvoiceNo, Quantity)|covar_pop(InvoiceNo, Quantity)|\n+-------------------------+-------------------------------+------------------------------+\n|     4.912186085640497E-4|             1052.7280543915997|            1052.7260778754955|\n+-------------------------+-------------------------------+------------------------------+\n\n"
     ]
    }
   ],
   "source": [
    "from pyspark.sql.functions import corr, covar_pop, covar_samp\n",
    "df.select(corr(\"InvoiceNo\", \"Quantity\"), covar_samp(\"InvoiceNo\", \"Quantity\"),\n",
    "covar_pop(\"InvoiceNo\", \"Quantity\")).show()\n"
   ]
  },
  {
   "cell_type": "code",
   "execution_count": 0,
   "metadata": {
    "application/vnd.databricks.v1+cell": {
     "cellMetadata": {
      "byteLimit": 2048000,
      "rowLimit": 10000
     },
     "inputWidgets": {},
     "nuid": "745791eb-0f98-4700-9889-9fa45a2e76f3",
     "showTitle": false,
     "title": ""
    }
   },
   "outputs": [
    {
     "output_type": "stream",
     "name": "stdout",
     "output_type": "stream",
     "text": [
      "+--------------------+---------------------+\n|collect_set(Country)|collect_list(Country)|\n+--------------------+---------------------+\n|[Portugal, Italy,...| [United Kingdom, ...|\n+--------------------+---------------------+\n\n"
     ]
    }
   ],
   "source": [
    "from pyspark.sql.functions import collect_set, collect_list\n",
    "df.agg(collect_set(\"Country\"), collect_list(\"Country\")).show()\n"
   ]
  },
  {
   "cell_type": "markdown",
   "metadata": {
    "application/vnd.databricks.v1+cell": {
     "cellMetadata": {
      "byteLimit": 2048000,
      "rowLimit": 10000
     },
     "inputWidgets": {},
     "nuid": "8e99a55c-17cc-4be3-898c-7781fef6d637",
     "showTitle": false,
     "title": ""
    }
   },
   "source": [
    "#### Grouping\n",
    " First we specify the column(s) on which we would like to\n",
    "group, and then we specify the aggregation(s). The first step returns a\n",
    "RelationalGroupedDataset, and the second step returns a DataFrame.\n"
   ]
  },
  {
   "cell_type": "code",
   "execution_count": 0,
   "metadata": {
    "application/vnd.databricks.v1+cell": {
     "cellMetadata": {
      "byteLimit": 2048000,
      "rowLimit": 10000
     },
     "inputWidgets": {},
     "nuid": "e34e3100-dbe9-4279-a922-9d6d1f824838",
     "showTitle": false,
     "title": ""
    }
   },
   "outputs": [
    {
     "output_type": "stream",
     "name": "stdout",
     "output_type": "stream",
     "text": [
      "+---------+----------+-----+\n|InvoiceNo|CustomerId|count|\n+---------+----------+-----+\n|   536366|     17850|    2|\n|   536367|     13047|   12|\n|   536369|     13047|    1|\n|   536376|     15291|    2|\n|   536387|     16029|    5|\n|  C536391|     17548|    7|\n|   536392|     13705|   10|\n|   536399|     17850|    2|\n|   536403|     12791|    2|\n|   536405|     14045|    1|\n|   536415|     12838|   59|\n|   536446|     15983|   32|\n|   536463|     14849|    1|\n|   536464|     17968|   85|\n|   536500|     17377|   15|\n|   536525|     14078|   13|\n|   536529|     14237|    9|\n|   536531|     15485|   23|\n|   536532|     12433|   73|\n|   536533|     16955|    6|\n+---------+----------+-----+\nonly showing top 20 rows\n\n"
     ]
    }
   ],
   "source": [
    "df.groupBy(\"InvoiceNo\", \"CustomerId\").count().show()\n"
   ]
  },
  {
   "cell_type": "code",
   "execution_count": 0,
   "metadata": {
    "application/vnd.databricks.v1+cell": {
     "cellMetadata": {
      "byteLimit": 2048000,
      "rowLimit": 10000
     },
     "inputWidgets": {},
     "nuid": "4b1e34ac-aa1d-4db3-8c19-7ffbd1c6ca0f",
     "showTitle": false,
     "title": ""
    }
   },
   "outputs": [
    {
     "output_type": "stream",
     "name": "stdout",
     "output_type": "stream",
     "text": [
      "+---------+----+---------------+\n|InvoiceNo|quan|count(Quantity)|\n+---------+----+---------------+\n|   536370|  20|             20|\n|   536380|   1|              1|\n|   536384|  13|             13|\n|   536387|   5|              5|\n|   536397|   2|              2|\n|   536405|   1|              1|\n|   536407|   2|              2|\n|   536463|   1|              1|\n|   536500|  15|             15|\n|   536522|  54|             54|\n|   536523|  12|             12|\n|   536536|   3|              3|\n|   536538|  31|             31|\n|   536542|  16|             16|\n|   536555|   2|              2|\n|   536561|  15|             15|\n|   536573|   4|              4|\n|   536579|   2|              2|\n|   536580|   6|              6|\n|   536582|  17|             17|\n+---------+----+---------------+\nonly showing top 20 rows\n\n"
     ]
    }
   ],
   "source": [
    "from pyspark.sql.functions import count\n",
    "df.groupBy(\"InvoiceNo\").agg(\n",
    "count(\"Quantity\").alias(\"quan\"),\n",
    "expr(\"count(Quantity)\")).show()\n"
   ]
  },
  {
   "cell_type": "code",
   "execution_count": 0,
   "metadata": {
    "application/vnd.databricks.v1+cell": {
     "cellMetadata": {
      "byteLimit": 2048000,
      "rowLimit": 10000
     },
     "inputWidgets": {},
     "nuid": "075858e4-a0fb-4291-9880-bf3beb0719bc",
     "showTitle": false,
     "title": ""
    }
   },
   "outputs": [
    {
     "output_type": "stream",
     "name": "stdout",
     "output_type": "stream",
     "text": [
      "+---------+------------------+--------------------+\n|InvoiceNo|     avg(Quantity)|stddev_pop(Quantity)|\n+---------+------------------+--------------------+\n|   536370|             22.45|   8.935742834258381|\n|   536380|              24.0|                 0.0|\n|   536384|14.615384615384615|  15.750645708563392|\n|   536387|             288.0|  117.57550765359255|\n|   536397|              30.0|                18.0|\n|   536405|             128.0|                 0.0|\n|   536407|               6.0|                 0.0|\n|   536463|              12.0|                 0.0|\n|   536500|               6.8|   4.019950248448356|\n|   536522|1.5925925925925926|  1.6046058535136642|\n|   536523| 9.333333333333334|   7.487025815072067|\n|   536536|31.666666666666668|  34.373762603991366|\n|   536538| 4.709677419354839|  3.7173833008743054|\n|   536542|              24.5|    8.73212459828649|\n|   536555|               1.0|                 0.0|\n|   536561| 9.333333333333334|  2.9814239699997196|\n|   536573|              34.0|  23.748684174075834|\n|   536579|             138.0|                78.0|\n|   536580|              11.0|    2.23606797749979|\n|   536582|10.823529411764707|    6.99777522727673|\n+---------+------------------+--------------------+\nonly showing top 20 rows\n\n"
     ]
    }
   ],
   "source": [
    "df.groupBy(\"InvoiceNo\").agg(expr(\"avg(Quantity)\"),expr(\"stddev_pop(Quantity)\"))\\\n",
    ".show()"
   ]
  },
  {
   "cell_type": "markdown",
   "metadata": {
    "application/vnd.databricks.v1+cell": {
     "cellMetadata": {
      "byteLimit": 2048000,
      "rowLimit": 10000
     },
     "inputWidgets": {},
     "nuid": "5a6a09a5-43e7-45de-9d96-4dd1dbfe1a66",
     "showTitle": false,
     "title": ""
    }
   },
   "source": [
    "A group-by takes data, and every row can go only into one grouping. A window function\n",
    "calculates a return value for every input row of a table based on a group of rows, called a frame."
   ]
  },
  {
   "cell_type": "code",
   "execution_count": 0,
   "metadata": {
    "application/vnd.databricks.v1+cell": {
     "cellMetadata": {
      "byteLimit": 2048000,
      "rowLimit": 10000
     },
     "inputWidgets": {},
     "nuid": "f99242c5-37e1-4c3e-bbbc-bf03e7168050",
     "showTitle": false,
     "title": ""
    }
   },
   "outputs": [],
   "source": [
    "from pyspark.sql.functions import col, to_date\n",
    "dfWithDate = df.withColumn(\"date\", to_date(col(\"InvoiceDate\"), \"MM/d/yyyy H:mm\"))\n",
    "dfWithDate.createOrReplaceTempView(\"dfWithDate\")\n"
   ]
  },
  {
   "cell_type": "code",
   "execution_count": 0,
   "metadata": {
    "application/vnd.databricks.v1+cell": {
     "cellMetadata": {
      "byteLimit": 2048000,
      "rowLimit": 10000
     },
     "inputWidgets": {},
     "nuid": "4f722d8c-1e48-47ce-89ea-5b51a45e7bbe",
     "showTitle": false,
     "title": ""
    }
   },
   "outputs": [],
   "source": [
    "from pyspark.sql.window import Window\n",
    "from pyspark.sql.functions import desc\n",
    "windowSpec = Window\\\n",
    ".partitionBy(\"CustomerId\", \"date\")\\\n",
    ".orderBy(desc(\"Quantity\"))\\\n",
    ".rowsBetween(Window.unboundedPreceding, Window.currentRow)\n",
    "\n",
    "from pyspark.sql.functions import max\n",
    "maxPurchaseQuantity = max(col(\"Quantity\")).over(windowSpec)\n",
    "\n"
   ]
  },
  {
   "cell_type": "code",
   "execution_count": 0,
   "metadata": {
    "application/vnd.databricks.v1+cell": {
     "cellMetadata": {
      "byteLimit": 2048000,
      "rowLimit": 10000
     },
     "inputWidgets": {},
     "nuid": "d94344f4-0a84-446b-912b-72d43799d455",
     "showTitle": false,
     "title": ""
    }
   },
   "outputs": [],
   "source": [
    "from pyspark.sql.functions import dense_rank, rank\n",
    "purchaseDenseRank = dense_rank().over(windowSpec)\n",
    "purchaseRank = rank().over(windowSpec)"
   ]
  },
  {
   "cell_type": "code",
   "execution_count": 0,
   "metadata": {
    "application/vnd.databricks.v1+cell": {
     "cellMetadata": {
      "byteLimit": 2048000,
      "rowLimit": 10000
     },
     "inputWidgets": {},
     "nuid": "53670a35-a588-4f48-9081-e89f808d8ce6",
     "showTitle": false,
     "title": ""
    }
   },
   "outputs": [],
   "source": [
    "dfNoNull = dfWithDate.drop()\n",
    "dfNoNull.createOrReplaceTempView(\"dfNoNull\")\n"
   ]
  },
  {
   "cell_type": "code",
   "execution_count": 0,
   "metadata": {
    "application/vnd.databricks.v1+cell": {
     "cellMetadata": {
      "byteLimit": 2048000,
      "rowLimit": 10000
     },
     "inputWidgets": {},
     "nuid": "1cc43e4a-04bc-432a-9ca0-536530933966",
     "showTitle": false,
     "title": ""
    }
   },
   "outputs": [],
   "source": [
    "# in Python\n",
    "pivoted = dfWithDate.groupBy(\"date\").pivot(\"Country\").sum()\n"
   ]
  },
  {
   "cell_type": "markdown",
   "metadata": {
    "application/vnd.databricks.v1+cell": {
     "cellMetadata": {
      "byteLimit": 2048000,
      "rowLimit": 10000
     },
     "inputWidgets": {},
     "nuid": "9790c079-8c55-4f09-8a13-6553ef17b749",
     "showTitle": false,
     "title": ""
    }
   },
   "source": [
    "## Joins"
   ]
  },
  {
   "cell_type": "code",
   "execution_count": 0,
   "metadata": {
    "application/vnd.databricks.v1+cell": {
     "cellMetadata": {
      "byteLimit": 2048000,
      "rowLimit": 10000
     },
     "inputWidgets": {},
     "nuid": "5f862cba-e563-4460-b8b4-e93f8f0a615b",
     "showTitle": false,
     "title": ""
    }
   },
   "outputs": [],
   "source": [
    "person = spark.createDataFrame([\n",
    "(0, \"Bill Chambers\", 0, [100]),\n",
    "(1, \"Matei Zaharia\", 1, [500, 250, 100]),\n",
    "(2, \"Michael Armbrust\", 1, [250, 100])])\\\n",
    ".toDF(\"id\", \"name\", \"graduate_program\", \"spark_status\")\n",
    "graduateProgram = spark.createDataFrame([\n",
    "(0, \"Masters\", \"School of Information\", \"UC Berkeley\"),\n",
    "(2, \"Masters\", \"EECS\", \"UC Berkeley\"),\n",
    "(1, \"Ph.D.\", \"EECS\", \"UC Berkeley\")])\\\n",
    ".toDF(\"id\", \"degree\", \"department\", \"school\")\n",
    "sparkStatus = spark.createDataFrame([\n",
    "(500, \"Vice President\"),\n",
    "(250, \"PMC Member\"),\n",
    "(100, \"Contributor\")])\\\n",
    ".toDF(\"id\", \"status\")\n"
   ]
  },
  {
   "cell_type": "code",
   "execution_count": 0,
   "metadata": {
    "application/vnd.databricks.v1+cell": {
     "cellMetadata": {
      "byteLimit": 2048000,
      "rowLimit": 10000
     },
     "inputWidgets": {},
     "nuid": "a6ec41c1-5356-4681-8c9b-ddaa8c302f94",
     "showTitle": false,
     "title": ""
    }
   },
   "outputs": [],
   "source": [
    "person.createOrReplaceTempView(\"person\")\n",
    "graduateProgram.createOrReplaceTempView(\"graduateProgram\")\n",
    "sparkStatus.createOrReplaceTempView(\"sparkStatus\")"
   ]
  },
  {
   "cell_type": "code",
   "execution_count": 0,
   "metadata": {
    "application/vnd.databricks.v1+cell": {
     "cellMetadata": {
      "byteLimit": 2048000,
      "rowLimit": 10000
     },
     "inputWidgets": {},
     "nuid": "563fe565-0d58-40e1-8ed7-bfccdc1955ec",
     "showTitle": false,
     "title": ""
    }
   },
   "outputs": [
    {
     "output_type": "stream",
     "name": "stdout",
     "output_type": "stream",
     "text": [
      "+---+----------------+----------------+---------------+---+-------+--------------------+-----------+\n| id|            name|graduate_program|   spark_status| id| degree|          department|     school|\n+---+----------------+----------------+---------------+---+-------+--------------------+-----------+\n|  0|   Bill Chambers|               0|          [100]|  0|Masters|School of Informa...|UC Berkeley|\n|  1|   Matei Zaharia|               1|[500, 250, 100]|  1|  Ph.D.|                EECS|UC Berkeley|\n|  2|Michael Armbrust|               1|     [250, 100]|  1|  Ph.D.|                EECS|UC Berkeley|\n+---+----------------+----------------+---------------+---+-------+--------------------+-----------+\n\n"
     ]
    }
   ],
   "source": [
    "joinExpression = person[\"graduate_program\"] == graduateProgram['id']\n",
    "person.join(graduateProgram, joinExpression).show()\n"
   ]
  },
  {
   "cell_type": "code",
   "execution_count": 0,
   "metadata": {
    "application/vnd.databricks.v1+cell": {
     "cellMetadata": {
      "byteLimit": 2048000,
      "rowLimit": 10000
     },
     "inputWidgets": {},
     "nuid": "70b8b02e-146b-4c37-9729-1323c53b9c59",
     "showTitle": false,
     "title": ""
    }
   },
   "outputs": [
    {
     "output_type": "stream",
     "name": "stdout",
     "output_type": "stream",
     "text": [
      "+----+----------------+----------------+---------------+---+-------+--------------------+-----------+\n|  id|            name|graduate_program|   spark_status| id| degree|          department|     school|\n+----+----------------+----------------+---------------+---+-------+--------------------+-----------+\n|   0|   Bill Chambers|               0|          [100]|  0|Masters|School of Informa...|UC Berkeley|\n|   1|   Matei Zaharia|               1|[500, 250, 100]|  1|  Ph.D.|                EECS|UC Berkeley|\n|   2|Michael Armbrust|               1|     [250, 100]|  1|  Ph.D.|                EECS|UC Berkeley|\n|NULL|            NULL|            NULL|           NULL|  2|Masters|                EECS|UC Berkeley|\n+----+----------------+----------------+---------------+---+-------+--------------------+-----------+\n\n"
     ]
    }
   ],
   "source": [
    "joinType = \"outer\"\n",
    "person.join(graduateProgram, joinExpression, joinType).show()"
   ]
  },
  {
   "cell_type": "code",
   "execution_count": 0,
   "metadata": {
    "application/vnd.databricks.v1+cell": {
     "cellMetadata": {
      "byteLimit": 2048000,
      "rowLimit": 10000
     },
     "inputWidgets": {},
     "nuid": "d53b740a-8767-4d8b-a46a-5ddd81c39bd7",
     "showTitle": false,
     "title": ""
    }
   },
   "outputs": [
    {
     "output_type": "stream",
     "name": "stdout",
     "output_type": "stream",
     "text": [
      "+---+-------+--------------------+-----------+----+----------------+----------------+---------------+\n| id| degree|          department|     school|  id|            name|graduate_program|   spark_status|\n+---+-------+--------------------+-----------+----+----------------+----------------+---------------+\n|  0|Masters|School of Informa...|UC Berkeley|   0|   Bill Chambers|               0|          [100]|\n|  2|Masters|                EECS|UC Berkeley|NULL|            NULL|            NULL|           NULL|\n|  1|  Ph.D.|                EECS|UC Berkeley|   2|Michael Armbrust|               1|     [250, 100]|\n|  1|  Ph.D.|                EECS|UC Berkeley|   1|   Matei Zaharia|               1|[500, 250, 100]|\n+---+-------+--------------------+-----------+----+----------------+----------------+---------------+\n\n"
     ]
    }
   ],
   "source": [
    "joinType = \"left_outer\"\n",
    "graduateProgram.join(person, joinExpression, joinType).show()"
   ]
  },
  {
   "cell_type": "code",
   "execution_count": 0,
   "metadata": {
    "application/vnd.databricks.v1+cell": {
     "cellMetadata": {
      "byteLimit": 2048000,
      "rowLimit": 10000
     },
     "inputWidgets": {},
     "nuid": "81d90d90-748f-45cb-8bca-61ba99df69d4",
     "showTitle": false,
     "title": ""
    }
   },
   "outputs": [
    {
     "output_type": "stream",
     "name": "stdout",
     "output_type": "stream",
     "text": [
      "+----+----------------+----------------+---------------+---+-------+--------------------+-----------+\n|  id|            name|graduate_program|   spark_status| id| degree|          department|     school|\n+----+----------------+----------------+---------------+---+-------+--------------------+-----------+\n|   0|   Bill Chambers|               0|          [100]|  0|Masters|School of Informa...|UC Berkeley|\n|NULL|            NULL|            NULL|           NULL|  2|Masters|                EECS|UC Berkeley|\n|   2|Michael Armbrust|               1|     [250, 100]|  1|  Ph.D.|                EECS|UC Berkeley|\n|   1|   Matei Zaharia|               1|[500, 250, 100]|  1|  Ph.D.|                EECS|UC Berkeley|\n+----+----------------+----------------+---------------+---+-------+--------------------+-----------+\n\n"
     ]
    }
   ],
   "source": [
    "joinType = \"right_outer\"\n",
    "person.join(graduateProgram, joinExpression, joinType).show()\n"
   ]
  },
  {
   "cell_type": "code",
   "execution_count": 0,
   "metadata": {
    "application/vnd.databricks.v1+cell": {
     "cellMetadata": {
      "byteLimit": 2048000,
      "rowLimit": 10000
     },
     "inputWidgets": {},
     "nuid": "0fea2e08-dd16-4991-8bb2-e482bad77568",
     "showTitle": false,
     "title": ""
    }
   },
   "outputs": [
    {
     "output_type": "stream",
     "name": "stdout",
     "output_type": "stream",
     "text": [
      "+---+-------+--------------------+-----------+\n| id| degree|          department|     school|\n+---+-------+--------------------+-----------+\n|  0|Masters|School of Informa...|UC Berkeley|\n|  1|  Ph.D.|                EECS|UC Berkeley|\n+---+-------+--------------------+-----------+\n\n"
     ]
    }
   ],
   "source": [
    "joinType = \"left_semi\"\n",
    "graduateProgram.join(person, joinExpression, joinType).show()"
   ]
  },
  {
   "cell_type": "code",
   "execution_count": 0,
   "metadata": {
    "application/vnd.databricks.v1+cell": {
     "cellMetadata": {
      "byteLimit": 2048000,
      "rowLimit": 10000
     },
     "inputWidgets": {},
     "nuid": "23b7dd3a-0b29-42b4-96da-47c3594f7a1a",
     "showTitle": false,
     "title": ""
    }
   },
   "outputs": [
    {
     "output_type": "stream",
     "name": "stdout",
     "output_type": "stream",
     "text": [
      "+---+-------+--------------------+-----------------+\n| id| degree|          department|           school|\n+---+-------+--------------------+-----------------+\n|  0|Masters|School of Informa...|      UC Berkeley|\n|  1|  Ph.D.|                EECS|      UC Berkeley|\n|  0|Masters|      Duplicated Row|Duplicated School|\n+---+-------+--------------------+-----------------+\n\n"
     ]
    }
   ],
   "source": [
    "gradProgram2 = graduateProgram.union(spark.createDataFrame([\n",
    "(0, \"Masters\", \"Duplicated Row\", \"Duplicated School\")]))\n",
    "gradProgram2.createOrReplaceTempView(\"gradProgram2\")\n",
    "gradProgram2.join(person, joinExpression, joinType).show()"
   ]
  },
  {
   "cell_type": "code",
   "execution_count": 0,
   "metadata": {
    "application/vnd.databricks.v1+cell": {
     "cellMetadata": {
      "byteLimit": 2048000,
      "rowLimit": 10000
     },
     "inputWidgets": {},
     "nuid": "64df41a1-0988-4518-b419-8f35caef55b0",
     "showTitle": false,
     "title": ""
    }
   },
   "outputs": [
    {
     "output_type": "stream",
     "name": "stdout",
     "output_type": "stream",
     "text": [
      "+---+-------+----------+-----------+\n| id| degree|department|     school|\n+---+-------+----------+-----------+\n|  2|Masters|      EECS|UC Berkeley|\n+---+-------+----------+-----------+\n\n"
     ]
    }
   ],
   "source": [
    "joinType = \"left_anti\"\n",
    "graduateProgram.join(person, joinExpression, joinType).show()\n"
   ]
  },
  {
   "cell_type": "code",
   "execution_count": 0,
   "metadata": {
    "application/vnd.databricks.v1+cell": {
     "cellMetadata": {
      "byteLimit": 2048000,
      "rowLimit": 10000
     },
     "inputWidgets": {},
     "nuid": "dda8fd09-9287-41d4-b8d7-ad43e59fee2e",
     "showTitle": false,
     "title": ""
    }
   },
   "outputs": [
    {
     "output_type": "stream",
     "name": "stdout",
     "output_type": "stream",
     "text": [
      "+---+-------+--------------------+-----------+---+----------------+----------------+---------------+\n| id| degree|          department|     school| id|            name|graduate_program|   spark_status|\n+---+-------+--------------------+-----------+---+----------------+----------------+---------------+\n|  0|Masters|School of Informa...|UC Berkeley|  0|   Bill Chambers|               0|          [100]|\n|  1|  Ph.D.|                EECS|UC Berkeley|  1|   Matei Zaharia|               1|[500, 250, 100]|\n|  1|  Ph.D.|                EECS|UC Berkeley|  2|Michael Armbrust|               1|     [250, 100]|\n+---+-------+--------------------+-----------+---+----------------+----------------+---------------+\n\n"
     ]
    }
   ],
   "source": [
    "joinType = \"cross\"\n",
    "graduateProgram.join(person, joinExpression, joinType).show()"
   ]
  },
  {
   "cell_type": "code",
   "execution_count": 0,
   "metadata": {
    "application/vnd.databricks.v1+cell": {
     "cellMetadata": {
      "byteLimit": 2048000,
      "rowLimit": 10000
     },
     "inputWidgets": {},
     "nuid": "7476f890-b62a-4035-82fd-6550acfc61a9",
     "showTitle": false,
     "title": ""
    }
   },
   "outputs": [
    {
     "output_type": "stream",
     "name": "stdout",
     "output_type": "stream",
     "text": [
      "+--------+----------------+----------------+---------------+---+--------------+\n|personId|            name|graduate_program|   spark_status| id|        status|\n+--------+----------------+----------------+---------------+---+--------------+\n|       0|   Bill Chambers|               0|          [100]|100|   Contributor|\n|       1|   Matei Zaharia|               1|[500, 250, 100]|500|Vice President|\n|       1|   Matei Zaharia|               1|[500, 250, 100]|250|    PMC Member|\n|       1|   Matei Zaharia|               1|[500, 250, 100]|100|   Contributor|\n|       2|Michael Armbrust|               1|     [250, 100]|250|    PMC Member|\n|       2|Michael Armbrust|               1|     [250, 100]|100|   Contributor|\n+--------+----------------+----------------+---------------+---+--------------+\n\n"
     ]
    }
   ],
   "source": [
    "from pyspark.sql.functions import expr\n",
    "person.withColumnRenamed(\"id\", \"personId\")\\\n",
    ".join(sparkStatus, expr(\"array_contains(spark_status, id)\")).show()"
   ]
  },
  {
   "cell_type": "markdown",
   "metadata": {
    "application/vnd.databricks.v1+cell": {
     "cellMetadata": {
      "byteLimit": 2048000,
      "rowLimit": 10000
     },
     "inputWidgets": {},
     "nuid": "5aaae6a0-9ea3-453f-8454-97d4a43edea6",
     "showTitle": false,
     "title": ""
    }
   },
   "source": [
    "## Chapter 10"
   ]
  },
  {
   "cell_type": "code",
   "execution_count": 0,
   "metadata": {
    "application/vnd.databricks.v1+cell": {
     "cellMetadata": {
      "byteLimit": 2048000,
      "rowLimit": 10000
     },
     "inputWidgets": {},
     "nuid": "5176b2e8-46ae-4e9f-b74f-e69987b04cfb",
     "showTitle": false,
     "title": ""
    }
   },
   "outputs": [
    {
     "output_type": "stream",
     "name": "stdout",
     "output_type": "stream",
     "text": [
      "+-------+\n|(1 + 1)|\n+-------+\n|      2|\n+-------+\n\n"
     ]
    }
   ],
   "source": [
    "spark.sql(\"SELECT 1 + 1\").show()\n"
   ]
  },
  {
   "cell_type": "code",
   "execution_count": 0,
   "metadata": {
    "application/vnd.databricks.v1+cell": {
     "cellMetadata": {
      "byteLimit": 2048000,
      "implicitDf": true,
      "rowLimit": 10000
     },
     "inputWidgets": {},
     "nuid": "ad596b84-431e-4f84-80a6-5018b1afe87b",
     "showTitle": false,
     "title": ""
    }
   },
   "outputs": [
    {
     "output_type": "display_data",
     "data": {
      "text/html": [
       "<style scoped>\n",
       "  .ansiout {\n",
       "    display: block;\n",
       "    unicode-bidi: embed;\n",
       "    white-space: pre-wrap;\n",
       "    word-wrap: break-word;\n",
       "    word-break: break-all;\n",
       "    font-family: \"Menlo\", \"Monaco\", \"Consolas\", \"Ubuntu Mono\", \"Source Code Pro\", monospace;\n",
       "    font-size: 13px;\n",
       "    color: #555;\n",
       "    margin-left: 4px;\n",
       "    line-height: 19px;\n",
       "  }\n",
       "</style>\n",
       "com.databricks.backend.common.rpc.SparkDriverExceptions$SQLExecutionException: org.apache.spark.sql.catalyst.analysis.TableAlreadyExistsException: [TABLE_OR_VIEW_ALREADY_EXISTS] Cannot create table or view `spark_catalog`.`default`.`flights` because it already exists.\n",
       "Choose a different name, drop or replace the existing object, add the IF NOT EXISTS clause to tolerate pre-existing objects, or add the OR REFRESH clause to refresh the existing streaming table.\n",
       "\tat org.apache.spark.sql.errors.QueryCompilationErrors$.tableAlreadyExistsError(QueryCompilationErrors.scala:2729)\n",
       "\tat org.apache.spark.sql.execution.command.CreateDataSourceTableCommand.run(createDataSourceTables.scala:59)\n",
       "\tat org.apache.spark.sql.execution.command.ExecutedCommandExec.$anonfun$sideEffectResult$1(commands.scala:82)\n",
       "\tat com.databricks.spark.util.FrameProfiler$.record(FrameProfiler.scala:94)\n",
       "\tat org.apache.spark.sql.execution.command.ExecutedCommandExec.sideEffectResult$lzycompute(commands.scala:80)\n",
       "\tat org.apache.spark.sql.execution.command.ExecutedCommandExec.sideEffectResult(commands.scala:79)\n",
       "\tat org.apache.spark.sql.execution.command.ExecutedCommandExec.executeCollect(commands.scala:91)\n",
       "\tat org.apache.spark.sql.execution.QueryExecution$$anonfun$$nestedInanonfun$eagerlyExecuteCommands$1$1.$anonfun$applyOrElse$3(QueryExecution.scala:286)\n",
       "\tat org.apache.spark.sql.catalyst.QueryPlanningTracker$.withTracker(QueryPlanningTracker.scala:166)\n",
       "\tat org.apache.spark.sql.execution.QueryExecution$$anonfun$$nestedInanonfun$eagerlyExecuteCommands$1$1.$anonfun$applyOrElse$2(QueryExecution.scala:286)\n",
       "\tat org.apache.spark.sql.execution.SQLExecution$.$anonfun$withCustomExecutionEnv$9(SQLExecution.scala:298)\n",
       "\tat org.apache.spark.sql.execution.SQLExecution$.withSQLConfPropagated(SQLExecution.scala:528)\n",
       "\tat org.apache.spark.sql.execution.SQLExecution$.$anonfun$withCustomExecutionEnv$1(SQLExecution.scala:225)\n",
       "\tat org.apache.spark.sql.SparkSession.withActive(SparkSession.scala:1148)\n",
       "\tat org.apache.spark.sql.execution.SQLExecution$.withCustomExecutionEnv(SQLExecution.scala:154)\n",
       "\tat org.apache.spark.sql.execution.SQLExecution$.withNewExecutionId(SQLExecution.scala:477)\n",
       "\tat org.apache.spark.sql.execution.QueryExecution$$anonfun$$nestedInanonfun$eagerlyExecuteCommands$1$1.$anonfun$applyOrElse$1(QueryExecution.scala:285)\n",
       "\tat org.apache.spark.sql.execution.QueryExecution.org$apache$spark$sql$execution$QueryExecution$$withMVTagsIfNecessary(QueryExecution.scala:259)\n",
       "\tat org.apache.spark.sql.execution.QueryExecution$$anonfun$$nestedInanonfun$eagerlyExecuteCommands$1$1.applyOrElse(QueryExecution.scala:280)\n",
       "\tat org.apache.spark.sql.execution.QueryExecution$$anonfun$$nestedInanonfun$eagerlyExecuteCommands$1$1.applyOrElse(QueryExecution.scala:265)\n",
       "\tat org.apache.spark.sql.catalyst.trees.TreeNode.$anonfun$transformDownWithPruning$1(TreeNode.scala:465)\n",
       "\tat org.apache.spark.sql.catalyst.trees.CurrentOrigin$.withOrigin(origin.scala:69)\n",
       "\tat org.apache.spark.sql.catalyst.trees.TreeNode.transformDownWithPruning(TreeNode.scala:465)\n",
       "\tat org.apache.spark.sql.catalyst.plans.logical.LogicalPlan.org$apache$spark$sql$catalyst$plans$logical$AnalysisHelper$$super$transformDownWithPruning(LogicalPlan.scala:39)\n",
       "\tat org.apache.spark.sql.catalyst.plans.logical.AnalysisHelper.transformDownWithPruning(AnalysisHelper.scala:339)\n",
       "\tat org.apache.spark.sql.catalyst.plans.logical.AnalysisHelper.transformDownWithPruning$(AnalysisHelper.scala:335)\n",
       "\tat org.apache.spark.sql.catalyst.plans.logical.LogicalPlan.transformDownWithPruning(LogicalPlan.scala:39)\n",
       "\tat org.apache.spark.sql.catalyst.plans.logical.LogicalPlan.transformDownWithPruning(LogicalPlan.scala:39)\n",
       "\tat org.apache.spark.sql.catalyst.trees.TreeNode.transformDown(TreeNode.scala:441)\n",
       "\tat org.apache.spark.sql.execution.QueryExecution.$anonfun$eagerlyExecuteCommands$1(QueryExecution.scala:265)\n",
       "\tat org.apache.spark.sql.catalyst.plans.logical.AnalysisHelper$.allowInvokingTransformsInAnalyzer(AnalysisHelper.scala:395)\n",
       "\tat org.apache.spark.sql.execution.QueryExecution.eagerlyExecuteCommands(QueryExecution.scala:265)\n",
       "\tat org.apache.spark.sql.execution.QueryExecution.commandExecuted$lzycompute(QueryExecution.scala:217)\n",
       "\tat org.apache.spark.sql.execution.QueryExecution.commandExecuted(QueryExecution.scala:214)\n",
       "\tat org.apache.spark.sql.Dataset.<init>(Dataset.scala:261)\n",
       "\tat org.apache.spark.sql.Dataset$.$anonfun$ofRows$2(Dataset.scala:122)\n",
       "\tat org.apache.spark.sql.SparkSession.withActive(SparkSession.scala:1148)\n",
       "\tat org.apache.spark.sql.SparkSession.$anonfun$withActiveAndFrameProfiler$1(SparkSession.scala:1155)\n",
       "\tat com.databricks.spark.util.FrameProfiler$.record(FrameProfiler.scala:94)\n",
       "\tat org.apache.spark.sql.SparkSession.withActiveAndFrameProfiler(SparkSession.scala:1155)\n",
       "\tat org.apache.spark.sql.Dataset$.ofRows(Dataset.scala:112)\n",
       "\tat org.apache.spark.sql.SparkSession.$anonfun$sql$5(SparkSession.scala:928)\n",
       "\tat org.apache.spark.sql.SparkSession.withActive(SparkSession.scala:1148)\n",
       "\tat org.apache.spark.sql.SparkSession.sql(SparkSession.scala:917)\n",
       "\tat org.apache.spark.sql.SparkSession.$anonfun$sql$9(SparkSession.scala:951)\n",
       "\tat org.apache.spark.sql.SparkSession.withActive(SparkSession.scala:1148)\n",
       "\tat org.apache.spark.sql.SparkSession.sql(SparkSession.scala:951)\n",
       "\tat org.apache.spark.sql.SparkSession.sql(SparkSession.scala:984)\n",
       "\tat org.apache.spark.sql.SQLContext.sql(SQLContext.scala:695)\n",
       "\tat com.databricks.backend.daemon.driver.DriverLocal$DbClassicStrategy.executeSQLQuery(DriverLocal.scala:240)\n",
       "\tat com.databricks.backend.daemon.driver.DriverLocal.executeSQLSubCommand(DriverLocal.scala:322)\n",
       "\tat com.databricks.backend.daemon.driver.DriverLocal.$anonfun$executeSql$1(DriverLocal.scala:341)\n",
       "\tat scala.collection.immutable.List.map(List.scala:293)\n",
       "\tat com.databricks.backend.daemon.driver.DriverLocal.executeSql(DriverLocal.scala:336)\n",
       "\tat com.databricks.backend.daemon.driver.JupyterDriverLocal.repl(JupyterDriverLocal.scala:709)\n",
       "\tat com.databricks.backend.daemon.driver.DriverLocal.$anonfun$execute$34(DriverLocal.scala:1015)\n",
       "\tat com.databricks.unity.EmptyHandle$.runWith(UCSHandle.scala:128)\n",
       "\tat com.databricks.backend.daemon.driver.DriverLocal.$anonfun$execute$23(DriverLocal.scala:1006)\n",
       "\tat com.databricks.logging.UsageLogging.$anonfun$withAttributionContext$1(UsageLogging.scala:426)\n",
       "\tat scala.util.DynamicVariable.withValue(DynamicVariable.scala:62)\n",
       "\tat com.databricks.logging.AttributionContext$.withValue(AttributionContext.scala:196)\n",
       "\tat com.databricks.logging.UsageLogging.withAttributionContext(UsageLogging.scala:424)\n",
       "\tat com.databricks.logging.UsageLogging.withAttributionContext$(UsageLogging.scala:418)\n",
       "\tat com.databricks.backend.daemon.driver.DriverLocal.withAttributionContext(DriverLocal.scala:72)\n",
       "\tat com.databricks.logging.UsageLogging.withAttributionTags(UsageLogging.scala:470)\n",
       "\tat com.databricks.logging.UsageLogging.withAttributionTags$(UsageLogging.scala:455)\n",
       "\tat com.databricks.backend.daemon.driver.DriverLocal.withAttributionTags(DriverLocal.scala:72)\n",
       "\tat com.databricks.backend.daemon.driver.DriverLocal.execute(DriverLocal.scala:961)\n",
       "\tat com.databricks.backend.daemon.driver.DriverWrapper.$anonfun$tryExecutingCommand$2(DriverWrapper.scala:859)\n",
       "\tat scala.util.Try$.apply(Try.scala:213)\n",
       "\tat com.databricks.backend.daemon.driver.DriverWrapper.$anonfun$tryExecutingCommand$1(DriverWrapper.scala:851)\n",
       "\tat com.databricks.backend.daemon.driver.DriverWrapper.$anonfun$tryExecutingCommand$3(DriverWrapper.scala:891)\n",
       "\tat com.databricks.logging.UsageLogging.executeThunkAndCaptureResultTags$1(UsageLogging.scala:667)\n",
       "\tat com.databricks.logging.UsageLogging.$anonfun$recordOperationWithResultTags$4(UsageLogging.scala:685)\n",
       "\tat com.databricks.logging.UsageLogging.$anonfun$withAttributionContext$1(UsageLogging.scala:426)\n",
       "\tat scala.util.DynamicVariable.withValue(DynamicVariable.scala:62)\n",
       "\tat com.databricks.logging.AttributionContext$.withValue(AttributionContext.scala:196)\n",
       "\tat com.databricks.logging.UsageLogging.withAttributionContext(UsageLogging.scala:424)\n",
       "\tat com.databricks.logging.UsageLogging.withAttributionContext$(UsageLogging.scala:418)\n",
       "\tat com.databricks.backend.daemon.driver.DriverWrapper.withAttributionContext(DriverWrapper.scala:76)\n",
       "\tat com.databricks.logging.UsageLogging.withAttributionTags(UsageLogging.scala:470)\n",
       "\tat com.databricks.logging.UsageLogging.withAttributionTags$(UsageLogging.scala:455)\n",
       "\tat com.databricks.backend.daemon.driver.DriverWrapper.withAttributionTags(DriverWrapper.scala:76)\n",
       "\tat com.databricks.logging.UsageLogging.recordOperationWithResultTags(UsageLogging.scala:662)\n",
       "\tat com.databricks.logging.UsageLogging.recordOperationWithResultTags$(UsageLogging.scala:580)\n",
       "\tat com.databricks.backend.daemon.driver.DriverWrapper.recordOperationWithResultTags(DriverWrapper.scala:76)\n",
       "\tat com.databricks.backend.daemon.driver.DriverWrapper.tryExecutingCommand(DriverWrapper.scala:891)\n",
       "\tat com.databricks.backend.daemon.driver.DriverWrapper.executeCommandAndGetError(DriverWrapper.scala:702)\n",
       "\tat com.databricks.backend.daemon.driver.DriverWrapper.executeCommand(DriverWrapper.scala:803)\n",
       "\tat com.databricks.backend.daemon.driver.DriverWrapper.$anonfun$runInnerLoop$1(DriverWrapper.scala:577)\n",
       "\tat scala.runtime.java8.JFunction0$mcV$sp.apply(JFunction0$mcV$sp.java:23)\n",
       "\tat com.databricks.logging.UsageLogging.$anonfun$withAttributionContext$1(UsageLogging.scala:426)\n",
       "\tat scala.util.DynamicVariable.withValue(DynamicVariable.scala:62)\n",
       "\tat com.databricks.logging.AttributionContext$.withValue(AttributionContext.scala:196)\n",
       "\tat com.databricks.logging.UsageLogging.withAttributionContext(UsageLogging.scala:424)\n",
       "\tat com.databricks.logging.UsageLogging.withAttributionContext$(UsageLogging.scala:418)\n",
       "\tat com.databricks.backend.daemon.driver.DriverWrapper.withAttributionContext(DriverWrapper.scala:76)\n",
       "\tat com.databricks.backend.daemon.driver.DriverWrapper.runInnerLoop(DriverWrapper.scala:577)\n",
       "\tat com.databricks.backend.daemon.driver.DriverWrapper.runInner(DriverWrapper.scala:487)\n",
       "\tat com.databricks.backend.daemon.driver.DriverWrapper.run(DriverWrapper.scala:296)\n",
       "\tat java.lang.Thread.run(Thread.java:750)\n",
       "\n",
       "\tat com.databricks.backend.daemon.driver.DriverLocal.executeSql(DriverLocal.scala:379)\n",
       "\tat com.databricks.backend.daemon.driver.JupyterDriverLocal.repl(JupyterDriverLocal.scala:709)\n",
       "\tat com.databricks.backend.daemon.driver.DriverLocal.$anonfun$execute$34(DriverLocal.scala:1015)\n",
       "\tat com.databricks.unity.EmptyHandle$.runWith(UCSHandle.scala:128)\n",
       "\tat com.databricks.backend.daemon.driver.DriverLocal.$anonfun$execute$23(DriverLocal.scala:1006)\n",
       "\tat com.databricks.logging.UsageLogging.$anonfun$withAttributionContext$1(UsageLogging.scala:426)\n",
       "\tat scala.util.DynamicVariable.withValue(DynamicVariable.scala:62)\n",
       "\tat com.databricks.logging.AttributionContext$.withValue(AttributionContext.scala:196)\n",
       "\tat com.databricks.logging.UsageLogging.withAttributionContext(UsageLogging.scala:424)\n",
       "\tat com.databricks.logging.UsageLogging.withAttributionContext$(UsageLogging.scala:418)\n",
       "\tat com.databricks.backend.daemon.driver.DriverLocal.withAttributionContext(DriverLocal.scala:72)\n",
       "\tat com.databricks.logging.UsageLogging.withAttributionTags(UsageLogging.scala:470)\n",
       "\tat com.databricks.logging.UsageLogging.withAttributionTags$(UsageLogging.scala:455)\n",
       "\tat com.databricks.backend.daemon.driver.DriverLocal.withAttributionTags(DriverLocal.scala:72)\n",
       "\tat com.databricks.backend.daemon.driver.DriverLocal.execute(DriverLocal.scala:961)\n",
       "\tat com.databricks.backend.daemon.driver.DriverWrapper.$anonfun$tryExecutingCommand$2(DriverWrapper.scala:859)\n",
       "\tat scala.util.Try$.apply(Try.scala:213)\n",
       "\tat com.databricks.backend.daemon.driver.DriverWrapper.$anonfun$tryExecutingCommand$1(DriverWrapper.scala:851)\n",
       "\tat com.databricks.backend.daemon.driver.DriverWrapper.$anonfun$tryExecutingCommand$3(DriverWrapper.scala:891)\n",
       "\tat com.databricks.logging.UsageLogging.executeThunkAndCaptureResultTags$1(UsageLogging.scala:667)\n",
       "\tat com.databricks.logging.UsageLogging.$anonfun$recordOperationWithResultTags$4(UsageLogging.scala:685)\n",
       "\tat com.databricks.logging.UsageLogging.$anonfun$withAttributionContext$1(UsageLogging.scala:426)\n",
       "\tat scala.util.DynamicVariable.withValue(DynamicVariable.scala:62)\n",
       "\tat com.databricks.logging.AttributionContext$.withValue(AttributionContext.scala:196)\n",
       "\tat com.databricks.logging.UsageLogging.withAttributionContext(UsageLogging.scala:424)\n",
       "\tat com.databricks.logging.UsageLogging.withAttributionContext$(UsageLogging.scala:418)\n",
       "\tat com.databricks.backend.daemon.driver.DriverWrapper.withAttributionContext(DriverWrapper.scala:76)\n",
       "\tat com.databricks.logging.UsageLogging.withAttributionTags(UsageLogging.scala:470)\n",
       "\tat com.databricks.logging.UsageLogging.withAttributionTags$(UsageLogging.scala:455)\n",
       "\tat com.databricks.backend.daemon.driver.DriverWrapper.withAttributionTags(DriverWrapper.scala:76)\n",
       "\tat com.databricks.logging.UsageLogging.recordOperationWithResultTags(UsageLogging.scala:662)\n",
       "\tat com.databricks.logging.UsageLogging.recordOperationWithResultTags$(UsageLogging.scala:580)\n",
       "\tat com.databricks.backend.daemon.driver.DriverWrapper.recordOperationWithResultTags(DriverWrapper.scala:76)\n",
       "\tat com.databricks.backend.daemon.driver.DriverWrapper.tryExecutingCommand(DriverWrapper.scala:891)\n",
       "\tat com.databricks.backend.daemon.driver.DriverWrapper.executeCommandAndGetError(DriverWrapper.scala:702)\n",
       "\tat com.databricks.backend.daemon.driver.DriverWrapper.executeCommand(DriverWrapper.scala:803)\n",
       "\tat com.databricks.backend.daemon.driver.DriverWrapper.$anonfun$runInnerLoop$1(DriverWrapper.scala:577)\n",
       "\tat scala.runtime.java8.JFunction0$mcV$sp.apply(JFunction0$mcV$sp.java:23)\n",
       "\tat com.databricks.logging.UsageLogging.$anonfun$withAttributionContext$1(UsageLogging.scala:426)\n",
       "\tat scala.util.DynamicVariable.withValue(DynamicVariable.scala:62)\n",
       "\tat com.databricks.logging.AttributionContext$.withValue(AttributionContext.scala:196)\n",
       "\tat com.databricks.logging.UsageLogging.withAttributionContext(UsageLogging.scala:424)\n",
       "\tat com.databricks.logging.UsageLogging.withAttributionContext$(UsageLogging.scala:418)\n",
       "\tat com.databricks.backend.daemon.driver.DriverWrapper.withAttributionContext(DriverWrapper.scala:76)\n",
       "\tat com.databricks.backend.daemon.driver.DriverWrapper.runInnerLoop(DriverWrapper.scala:577)\n",
       "\tat com.databricks.backend.daemon.driver.DriverWrapper.runInner(DriverWrapper.scala:487)\n",
       "\tat com.databricks.backend.daemon.driver.DriverWrapper.run(DriverWrapper.scala:296)\n",
       "\tat java.lang.Thread.run(Thread.java:750)"
      ]
     },
     "metadata": {
      "application/vnd.databricks.v1+output": {
       "arguments": {},
       "data": "com.databricks.backend.common.rpc.SparkDriverExceptions$SQLExecutionException: org.apache.spark.sql.catalyst.analysis.TableAlreadyExistsException: [TABLE_OR_VIEW_ALREADY_EXISTS] Cannot create table or view `spark_catalog`.`default`.`flights` because it already exists.\nChoose a different name, drop or replace the existing object, add the IF NOT EXISTS clause to tolerate pre-existing objects, or add the OR REFRESH clause to refresh the existing streaming table.\n\tat org.apache.spark.sql.errors.QueryCompilationErrors$.tableAlreadyExistsError(QueryCompilationErrors.scala:2729)\n\tat org.apache.spark.sql.execution.command.CreateDataSourceTableCommand.run(createDataSourceTables.scala:59)\n\tat org.apache.spark.sql.execution.command.ExecutedCommandExec.$anonfun$sideEffectResult$1(commands.scala:82)\n\tat com.databricks.spark.util.FrameProfiler$.record(FrameProfiler.scala:94)\n\tat org.apache.spark.sql.execution.command.ExecutedCommandExec.sideEffectResult$lzycompute(commands.scala:80)\n\tat org.apache.spark.sql.execution.command.ExecutedCommandExec.sideEffectResult(commands.scala:79)\n\tat org.apache.spark.sql.execution.command.ExecutedCommandExec.executeCollect(commands.scala:91)\n\tat org.apache.spark.sql.execution.QueryExecution$$anonfun$$nestedInanonfun$eagerlyExecuteCommands$1$1.$anonfun$applyOrElse$3(QueryExecution.scala:286)\n\tat org.apache.spark.sql.catalyst.QueryPlanningTracker$.withTracker(QueryPlanningTracker.scala:166)\n\tat org.apache.spark.sql.execution.QueryExecution$$anonfun$$nestedInanonfun$eagerlyExecuteCommands$1$1.$anonfun$applyOrElse$2(QueryExecution.scala:286)\n\tat org.apache.spark.sql.execution.SQLExecution$.$anonfun$withCustomExecutionEnv$9(SQLExecution.scala:298)\n\tat org.apache.spark.sql.execution.SQLExecution$.withSQLConfPropagated(SQLExecution.scala:528)\n\tat org.apache.spark.sql.execution.SQLExecution$.$anonfun$withCustomExecutionEnv$1(SQLExecution.scala:225)\n\tat org.apache.spark.sql.SparkSession.withActive(SparkSession.scala:1148)\n\tat org.apache.spark.sql.execution.SQLExecution$.withCustomExecutionEnv(SQLExecution.scala:154)\n\tat org.apache.spark.sql.execution.SQLExecution$.withNewExecutionId(SQLExecution.scala:477)\n\tat org.apache.spark.sql.execution.QueryExecution$$anonfun$$nestedInanonfun$eagerlyExecuteCommands$1$1.$anonfun$applyOrElse$1(QueryExecution.scala:285)\n\tat org.apache.spark.sql.execution.QueryExecution.org$apache$spark$sql$execution$QueryExecution$$withMVTagsIfNecessary(QueryExecution.scala:259)\n\tat org.apache.spark.sql.execution.QueryExecution$$anonfun$$nestedInanonfun$eagerlyExecuteCommands$1$1.applyOrElse(QueryExecution.scala:280)\n\tat org.apache.spark.sql.execution.QueryExecution$$anonfun$$nestedInanonfun$eagerlyExecuteCommands$1$1.applyOrElse(QueryExecution.scala:265)\n\tat org.apache.spark.sql.catalyst.trees.TreeNode.$anonfun$transformDownWithPruning$1(TreeNode.scala:465)\n\tat org.apache.spark.sql.catalyst.trees.CurrentOrigin$.withOrigin(origin.scala:69)\n\tat org.apache.spark.sql.catalyst.trees.TreeNode.transformDownWithPruning(TreeNode.scala:465)\n\tat org.apache.spark.sql.catalyst.plans.logical.LogicalPlan.org$apache$spark$sql$catalyst$plans$logical$AnalysisHelper$$super$transformDownWithPruning(LogicalPlan.scala:39)\n\tat org.apache.spark.sql.catalyst.plans.logical.AnalysisHelper.transformDownWithPruning(AnalysisHelper.scala:339)\n\tat org.apache.spark.sql.catalyst.plans.logical.AnalysisHelper.transformDownWithPruning$(AnalysisHelper.scala:335)\n\tat org.apache.spark.sql.catalyst.plans.logical.LogicalPlan.transformDownWithPruning(LogicalPlan.scala:39)\n\tat org.apache.spark.sql.catalyst.plans.logical.LogicalPlan.transformDownWithPruning(LogicalPlan.scala:39)\n\tat org.apache.spark.sql.catalyst.trees.TreeNode.transformDown(TreeNode.scala:441)\n\tat org.apache.spark.sql.execution.QueryExecution.$anonfun$eagerlyExecuteCommands$1(QueryExecution.scala:265)\n\tat org.apache.spark.sql.catalyst.plans.logical.AnalysisHelper$.allowInvokingTransformsInAnalyzer(AnalysisHelper.scala:395)\n\tat org.apache.spark.sql.execution.QueryExecution.eagerlyExecuteCommands(QueryExecution.scala:265)\n\tat org.apache.spark.sql.execution.QueryExecution.commandExecuted$lzycompute(QueryExecution.scala:217)\n\tat org.apache.spark.sql.execution.QueryExecution.commandExecuted(QueryExecution.scala:214)\n\tat org.apache.spark.sql.Dataset.<init>(Dataset.scala:261)\n\tat org.apache.spark.sql.Dataset$.$anonfun$ofRows$2(Dataset.scala:122)\n\tat org.apache.spark.sql.SparkSession.withActive(SparkSession.scala:1148)\n\tat org.apache.spark.sql.SparkSession.$anonfun$withActiveAndFrameProfiler$1(SparkSession.scala:1155)\n\tat com.databricks.spark.util.FrameProfiler$.record(FrameProfiler.scala:94)\n\tat org.apache.spark.sql.SparkSession.withActiveAndFrameProfiler(SparkSession.scala:1155)\n\tat org.apache.spark.sql.Dataset$.ofRows(Dataset.scala:112)\n\tat org.apache.spark.sql.SparkSession.$anonfun$sql$5(SparkSession.scala:928)\n\tat org.apache.spark.sql.SparkSession.withActive(SparkSession.scala:1148)\n\tat org.apache.spark.sql.SparkSession.sql(SparkSession.scala:917)\n\tat org.apache.spark.sql.SparkSession.$anonfun$sql$9(SparkSession.scala:951)\n\tat org.apache.spark.sql.SparkSession.withActive(SparkSession.scala:1148)\n\tat org.apache.spark.sql.SparkSession.sql(SparkSession.scala:951)\n\tat org.apache.spark.sql.SparkSession.sql(SparkSession.scala:984)\n\tat org.apache.spark.sql.SQLContext.sql(SQLContext.scala:695)\n\tat com.databricks.backend.daemon.driver.DriverLocal$DbClassicStrategy.executeSQLQuery(DriverLocal.scala:240)\n\tat com.databricks.backend.daemon.driver.DriverLocal.executeSQLSubCommand(DriverLocal.scala:322)\n\tat com.databricks.backend.daemon.driver.DriverLocal.$anonfun$executeSql$1(DriverLocal.scala:341)\n\tat scala.collection.immutable.List.map(List.scala:293)\n\tat com.databricks.backend.daemon.driver.DriverLocal.executeSql(DriverLocal.scala:336)\n\tat com.databricks.backend.daemon.driver.JupyterDriverLocal.repl(JupyterDriverLocal.scala:709)\n\tat com.databricks.backend.daemon.driver.DriverLocal.$anonfun$execute$34(DriverLocal.scala:1015)\n\tat com.databricks.unity.EmptyHandle$.runWith(UCSHandle.scala:128)\n\tat com.databricks.backend.daemon.driver.DriverLocal.$anonfun$execute$23(DriverLocal.scala:1006)\n\tat com.databricks.logging.UsageLogging.$anonfun$withAttributionContext$1(UsageLogging.scala:426)\n\tat scala.util.DynamicVariable.withValue(DynamicVariable.scala:62)\n\tat com.databricks.logging.AttributionContext$.withValue(AttributionContext.scala:196)\n\tat com.databricks.logging.UsageLogging.withAttributionContext(UsageLogging.scala:424)\n\tat com.databricks.logging.UsageLogging.withAttributionContext$(UsageLogging.scala:418)\n\tat com.databricks.backend.daemon.driver.DriverLocal.withAttributionContext(DriverLocal.scala:72)\n\tat com.databricks.logging.UsageLogging.withAttributionTags(UsageLogging.scala:470)\n\tat com.databricks.logging.UsageLogging.withAttributionTags$(UsageLogging.scala:455)\n\tat com.databricks.backend.daemon.driver.DriverLocal.withAttributionTags(DriverLocal.scala:72)\n\tat com.databricks.backend.daemon.driver.DriverLocal.execute(DriverLocal.scala:961)\n\tat com.databricks.backend.daemon.driver.DriverWrapper.$anonfun$tryExecutingCommand$2(DriverWrapper.scala:859)\n\tat scala.util.Try$.apply(Try.scala:213)\n\tat com.databricks.backend.daemon.driver.DriverWrapper.$anonfun$tryExecutingCommand$1(DriverWrapper.scala:851)\n\tat com.databricks.backend.daemon.driver.DriverWrapper.$anonfun$tryExecutingCommand$3(DriverWrapper.scala:891)\n\tat com.databricks.logging.UsageLogging.executeThunkAndCaptureResultTags$1(UsageLogging.scala:667)\n\tat com.databricks.logging.UsageLogging.$anonfun$recordOperationWithResultTags$4(UsageLogging.scala:685)\n\tat com.databricks.logging.UsageLogging.$anonfun$withAttributionContext$1(UsageLogging.scala:426)\n\tat scala.util.DynamicVariable.withValue(DynamicVariable.scala:62)\n\tat com.databricks.logging.AttributionContext$.withValue(AttributionContext.scala:196)\n\tat com.databricks.logging.UsageLogging.withAttributionContext(UsageLogging.scala:424)\n\tat com.databricks.logging.UsageLogging.withAttributionContext$(UsageLogging.scala:418)\n\tat com.databricks.backend.daemon.driver.DriverWrapper.withAttributionContext(DriverWrapper.scala:76)\n\tat com.databricks.logging.UsageLogging.withAttributionTags(UsageLogging.scala:470)\n\tat com.databricks.logging.UsageLogging.withAttributionTags$(UsageLogging.scala:455)\n\tat com.databricks.backend.daemon.driver.DriverWrapper.withAttributionTags(DriverWrapper.scala:76)\n\tat com.databricks.logging.UsageLogging.recordOperationWithResultTags(UsageLogging.scala:662)\n\tat com.databricks.logging.UsageLogging.recordOperationWithResultTags$(UsageLogging.scala:580)\n\tat com.databricks.backend.daemon.driver.DriverWrapper.recordOperationWithResultTags(DriverWrapper.scala:76)\n\tat com.databricks.backend.daemon.driver.DriverWrapper.tryExecutingCommand(DriverWrapper.scala:891)\n\tat com.databricks.backend.daemon.driver.DriverWrapper.executeCommandAndGetError(DriverWrapper.scala:702)\n\tat com.databricks.backend.daemon.driver.DriverWrapper.executeCommand(DriverWrapper.scala:803)\n\tat com.databricks.backend.daemon.driver.DriverWrapper.$anonfun$runInnerLoop$1(DriverWrapper.scala:577)\n\tat scala.runtime.java8.JFunction0$mcV$sp.apply(JFunction0$mcV$sp.java:23)\n\tat com.databricks.logging.UsageLogging.$anonfun$withAttributionContext$1(UsageLogging.scala:426)\n\tat scala.util.DynamicVariable.withValue(DynamicVariable.scala:62)\n\tat com.databricks.logging.AttributionContext$.withValue(AttributionContext.scala:196)\n\tat com.databricks.logging.UsageLogging.withAttributionContext(UsageLogging.scala:424)\n\tat com.databricks.logging.UsageLogging.withAttributionContext$(UsageLogging.scala:418)\n\tat com.databricks.backend.daemon.driver.DriverWrapper.withAttributionContext(DriverWrapper.scala:76)\n\tat com.databricks.backend.daemon.driver.DriverWrapper.runInnerLoop(DriverWrapper.scala:577)\n\tat com.databricks.backend.daemon.driver.DriverWrapper.runInner(DriverWrapper.scala:487)\n\tat com.databricks.backend.daemon.driver.DriverWrapper.run(DriverWrapper.scala:296)\n\tat java.lang.Thread.run(Thread.java:750)\n\n\tat com.databricks.backend.daemon.driver.DriverLocal.executeSql(DriverLocal.scala:379)\n\tat com.databricks.backend.daemon.driver.JupyterDriverLocal.repl(JupyterDriverLocal.scala:709)\n\tat com.databricks.backend.daemon.driver.DriverLocal.$anonfun$execute$34(DriverLocal.scala:1015)\n\tat com.databricks.unity.EmptyHandle$.runWith(UCSHandle.scala:128)\n\tat com.databricks.backend.daemon.driver.DriverLocal.$anonfun$execute$23(DriverLocal.scala:1006)\n\tat com.databricks.logging.UsageLogging.$anonfun$withAttributionContext$1(UsageLogging.scala:426)\n\tat scala.util.DynamicVariable.withValue(DynamicVariable.scala:62)\n\tat com.databricks.logging.AttributionContext$.withValue(AttributionContext.scala:196)\n\tat com.databricks.logging.UsageLogging.withAttributionContext(UsageLogging.scala:424)\n\tat com.databricks.logging.UsageLogging.withAttributionContext$(UsageLogging.scala:418)\n\tat com.databricks.backend.daemon.driver.DriverLocal.withAttributionContext(DriverLocal.scala:72)\n\tat com.databricks.logging.UsageLogging.withAttributionTags(UsageLogging.scala:470)\n\tat com.databricks.logging.UsageLogging.withAttributionTags$(UsageLogging.scala:455)\n\tat com.databricks.backend.daemon.driver.DriverLocal.withAttributionTags(DriverLocal.scala:72)\n\tat com.databricks.backend.daemon.driver.DriverLocal.execute(DriverLocal.scala:961)\n\tat com.databricks.backend.daemon.driver.DriverWrapper.$anonfun$tryExecutingCommand$2(DriverWrapper.scala:859)\n\tat scala.util.Try$.apply(Try.scala:213)\n\tat com.databricks.backend.daemon.driver.DriverWrapper.$anonfun$tryExecutingCommand$1(DriverWrapper.scala:851)\n\tat com.databricks.backend.daemon.driver.DriverWrapper.$anonfun$tryExecutingCommand$3(DriverWrapper.scala:891)\n\tat com.databricks.logging.UsageLogging.executeThunkAndCaptureResultTags$1(UsageLogging.scala:667)\n\tat com.databricks.logging.UsageLogging.$anonfun$recordOperationWithResultTags$4(UsageLogging.scala:685)\n\tat com.databricks.logging.UsageLogging.$anonfun$withAttributionContext$1(UsageLogging.scala:426)\n\tat scala.util.DynamicVariable.withValue(DynamicVariable.scala:62)\n\tat com.databricks.logging.AttributionContext$.withValue(AttributionContext.scala:196)\n\tat com.databricks.logging.UsageLogging.withAttributionContext(UsageLogging.scala:424)\n\tat com.databricks.logging.UsageLogging.withAttributionContext$(UsageLogging.scala:418)\n\tat com.databricks.backend.daemon.driver.DriverWrapper.withAttributionContext(DriverWrapper.scala:76)\n\tat com.databricks.logging.UsageLogging.withAttributionTags(UsageLogging.scala:470)\n\tat com.databricks.logging.UsageLogging.withAttributionTags$(UsageLogging.scala:455)\n\tat com.databricks.backend.daemon.driver.DriverWrapper.withAttributionTags(DriverWrapper.scala:76)\n\tat com.databricks.logging.UsageLogging.recordOperationWithResultTags(UsageLogging.scala:662)\n\tat com.databricks.logging.UsageLogging.recordOperationWithResultTags$(UsageLogging.scala:580)\n\tat com.databricks.backend.daemon.driver.DriverWrapper.recordOperationWithResultTags(DriverWrapper.scala:76)\n\tat com.databricks.backend.daemon.driver.DriverWrapper.tryExecutingCommand(DriverWrapper.scala:891)\n\tat com.databricks.backend.daemon.driver.DriverWrapper.executeCommandAndGetError(DriverWrapper.scala:702)\n\tat com.databricks.backend.daemon.driver.DriverWrapper.executeCommand(DriverWrapper.scala:803)\n\tat com.databricks.backend.daemon.driver.DriverWrapper.$anonfun$runInnerLoop$1(DriverWrapper.scala:577)\n\tat scala.runtime.java8.JFunction0$mcV$sp.apply(JFunction0$mcV$sp.java:23)\n\tat com.databricks.logging.UsageLogging.$anonfun$withAttributionContext$1(UsageLogging.scala:426)\n\tat scala.util.DynamicVariable.withValue(DynamicVariable.scala:62)\n\tat com.databricks.logging.AttributionContext$.withValue(AttributionContext.scala:196)\n\tat com.databricks.logging.UsageLogging.withAttributionContext(UsageLogging.scala:424)\n\tat com.databricks.logging.UsageLogging.withAttributionContext$(UsageLogging.scala:418)\n\tat com.databricks.backend.daemon.driver.DriverWrapper.withAttributionContext(DriverWrapper.scala:76)\n\tat com.databricks.backend.daemon.driver.DriverWrapper.runInnerLoop(DriverWrapper.scala:577)\n\tat com.databricks.backend.daemon.driver.DriverWrapper.runInner(DriverWrapper.scala:487)\n\tat com.databricks.backend.daemon.driver.DriverWrapper.run(DriverWrapper.scala:296)\n\tat java.lang.Thread.run(Thread.java:750)\n",
       "errorSummary": "TableAlreadyExistsException: [TABLE_OR_VIEW_ALREADY_EXISTS] Cannot create table or view `spark_catalog`.`default`.`flights` because it already exists.\nChoose a different name, drop or replace the existing object, add the IF NOT EXISTS clause to tolerate pre-existing objects, or add the OR REFRESH clause to refresh the existing streaming table.",
       "errorTraceType": "html",
       "metadata": {},
       "type": "ipynbError"
      }
     },
     "output_type": "display_data"
    }
   ],
   "source": [
    "%sql\n",
    "CREATE TABLE flights (\n",
    "DEST_COUNTRY_NAME STRING, ORIGIN_COUNTRY_NAME STRING, count LONG)\n",
    "USING JSON OPTIONS (path '/mnt/pysparkcontainer/flight-data_json/2015-summary.json')\n",
    "\n"
   ]
  },
  {
   "cell_type": "code",
   "execution_count": 0,
   "metadata": {
    "application/vnd.databricks.v1+cell": {
     "cellMetadata": {
      "byteLimit": 2048000,
      "implicitDf": true,
      "rowLimit": 10000
     },
     "inputWidgets": {},
     "nuid": "0510ea2e-6e63-40a4-ac81-72fe5c770171",
     "showTitle": false,
     "title": ""
    }
   },
   "outputs": [
    {
     "output_type": "display_data",
     "data": {
      "text/html": [
       "<style scoped>\n",
       "  .table-result-container {\n",
       "    max-height: 300px;\n",
       "    overflow: auto;\n",
       "  }\n",
       "  table, th, td {\n",
       "    border: 1px solid black;\n",
       "    border-collapse: collapse;\n",
       "  }\n",
       "  th, td {\n",
       "    padding: 5px;\n",
       "  }\n",
       "  th {\n",
       "    text-align: left;\n",
       "  }\n",
       "</style><div class='table-result-container'><table class='table-result'><thead style='background-color: white'><tr></tr></thead><tbody></tbody></table></div>"
      ]
     },
     "metadata": {
      "application/vnd.databricks.v1+output": {
       "addedWidgets": {},
       "aggData": [],
       "aggError": "",
       "aggOverflow": false,
       "aggSchema": [],
       "aggSeriesLimitReached": false,
       "aggType": "",
       "arguments": {},
       "columnCustomDisplayInfos": {},
       "data": [],
       "datasetInfos": [],
       "dbfsResultPath": null,
       "isJsonSchema": true,
       "metadata": {
        "dataframeName": null
       },
       "overflow": false,
       "plotOptions": {
        "customPlotOptions": {},
        "displayType": "table",
        "pivotAggregation": null,
        "pivotColumns": null,
        "xColumns": null,
        "yColumns": null
       },
       "removedWidgets": [],
       "schema": [],
       "type": "table"
      }
     },
     "output_type": "display_data"
    }
   ],
   "source": [
    "%sql\n",
    "CREATE TABLE flights_csv (\n",
    "DEST_COUNTRY_NAME STRING,\n",
    "ORIGIN_COUNTRY_NAME STRING COMMENT \"remember, the US will be most prevalent\",\n",
    "count LONG)\n",
    "USING csv OPTIONS (header true, path '/data/flight-data/csv/2015-summary.csv')"
   ]
  },
  {
   "cell_type": "code",
   "execution_count": 0,
   "metadata": {
    "application/vnd.databricks.v1+cell": {
     "cellMetadata": {
      "byteLimit": 2048000,
      "implicitDf": true,
      "rowLimit": 10000
     },
     "inputWidgets": {},
     "nuid": "463cc608-fec3-42dd-bd44-dda8551bab34",
     "showTitle": false,
     "title": ""
    }
   },
   "outputs": [
    {
     "output_type": "display_data",
     "data": {
      "text/html": [
       "<style scoped>\n",
       "  .ansiout {\n",
       "    display: block;\n",
       "    unicode-bidi: embed;\n",
       "    white-space: pre-wrap;\n",
       "    word-wrap: break-word;\n",
       "    word-break: break-all;\n",
       "    font-family: \"Menlo\", \"Monaco\", \"Consolas\", \"Ubuntu Mono\", \"Source Code Pro\", monospace;\n",
       "    font-size: 13px;\n",
       "    color: #555;\n",
       "    margin-left: 4px;\n",
       "    line-height: 19px;\n",
       "  }\n",
       "</style>\n",
       "com.databricks.backend.common.rpc.SparkDriverExceptions$SQLExecutionException: org.apache.spark.sql.catalyst.analysis.TableAlreadyExistsException: [TABLE_OR_VIEW_ALREADY_EXISTS] Cannot create table or view `spark_catalog`.`default`.`flights_from_select` because it already exists.\n",
       "Choose a different name, drop or replace the existing object, add the IF NOT EXISTS clause to tolerate pre-existing objects, or add the OR REFRESH clause to refresh the existing streaming table.\n",
       "\tat org.apache.spark.sql.errors.QueryCompilationErrors$.tableAlreadyExistsError(QueryCompilationErrors.scala:2729)\n",
       "\tat org.apache.spark.sql.execution.command.CreateDataSourceTableAsSelectCommand.run(createDataSourceTables.scala:163)\n",
       "\tat org.apache.spark.sql.execution.command.ExecutedCommandExec.$anonfun$sideEffectResult$1(commands.scala:82)\n",
       "\tat com.databricks.spark.util.FrameProfiler$.record(FrameProfiler.scala:94)\n",
       "\tat org.apache.spark.sql.execution.command.ExecutedCommandExec.sideEffectResult$lzycompute(commands.scala:80)\n",
       "\tat org.apache.spark.sql.execution.command.ExecutedCommandExec.sideEffectResult(commands.scala:79)\n",
       "\tat org.apache.spark.sql.execution.command.ExecutedCommandExec.executeCollect(commands.scala:91)\n",
       "\tat org.apache.spark.sql.execution.QueryExecution$$anonfun$$nestedInanonfun$eagerlyExecuteCommands$1$1.$anonfun$applyOrElse$3(QueryExecution.scala:286)\n",
       "\tat org.apache.spark.sql.catalyst.QueryPlanningTracker$.withTracker(QueryPlanningTracker.scala:166)\n",
       "\tat org.apache.spark.sql.execution.QueryExecution$$anonfun$$nestedInanonfun$eagerlyExecuteCommands$1$1.$anonfun$applyOrElse$2(QueryExecution.scala:286)\n",
       "\tat org.apache.spark.sql.execution.SQLExecution$.$anonfun$withCustomExecutionEnv$9(SQLExecution.scala:298)\n",
       "\tat org.apache.spark.sql.execution.SQLExecution$.withSQLConfPropagated(SQLExecution.scala:528)\n",
       "\tat org.apache.spark.sql.execution.SQLExecution$.$anonfun$withCustomExecutionEnv$1(SQLExecution.scala:225)\n",
       "\tat org.apache.spark.sql.SparkSession.withActive(SparkSession.scala:1148)\n",
       "\tat org.apache.spark.sql.execution.SQLExecution$.withCustomExecutionEnv(SQLExecution.scala:154)\n",
       "\tat org.apache.spark.sql.execution.SQLExecution$.withNewExecutionId(SQLExecution.scala:477)\n",
       "\tat org.apache.spark.sql.execution.QueryExecution$$anonfun$$nestedInanonfun$eagerlyExecuteCommands$1$1.$anonfun$applyOrElse$1(QueryExecution.scala:285)\n",
       "\tat org.apache.spark.sql.execution.QueryExecution.org$apache$spark$sql$execution$QueryExecution$$withMVTagsIfNecessary(QueryExecution.scala:259)\n",
       "\tat org.apache.spark.sql.execution.QueryExecution$$anonfun$$nestedInanonfun$eagerlyExecuteCommands$1$1.applyOrElse(QueryExecution.scala:280)\n",
       "\tat org.apache.spark.sql.execution.QueryExecution$$anonfun$$nestedInanonfun$eagerlyExecuteCommands$1$1.applyOrElse(QueryExecution.scala:265)\n",
       "\tat org.apache.spark.sql.catalyst.trees.TreeNode.$anonfun$transformDownWithPruning$1(TreeNode.scala:465)\n",
       "\tat org.apache.spark.sql.catalyst.trees.CurrentOrigin$.withOrigin(origin.scala:69)\n",
       "\tat org.apache.spark.sql.catalyst.trees.TreeNode.transformDownWithPruning(TreeNode.scala:465)\n",
       "\tat org.apache.spark.sql.catalyst.plans.logical.LogicalPlan.org$apache$spark$sql$catalyst$plans$logical$AnalysisHelper$$super$transformDownWithPruning(LogicalPlan.scala:39)\n",
       "\tat org.apache.spark.sql.catalyst.plans.logical.AnalysisHelper.transformDownWithPruning(AnalysisHelper.scala:339)\n",
       "\tat org.apache.spark.sql.catalyst.plans.logical.AnalysisHelper.transformDownWithPruning$(AnalysisHelper.scala:335)\n",
       "\tat org.apache.spark.sql.catalyst.plans.logical.LogicalPlan.transformDownWithPruning(LogicalPlan.scala:39)\n",
       "\tat org.apache.spark.sql.catalyst.plans.logical.LogicalPlan.transformDownWithPruning(LogicalPlan.scala:39)\n",
       "\tat org.apache.spark.sql.catalyst.trees.TreeNode.transformDown(TreeNode.scala:441)\n",
       "\tat org.apache.spark.sql.execution.QueryExecution.$anonfun$eagerlyExecuteCommands$1(QueryExecution.scala:265)\n",
       "\tat org.apache.spark.sql.catalyst.plans.logical.AnalysisHelper$.allowInvokingTransformsInAnalyzer(AnalysisHelper.scala:395)\n",
       "\tat org.apache.spark.sql.execution.QueryExecution.eagerlyExecuteCommands(QueryExecution.scala:265)\n",
       "\tat org.apache.spark.sql.execution.QueryExecution.commandExecuted$lzycompute(QueryExecution.scala:217)\n",
       "\tat org.apache.spark.sql.execution.QueryExecution.commandExecuted(QueryExecution.scala:214)\n",
       "\tat org.apache.spark.sql.Dataset.<init>(Dataset.scala:261)\n",
       "\tat org.apache.spark.sql.Dataset$.$anonfun$ofRows$2(Dataset.scala:122)\n",
       "\tat org.apache.spark.sql.SparkSession.withActive(SparkSession.scala:1148)\n",
       "\tat org.apache.spark.sql.SparkSession.$anonfun$withActiveAndFrameProfiler$1(SparkSession.scala:1155)\n",
       "\tat com.databricks.spark.util.FrameProfiler$.record(FrameProfiler.scala:94)\n",
       "\tat org.apache.spark.sql.SparkSession.withActiveAndFrameProfiler(SparkSession.scala:1155)\n",
       "\tat org.apache.spark.sql.Dataset$.ofRows(Dataset.scala:112)\n",
       "\tat org.apache.spark.sql.SparkSession.$anonfun$sql$5(SparkSession.scala:928)\n",
       "\tat org.apache.spark.sql.SparkSession.withActive(SparkSession.scala:1148)\n",
       "\tat org.apache.spark.sql.SparkSession.sql(SparkSession.scala:917)\n",
       "\tat org.apache.spark.sql.SparkSession.$anonfun$sql$9(SparkSession.scala:951)\n",
       "\tat org.apache.spark.sql.SparkSession.withActive(SparkSession.scala:1148)\n",
       "\tat org.apache.spark.sql.SparkSession.sql(SparkSession.scala:951)\n",
       "\tat org.apache.spark.sql.SparkSession.sql(SparkSession.scala:984)\n",
       "\tat org.apache.spark.sql.SQLContext.sql(SQLContext.scala:695)\n",
       "\tat com.databricks.backend.daemon.driver.DriverLocal$DbClassicStrategy.executeSQLQuery(DriverLocal.scala:240)\n",
       "\tat com.databricks.backend.daemon.driver.DriverLocal.executeSQLSubCommand(DriverLocal.scala:322)\n",
       "\tat com.databricks.backend.daemon.driver.DriverLocal.$anonfun$executeSql$1(DriverLocal.scala:341)\n",
       "\tat scala.collection.immutable.List.map(List.scala:293)\n",
       "\tat com.databricks.backend.daemon.driver.DriverLocal.executeSql(DriverLocal.scala:336)\n",
       "\tat com.databricks.backend.daemon.driver.JupyterDriverLocal.repl(JupyterDriverLocal.scala:709)\n",
       "\tat com.databricks.backend.daemon.driver.DriverLocal.$anonfun$execute$34(DriverLocal.scala:1015)\n",
       "\tat com.databricks.unity.EmptyHandle$.runWith(UCSHandle.scala:128)\n",
       "\tat com.databricks.backend.daemon.driver.DriverLocal.$anonfun$execute$23(DriverLocal.scala:1006)\n",
       "\tat com.databricks.logging.UsageLogging.$anonfun$withAttributionContext$1(UsageLogging.scala:426)\n",
       "\tat scala.util.DynamicVariable.withValue(DynamicVariable.scala:62)\n",
       "\tat com.databricks.logging.AttributionContext$.withValue(AttributionContext.scala:196)\n",
       "\tat com.databricks.logging.UsageLogging.withAttributionContext(UsageLogging.scala:424)\n",
       "\tat com.databricks.logging.UsageLogging.withAttributionContext$(UsageLogging.scala:418)\n",
       "\tat com.databricks.backend.daemon.driver.DriverLocal.withAttributionContext(DriverLocal.scala:72)\n",
       "\tat com.databricks.logging.UsageLogging.withAttributionTags(UsageLogging.scala:470)\n",
       "\tat com.databricks.logging.UsageLogging.withAttributionTags$(UsageLogging.scala:455)\n",
       "\tat com.databricks.backend.daemon.driver.DriverLocal.withAttributionTags(DriverLocal.scala:72)\n",
       "\tat com.databricks.backend.daemon.driver.DriverLocal.execute(DriverLocal.scala:961)\n",
       "\tat com.databricks.backend.daemon.driver.DriverWrapper.$anonfun$tryExecutingCommand$2(DriverWrapper.scala:859)\n",
       "\tat scala.util.Try$.apply(Try.scala:213)\n",
       "\tat com.databricks.backend.daemon.driver.DriverWrapper.$anonfun$tryExecutingCommand$1(DriverWrapper.scala:851)\n",
       "\tat com.databricks.backend.daemon.driver.DriverWrapper.$anonfun$tryExecutingCommand$3(DriverWrapper.scala:891)\n",
       "\tat com.databricks.logging.UsageLogging.executeThunkAndCaptureResultTags$1(UsageLogging.scala:667)\n",
       "\tat com.databricks.logging.UsageLogging.$anonfun$recordOperationWithResultTags$4(UsageLogging.scala:685)\n",
       "\tat com.databricks.logging.UsageLogging.$anonfun$withAttributionContext$1(UsageLogging.scala:426)\n",
       "\tat scala.util.DynamicVariable.withValue(DynamicVariable.scala:62)\n",
       "\tat com.databricks.logging.AttributionContext$.withValue(AttributionContext.scala:196)\n",
       "\tat com.databricks.logging.UsageLogging.withAttributionContext(UsageLogging.scala:424)\n",
       "\tat com.databricks.logging.UsageLogging.withAttributionContext$(UsageLogging.scala:418)\n",
       "\tat com.databricks.backend.daemon.driver.DriverWrapper.withAttributionContext(DriverWrapper.scala:76)\n",
       "\tat com.databricks.logging.UsageLogging.withAttributionTags(UsageLogging.scala:470)\n",
       "\tat com.databricks.logging.UsageLogging.withAttributionTags$(UsageLogging.scala:455)\n",
       "\tat com.databricks.backend.daemon.driver.DriverWrapper.withAttributionTags(DriverWrapper.scala:76)\n",
       "\tat com.databricks.logging.UsageLogging.recordOperationWithResultTags(UsageLogging.scala:662)\n",
       "\tat com.databricks.logging.UsageLogging.recordOperationWithResultTags$(UsageLogging.scala:580)\n",
       "\tat com.databricks.backend.daemon.driver.DriverWrapper.recordOperationWithResultTags(DriverWrapper.scala:76)\n",
       "\tat com.databricks.backend.daemon.driver.DriverWrapper.tryExecutingCommand(DriverWrapper.scala:891)\n",
       "\tat com.databricks.backend.daemon.driver.DriverWrapper.executeCommandAndGetError(DriverWrapper.scala:702)\n",
       "\tat com.databricks.backend.daemon.driver.DriverWrapper.executeCommand(DriverWrapper.scala:803)\n",
       "\tat com.databricks.backend.daemon.driver.DriverWrapper.$anonfun$runInnerLoop$1(DriverWrapper.scala:577)\n",
       "\tat scala.runtime.java8.JFunction0$mcV$sp.apply(JFunction0$mcV$sp.java:23)\n",
       "\tat com.databricks.logging.UsageLogging.$anonfun$withAttributionContext$1(UsageLogging.scala:426)\n",
       "\tat scala.util.DynamicVariable.withValue(DynamicVariable.scala:62)\n",
       "\tat com.databricks.logging.AttributionContext$.withValue(AttributionContext.scala:196)\n",
       "\tat com.databricks.logging.UsageLogging.withAttributionContext(UsageLogging.scala:424)\n",
       "\tat com.databricks.logging.UsageLogging.withAttributionContext$(UsageLogging.scala:418)\n",
       "\tat com.databricks.backend.daemon.driver.DriverWrapper.withAttributionContext(DriverWrapper.scala:76)\n",
       "\tat com.databricks.backend.daemon.driver.DriverWrapper.runInnerLoop(DriverWrapper.scala:577)\n",
       "\tat com.databricks.backend.daemon.driver.DriverWrapper.runInner(DriverWrapper.scala:487)\n",
       "\tat com.databricks.backend.daemon.driver.DriverWrapper.run(DriverWrapper.scala:296)\n",
       "\tat java.lang.Thread.run(Thread.java:750)\n",
       "\n",
       "\tat com.databricks.backend.daemon.driver.DriverLocal.executeSql(DriverLocal.scala:379)\n",
       "\tat com.databricks.backend.daemon.driver.JupyterDriverLocal.repl(JupyterDriverLocal.scala:709)\n",
       "\tat com.databricks.backend.daemon.driver.DriverLocal.$anonfun$execute$34(DriverLocal.scala:1015)\n",
       "\tat com.databricks.unity.EmptyHandle$.runWith(UCSHandle.scala:128)\n",
       "\tat com.databricks.backend.daemon.driver.DriverLocal.$anonfun$execute$23(DriverLocal.scala:1006)\n",
       "\tat com.databricks.logging.UsageLogging.$anonfun$withAttributionContext$1(UsageLogging.scala:426)\n",
       "\tat scala.util.DynamicVariable.withValue(DynamicVariable.scala:62)\n",
       "\tat com.databricks.logging.AttributionContext$.withValue(AttributionContext.scala:196)\n",
       "\tat com.databricks.logging.UsageLogging.withAttributionContext(UsageLogging.scala:424)\n",
       "\tat com.databricks.logging.UsageLogging.withAttributionContext$(UsageLogging.scala:418)\n",
       "\tat com.databricks.backend.daemon.driver.DriverLocal.withAttributionContext(DriverLocal.scala:72)\n",
       "\tat com.databricks.logging.UsageLogging.withAttributionTags(UsageLogging.scala:470)\n",
       "\tat com.databricks.logging.UsageLogging.withAttributionTags$(UsageLogging.scala:455)\n",
       "\tat com.databricks.backend.daemon.driver.DriverLocal.withAttributionTags(DriverLocal.scala:72)\n",
       "\tat com.databricks.backend.daemon.driver.DriverLocal.execute(DriverLocal.scala:961)\n",
       "\tat com.databricks.backend.daemon.driver.DriverWrapper.$anonfun$tryExecutingCommand$2(DriverWrapper.scala:859)\n",
       "\tat scala.util.Try$.apply(Try.scala:213)\n",
       "\tat com.databricks.backend.daemon.driver.DriverWrapper.$anonfun$tryExecutingCommand$1(DriverWrapper.scala:851)\n",
       "\tat com.databricks.backend.daemon.driver.DriverWrapper.$anonfun$tryExecutingCommand$3(DriverWrapper.scala:891)\n",
       "\tat com.databricks.logging.UsageLogging.executeThunkAndCaptureResultTags$1(UsageLogging.scala:667)\n",
       "\tat com.databricks.logging.UsageLogging.$anonfun$recordOperationWithResultTags$4(UsageLogging.scala:685)\n",
       "\tat com.databricks.logging.UsageLogging.$anonfun$withAttributionContext$1(UsageLogging.scala:426)\n",
       "\tat scala.util.DynamicVariable.withValue(DynamicVariable.scala:62)\n",
       "\tat com.databricks.logging.AttributionContext$.withValue(AttributionContext.scala:196)\n",
       "\tat com.databricks.logging.UsageLogging.withAttributionContext(UsageLogging.scala:424)\n",
       "\tat com.databricks.logging.UsageLogging.withAttributionContext$(UsageLogging.scala:418)\n",
       "\tat com.databricks.backend.daemon.driver.DriverWrapper.withAttributionContext(DriverWrapper.scala:76)\n",
       "\tat com.databricks.logging.UsageLogging.withAttributionTags(UsageLogging.scala:470)\n",
       "\tat com.databricks.logging.UsageLogging.withAttributionTags$(UsageLogging.scala:455)\n",
       "\tat com.databricks.backend.daemon.driver.DriverWrapper.withAttributionTags(DriverWrapper.scala:76)\n",
       "\tat com.databricks.logging.UsageLogging.recordOperationWithResultTags(UsageLogging.scala:662)\n",
       "\tat com.databricks.logging.UsageLogging.recordOperationWithResultTags$(UsageLogging.scala:580)\n",
       "\tat com.databricks.backend.daemon.driver.DriverWrapper.recordOperationWithResultTags(DriverWrapper.scala:76)\n",
       "\tat com.databricks.backend.daemon.driver.DriverWrapper.tryExecutingCommand(DriverWrapper.scala:891)\n",
       "\tat com.databricks.backend.daemon.driver.DriverWrapper.executeCommandAndGetError(DriverWrapper.scala:702)\n",
       "\tat com.databricks.backend.daemon.driver.DriverWrapper.executeCommand(DriverWrapper.scala:803)\n",
       "\tat com.databricks.backend.daemon.driver.DriverWrapper.$anonfun$runInnerLoop$1(DriverWrapper.scala:577)\n",
       "\tat scala.runtime.java8.JFunction0$mcV$sp.apply(JFunction0$mcV$sp.java:23)\n",
       "\tat com.databricks.logging.UsageLogging.$anonfun$withAttributionContext$1(UsageLogging.scala:426)\n",
       "\tat scala.util.DynamicVariable.withValue(DynamicVariable.scala:62)\n",
       "\tat com.databricks.logging.AttributionContext$.withValue(AttributionContext.scala:196)\n",
       "\tat com.databricks.logging.UsageLogging.withAttributionContext(UsageLogging.scala:424)\n",
       "\tat com.databricks.logging.UsageLogging.withAttributionContext$(UsageLogging.scala:418)\n",
       "\tat com.databricks.backend.daemon.driver.DriverWrapper.withAttributionContext(DriverWrapper.scala:76)\n",
       "\tat com.databricks.backend.daemon.driver.DriverWrapper.runInnerLoop(DriverWrapper.scala:577)\n",
       "\tat com.databricks.backend.daemon.driver.DriverWrapper.runInner(DriverWrapper.scala:487)\n",
       "\tat com.databricks.backend.daemon.driver.DriverWrapper.run(DriverWrapper.scala:296)\n",
       "\tat java.lang.Thread.run(Thread.java:750)"
      ]
     },
     "metadata": {
      "application/vnd.databricks.v1+output": {
       "arguments": {},
       "data": "com.databricks.backend.common.rpc.SparkDriverExceptions$SQLExecutionException: org.apache.spark.sql.catalyst.analysis.TableAlreadyExistsException: [TABLE_OR_VIEW_ALREADY_EXISTS] Cannot create table or view `spark_catalog`.`default`.`flights_from_select` because it already exists.\nChoose a different name, drop or replace the existing object, add the IF NOT EXISTS clause to tolerate pre-existing objects, or add the OR REFRESH clause to refresh the existing streaming table.\n\tat org.apache.spark.sql.errors.QueryCompilationErrors$.tableAlreadyExistsError(QueryCompilationErrors.scala:2729)\n\tat org.apache.spark.sql.execution.command.CreateDataSourceTableAsSelectCommand.run(createDataSourceTables.scala:163)\n\tat org.apache.spark.sql.execution.command.ExecutedCommandExec.$anonfun$sideEffectResult$1(commands.scala:82)\n\tat com.databricks.spark.util.FrameProfiler$.record(FrameProfiler.scala:94)\n\tat org.apache.spark.sql.execution.command.ExecutedCommandExec.sideEffectResult$lzycompute(commands.scala:80)\n\tat org.apache.spark.sql.execution.command.ExecutedCommandExec.sideEffectResult(commands.scala:79)\n\tat org.apache.spark.sql.execution.command.ExecutedCommandExec.executeCollect(commands.scala:91)\n\tat org.apache.spark.sql.execution.QueryExecution$$anonfun$$nestedInanonfun$eagerlyExecuteCommands$1$1.$anonfun$applyOrElse$3(QueryExecution.scala:286)\n\tat org.apache.spark.sql.catalyst.QueryPlanningTracker$.withTracker(QueryPlanningTracker.scala:166)\n\tat org.apache.spark.sql.execution.QueryExecution$$anonfun$$nestedInanonfun$eagerlyExecuteCommands$1$1.$anonfun$applyOrElse$2(QueryExecution.scala:286)\n\tat org.apache.spark.sql.execution.SQLExecution$.$anonfun$withCustomExecutionEnv$9(SQLExecution.scala:298)\n\tat org.apache.spark.sql.execution.SQLExecution$.withSQLConfPropagated(SQLExecution.scala:528)\n\tat org.apache.spark.sql.execution.SQLExecution$.$anonfun$withCustomExecutionEnv$1(SQLExecution.scala:225)\n\tat org.apache.spark.sql.SparkSession.withActive(SparkSession.scala:1148)\n\tat org.apache.spark.sql.execution.SQLExecution$.withCustomExecutionEnv(SQLExecution.scala:154)\n\tat org.apache.spark.sql.execution.SQLExecution$.withNewExecutionId(SQLExecution.scala:477)\n\tat org.apache.spark.sql.execution.QueryExecution$$anonfun$$nestedInanonfun$eagerlyExecuteCommands$1$1.$anonfun$applyOrElse$1(QueryExecution.scala:285)\n\tat org.apache.spark.sql.execution.QueryExecution.org$apache$spark$sql$execution$QueryExecution$$withMVTagsIfNecessary(QueryExecution.scala:259)\n\tat org.apache.spark.sql.execution.QueryExecution$$anonfun$$nestedInanonfun$eagerlyExecuteCommands$1$1.applyOrElse(QueryExecution.scala:280)\n\tat org.apache.spark.sql.execution.QueryExecution$$anonfun$$nestedInanonfun$eagerlyExecuteCommands$1$1.applyOrElse(QueryExecution.scala:265)\n\tat org.apache.spark.sql.catalyst.trees.TreeNode.$anonfun$transformDownWithPruning$1(TreeNode.scala:465)\n\tat org.apache.spark.sql.catalyst.trees.CurrentOrigin$.withOrigin(origin.scala:69)\n\tat org.apache.spark.sql.catalyst.trees.TreeNode.transformDownWithPruning(TreeNode.scala:465)\n\tat org.apache.spark.sql.catalyst.plans.logical.LogicalPlan.org$apache$spark$sql$catalyst$plans$logical$AnalysisHelper$$super$transformDownWithPruning(LogicalPlan.scala:39)\n\tat org.apache.spark.sql.catalyst.plans.logical.AnalysisHelper.transformDownWithPruning(AnalysisHelper.scala:339)\n\tat org.apache.spark.sql.catalyst.plans.logical.AnalysisHelper.transformDownWithPruning$(AnalysisHelper.scala:335)\n\tat org.apache.spark.sql.catalyst.plans.logical.LogicalPlan.transformDownWithPruning(LogicalPlan.scala:39)\n\tat org.apache.spark.sql.catalyst.plans.logical.LogicalPlan.transformDownWithPruning(LogicalPlan.scala:39)\n\tat org.apache.spark.sql.catalyst.trees.TreeNode.transformDown(TreeNode.scala:441)\n\tat org.apache.spark.sql.execution.QueryExecution.$anonfun$eagerlyExecuteCommands$1(QueryExecution.scala:265)\n\tat org.apache.spark.sql.catalyst.plans.logical.AnalysisHelper$.allowInvokingTransformsInAnalyzer(AnalysisHelper.scala:395)\n\tat org.apache.spark.sql.execution.QueryExecution.eagerlyExecuteCommands(QueryExecution.scala:265)\n\tat org.apache.spark.sql.execution.QueryExecution.commandExecuted$lzycompute(QueryExecution.scala:217)\n\tat org.apache.spark.sql.execution.QueryExecution.commandExecuted(QueryExecution.scala:214)\n\tat org.apache.spark.sql.Dataset.<init>(Dataset.scala:261)\n\tat org.apache.spark.sql.Dataset$.$anonfun$ofRows$2(Dataset.scala:122)\n\tat org.apache.spark.sql.SparkSession.withActive(SparkSession.scala:1148)\n\tat org.apache.spark.sql.SparkSession.$anonfun$withActiveAndFrameProfiler$1(SparkSession.scala:1155)\n\tat com.databricks.spark.util.FrameProfiler$.record(FrameProfiler.scala:94)\n\tat org.apache.spark.sql.SparkSession.withActiveAndFrameProfiler(SparkSession.scala:1155)\n\tat org.apache.spark.sql.Dataset$.ofRows(Dataset.scala:112)\n\tat org.apache.spark.sql.SparkSession.$anonfun$sql$5(SparkSession.scala:928)\n\tat org.apache.spark.sql.SparkSession.withActive(SparkSession.scala:1148)\n\tat org.apache.spark.sql.SparkSession.sql(SparkSession.scala:917)\n\tat org.apache.spark.sql.SparkSession.$anonfun$sql$9(SparkSession.scala:951)\n\tat org.apache.spark.sql.SparkSession.withActive(SparkSession.scala:1148)\n\tat org.apache.spark.sql.SparkSession.sql(SparkSession.scala:951)\n\tat org.apache.spark.sql.SparkSession.sql(SparkSession.scala:984)\n\tat org.apache.spark.sql.SQLContext.sql(SQLContext.scala:695)\n\tat com.databricks.backend.daemon.driver.DriverLocal$DbClassicStrategy.executeSQLQuery(DriverLocal.scala:240)\n\tat com.databricks.backend.daemon.driver.DriverLocal.executeSQLSubCommand(DriverLocal.scala:322)\n\tat com.databricks.backend.daemon.driver.DriverLocal.$anonfun$executeSql$1(DriverLocal.scala:341)\n\tat scala.collection.immutable.List.map(List.scala:293)\n\tat com.databricks.backend.daemon.driver.DriverLocal.executeSql(DriverLocal.scala:336)\n\tat com.databricks.backend.daemon.driver.JupyterDriverLocal.repl(JupyterDriverLocal.scala:709)\n\tat com.databricks.backend.daemon.driver.DriverLocal.$anonfun$execute$34(DriverLocal.scala:1015)\n\tat com.databricks.unity.EmptyHandle$.runWith(UCSHandle.scala:128)\n\tat com.databricks.backend.daemon.driver.DriverLocal.$anonfun$execute$23(DriverLocal.scala:1006)\n\tat com.databricks.logging.UsageLogging.$anonfun$withAttributionContext$1(UsageLogging.scala:426)\n\tat scala.util.DynamicVariable.withValue(DynamicVariable.scala:62)\n\tat com.databricks.logging.AttributionContext$.withValue(AttributionContext.scala:196)\n\tat com.databricks.logging.UsageLogging.withAttributionContext(UsageLogging.scala:424)\n\tat com.databricks.logging.UsageLogging.withAttributionContext$(UsageLogging.scala:418)\n\tat com.databricks.backend.daemon.driver.DriverLocal.withAttributionContext(DriverLocal.scala:72)\n\tat com.databricks.logging.UsageLogging.withAttributionTags(UsageLogging.scala:470)\n\tat com.databricks.logging.UsageLogging.withAttributionTags$(UsageLogging.scala:455)\n\tat com.databricks.backend.daemon.driver.DriverLocal.withAttributionTags(DriverLocal.scala:72)\n\tat com.databricks.backend.daemon.driver.DriverLocal.execute(DriverLocal.scala:961)\n\tat com.databricks.backend.daemon.driver.DriverWrapper.$anonfun$tryExecutingCommand$2(DriverWrapper.scala:859)\n\tat scala.util.Try$.apply(Try.scala:213)\n\tat com.databricks.backend.daemon.driver.DriverWrapper.$anonfun$tryExecutingCommand$1(DriverWrapper.scala:851)\n\tat com.databricks.backend.daemon.driver.DriverWrapper.$anonfun$tryExecutingCommand$3(DriverWrapper.scala:891)\n\tat com.databricks.logging.UsageLogging.executeThunkAndCaptureResultTags$1(UsageLogging.scala:667)\n\tat com.databricks.logging.UsageLogging.$anonfun$recordOperationWithResultTags$4(UsageLogging.scala:685)\n\tat com.databricks.logging.UsageLogging.$anonfun$withAttributionContext$1(UsageLogging.scala:426)\n\tat scala.util.DynamicVariable.withValue(DynamicVariable.scala:62)\n\tat com.databricks.logging.AttributionContext$.withValue(AttributionContext.scala:196)\n\tat com.databricks.logging.UsageLogging.withAttributionContext(UsageLogging.scala:424)\n\tat com.databricks.logging.UsageLogging.withAttributionContext$(UsageLogging.scala:418)\n\tat com.databricks.backend.daemon.driver.DriverWrapper.withAttributionContext(DriverWrapper.scala:76)\n\tat com.databricks.logging.UsageLogging.withAttributionTags(UsageLogging.scala:470)\n\tat com.databricks.logging.UsageLogging.withAttributionTags$(UsageLogging.scala:455)\n\tat com.databricks.backend.daemon.driver.DriverWrapper.withAttributionTags(DriverWrapper.scala:76)\n\tat com.databricks.logging.UsageLogging.recordOperationWithResultTags(UsageLogging.scala:662)\n\tat com.databricks.logging.UsageLogging.recordOperationWithResultTags$(UsageLogging.scala:580)\n\tat com.databricks.backend.daemon.driver.DriverWrapper.recordOperationWithResultTags(DriverWrapper.scala:76)\n\tat com.databricks.backend.daemon.driver.DriverWrapper.tryExecutingCommand(DriverWrapper.scala:891)\n\tat com.databricks.backend.daemon.driver.DriverWrapper.executeCommandAndGetError(DriverWrapper.scala:702)\n\tat com.databricks.backend.daemon.driver.DriverWrapper.executeCommand(DriverWrapper.scala:803)\n\tat com.databricks.backend.daemon.driver.DriverWrapper.$anonfun$runInnerLoop$1(DriverWrapper.scala:577)\n\tat scala.runtime.java8.JFunction0$mcV$sp.apply(JFunction0$mcV$sp.java:23)\n\tat com.databricks.logging.UsageLogging.$anonfun$withAttributionContext$1(UsageLogging.scala:426)\n\tat scala.util.DynamicVariable.withValue(DynamicVariable.scala:62)\n\tat com.databricks.logging.AttributionContext$.withValue(AttributionContext.scala:196)\n\tat com.databricks.logging.UsageLogging.withAttributionContext(UsageLogging.scala:424)\n\tat com.databricks.logging.UsageLogging.withAttributionContext$(UsageLogging.scala:418)\n\tat com.databricks.backend.daemon.driver.DriverWrapper.withAttributionContext(DriverWrapper.scala:76)\n\tat com.databricks.backend.daemon.driver.DriverWrapper.runInnerLoop(DriverWrapper.scala:577)\n\tat com.databricks.backend.daemon.driver.DriverWrapper.runInner(DriverWrapper.scala:487)\n\tat com.databricks.backend.daemon.driver.DriverWrapper.run(DriverWrapper.scala:296)\n\tat java.lang.Thread.run(Thread.java:750)\n\n\tat com.databricks.backend.daemon.driver.DriverLocal.executeSql(DriverLocal.scala:379)\n\tat com.databricks.backend.daemon.driver.JupyterDriverLocal.repl(JupyterDriverLocal.scala:709)\n\tat com.databricks.backend.daemon.driver.DriverLocal.$anonfun$execute$34(DriverLocal.scala:1015)\n\tat com.databricks.unity.EmptyHandle$.runWith(UCSHandle.scala:128)\n\tat com.databricks.backend.daemon.driver.DriverLocal.$anonfun$execute$23(DriverLocal.scala:1006)\n\tat com.databricks.logging.UsageLogging.$anonfun$withAttributionContext$1(UsageLogging.scala:426)\n\tat scala.util.DynamicVariable.withValue(DynamicVariable.scala:62)\n\tat com.databricks.logging.AttributionContext$.withValue(AttributionContext.scala:196)\n\tat com.databricks.logging.UsageLogging.withAttributionContext(UsageLogging.scala:424)\n\tat com.databricks.logging.UsageLogging.withAttributionContext$(UsageLogging.scala:418)\n\tat com.databricks.backend.daemon.driver.DriverLocal.withAttributionContext(DriverLocal.scala:72)\n\tat com.databricks.logging.UsageLogging.withAttributionTags(UsageLogging.scala:470)\n\tat com.databricks.logging.UsageLogging.withAttributionTags$(UsageLogging.scala:455)\n\tat com.databricks.backend.daemon.driver.DriverLocal.withAttributionTags(DriverLocal.scala:72)\n\tat com.databricks.backend.daemon.driver.DriverLocal.execute(DriverLocal.scala:961)\n\tat com.databricks.backend.daemon.driver.DriverWrapper.$anonfun$tryExecutingCommand$2(DriverWrapper.scala:859)\n\tat scala.util.Try$.apply(Try.scala:213)\n\tat com.databricks.backend.daemon.driver.DriverWrapper.$anonfun$tryExecutingCommand$1(DriverWrapper.scala:851)\n\tat com.databricks.backend.daemon.driver.DriverWrapper.$anonfun$tryExecutingCommand$3(DriverWrapper.scala:891)\n\tat com.databricks.logging.UsageLogging.executeThunkAndCaptureResultTags$1(UsageLogging.scala:667)\n\tat com.databricks.logging.UsageLogging.$anonfun$recordOperationWithResultTags$4(UsageLogging.scala:685)\n\tat com.databricks.logging.UsageLogging.$anonfun$withAttributionContext$1(UsageLogging.scala:426)\n\tat scala.util.DynamicVariable.withValue(DynamicVariable.scala:62)\n\tat com.databricks.logging.AttributionContext$.withValue(AttributionContext.scala:196)\n\tat com.databricks.logging.UsageLogging.withAttributionContext(UsageLogging.scala:424)\n\tat com.databricks.logging.UsageLogging.withAttributionContext$(UsageLogging.scala:418)\n\tat com.databricks.backend.daemon.driver.DriverWrapper.withAttributionContext(DriverWrapper.scala:76)\n\tat com.databricks.logging.UsageLogging.withAttributionTags(UsageLogging.scala:470)\n\tat com.databricks.logging.UsageLogging.withAttributionTags$(UsageLogging.scala:455)\n\tat com.databricks.backend.daemon.driver.DriverWrapper.withAttributionTags(DriverWrapper.scala:76)\n\tat com.databricks.logging.UsageLogging.recordOperationWithResultTags(UsageLogging.scala:662)\n\tat com.databricks.logging.UsageLogging.recordOperationWithResultTags$(UsageLogging.scala:580)\n\tat com.databricks.backend.daemon.driver.DriverWrapper.recordOperationWithResultTags(DriverWrapper.scala:76)\n\tat com.databricks.backend.daemon.driver.DriverWrapper.tryExecutingCommand(DriverWrapper.scala:891)\n\tat com.databricks.backend.daemon.driver.DriverWrapper.executeCommandAndGetError(DriverWrapper.scala:702)\n\tat com.databricks.backend.daemon.driver.DriverWrapper.executeCommand(DriverWrapper.scala:803)\n\tat com.databricks.backend.daemon.driver.DriverWrapper.$anonfun$runInnerLoop$1(DriverWrapper.scala:577)\n\tat scala.runtime.java8.JFunction0$mcV$sp.apply(JFunction0$mcV$sp.java:23)\n\tat com.databricks.logging.UsageLogging.$anonfun$withAttributionContext$1(UsageLogging.scala:426)\n\tat scala.util.DynamicVariable.withValue(DynamicVariable.scala:62)\n\tat com.databricks.logging.AttributionContext$.withValue(AttributionContext.scala:196)\n\tat com.databricks.logging.UsageLogging.withAttributionContext(UsageLogging.scala:424)\n\tat com.databricks.logging.UsageLogging.withAttributionContext$(UsageLogging.scala:418)\n\tat com.databricks.backend.daemon.driver.DriverWrapper.withAttributionContext(DriverWrapper.scala:76)\n\tat com.databricks.backend.daemon.driver.DriverWrapper.runInnerLoop(DriverWrapper.scala:577)\n\tat com.databricks.backend.daemon.driver.DriverWrapper.runInner(DriverWrapper.scala:487)\n\tat com.databricks.backend.daemon.driver.DriverWrapper.run(DriverWrapper.scala:296)\n\tat java.lang.Thread.run(Thread.java:750)\n",
       "errorSummary": "TableAlreadyExistsException: [TABLE_OR_VIEW_ALREADY_EXISTS] Cannot create table or view `spark_catalog`.`default`.`flights_from_select` because it already exists.\nChoose a different name, drop or replace the existing object, add the IF NOT EXISTS clause to tolerate pre-existing objects, or add the OR REFRESH clause to refresh the existing streaming table.",
       "errorTraceType": "html",
       "metadata": {},
       "type": "ipynbError"
      }
     },
     "output_type": "display_data"
    }
   ],
   "source": [
    "%sql\n",
    "CREATE TABLE flights_from_select USING parquet AS SELECT * FROM flights"
   ]
  },
  {
   "cell_type": "code",
   "execution_count": 0,
   "metadata": {
    "application/vnd.databricks.v1+cell": {
     "cellMetadata": {
      "byteLimit": 2048000,
      "implicitDf": true,
      "rowLimit": 10000
     },
     "inputWidgets": {},
     "nuid": "fae62541-2f1d-4072-b937-a6d5d6f274fa",
     "showTitle": false,
     "title": ""
    }
   },
   "outputs": [
    {
     "output_type": "display_data",
     "data": {
      "text/html": [
       "<style scoped>\n",
       "  .table-result-container {\n",
       "    max-height: 300px;\n",
       "    overflow: auto;\n",
       "  }\n",
       "  table, th, td {\n",
       "    border: 1px solid black;\n",
       "    border-collapse: collapse;\n",
       "  }\n",
       "  th, td {\n",
       "    padding: 5px;\n",
       "  }\n",
       "  th {\n",
       "    text-align: left;\n",
       "  }\n",
       "</style><div class='table-result-container'><table class='table-result'><thead style='background-color: white'><tr></tr></thead><tbody></tbody></table></div>"
      ]
     },
     "metadata": {
      "application/vnd.databricks.v1+output": {
       "addedWidgets": {},
       "aggData": [],
       "aggError": "",
       "aggOverflow": false,
       "aggSchema": [],
       "aggSeriesLimitReached": false,
       "aggType": "",
       "arguments": {},
       "columnCustomDisplayInfos": {},
       "data": [],
       "datasetInfos": [],
       "dbfsResultPath": null,
       "isJsonSchema": true,
       "metadata": {
        "dataframeName": null
       },
       "overflow": false,
       "plotOptions": {
        "customPlotOptions": {},
        "displayType": "table",
        "pivotAggregation": null,
        "pivotColumns": null,
        "xColumns": null,
        "yColumns": null
       },
       "removedWidgets": [],
       "schema": [],
       "type": "table"
      }
     },
     "output_type": "display_data"
    }
   ],
   "source": [
    "%sql\n",
    "INSERT INTO flights_from_select\n",
    "SELECT DEST_COUNTRY_NAME, ORIGIN_COUNTRY_NAME, count FROM flights LIMIT 20\n"
   ]
  },
  {
   "cell_type": "code",
   "execution_count": 0,
   "metadata": {
    "application/vnd.databricks.v1+cell": {
     "cellMetadata": {
      "byteLimit": 2048000,
      "implicitDf": true,
      "rowLimit": 10000
     },
     "inputWidgets": {},
     "nuid": "cb50299f-ad5f-45a4-86ad-aa7fcebc26ba",
     "showTitle": false,
     "title": ""
    }
   },
   "outputs": [
    {
     "output_type": "display_data",
     "data": {
      "text/html": [
       "<style scoped>\n",
       "  .table-result-container {\n",
       "    max-height: 300px;\n",
       "    overflow: auto;\n",
       "  }\n",
       "  table, th, td {\n",
       "    border: 1px solid black;\n",
       "    border-collapse: collapse;\n",
       "  }\n",
       "  th, td {\n",
       "    padding: 5px;\n",
       "  }\n",
       "  th {\n",
       "    text-align: left;\n",
       "  }\n",
       "</style><div class='table-result-container'><table class='table-result'><thead style='background-color: white'><tr><th>col_name</th><th>data_type</th><th>comment</th></tr></thead><tbody><tr><td>DEST_COUNTRY_NAME</td><td>string</td><td>null</td></tr><tr><td>ORIGIN_COUNTRY_NAME</td><td>string</td><td>null</td></tr><tr><td>count</td><td>bigint</td><td>null</td></tr></tbody></table></div>"
      ]
     },
     "metadata": {
      "application/vnd.databricks.v1+output": {
       "addedWidgets": {},
       "aggData": [],
       "aggError": "",
       "aggOverflow": false,
       "aggSchema": [],
       "aggSeriesLimitReached": false,
       "aggType": "",
       "arguments": {},
       "columnCustomDisplayInfos": {},
       "data": [
        [
         "DEST_COUNTRY_NAME",
         "string",
         null
        ],
        [
         "ORIGIN_COUNTRY_NAME",
         "string",
         null
        ],
        [
         "count",
         "bigint",
         null
        ]
       ],
       "datasetInfos": [],
       "dbfsResultPath": null,
       "isJsonSchema": true,
       "metadata": {
        "dataframeName": "_sqldf",
        "executionCount": 375
       },
       "overflow": false,
       "plotOptions": {
        "customPlotOptions": {},
        "displayType": "table",
        "pivotAggregation": null,
        "pivotColumns": null,
        "xColumns": null,
        "yColumns": null
       },
       "removedWidgets": [],
       "schema": [
        {
         "metadata": "{\"comment\":\"name of the column\"}",
         "name": "col_name",
         "type": "\"string\""
        },
        {
         "metadata": "{\"comment\":\"data type of the column\"}",
         "name": "data_type",
         "type": "\"string\""
        },
        {
         "metadata": "{\"comment\":\"comment of the column\"}",
         "name": "comment",
         "type": "\"string\""
        }
       ],
       "type": "table"
      }
     },
     "output_type": "display_data"
    }
   ],
   "source": [
    "%sql\n",
    "DESCRIBE TABLE flights_from_select"
   ]
  },
  {
   "cell_type": "code",
   "execution_count": 0,
   "metadata": {
    "application/vnd.databricks.v1+cell": {
     "cellMetadata": {
      "byteLimit": 2048000,
      "implicitDf": true,
      "rowLimit": 10000
     },
     "inputWidgets": {},
     "nuid": "6a833d19-27b6-47ec-b483-49393498ae75",
     "showTitle": false,
     "title": ""
    }
   },
   "outputs": [
    {
     "output_type": "display_data",
     "data": {
      "text/html": [
       "<style scoped>\n",
       "  .table-result-container {\n",
       "    max-height: 300px;\n",
       "    overflow: auto;\n",
       "  }\n",
       "  table, th, td {\n",
       "    border: 1px solid black;\n",
       "    border-collapse: collapse;\n",
       "  }\n",
       "  th, td {\n",
       "    padding: 5px;\n",
       "  }\n",
       "  th {\n",
       "    text-align: left;\n",
       "  }\n",
       "</style><div class='table-result-container'><table class='table-result'><thead style='background-color: white'><tr></tr></thead><tbody></tbody></table></div>"
      ]
     },
     "metadata": {
      "application/vnd.databricks.v1+output": {
       "addedWidgets": {},
       "aggData": [],
       "aggError": "",
       "aggOverflow": false,
       "aggSchema": [],
       "aggSeriesLimitReached": false,
       "aggType": "",
       "arguments": {},
       "columnCustomDisplayInfos": {},
       "data": [],
       "datasetInfos": [],
       "dbfsResultPath": null,
       "isJsonSchema": true,
       "metadata": {
        "dataframeName": null
       },
       "overflow": false,
       "plotOptions": {
        "customPlotOptions": {},
        "displayType": "table",
        "pivotAggregation": null,
        "pivotColumns": null,
        "xColumns": null,
        "yColumns": null
       },
       "removedWidgets": [],
       "schema": [],
       "type": "table"
      }
     },
     "output_type": "display_data"
    }
   ],
   "source": [
    "%sql\n",
    "DROP TABLE IF EXISTS flights_csv;"
   ]
  },
  {
   "cell_type": "code",
   "execution_count": 0,
   "metadata": {
    "application/vnd.databricks.v1+cell": {
     "cellMetadata": {
      "byteLimit": 2048000,
      "implicitDf": true,
      "rowLimit": 10000
     },
     "inputWidgets": {},
     "nuid": "cdfcf8e4-dd03-474a-8004-1857f12d94d6",
     "showTitle": false,
     "title": ""
    }
   },
   "outputs": [
    {
     "output_type": "display_data",
     "data": {
      "text/html": [
       "<style scoped>\n",
       "  .table-result-container {\n",
       "    max-height: 300px;\n",
       "    overflow: auto;\n",
       "  }\n",
       "  table, th, td {\n",
       "    border: 1px solid black;\n",
       "    border-collapse: collapse;\n",
       "  }\n",
       "  th, td {\n",
       "    padding: 5px;\n",
       "  }\n",
       "  th {\n",
       "    text-align: left;\n",
       "  }\n",
       "</style><div class='table-result-container'><table class='table-result'><thead style='background-color: white'><tr></tr></thead><tbody></tbody></table></div>"
      ]
     },
     "metadata": {
      "application/vnd.databricks.v1+output": {
       "addedWidgets": {},
       "aggData": [],
       "aggError": "",
       "aggOverflow": false,
       "aggSchema": [],
       "aggSeriesLimitReached": false,
       "aggType": "",
       "arguments": {},
       "columnCustomDisplayInfos": {},
       "data": [],
       "datasetInfos": [],
       "dbfsResultPath": null,
       "isJsonSchema": true,
       "metadata": {
        "dataframeName": null
       },
       "overflow": false,
       "plotOptions": {
        "customPlotOptions": {},
        "displayType": "table",
        "pivotAggregation": null,
        "pivotColumns": null,
        "xColumns": null,
        "yColumns": null
       },
       "removedWidgets": [],
       "schema": [],
       "type": "table"
      }
     },
     "output_type": "display_data"
    }
   ],
   "source": [
    "%sql\n",
    "CREATE VIEW just_usa_view AS\n",
    "SELECT * FROM flights WHERE dest_country_name = 'United States'\n"
   ]
  },
  {
   "cell_type": "code",
   "execution_count": 0,
   "metadata": {
    "application/vnd.databricks.v1+cell": {
     "cellMetadata": {
      "byteLimit": 2048000,
      "implicitDf": true,
      "rowLimit": 10000
     },
     "inputWidgets": {},
     "nuid": "00371dd5-cc81-4752-89ec-2dee76457103",
     "showTitle": false,
     "title": ""
    }
   },
   "outputs": [
    {
     "output_type": "display_data",
     "data": {
      "text/html": [
       "<style scoped>\n",
       "  .table-result-container {\n",
       "    max-height: 300px;\n",
       "    overflow: auto;\n",
       "  }\n",
       "  table, th, td {\n",
       "    border: 1px solid black;\n",
       "    border-collapse: collapse;\n",
       "  }\n",
       "  th, td {\n",
       "    padding: 5px;\n",
       "  }\n",
       "  th {\n",
       "    text-align: left;\n",
       "  }\n",
       "</style><div class='table-result-container'><table class='table-result'><thead style='background-color: white'><tr></tr></thead><tbody></tbody></table></div>"
      ]
     },
     "metadata": {
      "application/vnd.databricks.v1+output": {
       "addedWidgets": {},
       "aggData": [],
       "aggError": "",
       "aggOverflow": false,
       "aggSchema": [],
       "aggSeriesLimitReached": false,
       "aggType": "",
       "arguments": {},
       "columnCustomDisplayInfos": {},
       "data": [],
       "datasetInfos": [],
       "dbfsResultPath": null,
       "isJsonSchema": true,
       "metadata": {
        "dataframeName": null
       },
       "overflow": false,
       "plotOptions": {
        "customPlotOptions": {},
        "displayType": "table",
        "pivotAggregation": null,
        "pivotColumns": null,
        "xColumns": null,
        "yColumns": null
       },
       "removedWidgets": [],
       "schema": [],
       "type": "table"
      }
     },
     "output_type": "display_data"
    }
   ],
   "source": [
    "%sql\n",
    "DROP VIEW IF EXISTS just_usa_view;\n"
   ]
  },
  {
   "cell_type": "code",
   "execution_count": 0,
   "metadata": {
    "application/vnd.databricks.v1+cell": {
     "cellMetadata": {
      "byteLimit": 2048000,
      "implicitDf": true,
      "rowLimit": 10000
     },
     "inputWidgets": {},
     "nuid": "659dea8a-623a-4d73-9cc5-31a0675f6267",
     "showTitle": false,
     "title": ""
    }
   },
   "outputs": [
    {
     "output_type": "display_data",
     "data": {
      "text/html": [
       "<style scoped>\n",
       "  .table-result-container {\n",
       "    max-height: 300px;\n",
       "    overflow: auto;\n",
       "  }\n",
       "  table, th, td {\n",
       "    border: 1px solid black;\n",
       "    border-collapse: collapse;\n",
       "  }\n",
       "  th, td {\n",
       "    padding: 5px;\n",
       "  }\n",
       "  th {\n",
       "    text-align: left;\n",
       "  }\n",
       "</style><div class='table-result-container'><table class='table-result'><thead style='background-color: white'><tr><th>databaseName</th></tr></thead><tbody><tr><td>default</td></tr></tbody></table></div>"
      ]
     },
     "metadata": {
      "application/vnd.databricks.v1+output": {
       "addedWidgets": {},
       "aggData": [],
       "aggError": "",
       "aggOverflow": false,
       "aggSchema": [],
       "aggSeriesLimitReached": false,
       "aggType": "",
       "arguments": {},
       "columnCustomDisplayInfos": {},
       "data": [
        [
         "default"
        ]
       ],
       "datasetInfos": [],
       "dbfsResultPath": null,
       "isJsonSchema": true,
       "metadata": {
        "dataframeName": "_sqldf",
        "executionCount": 376
       },
       "overflow": false,
       "plotOptions": {
        "customPlotOptions": {},
        "displayType": "table",
        "pivotAggregation": null,
        "pivotColumns": null,
        "xColumns": null,
        "yColumns": null
       },
       "removedWidgets": [],
       "schema": [
        {
         "metadata": "{}",
         "name": "databaseName",
         "type": "\"string\""
        }
       ],
       "type": "table"
      }
     },
     "output_type": "display_data"
    }
   ],
   "source": [
    "%sql\n",
    "SHOW DATABASES\n"
   ]
  },
  {
   "cell_type": "code",
   "execution_count": 0,
   "metadata": {
    "application/vnd.databricks.v1+cell": {
     "cellMetadata": {
      "byteLimit": 2048000,
      "implicitDf": true,
      "rowLimit": 10000
     },
     "inputWidgets": {},
     "nuid": "3d763f63-8cfb-43b2-9aab-5c3149ac8694",
     "showTitle": false,
     "title": ""
    }
   },
   "outputs": [
    {
     "output_type": "display_data",
     "data": {
      "text/html": [
       "<style scoped>\n",
       "  .table-result-container {\n",
       "    max-height: 300px;\n",
       "    overflow: auto;\n",
       "  }\n",
       "  table, th, td {\n",
       "    border: 1px solid black;\n",
       "    border-collapse: collapse;\n",
       "  }\n",
       "  th, td {\n",
       "    padding: 5px;\n",
       "  }\n",
       "  th {\n",
       "    text-align: left;\n",
       "  }\n",
       "</style><div class='table-result-container'><table class='table-result'><thead style='background-color: white'><tr></tr></thead><tbody></tbody></table></div>"
      ]
     },
     "metadata": {
      "application/vnd.databricks.v1+output": {
       "addedWidgets": {},
       "aggData": [],
       "aggError": "",
       "aggOverflow": false,
       "aggSchema": [],
       "aggSeriesLimitReached": false,
       "aggType": "",
       "arguments": {},
       "columnCustomDisplayInfos": {},
       "data": [],
       "datasetInfos": [],
       "dbfsResultPath": null,
       "isJsonSchema": true,
       "metadata": {
        "dataframeName": null
       },
       "overflow": false,
       "plotOptions": {
        "customPlotOptions": {},
        "displayType": "table",
        "pivotAggregation": null,
        "pivotColumns": null,
        "xColumns": null,
        "yColumns": null
       },
       "removedWidgets": [],
       "schema": [],
       "type": "table"
      }
     },
     "output_type": "display_data"
    }
   ],
   "source": [
    "%sql\n",
    "CREATE DATABASE some_db\n"
   ]
  },
  {
   "cell_type": "code",
   "execution_count": 0,
   "metadata": {
    "application/vnd.databricks.v1+cell": {
     "cellMetadata": {
      "byteLimit": 2048000,
      "implicitDf": true,
      "rowLimit": 10000
     },
     "inputWidgets": {},
     "nuid": "09c6ef9f-efdd-49c5-b82b-bd150facf74e",
     "showTitle": false,
     "title": ""
    }
   },
   "outputs": [
    {
     "output_type": "display_data",
     "data": {
      "text/html": [
       "<style scoped>\n",
       "  .table-result-container {\n",
       "    max-height: 300px;\n",
       "    overflow: auto;\n",
       "  }\n",
       "  table, th, td {\n",
       "    border: 1px solid black;\n",
       "    border-collapse: collapse;\n",
       "  }\n",
       "  th, td {\n",
       "    padding: 5px;\n",
       "  }\n",
       "  th {\n",
       "    text-align: left;\n",
       "  }\n",
       "</style><div class='table-result-container'><table class='table-result'><thead style='background-color: white'><tr></tr></thead><tbody></tbody></table></div>"
      ]
     },
     "metadata": {
      "application/vnd.databricks.v1+output": {
       "addedWidgets": {},
       "aggData": [],
       "aggError": "",
       "aggOverflow": false,
       "aggSchema": [],
       "aggSeriesLimitReached": false,
       "aggType": "",
       "arguments": {},
       "columnCustomDisplayInfos": {},
       "data": [],
       "datasetInfos": [],
       "dbfsResultPath": null,
       "isJsonSchema": true,
       "metadata": {
        "dataframeName": null
       },
       "overflow": false,
       "plotOptions": {
        "customPlotOptions": {},
        "displayType": "table",
        "pivotAggregation": null,
        "pivotColumns": null,
        "xColumns": null,
        "yColumns": null
       },
       "removedWidgets": [],
       "schema": [],
       "type": "table"
      }
     },
     "output_type": "display_data"
    }
   ],
   "source": [
    "%sql\n",
    "USE some_db"
   ]
  },
  {
   "cell_type": "code",
   "execution_count": 0,
   "metadata": {
    "application/vnd.databricks.v1+cell": {
     "cellMetadata": {
      "byteLimit": 2048000,
      "implicitDf": true,
      "rowLimit": 10000
     },
     "inputWidgets": {},
     "nuid": "ee018b2a-9e33-47e7-97b8-cac63745c88b",
     "showTitle": false,
     "title": ""
    }
   },
   "outputs": [
    {
     "output_type": "display_data",
     "data": {
      "text/html": [
       "<style scoped>\n",
       "  .table-result-container {\n",
       "    max-height: 300px;\n",
       "    overflow: auto;\n",
       "  }\n",
       "  table, th, td {\n",
       "    border: 1px solid black;\n",
       "    border-collapse: collapse;\n",
       "  }\n",
       "  th, td {\n",
       "    padding: 5px;\n",
       "  }\n",
       "  th {\n",
       "    text-align: left;\n",
       "  }\n",
       "</style><div class='table-result-container'><table class='table-result'><thead style='background-color: white'><tr><th>database</th><th>tableName</th><th>isTemporary</th></tr></thead><tbody><tr><td></td><td>datetable</td><td>true</td></tr><tr><td></td><td>datetable2</td><td>true</td></tr><tr><td></td><td>dfnonull</td><td>true</td></tr><tr><td></td><td>dftable</td><td>true</td></tr><tr><td></td><td>dfwithdate</td><td>true</td></tr><tr><td></td><td>flight_data_2015</td><td>true</td></tr><tr><td></td><td>gradprogram2</td><td>true</td></tr><tr><td></td><td>graduateprogram</td><td>true</td></tr><tr><td></td><td>person</td><td>true</td></tr><tr><td></td><td>retail_data</td><td>true</td></tr><tr><td></td><td>sparkstatus</td><td>true</td></tr></tbody></table></div>"
      ]
     },
     "metadata": {
      "application/vnd.databricks.v1+output": {
       "addedWidgets": {},
       "aggData": [],
       "aggError": "",
       "aggOverflow": false,
       "aggSchema": [],
       "aggSeriesLimitReached": false,
       "aggType": "",
       "arguments": {},
       "columnCustomDisplayInfos": {},
       "data": [
        [
         "",
         "datetable",
         true
        ],
        [
         "",
         "datetable2",
         true
        ],
        [
         "",
         "dfnonull",
         true
        ],
        [
         "",
         "dftable",
         true
        ],
        [
         "",
         "dfwithdate",
         true
        ],
        [
         "",
         "flight_data_2015",
         true
        ],
        [
         "",
         "gradprogram2",
         true
        ],
        [
         "",
         "graduateprogram",
         true
        ],
        [
         "",
         "person",
         true
        ],
        [
         "",
         "retail_data",
         true
        ],
        [
         "",
         "sparkstatus",
         true
        ]
       ],
       "datasetInfos": [],
       "dbfsResultPath": null,
       "isJsonSchema": true,
       "metadata": {
        "dataframeName": "_sqldf",
        "executionCount": 377
       },
       "overflow": false,
       "plotOptions": {
        "customPlotOptions": {},
        "displayType": "table",
        "pivotAggregation": null,
        "pivotColumns": null,
        "xColumns": null,
        "yColumns": null
       },
       "removedWidgets": [],
       "schema": [
        {
         "metadata": "{}",
         "name": "database",
         "type": "\"string\""
        },
        {
         "metadata": "{}",
         "name": "tableName",
         "type": "\"string\""
        },
        {
         "metadata": "{}",
         "name": "isTemporary",
         "type": "\"boolean\""
        }
       ],
       "type": "table"
      }
     },
     "output_type": "display_data"
    }
   ],
   "source": [
    "%sql\n",
    "SHOW tables"
   ]
  },
  {
   "cell_type": "code",
   "execution_count": 0,
   "metadata": {
    "application/vnd.databricks.v1+cell": {
     "cellMetadata": {
      "byteLimit": 2048000,
      "implicitDf": true,
      "rowLimit": 10000
     },
     "inputWidgets": {},
     "nuid": "a41789f6-a700-40c1-9850-6447161e3373",
     "showTitle": false,
     "title": ""
    }
   },
   "outputs": [
    {
     "output_type": "display_data",
     "data": {
      "text/html": [
       "<style scoped>\n",
       "  .table-result-container {\n",
       "    max-height: 300px;\n",
       "    overflow: auto;\n",
       "  }\n",
       "  table, th, td {\n",
       "    border: 1px solid black;\n",
       "    border-collapse: collapse;\n",
       "  }\n",
       "  th, td {\n",
       "    padding: 5px;\n",
       "  }\n",
       "  th {\n",
       "    text-align: left;\n",
       "  }\n",
       "</style><div class='table-result-container'><table class='table-result'><thead style='background-color: white'><tr><th>DEST_COUNTRY_NAME</th><th>ORIGIN_COUNTRY_NAME</th><th>count</th></tr></thead><tbody><tr><td>United States</td><td>Romania</td><td>15</td></tr><tr><td>United States</td><td>Croatia</td><td>1</td></tr><tr><td>United States</td><td>Ireland</td><td>344</td></tr><tr><td>Egypt</td><td>United States</td><td>15</td></tr><tr><td>United States</td><td>India</td><td>62</td></tr><tr><td>United States</td><td>Singapore</td><td>1</td></tr><tr><td>United States</td><td>Grenada</td><td>62</td></tr><tr><td>Costa Rica</td><td>United States</td><td>588</td></tr><tr><td>Senegal</td><td>United States</td><td>40</td></tr><tr><td>Moldova</td><td>United States</td><td>1</td></tr><tr><td>United States</td><td>Sint Maarten</td><td>325</td></tr><tr><td>United States</td><td>Marshall Islands</td><td>39</td></tr><tr><td>Guyana</td><td>United States</td><td>64</td></tr><tr><td>Malta</td><td>United States</td><td>1</td></tr><tr><td>Anguilla</td><td>United States</td><td>41</td></tr><tr><td>Bolivia</td><td>United States</td><td>30</td></tr><tr><td>United States</td><td>Paraguay</td><td>6</td></tr><tr><td>Algeria</td><td>United States</td><td>4</td></tr><tr><td>Turks and Caicos Islands</td><td>United States</td><td>230</td></tr><tr><td>United States</td><td>Gibraltar</td><td>1</td></tr><tr><td>Saint Vincent and the Grenadines</td><td>United States</td><td>1</td></tr><tr><td>Italy</td><td>United States</td><td>382</td></tr><tr><td>United States</td><td>Federated States of Micronesia</td><td>69</td></tr><tr><td>United States</td><td>Russia</td><td>161</td></tr><tr><td>Pakistan</td><td>United States</td><td>12</td></tr><tr><td>United States</td><td>Netherlands</td><td>660</td></tr><tr><td>Iceland</td><td>United States</td><td>181</td></tr><tr><td>Marshall Islands</td><td>United States</td><td>42</td></tr><tr><td>Luxembourg</td><td>United States</td><td>155</td></tr><tr><td>Honduras</td><td>United States</td><td>362</td></tr><tr><td>The Bahamas</td><td>United States</td><td>955</td></tr><tr><td>United States</td><td>Senegal</td><td>42</td></tr><tr><td>El Salvador</td><td>United States</td><td>561</td></tr><tr><td>Samoa</td><td>United States</td><td>25</td></tr><tr><td>United States</td><td>Angola</td><td>13</td></tr><tr><td>Switzerland</td><td>United States</td><td>294</td></tr><tr><td>United States</td><td>Anguilla</td><td>38</td></tr><tr><td>Sint Maarten</td><td>United States</td><td>325</td></tr><tr><td>Hong Kong</td><td>United States</td><td>332</td></tr><tr><td>Trinidad and Tobago</td><td>United States</td><td>211</td></tr><tr><td>Latvia</td><td>United States</td><td>19</td></tr><tr><td>United States</td><td>Ecuador</td><td>300</td></tr><tr><td>Suriname</td><td>United States</td><td>1</td></tr><tr><td>Mexico</td><td>United States</td><td>7140</td></tr><tr><td>United States</td><td>Cyprus</td><td>1</td></tr><tr><td>Ecuador</td><td>United States</td><td>268</td></tr><tr><td>United States</td><td>Portugal</td><td>134</td></tr><tr><td>United States</td><td>Costa Rica</td><td>608</td></tr><tr><td>United States</td><td>Guatemala</td><td>318</td></tr><tr><td>United States</td><td>Suriname</td><td>34</td></tr><tr><td>Colombia</td><td>United States</td><td>873</td></tr><tr><td>United States</td><td>Cape Verde</td><td>14</td></tr><tr><td>United States</td><td>Jamaica</td><td>712</td></tr><tr><td>Norway</td><td>United States</td><td>121</td></tr><tr><td>United States</td><td>Malaysia</td><td>3</td></tr><tr><td>United States</td><td>Morocco</td><td>19</td></tr><tr><td>Thailand</td><td>United States</td><td>3</td></tr><tr><td>United States</td><td>Samoa</td><td>25</td></tr><tr><td>Venezuela</td><td>United States</td><td>290</td></tr><tr><td>United States</td><td>Palau</td><td>31</td></tr><tr><td>United States</td><td>Venezuela</td><td>246</td></tr><tr><td>Panama</td><td>United States</td><td>510</td></tr><tr><td>Antigua and Barbuda</td><td>United States</td><td>126</td></tr><tr><td>United States</td><td>Chile</td><td>185</td></tr><tr><td>Morocco</td><td>United States</td><td>15</td></tr><tr><td>United States</td><td>Finland</td><td>28</td></tr><tr><td>Azerbaijan</td><td>United States</td><td>21</td></tr><tr><td>United States</td><td>Greece</td><td>23</td></tr><tr><td>United States</td><td>The Bahamas</td><td>986</td></tr><tr><td>New Zealand</td><td>United States</td><td>111</td></tr><tr><td>Liberia</td><td>United States</td><td>2</td></tr><tr><td>United States</td><td>Hong Kong</td><td>414</td></tr><tr><td>Hungary</td><td>United States</td><td>2</td></tr><tr><td>United States</td><td>China</td><td>920</td></tr><tr><td>United States</td><td>Vietnam</td><td>2</td></tr><tr><td>Burkina Faso</td><td>United States</td><td>1</td></tr><tr><td>Sweden</td><td>United States</td><td>118</td></tr><tr><td>United States</td><td>Kuwait</td><td>28</td></tr><tr><td>United States</td><td>Dominican Republic</td><td>1420</td></tr><tr><td>United States</td><td>Egypt</td><td>12</td></tr><tr><td>Israel</td><td>United States</td><td>134</td></tr><tr><td>United States</td><td>United States</td><td>370002</td></tr><tr><td>Ethiopia</td><td>United States</td><td>13</td></tr><tr><td>United States</td><td>Luxembourg</td><td>134</td></tr><tr><td>United States</td><td>Poland</td><td>33</td></tr><tr><td>Martinique</td><td>United States</td><td>44</td></tr><tr><td>United States</td><td>Saint Barthelemy</td><td>41</td></tr><tr><td>Saint Barthelemy</td><td>United States</td><td>39</td></tr><tr><td>Barbados</td><td>United States</td><td>154</td></tr><tr><td>United States</td><td>Turkey</td><td>129</td></tr><tr><td>Djibouti</td><td>United States</td><td>1</td></tr><tr><td>United States</td><td>Azerbaijan</td><td>21</td></tr><tr><td>United States</td><td>Estonia</td><td>1</td></tr><tr><td>Germany</td><td>United States</td><td>1468</td></tr><tr><td>United States</td><td>South Korea</td><td>827</td></tr><tr><td>United States</td><td>El Salvador</td><td>508</td></tr><tr><td>Ireland</td><td>United States</td><td>335</td></tr><tr><td>United States</td><td>Hungary</td><td>3</td></tr><tr><td>Zambia</td><td>United States</td><td>1</td></tr><tr><td>Malaysia</td><td>United States</td><td>2</td></tr><tr><td>United States</td><td>Ethiopia</td><td>12</td></tr><tr><td>United States</td><td>Panama</td><td>465</td></tr><tr><td>United States</td><td>Aruba</td><td>342</td></tr><tr><td>United States</td><td>Thailand</td><td>4</td></tr><tr><td>United States</td><td>Turks and Caicos Islands</td><td>236</td></tr><tr><td>Croatia</td><td>United States</td><td>2</td></tr><tr><td>United States</td><td>Pakistan</td><td>12</td></tr><tr><td>Cyprus</td><td>United States</td><td>1</td></tr><tr><td>United States</td><td>Honduras</td><td>407</td></tr><tr><td>Fiji</td><td>United States</td><td>24</td></tr><tr><td>Qatar</td><td>United States</td><td>108</td></tr><tr><td>Saint Kitts and Nevis</td><td>United States</td><td>139</td></tr><tr><td>Kuwait</td><td>United States</td><td>32</td></tr><tr><td>Taiwan</td><td>United States</td><td>266</td></tr><tr><td>Haiti</td><td>United States</td><td>226</td></tr><tr><td>Canada</td><td>United States</td><td>8399</td></tr><tr><td>Federated States of Micronesia</td><td>United States</td><td>69</td></tr><tr><td>United States</td><td>Liberia</td><td>2</td></tr><tr><td>Jamaica</td><td>United States</td><td>666</td></tr><tr><td>United States</td><td>Malta</td><td>2</td></tr><tr><td>Dominican Republic</td><td>United States</td><td>1353</td></tr><tr><td>Japan</td><td>United States</td><td>1548</td></tr><tr><td>United States</td><td>Lithuania</td><td>1</td></tr><tr><td>Finland</td><td>United States</td><td>26</td></tr><tr><td>United States</td><td>Guadeloupe</td><td>59</td></tr><tr><td>United States</td><td>Ukraine</td><td>13</td></tr><tr><td>United States</td><td>France</td><td>952</td></tr><tr><td>United States</td><td>Norway</td><td>115</td></tr><tr><td>Aruba</td><td>United States</td><td>346</td></tr><tr><td>French Guiana</td><td>United States</td><td>5</td></tr><tr><td>United States</td><td>Kiribati</td><td>35</td></tr><tr><td>India</td><td>United States</td><td>61</td></tr><tr><td>British Virgin Islands</td><td>United States</td><td>107</td></tr><tr><td>Brazil</td><td>United States</td><td>853</td></tr><tr><td>United States</td><td>Germany</td><td>1336</td></tr><tr><td>United States</td><td>New Zealand</td><td>74</td></tr><tr><td>French Polynesia</td><td>United States</td><td>43</td></tr><tr><td>United Arab Emirates</td><td>United States</td><td>320</td></tr><tr><td>Singapore</td><td>United States</td><td>3</td></tr><tr><td>United States</td><td>Mexico</td><td>7187</td></tr><tr><td>United States</td><td>Sweden</td><td>119</td></tr><tr><td>Netherlands</td><td>United States</td><td>776</td></tr><tr><td>United States</td><td>Martinique</td><td>43</td></tr><tr><td>United States</td><td>United Arab Emirates</td><td>313</td></tr><tr><td>United States</td><td>Bulgaria</td><td>1</td></tr><tr><td>Denmark</td><td>United States</td><td>153</td></tr><tr><td>China</td><td>United States</td><td>772</td></tr><tr><td>United States</td><td>Nicaragua</td><td>201</td></tr><tr><td>United States</td><td>Philippines</td><td>126</td></tr><tr><td>United States</td><td>Georgia</td><td>1</td></tr><tr><td>United States</td><td>Belgium</td><td>228</td></tr><tr><td>Cayman Islands</td><td>United States</td><td>314</td></tr><tr><td>Argentina</td><td>United States</td><td>180</td></tr><tr><td>Peru</td><td>United States</td><td>279</td></tr><tr><td>South Africa</td><td>United States</td><td>36</td></tr><tr><td>United States</td><td>Iceland</td><td>202</td></tr><tr><td>United States</td><td>Argentina</td><td>141</td></tr><tr><td>Spain</td><td>United States</td><td>420</td></tr><tr><td>Bermuda</td><td>United States</td><td>183</td></tr><tr><td>United States</td><td>Nigeria</td><td>50</td></tr><tr><td>United States</td><td>Austria</td><td>63</td></tr><tr><td>United States</td><td>Bonaire, Sint Eustatius, and Saba</td><td>59</td></tr><tr><td>Kiribati</td><td>United States</td><td>26</td></tr><tr><td>Saudi Arabia</td><td>United States</td><td>83</td></tr><tr><td>Czech Republic</td><td>United States</td><td>13</td></tr><tr><td>United States</td><td>Israel</td><td>127</td></tr><tr><td>Belgium</td><td>United States</td><td>259</td></tr><tr><td>United States</td><td>Saint Lucia</td><td>136</td></tr><tr><td>United States</td><td>Bahrain</td><td>1</td></tr><tr><td>United States</td><td>British Virgin Islands</td><td>80</td></tr><tr><td>Curacao</td><td>United States</td><td>90</td></tr><tr><td>Georgia</td><td>United States</td><td>2</td></tr><tr><td>United States</td><td>Denmark</td><td>152</td></tr><tr><td>United States</td><td>Guyana</td><td>63</td></tr><tr><td>Philippines</td><td>United States</td><td>134</td></tr><tr><td>Grenada</td><td>United States</td><td>53</td></tr><tr><td>Cape Verde</td><td>United States</td><td>20</td></tr><tr><td>Cote d'Ivoire</td><td>United States</td><td>1</td></tr><tr><td>Ukraine</td><td>United States</td><td>14</td></tr><tr><td>United States</td><td>Papua New Guinea</td><td>1</td></tr><tr><td>Russia</td><td>United States</td><td>176</td></tr><tr><td>United States</td><td>Saudi Arabia</td><td>70</td></tr><tr><td>Guatemala</td><td>United States</td><td>397</td></tr><tr><td>Saint Lucia</td><td>United States</td><td>123</td></tr><tr><td>Paraguay</td><td>United States</td><td>60</td></tr><tr><td>United States</td><td>Curacao</td><td>83</td></tr><tr><td>Kosovo</td><td>United States</td><td>1</td></tr><tr><td>United States</td><td>Taiwan</td><td>235</td></tr><tr><td>Tunisia</td><td>United States</td><td>3</td></tr><tr><td>United States</td><td>South Africa</td><td>40</td></tr><tr><td>Niger</td><td>United States</td><td>2</td></tr><tr><td>Turkey</td><td>United States</td><td>138</td></tr><tr><td>United Kingdom</td><td>United States</td><td>2025</td></tr><tr><td>Romania</td><td>United States</td><td>14</td></tr><tr><td>United States</td><td>Greenland</td><td>4</td></tr><tr><td>Papua New Guinea</td><td>United States</td><td>3</td></tr><tr><td>United States</td><td>Spain</td><td>442</td></tr><tr><td>Iraq</td><td>United States</td><td>1</td></tr><tr><td>United States</td><td>Italy</td><td>438</td></tr><tr><td>Cuba</td><td>United States</td><td>466</td></tr><tr><td>United States</td><td>Switzerland</td><td>305</td></tr><tr><td>Dominica</td><td>United States</td><td>20</td></tr><tr><td>United States</td><td>Japan</td><td>1496</td></tr><tr><td>Portugal</td><td>United States</td><td>127</td></tr><tr><td>United States</td><td>Brazil</td><td>619</td></tr><tr><td>Bahrain</td><td>United States</td><td>19</td></tr><tr><td>United States</td><td>Peru</td><td>337</td></tr><tr><td>Indonesia</td><td>United States</td><td>1</td></tr><tr><td>United States</td><td>Belize</td><td>193</td></tr><tr><td>United States</td><td>United Kingdom</td><td>1970</td></tr><tr><td>Belize</td><td>United States</td><td>188</td></tr><tr><td>United States</td><td>Ghana</td><td>20</td></tr><tr><td>United States</td><td>Indonesia</td><td>2</td></tr><tr><td>United States</td><td>Fiji</td><td>25</td></tr><tr><td>United States</td><td>Canada</td><td>8483</td></tr><tr><td>United States</td><td>Antigua and Barbuda</td><td>117</td></tr><tr><td>United States</td><td>French Polynesia</td><td>40</td></tr><tr><td>Nicaragua</td><td>United States</td><td>179</td></tr><tr><td>United States</td><td>Latvia</td><td>15</td></tr><tr><td>United States</td><td>Dominica</td><td>27</td></tr><tr><td>United States</td><td>Czech Republic</td><td>12</td></tr><tr><td>United States</td><td>Australia</td><td>258</td></tr><tr><td>United States</td><td>Cook Islands</td><td>13</td></tr><tr><td>Austria</td><td>United States</td><td>62</td></tr><tr><td>Jordan</td><td>United States</td><td>44</td></tr><tr><td>Palau</td><td>United States</td><td>30</td></tr><tr><td>South Korea</td><td>United States</td><td>1048</td></tr><tr><td>Angola</td><td>United States</td><td>15</td></tr><tr><td>Ghana</td><td>United States</td><td>18</td></tr><tr><td>New Caledonia</td><td>United States</td><td>1</td></tr><tr><td>Guadeloupe</td><td>United States</td><td>56</td></tr><tr><td>France</td><td>United States</td><td>935</td></tr><tr><td>Poland</td><td>United States</td><td>32</td></tr><tr><td>Nigeria</td><td>United States</td><td>59</td></tr><tr><td>United States</td><td>Uruguay</td><td>13</td></tr><tr><td>Greenland</td><td>United States</td><td>2</td></tr><tr><td>United States</td><td>Bermuda</td><td>193</td></tr><tr><td>Chile</td><td>United States</td><td>174</td></tr><tr><td>United States</td><td>Cuba</td><td>478</td></tr><tr><td>United States</td><td>Montenegro</td><td>1</td></tr><tr><td>United States</td><td>Colombia</td><td>867</td></tr><tr><td>United States</td><td>Barbados</td><td>130</td></tr><tr><td>United States</td><td>Qatar</td><td>109</td></tr><tr><td>Australia</td><td>United States</td><td>329</td></tr><tr><td>United States</td><td>Cayman Islands</td><td>310</td></tr><tr><td>United States</td><td>Jordan</td><td>44</td></tr><tr><td>United States</td><td>Namibia</td><td>1</td></tr><tr><td>United States</td><td>Trinidad and Tobago</td><td>217</td></tr><tr><td>United States</td><td>Bolivia</td><td>13</td></tr><tr><td>Cook Islands</td><td>United States</td><td>13</td></tr><tr><td>Bulgaria</td><td>United States</td><td>3</td></tr><tr><td>United States</td><td>Saint Kitts and Nevis</td><td>145</td></tr><tr><td>Uruguay</td><td>United States</td><td>43</td></tr><tr><td>United States</td><td>Haiti</td><td>225</td></tr><tr><td>Bonaire, Sint Eustatius, and Saba</td><td>United States</td><td>58</td></tr><tr><td>Greece</td><td>United States</td><td>30</td></tr></tbody></table></div>"
      ]
     },
     "metadata": {
      "application/vnd.databricks.v1+output": {
       "addedWidgets": {},
       "aggData": [],
       "aggError": "",
       "aggOverflow": false,
       "aggSchema": [],
       "aggSeriesLimitReached": false,
       "aggType": "",
       "arguments": {},
       "columnCustomDisplayInfos": {},
       "data": [
        [
         "United States",
         "Romania",
         15
        ],
        [
         "United States",
         "Croatia",
         1
        ],
        [
         "United States",
         "Ireland",
         344
        ],
        [
         "Egypt",
         "United States",
         15
        ],
        [
         "United States",
         "India",
         62
        ],
        [
         "United States",
         "Singapore",
         1
        ],
        [
         "United States",
         "Grenada",
         62
        ],
        [
         "Costa Rica",
         "United States",
         588
        ],
        [
         "Senegal",
         "United States",
         40
        ],
        [
         "Moldova",
         "United States",
         1
        ],
        [
         "United States",
         "Sint Maarten",
         325
        ],
        [
         "United States",
         "Marshall Islands",
         39
        ],
        [
         "Guyana",
         "United States",
         64
        ],
        [
         "Malta",
         "United States",
         1
        ],
        [
         "Anguilla",
         "United States",
         41
        ],
        [
         "Bolivia",
         "United States",
         30
        ],
        [
         "United States",
         "Paraguay",
         6
        ],
        [
         "Algeria",
         "United States",
         4
        ],
        [
         "Turks and Caicos Islands",
         "United States",
         230
        ],
        [
         "United States",
         "Gibraltar",
         1
        ],
        [
         "Saint Vincent and the Grenadines",
         "United States",
         1
        ],
        [
         "Italy",
         "United States",
         382
        ],
        [
         "United States",
         "Federated States of Micronesia",
         69
        ],
        [
         "United States",
         "Russia",
         161
        ],
        [
         "Pakistan",
         "United States",
         12
        ],
        [
         "United States",
         "Netherlands",
         660
        ],
        [
         "Iceland",
         "United States",
         181
        ],
        [
         "Marshall Islands",
         "United States",
         42
        ],
        [
         "Luxembourg",
         "United States",
         155
        ],
        [
         "Honduras",
         "United States",
         362
        ],
        [
         "The Bahamas",
         "United States",
         955
        ],
        [
         "United States",
         "Senegal",
         42
        ],
        [
         "El Salvador",
         "United States",
         561
        ],
        [
         "Samoa",
         "United States",
         25
        ],
        [
         "United States",
         "Angola",
         13
        ],
        [
         "Switzerland",
         "United States",
         294
        ],
        [
         "United States",
         "Anguilla",
         38
        ],
        [
         "Sint Maarten",
         "United States",
         325
        ],
        [
         "Hong Kong",
         "United States",
         332
        ],
        [
         "Trinidad and Tobago",
         "United States",
         211
        ],
        [
         "Latvia",
         "United States",
         19
        ],
        [
         "United States",
         "Ecuador",
         300
        ],
        [
         "Suriname",
         "United States",
         1
        ],
        [
         "Mexico",
         "United States",
         7140
        ],
        [
         "United States",
         "Cyprus",
         1
        ],
        [
         "Ecuador",
         "United States",
         268
        ],
        [
         "United States",
         "Portugal",
         134
        ],
        [
         "United States",
         "Costa Rica",
         608
        ],
        [
         "United States",
         "Guatemala",
         318
        ],
        [
         "United States",
         "Suriname",
         34
        ],
        [
         "Colombia",
         "United States",
         873
        ],
        [
         "United States",
         "Cape Verde",
         14
        ],
        [
         "United States",
         "Jamaica",
         712
        ],
        [
         "Norway",
         "United States",
         121
        ],
        [
         "United States",
         "Malaysia",
         3
        ],
        [
         "United States",
         "Morocco",
         19
        ],
        [
         "Thailand",
         "United States",
         3
        ],
        [
         "United States",
         "Samoa",
         25
        ],
        [
         "Venezuela",
         "United States",
         290
        ],
        [
         "United States",
         "Palau",
         31
        ],
        [
         "United States",
         "Venezuela",
         246
        ],
        [
         "Panama",
         "United States",
         510
        ],
        [
         "Antigua and Barbuda",
         "United States",
         126
        ],
        [
         "United States",
         "Chile",
         185
        ],
        [
         "Morocco",
         "United States",
         15
        ],
        [
         "United States",
         "Finland",
         28
        ],
        [
         "Azerbaijan",
         "United States",
         21
        ],
        [
         "United States",
         "Greece",
         23
        ],
        [
         "United States",
         "The Bahamas",
         986
        ],
        [
         "New Zealand",
         "United States",
         111
        ],
        [
         "Liberia",
         "United States",
         2
        ],
        [
         "United States",
         "Hong Kong",
         414
        ],
        [
         "Hungary",
         "United States",
         2
        ],
        [
         "United States",
         "China",
         920
        ],
        [
         "United States",
         "Vietnam",
         2
        ],
        [
         "Burkina Faso",
         "United States",
         1
        ],
        [
         "Sweden",
         "United States",
         118
        ],
        [
         "United States",
         "Kuwait",
         28
        ],
        [
         "United States",
         "Dominican Republic",
         1420
        ],
        [
         "United States",
         "Egypt",
         12
        ],
        [
         "Israel",
         "United States",
         134
        ],
        [
         "United States",
         "United States",
         370002
        ],
        [
         "Ethiopia",
         "United States",
         13
        ],
        [
         "United States",
         "Luxembourg",
         134
        ],
        [
         "United States",
         "Poland",
         33
        ],
        [
         "Martinique",
         "United States",
         44
        ],
        [
         "United States",
         "Saint Barthelemy",
         41
        ],
        [
         "Saint Barthelemy",
         "United States",
         39
        ],
        [
         "Barbados",
         "United States",
         154
        ],
        [
         "United States",
         "Turkey",
         129
        ],
        [
         "Djibouti",
         "United States",
         1
        ],
        [
         "United States",
         "Azerbaijan",
         21
        ],
        [
         "United States",
         "Estonia",
         1
        ],
        [
         "Germany",
         "United States",
         1468
        ],
        [
         "United States",
         "South Korea",
         827
        ],
        [
         "United States",
         "El Salvador",
         508
        ],
        [
         "Ireland",
         "United States",
         335
        ],
        [
         "United States",
         "Hungary",
         3
        ],
        [
         "Zambia",
         "United States",
         1
        ],
        [
         "Malaysia",
         "United States",
         2
        ],
        [
         "United States",
         "Ethiopia",
         12
        ],
        [
         "United States",
         "Panama",
         465
        ],
        [
         "United States",
         "Aruba",
         342
        ],
        [
         "United States",
         "Thailand",
         4
        ],
        [
         "United States",
         "Turks and Caicos Islands",
         236
        ],
        [
         "Croatia",
         "United States",
         2
        ],
        [
         "United States",
         "Pakistan",
         12
        ],
        [
         "Cyprus",
         "United States",
         1
        ],
        [
         "United States",
         "Honduras",
         407
        ],
        [
         "Fiji",
         "United States",
         24
        ],
        [
         "Qatar",
         "United States",
         108
        ],
        [
         "Saint Kitts and Nevis",
         "United States",
         139
        ],
        [
         "Kuwait",
         "United States",
         32
        ],
        [
         "Taiwan",
         "United States",
         266
        ],
        [
         "Haiti",
         "United States",
         226
        ],
        [
         "Canada",
         "United States",
         8399
        ],
        [
         "Federated States of Micronesia",
         "United States",
         69
        ],
        [
         "United States",
         "Liberia",
         2
        ],
        [
         "Jamaica",
         "United States",
         666
        ],
        [
         "United States",
         "Malta",
         2
        ],
        [
         "Dominican Republic",
         "United States",
         1353
        ],
        [
         "Japan",
         "United States",
         1548
        ],
        [
         "United States",
         "Lithuania",
         1
        ],
        [
         "Finland",
         "United States",
         26
        ],
        [
         "United States",
         "Guadeloupe",
         59
        ],
        [
         "United States",
         "Ukraine",
         13
        ],
        [
         "United States",
         "France",
         952
        ],
        [
         "United States",
         "Norway",
         115
        ],
        [
         "Aruba",
         "United States",
         346
        ],
        [
         "French Guiana",
         "United States",
         5
        ],
        [
         "United States",
         "Kiribati",
         35
        ],
        [
         "India",
         "United States",
         61
        ],
        [
         "British Virgin Islands",
         "United States",
         107
        ],
        [
         "Brazil",
         "United States",
         853
        ],
        [
         "United States",
         "Germany",
         1336
        ],
        [
         "United States",
         "New Zealand",
         74
        ],
        [
         "French Polynesia",
         "United States",
         43
        ],
        [
         "United Arab Emirates",
         "United States",
         320
        ],
        [
         "Singapore",
         "United States",
         3
        ],
        [
         "United States",
         "Mexico",
         7187
        ],
        [
         "United States",
         "Sweden",
         119
        ],
        [
         "Netherlands",
         "United States",
         776
        ],
        [
         "United States",
         "Martinique",
         43
        ],
        [
         "United States",
         "United Arab Emirates",
         313
        ],
        [
         "United States",
         "Bulgaria",
         1
        ],
        [
         "Denmark",
         "United States",
         153
        ],
        [
         "China",
         "United States",
         772
        ],
        [
         "United States",
         "Nicaragua",
         201
        ],
        [
         "United States",
         "Philippines",
         126
        ],
        [
         "United States",
         "Georgia",
         1
        ],
        [
         "United States",
         "Belgium",
         228
        ],
        [
         "Cayman Islands",
         "United States",
         314
        ],
        [
         "Argentina",
         "United States",
         180
        ],
        [
         "Peru",
         "United States",
         279
        ],
        [
         "South Africa",
         "United States",
         36
        ],
        [
         "United States",
         "Iceland",
         202
        ],
        [
         "United States",
         "Argentina",
         141
        ],
        [
         "Spain",
         "United States",
         420
        ],
        [
         "Bermuda",
         "United States",
         183
        ],
        [
         "United States",
         "Nigeria",
         50
        ],
        [
         "United States",
         "Austria",
         63
        ],
        [
         "United States",
         "Bonaire, Sint Eustatius, and Saba",
         59
        ],
        [
         "Kiribati",
         "United States",
         26
        ],
        [
         "Saudi Arabia",
         "United States",
         83
        ],
        [
         "Czech Republic",
         "United States",
         13
        ],
        [
         "United States",
         "Israel",
         127
        ],
        [
         "Belgium",
         "United States",
         259
        ],
        [
         "United States",
         "Saint Lucia",
         136
        ],
        [
         "United States",
         "Bahrain",
         1
        ],
        [
         "United States",
         "British Virgin Islands",
         80
        ],
        [
         "Curacao",
         "United States",
         90
        ],
        [
         "Georgia",
         "United States",
         2
        ],
        [
         "United States",
         "Denmark",
         152
        ],
        [
         "United States",
         "Guyana",
         63
        ],
        [
         "Philippines",
         "United States",
         134
        ],
        [
         "Grenada",
         "United States",
         53
        ],
        [
         "Cape Verde",
         "United States",
         20
        ],
        [
         "Cote d'Ivoire",
         "United States",
         1
        ],
        [
         "Ukraine",
         "United States",
         14
        ],
        [
         "United States",
         "Papua New Guinea",
         1
        ],
        [
         "Russia",
         "United States",
         176
        ],
        [
         "United States",
         "Saudi Arabia",
         70
        ],
        [
         "Guatemala",
         "United States",
         397
        ],
        [
         "Saint Lucia",
         "United States",
         123
        ],
        [
         "Paraguay",
         "United States",
         60
        ],
        [
         "United States",
         "Curacao",
         83
        ],
        [
         "Kosovo",
         "United States",
         1
        ],
        [
         "United States",
         "Taiwan",
         235
        ],
        [
         "Tunisia",
         "United States",
         3
        ],
        [
         "United States",
         "South Africa",
         40
        ],
        [
         "Niger",
         "United States",
         2
        ],
        [
         "Turkey",
         "United States",
         138
        ],
        [
         "United Kingdom",
         "United States",
         2025
        ],
        [
         "Romania",
         "United States",
         14
        ],
        [
         "United States",
         "Greenland",
         4
        ],
        [
         "Papua New Guinea",
         "United States",
         3
        ],
        [
         "United States",
         "Spain",
         442
        ],
        [
         "Iraq",
         "United States",
         1
        ],
        [
         "United States",
         "Italy",
         438
        ],
        [
         "Cuba",
         "United States",
         466
        ],
        [
         "United States",
         "Switzerland",
         305
        ],
        [
         "Dominica",
         "United States",
         20
        ],
        [
         "United States",
         "Japan",
         1496
        ],
        [
         "Portugal",
         "United States",
         127
        ],
        [
         "United States",
         "Brazil",
         619
        ],
        [
         "Bahrain",
         "United States",
         19
        ],
        [
         "United States",
         "Peru",
         337
        ],
        [
         "Indonesia",
         "United States",
         1
        ],
        [
         "United States",
         "Belize",
         193
        ],
        [
         "United States",
         "United Kingdom",
         1970
        ],
        [
         "Belize",
         "United States",
         188
        ],
        [
         "United States",
         "Ghana",
         20
        ],
        [
         "United States",
         "Indonesia",
         2
        ],
        [
         "United States",
         "Fiji",
         25
        ],
        [
         "United States",
         "Canada",
         8483
        ],
        [
         "United States",
         "Antigua and Barbuda",
         117
        ],
        [
         "United States",
         "French Polynesia",
         40
        ],
        [
         "Nicaragua",
         "United States",
         179
        ],
        [
         "United States",
         "Latvia",
         15
        ],
        [
         "United States",
         "Dominica",
         27
        ],
        [
         "United States",
         "Czech Republic",
         12
        ],
        [
         "United States",
         "Australia",
         258
        ],
        [
         "United States",
         "Cook Islands",
         13
        ],
        [
         "Austria",
         "United States",
         62
        ],
        [
         "Jordan",
         "United States",
         44
        ],
        [
         "Palau",
         "United States",
         30
        ],
        [
         "South Korea",
         "United States",
         1048
        ],
        [
         "Angola",
         "United States",
         15
        ],
        [
         "Ghana",
         "United States",
         18
        ],
        [
         "New Caledonia",
         "United States",
         1
        ],
        [
         "Guadeloupe",
         "United States",
         56
        ],
        [
         "France",
         "United States",
         935
        ],
        [
         "Poland",
         "United States",
         32
        ],
        [
         "Nigeria",
         "United States",
         59
        ],
        [
         "United States",
         "Uruguay",
         13
        ],
        [
         "Greenland",
         "United States",
         2
        ],
        [
         "United States",
         "Bermuda",
         193
        ],
        [
         "Chile",
         "United States",
         174
        ],
        [
         "United States",
         "Cuba",
         478
        ],
        [
         "United States",
         "Montenegro",
         1
        ],
        [
         "United States",
         "Colombia",
         867
        ],
        [
         "United States",
         "Barbados",
         130
        ],
        [
         "United States",
         "Qatar",
         109
        ],
        [
         "Australia",
         "United States",
         329
        ],
        [
         "United States",
         "Cayman Islands",
         310
        ],
        [
         "United States",
         "Jordan",
         44
        ],
        [
         "United States",
         "Namibia",
         1
        ],
        [
         "United States",
         "Trinidad and Tobago",
         217
        ],
        [
         "United States",
         "Bolivia",
         13
        ],
        [
         "Cook Islands",
         "United States",
         13
        ],
        [
         "Bulgaria",
         "United States",
         3
        ],
        [
         "United States",
         "Saint Kitts and Nevis",
         145
        ],
        [
         "Uruguay",
         "United States",
         43
        ],
        [
         "United States",
         "Haiti",
         225
        ],
        [
         "Bonaire, Sint Eustatius, and Saba",
         "United States",
         58
        ],
        [
         "Greece",
         "United States",
         30
        ]
       ],
       "datasetInfos": [],
       "dbfsResultPath": null,
       "isJsonSchema": true,
       "metadata": {
        "dataframeName": "_sqldf",
        "executionCount": 378
       },
       "overflow": false,
       "plotOptions": {
        "customPlotOptions": {},
        "displayType": "table",
        "pivotAggregation": null,
        "pivotColumns": null,
        "xColumns": null,
        "yColumns": null
       },
       "removedWidgets": [],
       "schema": [
        {
         "metadata": "{}",
         "name": "DEST_COUNTRY_NAME",
         "type": "\"string\""
        },
        {
         "metadata": "{}",
         "name": "ORIGIN_COUNTRY_NAME",
         "type": "\"string\""
        },
        {
         "metadata": "{}",
         "name": "count",
         "type": "\"long\""
        }
       ],
       "type": "table"
      }
     },
     "output_type": "display_data"
    }
   ],
   "source": [
    "%sql\n",
    "SELECT * FROM default.flights"
   ]
  },
  {
   "cell_type": "code",
   "execution_count": 0,
   "metadata": {
    "application/vnd.databricks.v1+cell": {
     "cellMetadata": {
      "byteLimit": 2048000,
      "implicitDf": true,
      "rowLimit": 10000
     },
     "inputWidgets": {},
     "nuid": "e3cbd892-f04b-4f9d-bee1-12cd92c3b591",
     "showTitle": false,
     "title": ""
    }
   },
   "outputs": [
    {
     "output_type": "display_data",
     "data": {
      "text/html": [
       "<style scoped>\n",
       "  .table-result-container {\n",
       "    max-height: 300px;\n",
       "    overflow: auto;\n",
       "  }\n",
       "  table, th, td {\n",
       "    border: 1px solid black;\n",
       "    border-collapse: collapse;\n",
       "  }\n",
       "  th, td {\n",
       "    padding: 5px;\n",
       "  }\n",
       "  th {\n",
       "    text-align: left;\n",
       "  }\n",
       "</style><div class='table-result-container'><table class='table-result'><thead style='background-color: white'><tr></tr></thead><tbody></tbody></table></div>"
      ]
     },
     "metadata": {
      "application/vnd.databricks.v1+output": {
       "addedWidgets": {},
       "aggData": [],
       "aggError": "",
       "aggOverflow": false,
       "aggSchema": [],
       "aggSeriesLimitReached": false,
       "aggType": "",
       "arguments": {},
       "columnCustomDisplayInfos": {},
       "data": [],
       "datasetInfos": [],
       "dbfsResultPath": null,
       "isJsonSchema": true,
       "metadata": {
        "dataframeName": null
       },
       "overflow": false,
       "plotOptions": {
        "customPlotOptions": {},
        "displayType": "table",
        "pivotAggregation": null,
        "pivotColumns": null,
        "xColumns": null,
        "yColumns": null
       },
       "removedWidgets": [],
       "schema": [],
       "type": "table"
      }
     },
     "output_type": "display_data"
    }
   ],
   "source": [
    "%sql\n",
    "DROP DATABASE IF EXISTS some_db;"
   ]
  },
  {
   "cell_type": "code",
   "execution_count": 0,
   "metadata": {
    "application/vnd.databricks.v1+cell": {
     "cellMetadata": {
      "byteLimit": 2048000,
      "implicitDf": true,
      "rowLimit": 10000
     },
     "inputWidgets": {},
     "nuid": "cbd8f2d7-3f5b-4d5e-a613-ae6771e5bb67",
     "showTitle": false,
     "title": ""
    }
   },
   "outputs": [
    {
     "output_type": "display_data",
     "data": {
      "text/html": [
       "<style scoped>\n",
       "  .table-result-container {\n",
       "    max-height: 300px;\n",
       "    overflow: auto;\n",
       "  }\n",
       "  table, th, td {\n",
       "    border: 1px solid black;\n",
       "    border-collapse: collapse;\n",
       "  }\n",
       "  th, td {\n",
       "    padding: 5px;\n",
       "  }\n",
       "  th {\n",
       "    text-align: left;\n",
       "  }\n",
       "</style><div class='table-result-container'><table class='table-result'><thead style='background-color: white'><tr></tr></thead><tbody></tbody></table></div>"
      ]
     },
     "metadata": {
      "application/vnd.databricks.v1+output": {
       "addedWidgets": {},
       "aggData": [],
       "aggError": "",
       "aggOverflow": false,
       "aggSchema": [],
       "aggSeriesLimitReached": false,
       "aggType": "",
       "arguments": {},
       "columnCustomDisplayInfos": {},
       "data": [],
       "datasetInfos": [],
       "dbfsResultPath": null,
       "isJsonSchema": true,
       "metadata": {
        "dataframeName": null
       },
       "overflow": false,
       "plotOptions": {
        "customPlotOptions": {},
        "displayType": "table",
        "pivotAggregation": null,
        "pivotColumns": null,
        "xColumns": null,
        "yColumns": null
       },
       "removedWidgets": [],
       "schema": [],
       "type": "table"
      }
     },
     "output_type": "display_data"
    }
   ],
   "source": [
    "%sql\n",
    "USE default"
   ]
  },
  {
   "cell_type": "code",
   "execution_count": 0,
   "metadata": {
    "application/vnd.databricks.v1+cell": {
     "cellMetadata": {
      "byteLimit": 2048000,
      "implicitDf": true,
      "rowLimit": 10000
     },
     "inputWidgets": {},
     "nuid": "3d9ab24a-f64c-40f0-9e6a-29cf2407ae62",
     "showTitle": false,
     "title": ""
    }
   },
   "outputs": [
    {
     "output_type": "display_data",
     "data": {
      "text/html": [
       "<style scoped>\n",
       "  .table-result-container {\n",
       "    max-height: 300px;\n",
       "    overflow: auto;\n",
       "  }\n",
       "  table, th, td {\n",
       "    border: 1px solid black;\n",
       "    border-collapse: collapse;\n",
       "  }\n",
       "  th, td {\n",
       "    padding: 5px;\n",
       "  }\n",
       "  th {\n",
       "    text-align: left;\n",
       "  }\n",
       "</style><div class='table-result-container'><table class='table-result'><thead style='background-color: white'><tr></tr></thead><tbody></tbody></table></div>"
      ]
     },
     "metadata": {
      "application/vnd.databricks.v1+output": {
       "addedWidgets": {},
       "aggData": [],
       "aggError": "",
       "aggOverflow": false,
       "aggSchema": [],
       "aggSeriesLimitReached": false,
       "aggType": "",
       "arguments": {},
       "columnCustomDisplayInfos": {},
       "data": [],
       "datasetInfos": [],
       "dbfsResultPath": null,
       "isJsonSchema": true,
       "metadata": {
        "dataframeName": null
       },
       "overflow": false,
       "plotOptions": {
        "customPlotOptions": {},
        "displayType": "table",
        "pivotAggregation": null,
        "pivotColumns": null,
        "xColumns": null,
        "yColumns": null
       },
       "removedWidgets": [],
       "schema": [],
       "type": "table"
      }
     },
     "output_type": "display_data"
    }
   ],
   "source": [
    "%sql\n",
    "CREATE VIEW IF NOT EXISTS nested_data AS\n",
    "SELECT (DEST_COUNTRY_NAME, ORIGIN_COUNTRY_NAME) as country, count FROM flights"
   ]
  },
  {
   "cell_type": "code",
   "execution_count": 0,
   "metadata": {
    "application/vnd.databricks.v1+cell": {
     "cellMetadata": {
      "byteLimit": 2048000,
      "implicitDf": true,
      "rowLimit": 10000
     },
     "inputWidgets": {},
     "nuid": "f8df1ff4-17cd-475e-b25c-e075cb251368",
     "showTitle": false,
     "title": ""
    }
   },
   "outputs": [
    {
     "output_type": "display_data",
     "data": {
      "text/html": [
       "<style scoped>\n",
       "  .table-result-container {\n",
       "    max-height: 300px;\n",
       "    overflow: auto;\n",
       "  }\n",
       "  table, th, td {\n",
       "    border: 1px solid black;\n",
       "    border-collapse: collapse;\n",
       "  }\n",
       "  th, td {\n",
       "    padding: 5px;\n",
       "  }\n",
       "  th {\n",
       "    text-align: left;\n",
       "  }\n",
       "</style><div class='table-result-container'><table class='table-result'><thead style='background-color: white'><tr><th>DEST_COUNTRY_NAME</th><th>count</th></tr></thead><tbody><tr><td>United States</td><td>15</td></tr><tr><td>United States</td><td>1</td></tr><tr><td>United States</td><td>344</td></tr><tr><td>Egypt</td><td>15</td></tr><tr><td>United States</td><td>62</td></tr><tr><td>United States</td><td>1</td></tr><tr><td>United States</td><td>62</td></tr><tr><td>Costa Rica</td><td>588</td></tr><tr><td>Senegal</td><td>40</td></tr><tr><td>Moldova</td><td>1</td></tr><tr><td>United States</td><td>325</td></tr><tr><td>United States</td><td>39</td></tr><tr><td>Guyana</td><td>64</td></tr><tr><td>Malta</td><td>1</td></tr><tr><td>Anguilla</td><td>41</td></tr><tr><td>Bolivia</td><td>30</td></tr><tr><td>United States</td><td>6</td></tr><tr><td>Algeria</td><td>4</td></tr><tr><td>Turks and Caicos Islands</td><td>230</td></tr><tr><td>United States</td><td>1</td></tr><tr><td>Saint Vincent and the Grenadines</td><td>1</td></tr><tr><td>Italy</td><td>382</td></tr><tr><td>United States</td><td>69</td></tr><tr><td>United States</td><td>161</td></tr><tr><td>Pakistan</td><td>12</td></tr><tr><td>United States</td><td>660</td></tr><tr><td>Iceland</td><td>181</td></tr><tr><td>Marshall Islands</td><td>42</td></tr><tr><td>Luxembourg</td><td>155</td></tr><tr><td>Honduras</td><td>362</td></tr><tr><td>The Bahamas</td><td>955</td></tr><tr><td>United States</td><td>42</td></tr><tr><td>El Salvador</td><td>561</td></tr><tr><td>Samoa</td><td>25</td></tr><tr><td>United States</td><td>13</td></tr><tr><td>Switzerland</td><td>294</td></tr><tr><td>United States</td><td>38</td></tr><tr><td>Sint Maarten</td><td>325</td></tr><tr><td>Hong Kong</td><td>332</td></tr><tr><td>Trinidad and Tobago</td><td>211</td></tr><tr><td>Latvia</td><td>19</td></tr><tr><td>United States</td><td>300</td></tr><tr><td>Suriname</td><td>1</td></tr><tr><td>Mexico</td><td>7140</td></tr><tr><td>United States</td><td>1</td></tr><tr><td>Ecuador</td><td>268</td></tr><tr><td>United States</td><td>134</td></tr><tr><td>United States</td><td>608</td></tr><tr><td>United States</td><td>318</td></tr><tr><td>United States</td><td>34</td></tr><tr><td>Colombia</td><td>873</td></tr><tr><td>United States</td><td>14</td></tr><tr><td>United States</td><td>712</td></tr><tr><td>Norway</td><td>121</td></tr><tr><td>United States</td><td>3</td></tr><tr><td>United States</td><td>19</td></tr><tr><td>Thailand</td><td>3</td></tr><tr><td>United States</td><td>25</td></tr><tr><td>Venezuela</td><td>290</td></tr><tr><td>United States</td><td>31</td></tr><tr><td>United States</td><td>246</td></tr><tr><td>Panama</td><td>510</td></tr><tr><td>Antigua and Barbuda</td><td>126</td></tr><tr><td>United States</td><td>185</td></tr><tr><td>Morocco</td><td>15</td></tr><tr><td>United States</td><td>28</td></tr><tr><td>Azerbaijan</td><td>21</td></tr><tr><td>United States</td><td>23</td></tr><tr><td>United States</td><td>986</td></tr><tr><td>New Zealand</td><td>111</td></tr><tr><td>Liberia</td><td>2</td></tr><tr><td>United States</td><td>414</td></tr><tr><td>Hungary</td><td>2</td></tr><tr><td>United States</td><td>920</td></tr><tr><td>United States</td><td>2</td></tr><tr><td>Burkina Faso</td><td>1</td></tr><tr><td>Sweden</td><td>118</td></tr><tr><td>United States</td><td>28</td></tr><tr><td>United States</td><td>1420</td></tr><tr><td>United States</td><td>12</td></tr><tr><td>Israel</td><td>134</td></tr><tr><td>United States</td><td>370002</td></tr><tr><td>Ethiopia</td><td>13</td></tr><tr><td>United States</td><td>134</td></tr><tr><td>United States</td><td>33</td></tr><tr><td>Martinique</td><td>44</td></tr><tr><td>United States</td><td>41</td></tr><tr><td>Saint Barthelemy</td><td>39</td></tr><tr><td>Barbados</td><td>154</td></tr><tr><td>United States</td><td>129</td></tr><tr><td>Djibouti</td><td>1</td></tr><tr><td>United States</td><td>21</td></tr><tr><td>United States</td><td>1</td></tr><tr><td>Germany</td><td>1468</td></tr><tr><td>United States</td><td>827</td></tr><tr><td>United States</td><td>508</td></tr><tr><td>Ireland</td><td>335</td></tr><tr><td>United States</td><td>3</td></tr><tr><td>Zambia</td><td>1</td></tr><tr><td>Malaysia</td><td>2</td></tr><tr><td>United States</td><td>12</td></tr><tr><td>United States</td><td>465</td></tr><tr><td>United States</td><td>342</td></tr><tr><td>United States</td><td>4</td></tr><tr><td>United States</td><td>236</td></tr><tr><td>Croatia</td><td>2</td></tr><tr><td>United States</td><td>12</td></tr><tr><td>Cyprus</td><td>1</td></tr><tr><td>United States</td><td>407</td></tr><tr><td>Fiji</td><td>24</td></tr><tr><td>Qatar</td><td>108</td></tr><tr><td>Saint Kitts and Nevis</td><td>139</td></tr><tr><td>Kuwait</td><td>32</td></tr><tr><td>Taiwan</td><td>266</td></tr><tr><td>Haiti</td><td>226</td></tr><tr><td>Canada</td><td>8399</td></tr><tr><td>Federated States of Micronesia</td><td>69</td></tr><tr><td>United States</td><td>2</td></tr><tr><td>Jamaica</td><td>666</td></tr><tr><td>United States</td><td>2</td></tr><tr><td>Dominican Republic</td><td>1353</td></tr><tr><td>Japan</td><td>1548</td></tr><tr><td>United States</td><td>1</td></tr><tr><td>Finland</td><td>26</td></tr><tr><td>United States</td><td>59</td></tr><tr><td>United States</td><td>13</td></tr><tr><td>United States</td><td>952</td></tr><tr><td>United States</td><td>115</td></tr><tr><td>Aruba</td><td>346</td></tr><tr><td>French Guiana</td><td>5</td></tr><tr><td>United States</td><td>35</td></tr><tr><td>India</td><td>61</td></tr><tr><td>British Virgin Islands</td><td>107</td></tr><tr><td>Brazil</td><td>853</td></tr><tr><td>United States</td><td>1336</td></tr><tr><td>United States</td><td>74</td></tr><tr><td>French Polynesia</td><td>43</td></tr><tr><td>United Arab Emirates</td><td>320</td></tr><tr><td>Singapore</td><td>3</td></tr><tr><td>United States</td><td>7187</td></tr><tr><td>United States</td><td>119</td></tr><tr><td>Netherlands</td><td>776</td></tr><tr><td>United States</td><td>43</td></tr><tr><td>United States</td><td>313</td></tr><tr><td>United States</td><td>1</td></tr><tr><td>Denmark</td><td>153</td></tr><tr><td>China</td><td>772</td></tr><tr><td>United States</td><td>201</td></tr><tr><td>United States</td><td>126</td></tr><tr><td>United States</td><td>1</td></tr><tr><td>United States</td><td>228</td></tr><tr><td>Cayman Islands</td><td>314</td></tr><tr><td>Argentina</td><td>180</td></tr><tr><td>Peru</td><td>279</td></tr><tr><td>South Africa</td><td>36</td></tr><tr><td>United States</td><td>202</td></tr><tr><td>United States</td><td>141</td></tr><tr><td>Spain</td><td>420</td></tr><tr><td>Bermuda</td><td>183</td></tr><tr><td>United States</td><td>50</td></tr><tr><td>United States</td><td>63</td></tr><tr><td>United States</td><td>59</td></tr><tr><td>Kiribati</td><td>26</td></tr><tr><td>Saudi Arabia</td><td>83</td></tr><tr><td>Czech Republic</td><td>13</td></tr><tr><td>United States</td><td>127</td></tr><tr><td>Belgium</td><td>259</td></tr><tr><td>United States</td><td>136</td></tr><tr><td>United States</td><td>1</td></tr><tr><td>United States</td><td>80</td></tr><tr><td>Curacao</td><td>90</td></tr><tr><td>Georgia</td><td>2</td></tr><tr><td>United States</td><td>152</td></tr><tr><td>United States</td><td>63</td></tr><tr><td>Philippines</td><td>134</td></tr><tr><td>Grenada</td><td>53</td></tr><tr><td>Cape Verde</td><td>20</td></tr><tr><td>Cote d'Ivoire</td><td>1</td></tr><tr><td>Ukraine</td><td>14</td></tr><tr><td>United States</td><td>1</td></tr><tr><td>Russia</td><td>176</td></tr><tr><td>United States</td><td>70</td></tr><tr><td>Guatemala</td><td>397</td></tr><tr><td>Saint Lucia</td><td>123</td></tr><tr><td>Paraguay</td><td>60</td></tr><tr><td>United States</td><td>83</td></tr><tr><td>Kosovo</td><td>1</td></tr><tr><td>United States</td><td>235</td></tr><tr><td>Tunisia</td><td>3</td></tr><tr><td>United States</td><td>40</td></tr><tr><td>Niger</td><td>2</td></tr><tr><td>Turkey</td><td>138</td></tr><tr><td>United Kingdom</td><td>2025</td></tr><tr><td>Romania</td><td>14</td></tr><tr><td>United States</td><td>4</td></tr><tr><td>Papua New Guinea</td><td>3</td></tr><tr><td>United States</td><td>442</td></tr><tr><td>Iraq</td><td>1</td></tr><tr><td>United States</td><td>438</td></tr><tr><td>Cuba</td><td>466</td></tr><tr><td>United States</td><td>305</td></tr><tr><td>Dominica</td><td>20</td></tr><tr><td>United States</td><td>1496</td></tr><tr><td>Portugal</td><td>127</td></tr><tr><td>United States</td><td>619</td></tr><tr><td>Bahrain</td><td>19</td></tr><tr><td>United States</td><td>337</td></tr><tr><td>Indonesia</td><td>1</td></tr><tr><td>United States</td><td>193</td></tr><tr><td>United States</td><td>1970</td></tr><tr><td>Belize</td><td>188</td></tr><tr><td>United States</td><td>20</td></tr><tr><td>United States</td><td>2</td></tr><tr><td>United States</td><td>25</td></tr><tr><td>United States</td><td>8483</td></tr><tr><td>United States</td><td>117</td></tr><tr><td>United States</td><td>40</td></tr><tr><td>Nicaragua</td><td>179</td></tr><tr><td>United States</td><td>15</td></tr><tr><td>United States</td><td>27</td></tr><tr><td>United States</td><td>12</td></tr><tr><td>United States</td><td>258</td></tr><tr><td>United States</td><td>13</td></tr><tr><td>Austria</td><td>62</td></tr><tr><td>Jordan</td><td>44</td></tr><tr><td>Palau</td><td>30</td></tr><tr><td>South Korea</td><td>1048</td></tr><tr><td>Angola</td><td>15</td></tr><tr><td>Ghana</td><td>18</td></tr><tr><td>New Caledonia</td><td>1</td></tr><tr><td>Guadeloupe</td><td>56</td></tr><tr><td>France</td><td>935</td></tr><tr><td>Poland</td><td>32</td></tr><tr><td>Nigeria</td><td>59</td></tr><tr><td>United States</td><td>13</td></tr><tr><td>Greenland</td><td>2</td></tr><tr><td>United States</td><td>193</td></tr><tr><td>Chile</td><td>174</td></tr><tr><td>United States</td><td>478</td></tr><tr><td>United States</td><td>1</td></tr><tr><td>United States</td><td>867</td></tr><tr><td>United States</td><td>130</td></tr><tr><td>United States</td><td>109</td></tr><tr><td>Australia</td><td>329</td></tr><tr><td>United States</td><td>310</td></tr><tr><td>United States</td><td>44</td></tr><tr><td>United States</td><td>1</td></tr><tr><td>United States</td><td>217</td></tr><tr><td>United States</td><td>13</td></tr><tr><td>Cook Islands</td><td>13</td></tr><tr><td>Bulgaria</td><td>3</td></tr><tr><td>United States</td><td>145</td></tr><tr><td>Uruguay</td><td>43</td></tr><tr><td>United States</td><td>225</td></tr><tr><td>Bonaire, Sint Eustatius, and Saba</td><td>58</td></tr><tr><td>Greece</td><td>30</td></tr></tbody></table></div>"
      ]
     },
     "metadata": {
      "application/vnd.databricks.v1+output": {
       "addedWidgets": {},
       "aggData": [],
       "aggError": "",
       "aggOverflow": false,
       "aggSchema": [],
       "aggSeriesLimitReached": false,
       "aggType": "",
       "arguments": {},
       "columnCustomDisplayInfos": {},
       "data": [
        [
         "United States",
         15
        ],
        [
         "United States",
         1
        ],
        [
         "United States",
         344
        ],
        [
         "Egypt",
         15
        ],
        [
         "United States",
         62
        ],
        [
         "United States",
         1
        ],
        [
         "United States",
         62
        ],
        [
         "Costa Rica",
         588
        ],
        [
         "Senegal",
         40
        ],
        [
         "Moldova",
         1
        ],
        [
         "United States",
         325
        ],
        [
         "United States",
         39
        ],
        [
         "Guyana",
         64
        ],
        [
         "Malta",
         1
        ],
        [
         "Anguilla",
         41
        ],
        [
         "Bolivia",
         30
        ],
        [
         "United States",
         6
        ],
        [
         "Algeria",
         4
        ],
        [
         "Turks and Caicos Islands",
         230
        ],
        [
         "United States",
         1
        ],
        [
         "Saint Vincent and the Grenadines",
         1
        ],
        [
         "Italy",
         382
        ],
        [
         "United States",
         69
        ],
        [
         "United States",
         161
        ],
        [
         "Pakistan",
         12
        ],
        [
         "United States",
         660
        ],
        [
         "Iceland",
         181
        ],
        [
         "Marshall Islands",
         42
        ],
        [
         "Luxembourg",
         155
        ],
        [
         "Honduras",
         362
        ],
        [
         "The Bahamas",
         955
        ],
        [
         "United States",
         42
        ],
        [
         "El Salvador",
         561
        ],
        [
         "Samoa",
         25
        ],
        [
         "United States",
         13
        ],
        [
         "Switzerland",
         294
        ],
        [
         "United States",
         38
        ],
        [
         "Sint Maarten",
         325
        ],
        [
         "Hong Kong",
         332
        ],
        [
         "Trinidad and Tobago",
         211
        ],
        [
         "Latvia",
         19
        ],
        [
         "United States",
         300
        ],
        [
         "Suriname",
         1
        ],
        [
         "Mexico",
         7140
        ],
        [
         "United States",
         1
        ],
        [
         "Ecuador",
         268
        ],
        [
         "United States",
         134
        ],
        [
         "United States",
         608
        ],
        [
         "United States",
         318
        ],
        [
         "United States",
         34
        ],
        [
         "Colombia",
         873
        ],
        [
         "United States",
         14
        ],
        [
         "United States",
         712
        ],
        [
         "Norway",
         121
        ],
        [
         "United States",
         3
        ],
        [
         "United States",
         19
        ],
        [
         "Thailand",
         3
        ],
        [
         "United States",
         25
        ],
        [
         "Venezuela",
         290
        ],
        [
         "United States",
         31
        ],
        [
         "United States",
         246
        ],
        [
         "Panama",
         510
        ],
        [
         "Antigua and Barbuda",
         126
        ],
        [
         "United States",
         185
        ],
        [
         "Morocco",
         15
        ],
        [
         "United States",
         28
        ],
        [
         "Azerbaijan",
         21
        ],
        [
         "United States",
         23
        ],
        [
         "United States",
         986
        ],
        [
         "New Zealand",
         111
        ],
        [
         "Liberia",
         2
        ],
        [
         "United States",
         414
        ],
        [
         "Hungary",
         2
        ],
        [
         "United States",
         920
        ],
        [
         "United States",
         2
        ],
        [
         "Burkina Faso",
         1
        ],
        [
         "Sweden",
         118
        ],
        [
         "United States",
         28
        ],
        [
         "United States",
         1420
        ],
        [
         "United States",
         12
        ],
        [
         "Israel",
         134
        ],
        [
         "United States",
         370002
        ],
        [
         "Ethiopia",
         13
        ],
        [
         "United States",
         134
        ],
        [
         "United States",
         33
        ],
        [
         "Martinique",
         44
        ],
        [
         "United States",
         41
        ],
        [
         "Saint Barthelemy",
         39
        ],
        [
         "Barbados",
         154
        ],
        [
         "United States",
         129
        ],
        [
         "Djibouti",
         1
        ],
        [
         "United States",
         21
        ],
        [
         "United States",
         1
        ],
        [
         "Germany",
         1468
        ],
        [
         "United States",
         827
        ],
        [
         "United States",
         508
        ],
        [
         "Ireland",
         335
        ],
        [
         "United States",
         3
        ],
        [
         "Zambia",
         1
        ],
        [
         "Malaysia",
         2
        ],
        [
         "United States",
         12
        ],
        [
         "United States",
         465
        ],
        [
         "United States",
         342
        ],
        [
         "United States",
         4
        ],
        [
         "United States",
         236
        ],
        [
         "Croatia",
         2
        ],
        [
         "United States",
         12
        ],
        [
         "Cyprus",
         1
        ],
        [
         "United States",
         407
        ],
        [
         "Fiji",
         24
        ],
        [
         "Qatar",
         108
        ],
        [
         "Saint Kitts and Nevis",
         139
        ],
        [
         "Kuwait",
         32
        ],
        [
         "Taiwan",
         266
        ],
        [
         "Haiti",
         226
        ],
        [
         "Canada",
         8399
        ],
        [
         "Federated States of Micronesia",
         69
        ],
        [
         "United States",
         2
        ],
        [
         "Jamaica",
         666
        ],
        [
         "United States",
         2
        ],
        [
         "Dominican Republic",
         1353
        ],
        [
         "Japan",
         1548
        ],
        [
         "United States",
         1
        ],
        [
         "Finland",
         26
        ],
        [
         "United States",
         59
        ],
        [
         "United States",
         13
        ],
        [
         "United States",
         952
        ],
        [
         "United States",
         115
        ],
        [
         "Aruba",
         346
        ],
        [
         "French Guiana",
         5
        ],
        [
         "United States",
         35
        ],
        [
         "India",
         61
        ],
        [
         "British Virgin Islands",
         107
        ],
        [
         "Brazil",
         853
        ],
        [
         "United States",
         1336
        ],
        [
         "United States",
         74
        ],
        [
         "French Polynesia",
         43
        ],
        [
         "United Arab Emirates",
         320
        ],
        [
         "Singapore",
         3
        ],
        [
         "United States",
         7187
        ],
        [
         "United States",
         119
        ],
        [
         "Netherlands",
         776
        ],
        [
         "United States",
         43
        ],
        [
         "United States",
         313
        ],
        [
         "United States",
         1
        ],
        [
         "Denmark",
         153
        ],
        [
         "China",
         772
        ],
        [
         "United States",
         201
        ],
        [
         "United States",
         126
        ],
        [
         "United States",
         1
        ],
        [
         "United States",
         228
        ],
        [
         "Cayman Islands",
         314
        ],
        [
         "Argentina",
         180
        ],
        [
         "Peru",
         279
        ],
        [
         "South Africa",
         36
        ],
        [
         "United States",
         202
        ],
        [
         "United States",
         141
        ],
        [
         "Spain",
         420
        ],
        [
         "Bermuda",
         183
        ],
        [
         "United States",
         50
        ],
        [
         "United States",
         63
        ],
        [
         "United States",
         59
        ],
        [
         "Kiribati",
         26
        ],
        [
         "Saudi Arabia",
         83
        ],
        [
         "Czech Republic",
         13
        ],
        [
         "United States",
         127
        ],
        [
         "Belgium",
         259
        ],
        [
         "United States",
         136
        ],
        [
         "United States",
         1
        ],
        [
         "United States",
         80
        ],
        [
         "Curacao",
         90
        ],
        [
         "Georgia",
         2
        ],
        [
         "United States",
         152
        ],
        [
         "United States",
         63
        ],
        [
         "Philippines",
         134
        ],
        [
         "Grenada",
         53
        ],
        [
         "Cape Verde",
         20
        ],
        [
         "Cote d'Ivoire",
         1
        ],
        [
         "Ukraine",
         14
        ],
        [
         "United States",
         1
        ],
        [
         "Russia",
         176
        ],
        [
         "United States",
         70
        ],
        [
         "Guatemala",
         397
        ],
        [
         "Saint Lucia",
         123
        ],
        [
         "Paraguay",
         60
        ],
        [
         "United States",
         83
        ],
        [
         "Kosovo",
         1
        ],
        [
         "United States",
         235
        ],
        [
         "Tunisia",
         3
        ],
        [
         "United States",
         40
        ],
        [
         "Niger",
         2
        ],
        [
         "Turkey",
         138
        ],
        [
         "United Kingdom",
         2025
        ],
        [
         "Romania",
         14
        ],
        [
         "United States",
         4
        ],
        [
         "Papua New Guinea",
         3
        ],
        [
         "United States",
         442
        ],
        [
         "Iraq",
         1
        ],
        [
         "United States",
         438
        ],
        [
         "Cuba",
         466
        ],
        [
         "United States",
         305
        ],
        [
         "Dominica",
         20
        ],
        [
         "United States",
         1496
        ],
        [
         "Portugal",
         127
        ],
        [
         "United States",
         619
        ],
        [
         "Bahrain",
         19
        ],
        [
         "United States",
         337
        ],
        [
         "Indonesia",
         1
        ],
        [
         "United States",
         193
        ],
        [
         "United States",
         1970
        ],
        [
         "Belize",
         188
        ],
        [
         "United States",
         20
        ],
        [
         "United States",
         2
        ],
        [
         "United States",
         25
        ],
        [
         "United States",
         8483
        ],
        [
         "United States",
         117
        ],
        [
         "United States",
         40
        ],
        [
         "Nicaragua",
         179
        ],
        [
         "United States",
         15
        ],
        [
         "United States",
         27
        ],
        [
         "United States",
         12
        ],
        [
         "United States",
         258
        ],
        [
         "United States",
         13
        ],
        [
         "Austria",
         62
        ],
        [
         "Jordan",
         44
        ],
        [
         "Palau",
         30
        ],
        [
         "South Korea",
         1048
        ],
        [
         "Angola",
         15
        ],
        [
         "Ghana",
         18
        ],
        [
         "New Caledonia",
         1
        ],
        [
         "Guadeloupe",
         56
        ],
        [
         "France",
         935
        ],
        [
         "Poland",
         32
        ],
        [
         "Nigeria",
         59
        ],
        [
         "United States",
         13
        ],
        [
         "Greenland",
         2
        ],
        [
         "United States",
         193
        ],
        [
         "Chile",
         174
        ],
        [
         "United States",
         478
        ],
        [
         "United States",
         1
        ],
        [
         "United States",
         867
        ],
        [
         "United States",
         130
        ],
        [
         "United States",
         109
        ],
        [
         "Australia",
         329
        ],
        [
         "United States",
         310
        ],
        [
         "United States",
         44
        ],
        [
         "United States",
         1
        ],
        [
         "United States",
         217
        ],
        [
         "United States",
         13
        ],
        [
         "Cook Islands",
         13
        ],
        [
         "Bulgaria",
         3
        ],
        [
         "United States",
         145
        ],
        [
         "Uruguay",
         43
        ],
        [
         "United States",
         225
        ],
        [
         "Bonaire, Sint Eustatius, and Saba",
         58
        ],
        [
         "Greece",
         30
        ]
       ],
       "datasetInfos": [],
       "dbfsResultPath": null,
       "isJsonSchema": true,
       "metadata": {
        "dataframeName": "_sqldf",
        "executionCount": 379
       },
       "overflow": false,
       "plotOptions": {
        "customPlotOptions": {},
        "displayType": "table",
        "pivotAggregation": null,
        "pivotColumns": null,
        "xColumns": null,
        "yColumns": null
       },
       "removedWidgets": [],
       "schema": [
        {
         "metadata": "{}",
         "name": "DEST_COUNTRY_NAME",
         "type": "\"string\""
        },
        {
         "metadata": "{}",
         "name": "count",
         "type": "\"long\""
        }
       ],
       "type": "table"
      }
     },
     "output_type": "display_data"
    }
   ],
   "source": [
    "%sql\n",
    "SELECT country.DEST_COUNTRY_NAME, count FROM nested_data\n"
   ]
  },
  {
   "cell_type": "code",
   "execution_count": 0,
   "metadata": {
    "application/vnd.databricks.v1+cell": {
     "cellMetadata": {
      "byteLimit": 2048000,
      "implicitDf": true,
      "rowLimit": 10000
     },
     "inputWidgets": {},
     "nuid": "59a770f4-ea4a-4ec2-b713-9dbb55209c42",
     "showTitle": false,
     "title": ""
    }
   },
   "outputs": [
    {
     "output_type": "display_data",
     "data": {
      "text/html": [
       "<style scoped>\n",
       "  .table-result-container {\n",
       "    max-height: 300px;\n",
       "    overflow: auto;\n",
       "  }\n",
       "  table, th, td {\n",
       "    border: 1px solid black;\n",
       "    border-collapse: collapse;\n",
       "  }\n",
       "  th, td {\n",
       "    padding: 5px;\n",
       "  }\n",
       "  th {\n",
       "    text-align: left;\n",
       "  }\n",
       "</style><div class='table-result-container'><table class='table-result'><thead style='background-color: white'><tr><th>new_name</th><th>flight_counts</th><th>origin_set</th></tr></thead><tbody><tr><td>Algeria</td><td>List(4)</td><td>List(United States)</td></tr><tr><td>Angola</td><td>List(15)</td><td>List(United States)</td></tr><tr><td>Anguilla</td><td>List(41)</td><td>List(United States)</td></tr><tr><td>Antigua and Barbuda</td><td>List(126)</td><td>List(United States)</td></tr><tr><td>Argentina</td><td>List(180)</td><td>List(United States)</td></tr><tr><td>Aruba</td><td>List(346)</td><td>List(United States)</td></tr><tr><td>Australia</td><td>List(329)</td><td>List(United States)</td></tr><tr><td>Austria</td><td>List(62)</td><td>List(United States)</td></tr><tr><td>Azerbaijan</td><td>List(21)</td><td>List(United States)</td></tr><tr><td>Bahrain</td><td>List(19)</td><td>List(United States)</td></tr><tr><td>Barbados</td><td>List(154)</td><td>List(United States)</td></tr><tr><td>Belgium</td><td>List(259)</td><td>List(United States)</td></tr><tr><td>Belize</td><td>List(188)</td><td>List(United States)</td></tr><tr><td>Bermuda</td><td>List(183)</td><td>List(United States)</td></tr><tr><td>Bolivia</td><td>List(30)</td><td>List(United States)</td></tr><tr><td>Bonaire, Sint Eustatius, and Saba</td><td>List(58)</td><td>List(United States)</td></tr><tr><td>Brazil</td><td>List(853)</td><td>List(United States)</td></tr><tr><td>British Virgin Islands</td><td>List(107)</td><td>List(United States)</td></tr><tr><td>Bulgaria</td><td>List(3)</td><td>List(United States)</td></tr><tr><td>Burkina Faso</td><td>List(1)</td><td>List(United States)</td></tr><tr><td>Canada</td><td>List(8399)</td><td>List(United States)</td></tr><tr><td>Cape Verde</td><td>List(20)</td><td>List(United States)</td></tr><tr><td>Cayman Islands</td><td>List(314)</td><td>List(United States)</td></tr><tr><td>Chile</td><td>List(174)</td><td>List(United States)</td></tr><tr><td>China</td><td>List(772)</td><td>List(United States)</td></tr><tr><td>Colombia</td><td>List(873)</td><td>List(United States)</td></tr><tr><td>Cook Islands</td><td>List(13)</td><td>List(United States)</td></tr><tr><td>Costa Rica</td><td>List(588)</td><td>List(United States)</td></tr><tr><td>Cote d'Ivoire</td><td>List(1)</td><td>List(United States)</td></tr><tr><td>Croatia</td><td>List(2)</td><td>List(United States)</td></tr><tr><td>Cuba</td><td>List(466)</td><td>List(United States)</td></tr><tr><td>Curacao</td><td>List(90)</td><td>List(United States)</td></tr><tr><td>Cyprus</td><td>List(1)</td><td>List(United States)</td></tr><tr><td>Czech Republic</td><td>List(13)</td><td>List(United States)</td></tr><tr><td>Denmark</td><td>List(153)</td><td>List(United States)</td></tr><tr><td>Djibouti</td><td>List(1)</td><td>List(United States)</td></tr><tr><td>Dominica</td><td>List(20)</td><td>List(United States)</td></tr><tr><td>Dominican Republic</td><td>List(1353)</td><td>List(United States)</td></tr><tr><td>Ecuador</td><td>List(268)</td><td>List(United States)</td></tr><tr><td>Egypt</td><td>List(15)</td><td>List(United States)</td></tr><tr><td>El Salvador</td><td>List(561)</td><td>List(United States)</td></tr><tr><td>Ethiopia</td><td>List(13)</td><td>List(United States)</td></tr><tr><td>Federated States of Micronesia</td><td>List(69)</td><td>List(United States)</td></tr><tr><td>Fiji</td><td>List(24)</td><td>List(United States)</td></tr><tr><td>Finland</td><td>List(26)</td><td>List(United States)</td></tr><tr><td>France</td><td>List(935)</td><td>List(United States)</td></tr><tr><td>French Guiana</td><td>List(5)</td><td>List(United States)</td></tr><tr><td>French Polynesia</td><td>List(43)</td><td>List(United States)</td></tr><tr><td>Georgia</td><td>List(2)</td><td>List(United States)</td></tr><tr><td>Germany</td><td>List(1468)</td><td>List(United States)</td></tr><tr><td>Ghana</td><td>List(18)</td><td>List(United States)</td></tr><tr><td>Greece</td><td>List(30)</td><td>List(United States)</td></tr><tr><td>Greenland</td><td>List(2)</td><td>List(United States)</td></tr><tr><td>Grenada</td><td>List(53)</td><td>List(United States)</td></tr><tr><td>Guadeloupe</td><td>List(56)</td><td>List(United States)</td></tr><tr><td>Guatemala</td><td>List(397)</td><td>List(United States)</td></tr><tr><td>Guyana</td><td>List(64)</td><td>List(United States)</td></tr><tr><td>Haiti</td><td>List(226)</td><td>List(United States)</td></tr><tr><td>Honduras</td><td>List(362)</td><td>List(United States)</td></tr><tr><td>Hong Kong</td><td>List(332)</td><td>List(United States)</td></tr><tr><td>Hungary</td><td>List(2)</td><td>List(United States)</td></tr><tr><td>Iceland</td><td>List(181)</td><td>List(United States)</td></tr><tr><td>India</td><td>List(61)</td><td>List(United States)</td></tr><tr><td>Indonesia</td><td>List(1)</td><td>List(United States)</td></tr><tr><td>Iraq</td><td>List(1)</td><td>List(United States)</td></tr><tr><td>Ireland</td><td>List(335)</td><td>List(United States)</td></tr><tr><td>Israel</td><td>List(134)</td><td>List(United States)</td></tr><tr><td>Italy</td><td>List(382)</td><td>List(United States)</td></tr><tr><td>Jamaica</td><td>List(666)</td><td>List(United States)</td></tr><tr><td>Japan</td><td>List(1548)</td><td>List(United States)</td></tr><tr><td>Jordan</td><td>List(44)</td><td>List(United States)</td></tr><tr><td>Kiribati</td><td>List(26)</td><td>List(United States)</td></tr><tr><td>Kosovo</td><td>List(1)</td><td>List(United States)</td></tr><tr><td>Kuwait</td><td>List(32)</td><td>List(United States)</td></tr><tr><td>Latvia</td><td>List(19)</td><td>List(United States)</td></tr><tr><td>Liberia</td><td>List(2)</td><td>List(United States)</td></tr><tr><td>Luxembourg</td><td>List(155)</td><td>List(United States)</td></tr><tr><td>Malaysia</td><td>List(2)</td><td>List(United States)</td></tr><tr><td>Malta</td><td>List(1)</td><td>List(United States)</td></tr><tr><td>Marshall Islands</td><td>List(42)</td><td>List(United States)</td></tr><tr><td>Martinique</td><td>List(44)</td><td>List(United States)</td></tr><tr><td>Mexico</td><td>List(7140)</td><td>List(United States)</td></tr><tr><td>Moldova</td><td>List(1)</td><td>List(United States)</td></tr><tr><td>Morocco</td><td>List(15)</td><td>List(United States)</td></tr><tr><td>Netherlands</td><td>List(776)</td><td>List(United States)</td></tr><tr><td>New Caledonia</td><td>List(1)</td><td>List(United States)</td></tr><tr><td>New Zealand</td><td>List(111)</td><td>List(United States)</td></tr><tr><td>Nicaragua</td><td>List(179)</td><td>List(United States)</td></tr><tr><td>Niger</td><td>List(2)</td><td>List(United States)</td></tr><tr><td>Nigeria</td><td>List(59)</td><td>List(United States)</td></tr><tr><td>Norway</td><td>List(121)</td><td>List(United States)</td></tr><tr><td>Pakistan</td><td>List(12)</td><td>List(United States)</td></tr><tr><td>Palau</td><td>List(30)</td><td>List(United States)</td></tr><tr><td>Panama</td><td>List(510)</td><td>List(United States)</td></tr><tr><td>Papua New Guinea</td><td>List(3)</td><td>List(United States)</td></tr><tr><td>Paraguay</td><td>List(60)</td><td>List(United States)</td></tr><tr><td>Peru</td><td>List(279)</td><td>List(United States)</td></tr><tr><td>Philippines</td><td>List(134)</td><td>List(United States)</td></tr><tr><td>Poland</td><td>List(32)</td><td>List(United States)</td></tr><tr><td>Portugal</td><td>List(127)</td><td>List(United States)</td></tr><tr><td>Qatar</td><td>List(108)</td><td>List(United States)</td></tr><tr><td>Romania</td><td>List(14)</td><td>List(United States)</td></tr><tr><td>Russia</td><td>List(176)</td><td>List(United States)</td></tr><tr><td>Saint Barthelemy</td><td>List(39)</td><td>List(United States)</td></tr><tr><td>Saint Kitts and Nevis</td><td>List(139)</td><td>List(United States)</td></tr><tr><td>Saint Lucia</td><td>List(123)</td><td>List(United States)</td></tr><tr><td>Saint Vincent and the Grenadines</td><td>List(1)</td><td>List(United States)</td></tr><tr><td>Samoa</td><td>List(25)</td><td>List(United States)</td></tr><tr><td>Saudi Arabia</td><td>List(83)</td><td>List(United States)</td></tr><tr><td>Senegal</td><td>List(40)</td><td>List(United States)</td></tr><tr><td>Singapore</td><td>List(3)</td><td>List(United States)</td></tr><tr><td>Sint Maarten</td><td>List(325)</td><td>List(United States)</td></tr><tr><td>South Africa</td><td>List(36)</td><td>List(United States)</td></tr><tr><td>South Korea</td><td>List(1048)</td><td>List(United States)</td></tr><tr><td>Spain</td><td>List(420)</td><td>List(United States)</td></tr><tr><td>Suriname</td><td>List(1)</td><td>List(United States)</td></tr><tr><td>Sweden</td><td>List(118)</td><td>List(United States)</td></tr><tr><td>Switzerland</td><td>List(294)</td><td>List(United States)</td></tr><tr><td>Taiwan</td><td>List(266)</td><td>List(United States)</td></tr><tr><td>Thailand</td><td>List(3)</td><td>List(United States)</td></tr><tr><td>The Bahamas</td><td>List(955)</td><td>List(United States)</td></tr><tr><td>Trinidad and Tobago</td><td>List(211)</td><td>List(United States)</td></tr><tr><td>Tunisia</td><td>List(3)</td><td>List(United States)</td></tr><tr><td>Turkey</td><td>List(138)</td><td>List(United States)</td></tr><tr><td>Turks and Caicos Islands</td><td>List(230)</td><td>List(United States)</td></tr><tr><td>Ukraine</td><td>List(14)</td><td>List(United States)</td></tr><tr><td>United Arab Emirates</td><td>List(320)</td><td>List(United States)</td></tr><tr><td>United Kingdom</td><td>List(2025)</td><td>List(United States)</td></tr><tr><td>United States</td><td>List(152, 63, 1, 70, 83, 235, 40, 4, 442, 438, 305, 1496, 619, 337, 193, 1970, 20, 2, 25, 8483, 117, 40, 15, 27, 12, 258, 13, 13, 193, 478, 1, 867, 130, 109, 310, 44, 1, 217, 13, 145, 225, 15, 1, 344, 62, 1, 62, 325, 39, 6, 1, 69, 161, 660, 42, 13, 38, 300, 1, 134, 608, 318, 34, 14, 712, 3, 19, 25, 31, 246, 185, 28, 23, 986, 414, 920, 2, 28, 1420, 12, 370002, 134, 33, 41, 129, 21, 1, 827, 508, 3, 12, 465, 342, 4, 236, 12, 407, 2, 2, 1, 59, 13, 952, 115, 35, 1336, 74, 7187, 119, 43, 313, 1, 201, 126, 1, 228, 202, 141, 50, 63, 59, 127, 136, 1, 80)</td><td>List(Italy, Martinique, Finland, Liberia, Germany, Kiribati, Dominica, Sweden, Angola, Ethiopia, Belgium, United Arab Emirates, Australia, Cook Islands, Japan, Namibia, Venezuela, Russia, Federated States of Micronesia, Guadeloupe, Bulgaria, Saint Kitts and Nevis, Malta, Aruba, South Africa, New Zealand, Kuwait, Azerbaijan, Jamaica, Turks and Caicos Islands, British Virgin Islands, Uruguay, Turkey, Marshall Islands, Czech Republic, Pakistan, Bermuda, Saint Lucia, The Bahamas, Greece, Taiwan, Spain, Luxembourg, Dominican Republic, Suriname, Honduras, Cape Verde, Argentina, Montenegro, Jordan, Vietnam, Austria, Colombia, Ireland, Romania, Saudi Arabia, Latvia, Fiji, Indonesia, Nicaragua, Greenland, Costa Rica, Peru, South Korea, Portugal, Thailand, Belize, French Polynesia, Ghana, Palau, Hungary, Paraguay, Antigua and Barbuda, Barbados, Saint Barthelemy, United Kingdom, Senegal, Nigeria, Guyana, Iceland, Cayman Islands, Lithuania, Bahrain, Panama, Ukraine, Guatemala, Morocco, Netherlands, Trinidad and Tobago, Bolivia, Malaysia, Anguilla, Norway, Croatia, Samoa, Israel, Sint Maarten, Papua New Guinea, Gibraltar, Canada, Grenada, Switzerland, Ecuador, Singapore, Cuba, Hong Kong, El Salvador, Georgia, Cyprus, United States, India, Denmark, Estonia, China, Bonaire, Sint Eustatius, and Saba, Philippines, Haiti, Mexico, Poland, Brazil, Chile, France, Egypt, Curacao, Qatar)</td></tr><tr><td>Uruguay</td><td>List(43)</td><td>List(United States)</td></tr><tr><td>Venezuela</td><td>List(290)</td><td>List(United States)</td></tr><tr><td>Zambia</td><td>List(1)</td><td>List(United States)</td></tr></tbody></table></div>"
      ]
     },
     "metadata": {
      "application/vnd.databricks.v1+output": {
       "addedWidgets": {},
       "aggData": [],
       "aggError": "",
       "aggOverflow": false,
       "aggSchema": [],
       "aggSeriesLimitReached": false,
       "aggType": "",
       "arguments": {},
       "columnCustomDisplayInfos": {},
       "data": [
        [
         "Algeria",
         [
          4
         ],
         [
          "United States"
         ]
        ],
        [
         "Angola",
         [
          15
         ],
         [
          "United States"
         ]
        ],
        [
         "Anguilla",
         [
          41
         ],
         [
          "United States"
         ]
        ],
        [
         "Antigua and Barbuda",
         [
          126
         ],
         [
          "United States"
         ]
        ],
        [
         "Argentina",
         [
          180
         ],
         [
          "United States"
         ]
        ],
        [
         "Aruba",
         [
          346
         ],
         [
          "United States"
         ]
        ],
        [
         "Australia",
         [
          329
         ],
         [
          "United States"
         ]
        ],
        [
         "Austria",
         [
          62
         ],
         [
          "United States"
         ]
        ],
        [
         "Azerbaijan",
         [
          21
         ],
         [
          "United States"
         ]
        ],
        [
         "Bahrain",
         [
          19
         ],
         [
          "United States"
         ]
        ],
        [
         "Barbados",
         [
          154
         ],
         [
          "United States"
         ]
        ],
        [
         "Belgium",
         [
          259
         ],
         [
          "United States"
         ]
        ],
        [
         "Belize",
         [
          188
         ],
         [
          "United States"
         ]
        ],
        [
         "Bermuda",
         [
          183
         ],
         [
          "United States"
         ]
        ],
        [
         "Bolivia",
         [
          30
         ],
         [
          "United States"
         ]
        ],
        [
         "Bonaire, Sint Eustatius, and Saba",
         [
          58
         ],
         [
          "United States"
         ]
        ],
        [
         "Brazil",
         [
          853
         ],
         [
          "United States"
         ]
        ],
        [
         "British Virgin Islands",
         [
          107
         ],
         [
          "United States"
         ]
        ],
        [
         "Bulgaria",
         [
          3
         ],
         [
          "United States"
         ]
        ],
        [
         "Burkina Faso",
         [
          1
         ],
         [
          "United States"
         ]
        ],
        [
         "Canada",
         [
          8399
         ],
         [
          "United States"
         ]
        ],
        [
         "Cape Verde",
         [
          20
         ],
         [
          "United States"
         ]
        ],
        [
         "Cayman Islands",
         [
          314
         ],
         [
          "United States"
         ]
        ],
        [
         "Chile",
         [
          174
         ],
         [
          "United States"
         ]
        ],
        [
         "China",
         [
          772
         ],
         [
          "United States"
         ]
        ],
        [
         "Colombia",
         [
          873
         ],
         [
          "United States"
         ]
        ],
        [
         "Cook Islands",
         [
          13
         ],
         [
          "United States"
         ]
        ],
        [
         "Costa Rica",
         [
          588
         ],
         [
          "United States"
         ]
        ],
        [
         "Cote d'Ivoire",
         [
          1
         ],
         [
          "United States"
         ]
        ],
        [
         "Croatia",
         [
          2
         ],
         [
          "United States"
         ]
        ],
        [
         "Cuba",
         [
          466
         ],
         [
          "United States"
         ]
        ],
        [
         "Curacao",
         [
          90
         ],
         [
          "United States"
         ]
        ],
        [
         "Cyprus",
         [
          1
         ],
         [
          "United States"
         ]
        ],
        [
         "Czech Republic",
         [
          13
         ],
         [
          "United States"
         ]
        ],
        [
         "Denmark",
         [
          153
         ],
         [
          "United States"
         ]
        ],
        [
         "Djibouti",
         [
          1
         ],
         [
          "United States"
         ]
        ],
        [
         "Dominica",
         [
          20
         ],
         [
          "United States"
         ]
        ],
        [
         "Dominican Republic",
         [
          1353
         ],
         [
          "United States"
         ]
        ],
        [
         "Ecuador",
         [
          268
         ],
         [
          "United States"
         ]
        ],
        [
         "Egypt",
         [
          15
         ],
         [
          "United States"
         ]
        ],
        [
         "El Salvador",
         [
          561
         ],
         [
          "United States"
         ]
        ],
        [
         "Ethiopia",
         [
          13
         ],
         [
          "United States"
         ]
        ],
        [
         "Federated States of Micronesia",
         [
          69
         ],
         [
          "United States"
         ]
        ],
        [
         "Fiji",
         [
          24
         ],
         [
          "United States"
         ]
        ],
        [
         "Finland",
         [
          26
         ],
         [
          "United States"
         ]
        ],
        [
         "France",
         [
          935
         ],
         [
          "United States"
         ]
        ],
        [
         "French Guiana",
         [
          5
         ],
         [
          "United States"
         ]
        ],
        [
         "French Polynesia",
         [
          43
         ],
         [
          "United States"
         ]
        ],
        [
         "Georgia",
         [
          2
         ],
         [
          "United States"
         ]
        ],
        [
         "Germany",
         [
          1468
         ],
         [
          "United States"
         ]
        ],
        [
         "Ghana",
         [
          18
         ],
         [
          "United States"
         ]
        ],
        [
         "Greece",
         [
          30
         ],
         [
          "United States"
         ]
        ],
        [
         "Greenland",
         [
          2
         ],
         [
          "United States"
         ]
        ],
        [
         "Grenada",
         [
          53
         ],
         [
          "United States"
         ]
        ],
        [
         "Guadeloupe",
         [
          56
         ],
         [
          "United States"
         ]
        ],
        [
         "Guatemala",
         [
          397
         ],
         [
          "United States"
         ]
        ],
        [
         "Guyana",
         [
          64
         ],
         [
          "United States"
         ]
        ],
        [
         "Haiti",
         [
          226
         ],
         [
          "United States"
         ]
        ],
        [
         "Honduras",
         [
          362
         ],
         [
          "United States"
         ]
        ],
        [
         "Hong Kong",
         [
          332
         ],
         [
          "United States"
         ]
        ],
        [
         "Hungary",
         [
          2
         ],
         [
          "United States"
         ]
        ],
        [
         "Iceland",
         [
          181
         ],
         [
          "United States"
         ]
        ],
        [
         "India",
         [
          61
         ],
         [
          "United States"
         ]
        ],
        [
         "Indonesia",
         [
          1
         ],
         [
          "United States"
         ]
        ],
        [
         "Iraq",
         [
          1
         ],
         [
          "United States"
         ]
        ],
        [
         "Ireland",
         [
          335
         ],
         [
          "United States"
         ]
        ],
        [
         "Israel",
         [
          134
         ],
         [
          "United States"
         ]
        ],
        [
         "Italy",
         [
          382
         ],
         [
          "United States"
         ]
        ],
        [
         "Jamaica",
         [
          666
         ],
         [
          "United States"
         ]
        ],
        [
         "Japan",
         [
          1548
         ],
         [
          "United States"
         ]
        ],
        [
         "Jordan",
         [
          44
         ],
         [
          "United States"
         ]
        ],
        [
         "Kiribati",
         [
          26
         ],
         [
          "United States"
         ]
        ],
        [
         "Kosovo",
         [
          1
         ],
         [
          "United States"
         ]
        ],
        [
         "Kuwait",
         [
          32
         ],
         [
          "United States"
         ]
        ],
        [
         "Latvia",
         [
          19
         ],
         [
          "United States"
         ]
        ],
        [
         "Liberia",
         [
          2
         ],
         [
          "United States"
         ]
        ],
        [
         "Luxembourg",
         [
          155
         ],
         [
          "United States"
         ]
        ],
        [
         "Malaysia",
         [
          2
         ],
         [
          "United States"
         ]
        ],
        [
         "Malta",
         [
          1
         ],
         [
          "United States"
         ]
        ],
        [
         "Marshall Islands",
         [
          42
         ],
         [
          "United States"
         ]
        ],
        [
         "Martinique",
         [
          44
         ],
         [
          "United States"
         ]
        ],
        [
         "Mexico",
         [
          7140
         ],
         [
          "United States"
         ]
        ],
        [
         "Moldova",
         [
          1
         ],
         [
          "United States"
         ]
        ],
        [
         "Morocco",
         [
          15
         ],
         [
          "United States"
         ]
        ],
        [
         "Netherlands",
         [
          776
         ],
         [
          "United States"
         ]
        ],
        [
         "New Caledonia",
         [
          1
         ],
         [
          "United States"
         ]
        ],
        [
         "New Zealand",
         [
          111
         ],
         [
          "United States"
         ]
        ],
        [
         "Nicaragua",
         [
          179
         ],
         [
          "United States"
         ]
        ],
        [
         "Niger",
         [
          2
         ],
         [
          "United States"
         ]
        ],
        [
         "Nigeria",
         [
          59
         ],
         [
          "United States"
         ]
        ],
        [
         "Norway",
         [
          121
         ],
         [
          "United States"
         ]
        ],
        [
         "Pakistan",
         [
          12
         ],
         [
          "United States"
         ]
        ],
        [
         "Palau",
         [
          30
         ],
         [
          "United States"
         ]
        ],
        [
         "Panama",
         [
          510
         ],
         [
          "United States"
         ]
        ],
        [
         "Papua New Guinea",
         [
          3
         ],
         [
          "United States"
         ]
        ],
        [
         "Paraguay",
         [
          60
         ],
         [
          "United States"
         ]
        ],
        [
         "Peru",
         [
          279
         ],
         [
          "United States"
         ]
        ],
        [
         "Philippines",
         [
          134
         ],
         [
          "United States"
         ]
        ],
        [
         "Poland",
         [
          32
         ],
         [
          "United States"
         ]
        ],
        [
         "Portugal",
         [
          127
         ],
         [
          "United States"
         ]
        ],
        [
         "Qatar",
         [
          108
         ],
         [
          "United States"
         ]
        ],
        [
         "Romania",
         [
          14
         ],
         [
          "United States"
         ]
        ],
        [
         "Russia",
         [
          176
         ],
         [
          "United States"
         ]
        ],
        [
         "Saint Barthelemy",
         [
          39
         ],
         [
          "United States"
         ]
        ],
        [
         "Saint Kitts and Nevis",
         [
          139
         ],
         [
          "United States"
         ]
        ],
        [
         "Saint Lucia",
         [
          123
         ],
         [
          "United States"
         ]
        ],
        [
         "Saint Vincent and the Grenadines",
         [
          1
         ],
         [
          "United States"
         ]
        ],
        [
         "Samoa",
         [
          25
         ],
         [
          "United States"
         ]
        ],
        [
         "Saudi Arabia",
         [
          83
         ],
         [
          "United States"
         ]
        ],
        [
         "Senegal",
         [
          40
         ],
         [
          "United States"
         ]
        ],
        [
         "Singapore",
         [
          3
         ],
         [
          "United States"
         ]
        ],
        [
         "Sint Maarten",
         [
          325
         ],
         [
          "United States"
         ]
        ],
        [
         "South Africa",
         [
          36
         ],
         [
          "United States"
         ]
        ],
        [
         "South Korea",
         [
          1048
         ],
         [
          "United States"
         ]
        ],
        [
         "Spain",
         [
          420
         ],
         [
          "United States"
         ]
        ],
        [
         "Suriname",
         [
          1
         ],
         [
          "United States"
         ]
        ],
        [
         "Sweden",
         [
          118
         ],
         [
          "United States"
         ]
        ],
        [
         "Switzerland",
         [
          294
         ],
         [
          "United States"
         ]
        ],
        [
         "Taiwan",
         [
          266
         ],
         [
          "United States"
         ]
        ],
        [
         "Thailand",
         [
          3
         ],
         [
          "United States"
         ]
        ],
        [
         "The Bahamas",
         [
          955
         ],
         [
          "United States"
         ]
        ],
        [
         "Trinidad and Tobago",
         [
          211
         ],
         [
          "United States"
         ]
        ],
        [
         "Tunisia",
         [
          3
         ],
         [
          "United States"
         ]
        ],
        [
         "Turkey",
         [
          138
         ],
         [
          "United States"
         ]
        ],
        [
         "Turks and Caicos Islands",
         [
          230
         ],
         [
          "United States"
         ]
        ],
        [
         "Ukraine",
         [
          14
         ],
         [
          "United States"
         ]
        ],
        [
         "United Arab Emirates",
         [
          320
         ],
         [
          "United States"
         ]
        ],
        [
         "United Kingdom",
         [
          2025
         ],
         [
          "United States"
         ]
        ],
        [
         "United States",
         [
          152,
          63,
          1,
          70,
          83,
          235,
          40,
          4,
          442,
          438,
          305,
          1496,
          619,
          337,
          193,
          1970,
          20,
          2,
          25,
          8483,
          117,
          40,
          15,
          27,
          12,
          258,
          13,
          13,
          193,
          478,
          1,
          867,
          130,
          109,
          310,
          44,
          1,
          217,
          13,
          145,
          225,
          15,
          1,
          344,
          62,
          1,
          62,
          325,
          39,
          6,
          1,
          69,
          161,
          660,
          42,
          13,
          38,
          300,
          1,
          134,
          608,
          318,
          34,
          14,
          712,
          3,
          19,
          25,
          31,
          246,
          185,
          28,
          23,
          986,
          414,
          920,
          2,
          28,
          1420,
          12,
          370002,
          134,
          33,
          41,
          129,
          21,
          1,
          827,
          508,
          3,
          12,
          465,
          342,
          4,
          236,
          12,
          407,
          2,
          2,
          1,
          59,
          13,
          952,
          115,
          35,
          1336,
          74,
          7187,
          119,
          43,
          313,
          1,
          201,
          126,
          1,
          228,
          202,
          141,
          50,
          63,
          59,
          127,
          136,
          1,
          80
         ],
         [
          "Italy",
          "Martinique",
          "Finland",
          "Liberia",
          "Germany",
          "Kiribati",
          "Dominica",
          "Sweden",
          "Angola",
          "Ethiopia",
          "Belgium",
          "United Arab Emirates",
          "Australia",
          "Cook Islands",
          "Japan",
          "Namibia",
          "Venezuela",
          "Russia",
          "Federated States of Micronesia",
          "Guadeloupe",
          "Bulgaria",
          "Saint Kitts and Nevis",
          "Malta",
          "Aruba",
          "South Africa",
          "New Zealand",
          "Kuwait",
          "Azerbaijan",
          "Jamaica",
          "Turks and Caicos Islands",
          "British Virgin Islands",
          "Uruguay",
          "Turkey",
          "Marshall Islands",
          "Czech Republic",
          "Pakistan",
          "Bermuda",
          "Saint Lucia",
          "The Bahamas",
          "Greece",
          "Taiwan",
          "Spain",
          "Luxembourg",
          "Dominican Republic",
          "Suriname",
          "Honduras",
          "Cape Verde",
          "Argentina",
          "Montenegro",
          "Jordan",
          "Vietnam",
          "Austria",
          "Colombia",
          "Ireland",
          "Romania",
          "Saudi Arabia",
          "Latvia",
          "Fiji",
          "Indonesia",
          "Nicaragua",
          "Greenland",
          "Costa Rica",
          "Peru",
          "South Korea",
          "Portugal",
          "Thailand",
          "Belize",
          "French Polynesia",
          "Ghana",
          "Palau",
          "Hungary",
          "Paraguay",
          "Antigua and Barbuda",
          "Barbados",
          "Saint Barthelemy",
          "United Kingdom",
          "Senegal",
          "Nigeria",
          "Guyana",
          "Iceland",
          "Cayman Islands",
          "Lithuania",
          "Bahrain",
          "Panama",
          "Ukraine",
          "Guatemala",
          "Morocco",
          "Netherlands",
          "Trinidad and Tobago",
          "Bolivia",
          "Malaysia",
          "Anguilla",
          "Norway",
          "Croatia",
          "Samoa",
          "Israel",
          "Sint Maarten",
          "Papua New Guinea",
          "Gibraltar",
          "Canada",
          "Grenada",
          "Switzerland",
          "Ecuador",
          "Singapore",
          "Cuba",
          "Hong Kong",
          "El Salvador",
          "Georgia",
          "Cyprus",
          "United States",
          "India",
          "Denmark",
          "Estonia",
          "China",
          "Bonaire, Sint Eustatius, and Saba",
          "Philippines",
          "Haiti",
          "Mexico",
          "Poland",
          "Brazil",
          "Chile",
          "France",
          "Egypt",
          "Curacao",
          "Qatar"
         ]
        ],
        [
         "Uruguay",
         [
          43
         ],
         [
          "United States"
         ]
        ],
        [
         "Venezuela",
         [
          290
         ],
         [
          "United States"
         ]
        ],
        [
         "Zambia",
         [
          1
         ],
         [
          "United States"
         ]
        ]
       ],
       "datasetInfos": [],
       "dbfsResultPath": null,
       "isJsonSchema": true,
       "metadata": {
        "dataframeName": "_sqldf",
        "executionCount": 380
       },
       "overflow": false,
       "plotOptions": {
        "customPlotOptions": {},
        "displayType": "table",
        "pivotAggregation": null,
        "pivotColumns": null,
        "xColumns": null,
        "yColumns": null
       },
       "removedWidgets": [],
       "schema": [
        {
         "metadata": "{}",
         "name": "new_name",
         "type": "\"string\""
        },
        {
         "metadata": "{}",
         "name": "flight_counts",
         "type": "{\"type\":\"array\",\"elementType\":\"long\",\"containsNull\":false}"
        },
        {
         "metadata": "{}",
         "name": "origin_set",
         "type": "{\"type\":\"array\",\"elementType\":\"string\",\"containsNull\":false}"
        }
       ],
       "type": "table"
      }
     },
     "output_type": "display_data"
    }
   ],
   "source": [
    "%sql\n",
    "SELECT DEST_COUNTRY_NAME as new_name, collect_list(count) as flight_counts,\n",
    "collect_set(ORIGIN_COUNTRY_NAME) as origin_set\n",
    "FROM flights GROUP BY DEST_COUNTRY_NAME\n"
   ]
  },
  {
   "cell_type": "code",
   "execution_count": 0,
   "metadata": {
    "application/vnd.databricks.v1+cell": {
     "cellMetadata": {
      "byteLimit": 2048000,
      "implicitDf": true,
      "rowLimit": 10000
     },
     "inputWidgets": {},
     "nuid": "00a58946-dfd1-4271-9c83-3aa0e8896838",
     "showTitle": false,
     "title": ""
    }
   },
   "outputs": [
    {
     "output_type": "display_data",
     "data": {
      "text/html": [
       "<style scoped>\n",
       "  .table-result-container {\n",
       "    max-height: 300px;\n",
       "    overflow: auto;\n",
       "  }\n",
       "  table, th, td {\n",
       "    border: 1px solid black;\n",
       "    border-collapse: collapse;\n",
       "  }\n",
       "  th, td {\n",
       "    padding: 5px;\n",
       "  }\n",
       "  th {\n",
       "    text-align: left;\n",
       "  }\n",
       "</style><div class='table-result-container'><table class='table-result'><thead style='background-color: white'><tr><th>DEST_COUNTRY_NAME</th><th>array(1, 2, 3)</th></tr></thead><tbody><tr><td>United States</td><td>List(1, 2, 3)</td></tr><tr><td>United States</td><td>List(1, 2, 3)</td></tr><tr><td>United States</td><td>List(1, 2, 3)</td></tr><tr><td>Egypt</td><td>List(1, 2, 3)</td></tr><tr><td>United States</td><td>List(1, 2, 3)</td></tr><tr><td>United States</td><td>List(1, 2, 3)</td></tr><tr><td>United States</td><td>List(1, 2, 3)</td></tr><tr><td>Costa Rica</td><td>List(1, 2, 3)</td></tr><tr><td>Senegal</td><td>List(1, 2, 3)</td></tr><tr><td>Moldova</td><td>List(1, 2, 3)</td></tr><tr><td>United States</td><td>List(1, 2, 3)</td></tr><tr><td>United States</td><td>List(1, 2, 3)</td></tr><tr><td>Guyana</td><td>List(1, 2, 3)</td></tr><tr><td>Malta</td><td>List(1, 2, 3)</td></tr><tr><td>Anguilla</td><td>List(1, 2, 3)</td></tr><tr><td>Bolivia</td><td>List(1, 2, 3)</td></tr><tr><td>United States</td><td>List(1, 2, 3)</td></tr><tr><td>Algeria</td><td>List(1, 2, 3)</td></tr><tr><td>Turks and Caicos Islands</td><td>List(1, 2, 3)</td></tr><tr><td>United States</td><td>List(1, 2, 3)</td></tr><tr><td>Saint Vincent and the Grenadines</td><td>List(1, 2, 3)</td></tr><tr><td>Italy</td><td>List(1, 2, 3)</td></tr><tr><td>United States</td><td>List(1, 2, 3)</td></tr><tr><td>United States</td><td>List(1, 2, 3)</td></tr><tr><td>Pakistan</td><td>List(1, 2, 3)</td></tr><tr><td>United States</td><td>List(1, 2, 3)</td></tr><tr><td>Iceland</td><td>List(1, 2, 3)</td></tr><tr><td>Marshall Islands</td><td>List(1, 2, 3)</td></tr><tr><td>Luxembourg</td><td>List(1, 2, 3)</td></tr><tr><td>Honduras</td><td>List(1, 2, 3)</td></tr><tr><td>The Bahamas</td><td>List(1, 2, 3)</td></tr><tr><td>United States</td><td>List(1, 2, 3)</td></tr><tr><td>El Salvador</td><td>List(1, 2, 3)</td></tr><tr><td>Samoa</td><td>List(1, 2, 3)</td></tr><tr><td>United States</td><td>List(1, 2, 3)</td></tr><tr><td>Switzerland</td><td>List(1, 2, 3)</td></tr><tr><td>United States</td><td>List(1, 2, 3)</td></tr><tr><td>Sint Maarten</td><td>List(1, 2, 3)</td></tr><tr><td>Hong Kong</td><td>List(1, 2, 3)</td></tr><tr><td>Trinidad and Tobago</td><td>List(1, 2, 3)</td></tr><tr><td>Latvia</td><td>List(1, 2, 3)</td></tr><tr><td>United States</td><td>List(1, 2, 3)</td></tr><tr><td>Suriname</td><td>List(1, 2, 3)</td></tr><tr><td>Mexico</td><td>List(1, 2, 3)</td></tr><tr><td>United States</td><td>List(1, 2, 3)</td></tr><tr><td>Ecuador</td><td>List(1, 2, 3)</td></tr><tr><td>United States</td><td>List(1, 2, 3)</td></tr><tr><td>United States</td><td>List(1, 2, 3)</td></tr><tr><td>United States</td><td>List(1, 2, 3)</td></tr><tr><td>United States</td><td>List(1, 2, 3)</td></tr><tr><td>Colombia</td><td>List(1, 2, 3)</td></tr><tr><td>United States</td><td>List(1, 2, 3)</td></tr><tr><td>United States</td><td>List(1, 2, 3)</td></tr><tr><td>Norway</td><td>List(1, 2, 3)</td></tr><tr><td>United States</td><td>List(1, 2, 3)</td></tr><tr><td>United States</td><td>List(1, 2, 3)</td></tr><tr><td>Thailand</td><td>List(1, 2, 3)</td></tr><tr><td>United States</td><td>List(1, 2, 3)</td></tr><tr><td>Venezuela</td><td>List(1, 2, 3)</td></tr><tr><td>United States</td><td>List(1, 2, 3)</td></tr><tr><td>United States</td><td>List(1, 2, 3)</td></tr><tr><td>Panama</td><td>List(1, 2, 3)</td></tr><tr><td>Antigua and Barbuda</td><td>List(1, 2, 3)</td></tr><tr><td>United States</td><td>List(1, 2, 3)</td></tr><tr><td>Morocco</td><td>List(1, 2, 3)</td></tr><tr><td>United States</td><td>List(1, 2, 3)</td></tr><tr><td>Azerbaijan</td><td>List(1, 2, 3)</td></tr><tr><td>United States</td><td>List(1, 2, 3)</td></tr><tr><td>United States</td><td>List(1, 2, 3)</td></tr><tr><td>New Zealand</td><td>List(1, 2, 3)</td></tr><tr><td>Liberia</td><td>List(1, 2, 3)</td></tr><tr><td>United States</td><td>List(1, 2, 3)</td></tr><tr><td>Hungary</td><td>List(1, 2, 3)</td></tr><tr><td>United States</td><td>List(1, 2, 3)</td></tr><tr><td>United States</td><td>List(1, 2, 3)</td></tr><tr><td>Burkina Faso</td><td>List(1, 2, 3)</td></tr><tr><td>Sweden</td><td>List(1, 2, 3)</td></tr><tr><td>United States</td><td>List(1, 2, 3)</td></tr><tr><td>United States</td><td>List(1, 2, 3)</td></tr><tr><td>United States</td><td>List(1, 2, 3)</td></tr><tr><td>Israel</td><td>List(1, 2, 3)</td></tr><tr><td>United States</td><td>List(1, 2, 3)</td></tr><tr><td>Ethiopia</td><td>List(1, 2, 3)</td></tr><tr><td>United States</td><td>List(1, 2, 3)</td></tr><tr><td>United States</td><td>List(1, 2, 3)</td></tr><tr><td>Martinique</td><td>List(1, 2, 3)</td></tr><tr><td>United States</td><td>List(1, 2, 3)</td></tr><tr><td>Saint Barthelemy</td><td>List(1, 2, 3)</td></tr><tr><td>Barbados</td><td>List(1, 2, 3)</td></tr><tr><td>United States</td><td>List(1, 2, 3)</td></tr><tr><td>Djibouti</td><td>List(1, 2, 3)</td></tr><tr><td>United States</td><td>List(1, 2, 3)</td></tr><tr><td>United States</td><td>List(1, 2, 3)</td></tr><tr><td>Germany</td><td>List(1, 2, 3)</td></tr><tr><td>United States</td><td>List(1, 2, 3)</td></tr><tr><td>United States</td><td>List(1, 2, 3)</td></tr><tr><td>Ireland</td><td>List(1, 2, 3)</td></tr><tr><td>United States</td><td>List(1, 2, 3)</td></tr><tr><td>Zambia</td><td>List(1, 2, 3)</td></tr><tr><td>Malaysia</td><td>List(1, 2, 3)</td></tr><tr><td>United States</td><td>List(1, 2, 3)</td></tr><tr><td>United States</td><td>List(1, 2, 3)</td></tr><tr><td>United States</td><td>List(1, 2, 3)</td></tr><tr><td>United States</td><td>List(1, 2, 3)</td></tr><tr><td>United States</td><td>List(1, 2, 3)</td></tr><tr><td>Croatia</td><td>List(1, 2, 3)</td></tr><tr><td>United States</td><td>List(1, 2, 3)</td></tr><tr><td>Cyprus</td><td>List(1, 2, 3)</td></tr><tr><td>United States</td><td>List(1, 2, 3)</td></tr><tr><td>Fiji</td><td>List(1, 2, 3)</td></tr><tr><td>Qatar</td><td>List(1, 2, 3)</td></tr><tr><td>Saint Kitts and Nevis</td><td>List(1, 2, 3)</td></tr><tr><td>Kuwait</td><td>List(1, 2, 3)</td></tr><tr><td>Taiwan</td><td>List(1, 2, 3)</td></tr><tr><td>Haiti</td><td>List(1, 2, 3)</td></tr><tr><td>Canada</td><td>List(1, 2, 3)</td></tr><tr><td>Federated States of Micronesia</td><td>List(1, 2, 3)</td></tr><tr><td>United States</td><td>List(1, 2, 3)</td></tr><tr><td>Jamaica</td><td>List(1, 2, 3)</td></tr><tr><td>United States</td><td>List(1, 2, 3)</td></tr><tr><td>Dominican Republic</td><td>List(1, 2, 3)</td></tr><tr><td>Japan</td><td>List(1, 2, 3)</td></tr><tr><td>United States</td><td>List(1, 2, 3)</td></tr><tr><td>Finland</td><td>List(1, 2, 3)</td></tr><tr><td>United States</td><td>List(1, 2, 3)</td></tr><tr><td>United States</td><td>List(1, 2, 3)</td></tr><tr><td>United States</td><td>List(1, 2, 3)</td></tr><tr><td>United States</td><td>List(1, 2, 3)</td></tr><tr><td>Aruba</td><td>List(1, 2, 3)</td></tr><tr><td>French Guiana</td><td>List(1, 2, 3)</td></tr><tr><td>United States</td><td>List(1, 2, 3)</td></tr><tr><td>India</td><td>List(1, 2, 3)</td></tr><tr><td>British Virgin Islands</td><td>List(1, 2, 3)</td></tr><tr><td>Brazil</td><td>List(1, 2, 3)</td></tr><tr><td>United States</td><td>List(1, 2, 3)</td></tr><tr><td>United States</td><td>List(1, 2, 3)</td></tr><tr><td>French Polynesia</td><td>List(1, 2, 3)</td></tr><tr><td>United Arab Emirates</td><td>List(1, 2, 3)</td></tr><tr><td>Singapore</td><td>List(1, 2, 3)</td></tr><tr><td>United States</td><td>List(1, 2, 3)</td></tr><tr><td>United States</td><td>List(1, 2, 3)</td></tr><tr><td>Netherlands</td><td>List(1, 2, 3)</td></tr><tr><td>United States</td><td>List(1, 2, 3)</td></tr><tr><td>United States</td><td>List(1, 2, 3)</td></tr><tr><td>United States</td><td>List(1, 2, 3)</td></tr><tr><td>Denmark</td><td>List(1, 2, 3)</td></tr><tr><td>China</td><td>List(1, 2, 3)</td></tr><tr><td>United States</td><td>List(1, 2, 3)</td></tr><tr><td>United States</td><td>List(1, 2, 3)</td></tr><tr><td>United States</td><td>List(1, 2, 3)</td></tr><tr><td>United States</td><td>List(1, 2, 3)</td></tr><tr><td>Cayman Islands</td><td>List(1, 2, 3)</td></tr><tr><td>Argentina</td><td>List(1, 2, 3)</td></tr><tr><td>Peru</td><td>List(1, 2, 3)</td></tr><tr><td>South Africa</td><td>List(1, 2, 3)</td></tr><tr><td>United States</td><td>List(1, 2, 3)</td></tr><tr><td>United States</td><td>List(1, 2, 3)</td></tr><tr><td>Spain</td><td>List(1, 2, 3)</td></tr><tr><td>Bermuda</td><td>List(1, 2, 3)</td></tr><tr><td>United States</td><td>List(1, 2, 3)</td></tr><tr><td>United States</td><td>List(1, 2, 3)</td></tr><tr><td>United States</td><td>List(1, 2, 3)</td></tr><tr><td>Kiribati</td><td>List(1, 2, 3)</td></tr><tr><td>Saudi Arabia</td><td>List(1, 2, 3)</td></tr><tr><td>Czech Republic</td><td>List(1, 2, 3)</td></tr><tr><td>United States</td><td>List(1, 2, 3)</td></tr><tr><td>Belgium</td><td>List(1, 2, 3)</td></tr><tr><td>United States</td><td>List(1, 2, 3)</td></tr><tr><td>United States</td><td>List(1, 2, 3)</td></tr><tr><td>United States</td><td>List(1, 2, 3)</td></tr><tr><td>Curacao</td><td>List(1, 2, 3)</td></tr><tr><td>Georgia</td><td>List(1, 2, 3)</td></tr><tr><td>United States</td><td>List(1, 2, 3)</td></tr><tr><td>United States</td><td>List(1, 2, 3)</td></tr><tr><td>Philippines</td><td>List(1, 2, 3)</td></tr><tr><td>Grenada</td><td>List(1, 2, 3)</td></tr><tr><td>Cape Verde</td><td>List(1, 2, 3)</td></tr><tr><td>Cote d'Ivoire</td><td>List(1, 2, 3)</td></tr><tr><td>Ukraine</td><td>List(1, 2, 3)</td></tr><tr><td>United States</td><td>List(1, 2, 3)</td></tr><tr><td>Russia</td><td>List(1, 2, 3)</td></tr><tr><td>United States</td><td>List(1, 2, 3)</td></tr><tr><td>Guatemala</td><td>List(1, 2, 3)</td></tr><tr><td>Saint Lucia</td><td>List(1, 2, 3)</td></tr><tr><td>Paraguay</td><td>List(1, 2, 3)</td></tr><tr><td>United States</td><td>List(1, 2, 3)</td></tr><tr><td>Kosovo</td><td>List(1, 2, 3)</td></tr><tr><td>United States</td><td>List(1, 2, 3)</td></tr><tr><td>Tunisia</td><td>List(1, 2, 3)</td></tr><tr><td>United States</td><td>List(1, 2, 3)</td></tr><tr><td>Niger</td><td>List(1, 2, 3)</td></tr><tr><td>Turkey</td><td>List(1, 2, 3)</td></tr><tr><td>United Kingdom</td><td>List(1, 2, 3)</td></tr><tr><td>Romania</td><td>List(1, 2, 3)</td></tr><tr><td>United States</td><td>List(1, 2, 3)</td></tr><tr><td>Papua New Guinea</td><td>List(1, 2, 3)</td></tr><tr><td>United States</td><td>List(1, 2, 3)</td></tr><tr><td>Iraq</td><td>List(1, 2, 3)</td></tr><tr><td>United States</td><td>List(1, 2, 3)</td></tr><tr><td>Cuba</td><td>List(1, 2, 3)</td></tr><tr><td>United States</td><td>List(1, 2, 3)</td></tr><tr><td>Dominica</td><td>List(1, 2, 3)</td></tr><tr><td>United States</td><td>List(1, 2, 3)</td></tr><tr><td>Portugal</td><td>List(1, 2, 3)</td></tr><tr><td>United States</td><td>List(1, 2, 3)</td></tr><tr><td>Bahrain</td><td>List(1, 2, 3)</td></tr><tr><td>United States</td><td>List(1, 2, 3)</td></tr><tr><td>Indonesia</td><td>List(1, 2, 3)</td></tr><tr><td>United States</td><td>List(1, 2, 3)</td></tr><tr><td>United States</td><td>List(1, 2, 3)</td></tr><tr><td>Belize</td><td>List(1, 2, 3)</td></tr><tr><td>United States</td><td>List(1, 2, 3)</td></tr><tr><td>United States</td><td>List(1, 2, 3)</td></tr><tr><td>United States</td><td>List(1, 2, 3)</td></tr><tr><td>United States</td><td>List(1, 2, 3)</td></tr><tr><td>United States</td><td>List(1, 2, 3)</td></tr><tr><td>United States</td><td>List(1, 2, 3)</td></tr><tr><td>Nicaragua</td><td>List(1, 2, 3)</td></tr><tr><td>United States</td><td>List(1, 2, 3)</td></tr><tr><td>United States</td><td>List(1, 2, 3)</td></tr><tr><td>United States</td><td>List(1, 2, 3)</td></tr><tr><td>United States</td><td>List(1, 2, 3)</td></tr><tr><td>United States</td><td>List(1, 2, 3)</td></tr><tr><td>Austria</td><td>List(1, 2, 3)</td></tr><tr><td>Jordan</td><td>List(1, 2, 3)</td></tr><tr><td>Palau</td><td>List(1, 2, 3)</td></tr><tr><td>South Korea</td><td>List(1, 2, 3)</td></tr><tr><td>Angola</td><td>List(1, 2, 3)</td></tr><tr><td>Ghana</td><td>List(1, 2, 3)</td></tr><tr><td>New Caledonia</td><td>List(1, 2, 3)</td></tr><tr><td>Guadeloupe</td><td>List(1, 2, 3)</td></tr><tr><td>France</td><td>List(1, 2, 3)</td></tr><tr><td>Poland</td><td>List(1, 2, 3)</td></tr><tr><td>Nigeria</td><td>List(1, 2, 3)</td></tr><tr><td>United States</td><td>List(1, 2, 3)</td></tr><tr><td>Greenland</td><td>List(1, 2, 3)</td></tr><tr><td>United States</td><td>List(1, 2, 3)</td></tr><tr><td>Chile</td><td>List(1, 2, 3)</td></tr><tr><td>United States</td><td>List(1, 2, 3)</td></tr><tr><td>United States</td><td>List(1, 2, 3)</td></tr><tr><td>United States</td><td>List(1, 2, 3)</td></tr><tr><td>United States</td><td>List(1, 2, 3)</td></tr><tr><td>United States</td><td>List(1, 2, 3)</td></tr><tr><td>Australia</td><td>List(1, 2, 3)</td></tr><tr><td>United States</td><td>List(1, 2, 3)</td></tr><tr><td>United States</td><td>List(1, 2, 3)</td></tr><tr><td>United States</td><td>List(1, 2, 3)</td></tr><tr><td>United States</td><td>List(1, 2, 3)</td></tr><tr><td>United States</td><td>List(1, 2, 3)</td></tr><tr><td>Cook Islands</td><td>List(1, 2, 3)</td></tr><tr><td>Bulgaria</td><td>List(1, 2, 3)</td></tr><tr><td>United States</td><td>List(1, 2, 3)</td></tr><tr><td>Uruguay</td><td>List(1, 2, 3)</td></tr><tr><td>United States</td><td>List(1, 2, 3)</td></tr><tr><td>Bonaire, Sint Eustatius, and Saba</td><td>List(1, 2, 3)</td></tr><tr><td>Greece</td><td>List(1, 2, 3)</td></tr></tbody></table></div>"
      ]
     },
     "metadata": {
      "application/vnd.databricks.v1+output": {
       "addedWidgets": {},
       "aggData": [],
       "aggError": "",
       "aggOverflow": false,
       "aggSchema": [],
       "aggSeriesLimitReached": false,
       "aggType": "",
       "arguments": {},
       "columnCustomDisplayInfos": {},
       "data": [
        [
         "United States",
         [
          1,
          2,
          3
         ]
        ],
        [
         "United States",
         [
          1,
          2,
          3
         ]
        ],
        [
         "United States",
         [
          1,
          2,
          3
         ]
        ],
        [
         "Egypt",
         [
          1,
          2,
          3
         ]
        ],
        [
         "United States",
         [
          1,
          2,
          3
         ]
        ],
        [
         "United States",
         [
          1,
          2,
          3
         ]
        ],
        [
         "United States",
         [
          1,
          2,
          3
         ]
        ],
        [
         "Costa Rica",
         [
          1,
          2,
          3
         ]
        ],
        [
         "Senegal",
         [
          1,
          2,
          3
         ]
        ],
        [
         "Moldova",
         [
          1,
          2,
          3
         ]
        ],
        [
         "United States",
         [
          1,
          2,
          3
         ]
        ],
        [
         "United States",
         [
          1,
          2,
          3
         ]
        ],
        [
         "Guyana",
         [
          1,
          2,
          3
         ]
        ],
        [
         "Malta",
         [
          1,
          2,
          3
         ]
        ],
        [
         "Anguilla",
         [
          1,
          2,
          3
         ]
        ],
        [
         "Bolivia",
         [
          1,
          2,
          3
         ]
        ],
        [
         "United States",
         [
          1,
          2,
          3
         ]
        ],
        [
         "Algeria",
         [
          1,
          2,
          3
         ]
        ],
        [
         "Turks and Caicos Islands",
         [
          1,
          2,
          3
         ]
        ],
        [
         "United States",
         [
          1,
          2,
          3
         ]
        ],
        [
         "Saint Vincent and the Grenadines",
         [
          1,
          2,
          3
         ]
        ],
        [
         "Italy",
         [
          1,
          2,
          3
         ]
        ],
        [
         "United States",
         [
          1,
          2,
          3
         ]
        ],
        [
         "United States",
         [
          1,
          2,
          3
         ]
        ],
        [
         "Pakistan",
         [
          1,
          2,
          3
         ]
        ],
        [
         "United States",
         [
          1,
          2,
          3
         ]
        ],
        [
         "Iceland",
         [
          1,
          2,
          3
         ]
        ],
        [
         "Marshall Islands",
         [
          1,
          2,
          3
         ]
        ],
        [
         "Luxembourg",
         [
          1,
          2,
          3
         ]
        ],
        [
         "Honduras",
         [
          1,
          2,
          3
         ]
        ],
        [
         "The Bahamas",
         [
          1,
          2,
          3
         ]
        ],
        [
         "United States",
         [
          1,
          2,
          3
         ]
        ],
        [
         "El Salvador",
         [
          1,
          2,
          3
         ]
        ],
        [
         "Samoa",
         [
          1,
          2,
          3
         ]
        ],
        [
         "United States",
         [
          1,
          2,
          3
         ]
        ],
        [
         "Switzerland",
         [
          1,
          2,
          3
         ]
        ],
        [
         "United States",
         [
          1,
          2,
          3
         ]
        ],
        [
         "Sint Maarten",
         [
          1,
          2,
          3
         ]
        ],
        [
         "Hong Kong",
         [
          1,
          2,
          3
         ]
        ],
        [
         "Trinidad and Tobago",
         [
          1,
          2,
          3
         ]
        ],
        [
         "Latvia",
         [
          1,
          2,
          3
         ]
        ],
        [
         "United States",
         [
          1,
          2,
          3
         ]
        ],
        [
         "Suriname",
         [
          1,
          2,
          3
         ]
        ],
        [
         "Mexico",
         [
          1,
          2,
          3
         ]
        ],
        [
         "United States",
         [
          1,
          2,
          3
         ]
        ],
        [
         "Ecuador",
         [
          1,
          2,
          3
         ]
        ],
        [
         "United States",
         [
          1,
          2,
          3
         ]
        ],
        [
         "United States",
         [
          1,
          2,
          3
         ]
        ],
        [
         "United States",
         [
          1,
          2,
          3
         ]
        ],
        [
         "United States",
         [
          1,
          2,
          3
         ]
        ],
        [
         "Colombia",
         [
          1,
          2,
          3
         ]
        ],
        [
         "United States",
         [
          1,
          2,
          3
         ]
        ],
        [
         "United States",
         [
          1,
          2,
          3
         ]
        ],
        [
         "Norway",
         [
          1,
          2,
          3
         ]
        ],
        [
         "United States",
         [
          1,
          2,
          3
         ]
        ],
        [
         "United States",
         [
          1,
          2,
          3
         ]
        ],
        [
         "Thailand",
         [
          1,
          2,
          3
         ]
        ],
        [
         "United States",
         [
          1,
          2,
          3
         ]
        ],
        [
         "Venezuela",
         [
          1,
          2,
          3
         ]
        ],
        [
         "United States",
         [
          1,
          2,
          3
         ]
        ],
        [
         "United States",
         [
          1,
          2,
          3
         ]
        ],
        [
         "Panama",
         [
          1,
          2,
          3
         ]
        ],
        [
         "Antigua and Barbuda",
         [
          1,
          2,
          3
         ]
        ],
        [
         "United States",
         [
          1,
          2,
          3
         ]
        ],
        [
         "Morocco",
         [
          1,
          2,
          3
         ]
        ],
        [
         "United States",
         [
          1,
          2,
          3
         ]
        ],
        [
         "Azerbaijan",
         [
          1,
          2,
          3
         ]
        ],
        [
         "United States",
         [
          1,
          2,
          3
         ]
        ],
        [
         "United States",
         [
          1,
          2,
          3
         ]
        ],
        [
         "New Zealand",
         [
          1,
          2,
          3
         ]
        ],
        [
         "Liberia",
         [
          1,
          2,
          3
         ]
        ],
        [
         "United States",
         [
          1,
          2,
          3
         ]
        ],
        [
         "Hungary",
         [
          1,
          2,
          3
         ]
        ],
        [
         "United States",
         [
          1,
          2,
          3
         ]
        ],
        [
         "United States",
         [
          1,
          2,
          3
         ]
        ],
        [
         "Burkina Faso",
         [
          1,
          2,
          3
         ]
        ],
        [
         "Sweden",
         [
          1,
          2,
          3
         ]
        ],
        [
         "United States",
         [
          1,
          2,
          3
         ]
        ],
        [
         "United States",
         [
          1,
          2,
          3
         ]
        ],
        [
         "United States",
         [
          1,
          2,
          3
         ]
        ],
        [
         "Israel",
         [
          1,
          2,
          3
         ]
        ],
        [
         "United States",
         [
          1,
          2,
          3
         ]
        ],
        [
         "Ethiopia",
         [
          1,
          2,
          3
         ]
        ],
        [
         "United States",
         [
          1,
          2,
          3
         ]
        ],
        [
         "United States",
         [
          1,
          2,
          3
         ]
        ],
        [
         "Martinique",
         [
          1,
          2,
          3
         ]
        ],
        [
         "United States",
         [
          1,
          2,
          3
         ]
        ],
        [
         "Saint Barthelemy",
         [
          1,
          2,
          3
         ]
        ],
        [
         "Barbados",
         [
          1,
          2,
          3
         ]
        ],
        [
         "United States",
         [
          1,
          2,
          3
         ]
        ],
        [
         "Djibouti",
         [
          1,
          2,
          3
         ]
        ],
        [
         "United States",
         [
          1,
          2,
          3
         ]
        ],
        [
         "United States",
         [
          1,
          2,
          3
         ]
        ],
        [
         "Germany",
         [
          1,
          2,
          3
         ]
        ],
        [
         "United States",
         [
          1,
          2,
          3
         ]
        ],
        [
         "United States",
         [
          1,
          2,
          3
         ]
        ],
        [
         "Ireland",
         [
          1,
          2,
          3
         ]
        ],
        [
         "United States",
         [
          1,
          2,
          3
         ]
        ],
        [
         "Zambia",
         [
          1,
          2,
          3
         ]
        ],
        [
         "Malaysia",
         [
          1,
          2,
          3
         ]
        ],
        [
         "United States",
         [
          1,
          2,
          3
         ]
        ],
        [
         "United States",
         [
          1,
          2,
          3
         ]
        ],
        [
         "United States",
         [
          1,
          2,
          3
         ]
        ],
        [
         "United States",
         [
          1,
          2,
          3
         ]
        ],
        [
         "United States",
         [
          1,
          2,
          3
         ]
        ],
        [
         "Croatia",
         [
          1,
          2,
          3
         ]
        ],
        [
         "United States",
         [
          1,
          2,
          3
         ]
        ],
        [
         "Cyprus",
         [
          1,
          2,
          3
         ]
        ],
        [
         "United States",
         [
          1,
          2,
          3
         ]
        ],
        [
         "Fiji",
         [
          1,
          2,
          3
         ]
        ],
        [
         "Qatar",
         [
          1,
          2,
          3
         ]
        ],
        [
         "Saint Kitts and Nevis",
         [
          1,
          2,
          3
         ]
        ],
        [
         "Kuwait",
         [
          1,
          2,
          3
         ]
        ],
        [
         "Taiwan",
         [
          1,
          2,
          3
         ]
        ],
        [
         "Haiti",
         [
          1,
          2,
          3
         ]
        ],
        [
         "Canada",
         [
          1,
          2,
          3
         ]
        ],
        [
         "Federated States of Micronesia",
         [
          1,
          2,
          3
         ]
        ],
        [
         "United States",
         [
          1,
          2,
          3
         ]
        ],
        [
         "Jamaica",
         [
          1,
          2,
          3
         ]
        ],
        [
         "United States",
         [
          1,
          2,
          3
         ]
        ],
        [
         "Dominican Republic",
         [
          1,
          2,
          3
         ]
        ],
        [
         "Japan",
         [
          1,
          2,
          3
         ]
        ],
        [
         "United States",
         [
          1,
          2,
          3
         ]
        ],
        [
         "Finland",
         [
          1,
          2,
          3
         ]
        ],
        [
         "United States",
         [
          1,
          2,
          3
         ]
        ],
        [
         "United States",
         [
          1,
          2,
          3
         ]
        ],
        [
         "United States",
         [
          1,
          2,
          3
         ]
        ],
        [
         "United States",
         [
          1,
          2,
          3
         ]
        ],
        [
         "Aruba",
         [
          1,
          2,
          3
         ]
        ],
        [
         "French Guiana",
         [
          1,
          2,
          3
         ]
        ],
        [
         "United States",
         [
          1,
          2,
          3
         ]
        ],
        [
         "India",
         [
          1,
          2,
          3
         ]
        ],
        [
         "British Virgin Islands",
         [
          1,
          2,
          3
         ]
        ],
        [
         "Brazil",
         [
          1,
          2,
          3
         ]
        ],
        [
         "United States",
         [
          1,
          2,
          3
         ]
        ],
        [
         "United States",
         [
          1,
          2,
          3
         ]
        ],
        [
         "French Polynesia",
         [
          1,
          2,
          3
         ]
        ],
        [
         "United Arab Emirates",
         [
          1,
          2,
          3
         ]
        ],
        [
         "Singapore",
         [
          1,
          2,
          3
         ]
        ],
        [
         "United States",
         [
          1,
          2,
          3
         ]
        ],
        [
         "United States",
         [
          1,
          2,
          3
         ]
        ],
        [
         "Netherlands",
         [
          1,
          2,
          3
         ]
        ],
        [
         "United States",
         [
          1,
          2,
          3
         ]
        ],
        [
         "United States",
         [
          1,
          2,
          3
         ]
        ],
        [
         "United States",
         [
          1,
          2,
          3
         ]
        ],
        [
         "Denmark",
         [
          1,
          2,
          3
         ]
        ],
        [
         "China",
         [
          1,
          2,
          3
         ]
        ],
        [
         "United States",
         [
          1,
          2,
          3
         ]
        ],
        [
         "United States",
         [
          1,
          2,
          3
         ]
        ],
        [
         "United States",
         [
          1,
          2,
          3
         ]
        ],
        [
         "United States",
         [
          1,
          2,
          3
         ]
        ],
        [
         "Cayman Islands",
         [
          1,
          2,
          3
         ]
        ],
        [
         "Argentina",
         [
          1,
          2,
          3
         ]
        ],
        [
         "Peru",
         [
          1,
          2,
          3
         ]
        ],
        [
         "South Africa",
         [
          1,
          2,
          3
         ]
        ],
        [
         "United States",
         [
          1,
          2,
          3
         ]
        ],
        [
         "United States",
         [
          1,
          2,
          3
         ]
        ],
        [
         "Spain",
         [
          1,
          2,
          3
         ]
        ],
        [
         "Bermuda",
         [
          1,
          2,
          3
         ]
        ],
        [
         "United States",
         [
          1,
          2,
          3
         ]
        ],
        [
         "United States",
         [
          1,
          2,
          3
         ]
        ],
        [
         "United States",
         [
          1,
          2,
          3
         ]
        ],
        [
         "Kiribati",
         [
          1,
          2,
          3
         ]
        ],
        [
         "Saudi Arabia",
         [
          1,
          2,
          3
         ]
        ],
        [
         "Czech Republic",
         [
          1,
          2,
          3
         ]
        ],
        [
         "United States",
         [
          1,
          2,
          3
         ]
        ],
        [
         "Belgium",
         [
          1,
          2,
          3
         ]
        ],
        [
         "United States",
         [
          1,
          2,
          3
         ]
        ],
        [
         "United States",
         [
          1,
          2,
          3
         ]
        ],
        [
         "United States",
         [
          1,
          2,
          3
         ]
        ],
        [
         "Curacao",
         [
          1,
          2,
          3
         ]
        ],
        [
         "Georgia",
         [
          1,
          2,
          3
         ]
        ],
        [
         "United States",
         [
          1,
          2,
          3
         ]
        ],
        [
         "United States",
         [
          1,
          2,
          3
         ]
        ],
        [
         "Philippines",
         [
          1,
          2,
          3
         ]
        ],
        [
         "Grenada",
         [
          1,
          2,
          3
         ]
        ],
        [
         "Cape Verde",
         [
          1,
          2,
          3
         ]
        ],
        [
         "Cote d'Ivoire",
         [
          1,
          2,
          3
         ]
        ],
        [
         "Ukraine",
         [
          1,
          2,
          3
         ]
        ],
        [
         "United States",
         [
          1,
          2,
          3
         ]
        ],
        [
         "Russia",
         [
          1,
          2,
          3
         ]
        ],
        [
         "United States",
         [
          1,
          2,
          3
         ]
        ],
        [
         "Guatemala",
         [
          1,
          2,
          3
         ]
        ],
        [
         "Saint Lucia",
         [
          1,
          2,
          3
         ]
        ],
        [
         "Paraguay",
         [
          1,
          2,
          3
         ]
        ],
        [
         "United States",
         [
          1,
          2,
          3
         ]
        ],
        [
         "Kosovo",
         [
          1,
          2,
          3
         ]
        ],
        [
         "United States",
         [
          1,
          2,
          3
         ]
        ],
        [
         "Tunisia",
         [
          1,
          2,
          3
         ]
        ],
        [
         "United States",
         [
          1,
          2,
          3
         ]
        ],
        [
         "Niger",
         [
          1,
          2,
          3
         ]
        ],
        [
         "Turkey",
         [
          1,
          2,
          3
         ]
        ],
        [
         "United Kingdom",
         [
          1,
          2,
          3
         ]
        ],
        [
         "Romania",
         [
          1,
          2,
          3
         ]
        ],
        [
         "United States",
         [
          1,
          2,
          3
         ]
        ],
        [
         "Papua New Guinea",
         [
          1,
          2,
          3
         ]
        ],
        [
         "United States",
         [
          1,
          2,
          3
         ]
        ],
        [
         "Iraq",
         [
          1,
          2,
          3
         ]
        ],
        [
         "United States",
         [
          1,
          2,
          3
         ]
        ],
        [
         "Cuba",
         [
          1,
          2,
          3
         ]
        ],
        [
         "United States",
         [
          1,
          2,
          3
         ]
        ],
        [
         "Dominica",
         [
          1,
          2,
          3
         ]
        ],
        [
         "United States",
         [
          1,
          2,
          3
         ]
        ],
        [
         "Portugal",
         [
          1,
          2,
          3
         ]
        ],
        [
         "United States",
         [
          1,
          2,
          3
         ]
        ],
        [
         "Bahrain",
         [
          1,
          2,
          3
         ]
        ],
        [
         "United States",
         [
          1,
          2,
          3
         ]
        ],
        [
         "Indonesia",
         [
          1,
          2,
          3
         ]
        ],
        [
         "United States",
         [
          1,
          2,
          3
         ]
        ],
        [
         "United States",
         [
          1,
          2,
          3
         ]
        ],
        [
         "Belize",
         [
          1,
          2,
          3
         ]
        ],
        [
         "United States",
         [
          1,
          2,
          3
         ]
        ],
        [
         "United States",
         [
          1,
          2,
          3
         ]
        ],
        [
         "United States",
         [
          1,
          2,
          3
         ]
        ],
        [
         "United States",
         [
          1,
          2,
          3
         ]
        ],
        [
         "United States",
         [
          1,
          2,
          3
         ]
        ],
        [
         "United States",
         [
          1,
          2,
          3
         ]
        ],
        [
         "Nicaragua",
         [
          1,
          2,
          3
         ]
        ],
        [
         "United States",
         [
          1,
          2,
          3
         ]
        ],
        [
         "United States",
         [
          1,
          2,
          3
         ]
        ],
        [
         "United States",
         [
          1,
          2,
          3
         ]
        ],
        [
         "United States",
         [
          1,
          2,
          3
         ]
        ],
        [
         "United States",
         [
          1,
          2,
          3
         ]
        ],
        [
         "Austria",
         [
          1,
          2,
          3
         ]
        ],
        [
         "Jordan",
         [
          1,
          2,
          3
         ]
        ],
        [
         "Palau",
         [
          1,
          2,
          3
         ]
        ],
        [
         "South Korea",
         [
          1,
          2,
          3
         ]
        ],
        [
         "Angola",
         [
          1,
          2,
          3
         ]
        ],
        [
         "Ghana",
         [
          1,
          2,
          3
         ]
        ],
        [
         "New Caledonia",
         [
          1,
          2,
          3
         ]
        ],
        [
         "Guadeloupe",
         [
          1,
          2,
          3
         ]
        ],
        [
         "France",
         [
          1,
          2,
          3
         ]
        ],
        [
         "Poland",
         [
          1,
          2,
          3
         ]
        ],
        [
         "Nigeria",
         [
          1,
          2,
          3
         ]
        ],
        [
         "United States",
         [
          1,
          2,
          3
         ]
        ],
        [
         "Greenland",
         [
          1,
          2,
          3
         ]
        ],
        [
         "United States",
         [
          1,
          2,
          3
         ]
        ],
        [
         "Chile",
         [
          1,
          2,
          3
         ]
        ],
        [
         "United States",
         [
          1,
          2,
          3
         ]
        ],
        [
         "United States",
         [
          1,
          2,
          3
         ]
        ],
        [
         "United States",
         [
          1,
          2,
          3
         ]
        ],
        [
         "United States",
         [
          1,
          2,
          3
         ]
        ],
        [
         "United States",
         [
          1,
          2,
          3
         ]
        ],
        [
         "Australia",
         [
          1,
          2,
          3
         ]
        ],
        [
         "United States",
         [
          1,
          2,
          3
         ]
        ],
        [
         "United States",
         [
          1,
          2,
          3
         ]
        ],
        [
         "United States",
         [
          1,
          2,
          3
         ]
        ],
        [
         "United States",
         [
          1,
          2,
          3
         ]
        ],
        [
         "United States",
         [
          1,
          2,
          3
         ]
        ],
        [
         "Cook Islands",
         [
          1,
          2,
          3
         ]
        ],
        [
         "Bulgaria",
         [
          1,
          2,
          3
         ]
        ],
        [
         "United States",
         [
          1,
          2,
          3
         ]
        ],
        [
         "Uruguay",
         [
          1,
          2,
          3
         ]
        ],
        [
         "United States",
         [
          1,
          2,
          3
         ]
        ],
        [
         "Bonaire, Sint Eustatius, and Saba",
         [
          1,
          2,
          3
         ]
        ],
        [
         "Greece",
         [
          1,
          2,
          3
         ]
        ]
       ],
       "datasetInfos": [],
       "dbfsResultPath": null,
       "isJsonSchema": true,
       "metadata": {
        "dataframeName": "_sqldf",
        "executionCount": 381
       },
       "overflow": false,
       "plotOptions": {
        "customPlotOptions": {},
        "displayType": "table",
        "pivotAggregation": null,
        "pivotColumns": null,
        "xColumns": null,
        "yColumns": null
       },
       "removedWidgets": [],
       "schema": [
        {
         "metadata": "{}",
         "name": "DEST_COUNTRY_NAME",
         "type": "\"string\""
        },
        {
         "metadata": "{\"__autoGeneratedAlias\":\"true\"}",
         "name": "array(1, 2, 3)",
         "type": "{\"type\":\"array\",\"elementType\":\"integer\",\"containsNull\":false}"
        }
       ],
       "type": "table"
      }
     },
     "output_type": "display_data"
    }
   ],
   "source": [
    "%sql\n",
    "SELECT DEST_COUNTRY_NAME, ARRAY(1, 2, 3) FROM flights"
   ]
  },
  {
   "cell_type": "code",
   "execution_count": 0,
   "metadata": {
    "application/vnd.databricks.v1+cell": {
     "cellMetadata": {
      "byteLimit": 2048000,
      "implicitDf": true,
      "rowLimit": 10000
     },
     "inputWidgets": {},
     "nuid": "e9518fde-e1cb-4b73-a245-336b1f17d7ab",
     "showTitle": false,
     "title": ""
    }
   },
   "outputs": [
    {
     "output_type": "display_data",
     "data": {
      "text/html": [
       "<style scoped>\n",
       "  .table-result-container {\n",
       "    max-height: 300px;\n",
       "    overflow: auto;\n",
       "  }\n",
       "  table, th, td {\n",
       "    border: 1px solid black;\n",
       "    border-collapse: collapse;\n",
       "  }\n",
       "  th, td {\n",
       "    padding: 5px;\n",
       "  }\n",
       "  th {\n",
       "    text-align: left;\n",
       "  }\n",
       "</style><div class='table-result-container'><table class='table-result'><thead style='background-color: white'><tr><th>function</th></tr></thead><tbody><tr><td>!</td></tr><tr><td>!=</td></tr><tr><td>%</td></tr><tr><td>&</td></tr><tr><td>*</td></tr><tr><td>+</td></tr><tr><td>-</td></tr><tr><td>/</td></tr><tr><td><</td></tr><tr><td><=</td></tr><tr><td><=></td></tr><tr><td><></td></tr><tr><td>=</td></tr><tr><td>==</td></tr><tr><td>></td></tr><tr><td>>=</td></tr><tr><td>^</td></tr><tr><td>abs</td></tr><tr><td>acos</td></tr><tr><td>acosh</td></tr><tr><td>add_months</td></tr><tr><td>aes_decrypt</td></tr><tr><td>aes_encrypt</td></tr><tr><td>aggregate</td></tr><tr><td>ai_generate_text</td></tr><tr><td>ai_query</td></tr><tr><td>and</td></tr><tr><td>any</td></tr><tr><td>any_value</td></tr><tr><td>approx_count_distinct</td></tr><tr><td>approx_percentile</td></tr><tr><td>approx_top_k</td></tr><tr><td>array</td></tr><tr><td>array_agg</td></tr><tr><td>array_append</td></tr><tr><td>array_compact</td></tr><tr><td>array_contains</td></tr><tr><td>array_distinct</td></tr><tr><td>array_except</td></tr><tr><td>array_insert</td></tr><tr><td>array_intersect</td></tr><tr><td>array_join</td></tr><tr><td>array_max</td></tr><tr><td>array_min</td></tr><tr><td>array_position</td></tr><tr><td>array_prepend</td></tr><tr><td>array_remove</td></tr><tr><td>array_repeat</td></tr><tr><td>array_size</td></tr><tr><td>array_sort</td></tr><tr><td>array_union</td></tr><tr><td>arrays_overlap</td></tr><tr><td>arrays_zip</td></tr><tr><td>ascii</td></tr><tr><td>asin</td></tr><tr><td>asinh</td></tr><tr><td>assert_true</td></tr><tr><td>atan</td></tr><tr><td>atan2</td></tr><tr><td>atanh</td></tr><tr><td>avg</td></tr><tr><td>base64</td></tr><tr><td>between</td></tr><tr><td>bigint</td></tr><tr><td>bin</td></tr><tr><td>binary</td></tr><tr><td>bit_and</td></tr><tr><td>bit_count</td></tr><tr><td>bit_get</td></tr><tr><td>bit_length</td></tr><tr><td>bit_or</td></tr><tr><td>bit_reverse</td></tr><tr><td>bit_xor</td></tr><tr><td>bitmap_bit_position</td></tr><tr><td>bitmap_bucket_number</td></tr><tr><td>bitmap_construct_agg</td></tr><tr><td>bitmap_count</td></tr><tr><td>bitmap_or_agg</td></tr><tr><td>bool_and</td></tr><tr><td>bool_or</td></tr><tr><td>boolean</td></tr><tr><td>bround</td></tr><tr><td>btrim</td></tr><tr><td>cardinality</td></tr><tr><td>case</td></tr><tr><td>cast</td></tr><tr><td>cbrt</td></tr><tr><td>ceil</td></tr><tr><td>ceiling</td></tr><tr><td>char</td></tr><tr><td>char_length</td></tr><tr><td>character_length</td></tr><tr><td>charindex</td></tr><tr><td>chr</td></tr><tr><td>cloud_files</td></tr><tr><td>cloud_files_state</td></tr><tr><td>coalesce</td></tr><tr><td>collect_list</td></tr><tr><td>collect_set</td></tr><tr><td>concat</td></tr><tr><td>concat_ws</td></tr><tr><td>contains</td></tr><tr><td>conv</td></tr><tr><td>convert_timezone</td></tr><tr><td>corr</td></tr><tr><td>cos</td></tr><tr><td>cosh</td></tr><tr><td>cot</td></tr><tr><td>count</td></tr><tr><td>count_if</td></tr><tr><td>count_min_sketch</td></tr><tr><td>covar_pop</td></tr><tr><td>covar_samp</td></tr><tr><td>crc32</td></tr><tr><td>csc</td></tr><tr><td>cume_dist</td></tr><tr><td>curdate</td></tr><tr><td>current_catalog</td></tr><tr><td>current_database</td></tr><tr><td>current_date</td></tr><tr><td>current_metastore</td></tr><tr><td>current_oauth_custom_identity_claim</td></tr><tr><td>current_schema</td></tr><tr><td>current_timestamp</td></tr><tr><td>current_timezone</td></tr><tr><td>current_user</td></tr><tr><td>current_version</td></tr><tr><td>date</td></tr><tr><td>date_add</td></tr><tr><td>date_diff</td></tr><tr><td>date_format</td></tr><tr><td>date_from_unix_date</td></tr><tr><td>date_part</td></tr><tr><td>date_sub</td></tr><tr><td>date_trunc</td></tr><tr><td>dateadd</td></tr><tr><td>datediff</td></tr><tr><td>datepart</td></tr><tr><td>day</td></tr><tr><td>dayofmonth</td></tr><tr><td>dayofweek</td></tr><tr><td>dayofyear</td></tr><tr><td>decimal</td></tr><tr><td>decode</td></tr><tr><td>degrees</td></tr><tr><td>dense_rank</td></tr><tr><td>div</td></tr><tr><td>double</td></tr><tr><td>e</td></tr><tr><td>element_at</td></tr><tr><td>elt</td></tr><tr><td>encode</td></tr><tr><td>endswith</td></tr><tr><td>equal_null</td></tr><tr><td>event_log</td></tr><tr><td>every</td></tr><tr><td>exists</td></tr><tr><td>exp</td></tr><tr><td>explode</td></tr><tr><td>explode_outer</td></tr><tr><td>expm1</td></tr><tr><td>extract</td></tr><tr><td>factorial</td></tr><tr><td>filter</td></tr><tr><td>find_in_set</td></tr><tr><td>first</td></tr><tr><td>first_value</td></tr><tr><td>flatten</td></tr><tr><td>float</td></tr><tr><td>floor</td></tr><tr><td>forall</td></tr><tr><td>format_number</td></tr><tr><td>format_string</td></tr><tr><td>from_csv</td></tr><tr><td>from_json</td></tr><tr><td>from_unixtime</td></tr><tr><td>from_utc_timestamp</td></tr><tr><td>get</td></tr><tr><td>get_json_object</td></tr><tr><td>getbit</td></tr><tr><td>getdate</td></tr><tr><td>greatest</td></tr><tr><td>grouping</td></tr><tr><td>grouping_id</td></tr><tr><td>h3_boundaryasgeojson</td></tr><tr><td>h3_boundaryaswkb</td></tr><tr><td>h3_boundaryaswkt</td></tr><tr><td>h3_centerasgeojson</td></tr><tr><td>h3_centeraswkb</td></tr><tr><td>h3_centeraswkt</td></tr><tr><td>h3_compact</td></tr><tr><td>h3_coverash3</td></tr><tr><td>h3_coverash3string</td></tr><tr><td>h3_distance</td></tr><tr><td>h3_getpentagoncellids</td></tr><tr><td>h3_h3tostring</td></tr><tr><td>h3_hexring</td></tr><tr><td>h3_ischildof</td></tr><tr><td>h3_ispentagon</td></tr><tr><td>h3_isvalid</td></tr><tr><td>h3_kring</td></tr><tr><td>h3_kringdistances</td></tr><tr><td>h3_longlatash3</td></tr><tr><td>h3_longlatash3string</td></tr><tr><td>h3_maxchild</td></tr><tr><td>h3_minchild</td></tr><tr><td>h3_pointash3</td></tr><tr><td>h3_pointash3string</td></tr><tr><td>h3_polyfillash3</td></tr><tr><td>h3_polyfillash3string</td></tr><tr><td>h3_resolution</td></tr><tr><td>h3_stringtoh3</td></tr><tr><td>h3_tochildren</td></tr><tr><td>h3_toparent</td></tr><tr><td>h3_try_distance</td></tr><tr><td>h3_try_polyfillash3</td></tr><tr><td>h3_try_polyfillash3string</td></tr><tr><td>h3_try_validate</td></tr><tr><td>h3_uncompact</td></tr><tr><td>h3_validate</td></tr><tr><td>hash</td></tr><tr><td>hex</td></tr><tr><td>histogram_numeric</td></tr><tr><td>hll_cardinality_internal</td></tr><tr><td>hll_collect_internal</td></tr><tr><td>hll_sketch_agg</td></tr><tr><td>hll_sketch_estimate</td></tr><tr><td>hll_union</td></tr><tr><td>hll_union_agg</td></tr><tr><td>hour</td></tr><tr><td>hypot</td></tr><tr><td>if</td></tr><tr><td>iff</td></tr><tr><td>ifnull</td></tr><tr><td>ilike</td></tr><tr><td>in</td></tr><tr><td>initcap</td></tr><tr><td>inline</td></tr><tr><td>inline_outer</td></tr><tr><td>input_file_block_length</td></tr><tr><td>input_file_block_start</td></tr><tr><td>input_file_name</td></tr><tr><td>instr</td></tr><tr><td>int</td></tr><tr><td>is_account_group_member</td></tr><tr><td>is_member</td></tr><tr><td>isnan</td></tr><tr><td>isnotnull</td></tr><tr><td>isnull</td></tr><tr><td>java_method</td></tr><tr><td>json_array_length</td></tr><tr><td>json_object_keys</td></tr><tr><td>json_tuple</td></tr><tr><td>kurtosis</td></tr><tr><td>lag</td></tr><tr><td>last</td></tr><tr><td>last_day</td></tr><tr><td>last_value</td></tr><tr><td>lcase</td></tr><tr><td>lead</td></tr><tr><td>least</td></tr><tr><td>left</td></tr><tr><td>len</td></tr><tr><td>length</td></tr><tr><td>levenshtein</td></tr><tr><td>like</td></tr><tr><td>list_secrets</td></tr><tr><td>ln</td></tr><tr><td>localtimestamp</td></tr><tr><td>locate</td></tr><tr><td>log</td></tr><tr><td>log10</td></tr><tr><td>log1p</td></tr><tr><td>log2</td></tr><tr><td>lower</td></tr><tr><td>lpad</td></tr><tr><td>ltrim</td></tr><tr><td>luhn_check</td></tr><tr><td>make_date</td></tr><tr><td>make_dt_interval</td></tr><tr><td>make_interval</td></tr><tr><td>make_timestamp</td></tr><tr><td>make_timestamp_ltz</td></tr><tr><td>make_timestamp_ntz</td></tr><tr><td>make_ym_interval</td></tr><tr><td>map</td></tr><tr><td>map_concat</td></tr><tr><td>map_contains_key</td></tr><tr><td>map_entries</td></tr><tr><td>map_filter</td></tr><tr><td>map_from_arrays</td></tr><tr><td>map_from_entries</td></tr><tr><td>map_keys</td></tr><tr><td>map_values</td></tr><tr><td>map_zip_with</td></tr><tr><td>mask</td></tr><tr><td>max</td></tr><tr><td>max_by</td></tr><tr><td>md5</td></tr><tr><td>mean</td></tr><tr><td>median</td></tr><tr><td>min</td></tr><tr><td>min_by</td></tr><tr><td>minute</td></tr><tr><td>mod</td></tr><tr><td>mode</td></tr><tr><td>monotonically_increasing_id</td></tr><tr><td>month</td></tr><tr><td>months_between</td></tr><tr><td>named_struct</td></tr><tr><td>nanvl</td></tr><tr><td>negative</td></tr><tr><td>next_day</td></tr><tr><td>not</td></tr><tr><td>now</td></tr><tr><td>nth_value</td></tr><tr><td>ntile</td></tr><tr><td>nullif</td></tr><tr><td>nvl</td></tr><tr><td>nvl2</td></tr><tr><td>octet_length</td></tr><tr><td>or</td></tr><tr><td>overlay</td></tr><tr><td>parse_url</td></tr><tr><td>percent_rank</td></tr><tr><td>percentile</td></tr><tr><td>percentile_approx</td></tr><tr><td>pi</td></tr><tr><td>pmod</td></tr><tr><td>posexplode</td></tr><tr><td>posexplode_outer</td></tr><tr><td>position</td></tr><tr><td>positive</td></tr><tr><td>pow</td></tr><tr><td>power</td></tr><tr><td>printf</td></tr><tr><td>quarter</td></tr><tr><td>radians</td></tr><tr><td>raise_error</td></tr><tr><td>rand</td></tr><tr><td>randn</td></tr><tr><td>random</td></tr><tr><td>range</td></tr><tr><td>rank</td></tr><tr><td>read_files</td></tr><tr><td>read_kafka</td></tr><tr><td>read_kinesis</td></tr><tr><td>read_pubsub</td></tr><tr><td>reduce</td></tr><tr><td>reflect</td></tr><tr><td>regexp</td></tr><tr><td>regexp_count</td></tr><tr><td>regexp_extract</td></tr><tr><td>regexp_extract_all</td></tr><tr><td>regexp_instr</td></tr><tr><td>regexp_like</td></tr><tr><td>regexp_replace</td></tr><tr><td>regexp_substr</td></tr><tr><td>regr_avgx</td></tr><tr><td>regr_avgy</td></tr><tr><td>regr_count</td></tr><tr><td>regr_intercept</td></tr><tr><td>regr_r2</td></tr><tr><td>regr_slope</td></tr><tr><td>regr_sxx</td></tr><tr><td>regr_sxy</td></tr><tr><td>regr_syy</td></tr><tr><td>repeat</td></tr><tr><td>replace</td></tr><tr><td>reverse</td></tr><tr><td>right</td></tr><tr><td>rint</td></tr><tr><td>rlike</td></tr><tr><td>round</td></tr><tr><td>row_number</td></tr><tr><td>rpad</td></tr><tr><td>rtrim</td></tr><tr><td>schema_of_csv</td></tr><tr><td>schema_of_json</td></tr><tr><td>schema_of_json_agg</td></tr><tr><td>sec</td></tr><tr><td>second</td></tr><tr><td>secret</td></tr><tr><td>sentences</td></tr><tr><td>sequence</td></tr><tr><td>session_window</td></tr><tr><td>sha</td></tr><tr><td>sha1</td></tr><tr><td>sha2</td></tr><tr><td>shiftleft</td></tr><tr><td>shiftright</td></tr><tr><td>shiftrightunsigned</td></tr><tr><td>shuffle</td></tr><tr><td>sign</td></tr><tr><td>signum</td></tr><tr><td>sin</td></tr><tr><td>sinh</td></tr><tr><td>size</td></tr><tr><td>skewness</td></tr><tr><td>slice</td></tr><tr><td>smallint</td></tr><tr><td>some</td></tr><tr><td>sort_array</td></tr><tr><td>soundex</td></tr><tr><td>space</td></tr><tr><td>spark_partition_id</td></tr><tr><td>split</td></tr><tr><td>split_part</td></tr><tr><td>sql_keywords</td></tr><tr><td>sqrt</td></tr><tr><td>st_area</td></tr><tr><td>st_astext</td></tr><tr><td>st_geogfromtext</td></tr><tr><td>st_geogfromwkt</td></tr><tr><td>st_geometrytype</td></tr><tr><td>st_geomfromtext</td></tr><tr><td>st_geomfromwkt</td></tr><tr><td>st_isempty</td></tr><tr><td>st_length</td></tr><tr><td>st_ndims</td></tr><tr><td>st_npoints</td></tr><tr><td>st_point</td></tr><tr><td>st_setsrid</td></tr><tr><td>st_srid</td></tr><tr><td>st_xmax</td></tr><tr><td>st_xmin</td></tr><tr><td>st_ymax</td></tr><tr><td>st_ymin</td></tr><tr><td>stack</td></tr><tr><td>startswith</td></tr><tr><td>std</td></tr><tr><td>stddev</td></tr><tr><td>stddev_pop</td></tr><tr><td>stddev_samp</td></tr><tr><td>str_to_map</td></tr><tr><td>string</td></tr><tr><td>stringdecode</td></tr><tr><td>struct</td></tr><tr><td>substr</td></tr><tr><td>substring</td></tr><tr><td>substring_index</td></tr><tr><td>sum</td></tr><tr><td>tan</td></tr><tr><td>tanh</td></tr><tr><td>timestamp</td></tr><tr><td>timestamp_micros</td></tr><tr><td>timestamp_millis</td></tr><tr><td>timestamp_seconds</td></tr><tr><td>tinyint</td></tr><tr><td>to_binary</td></tr><tr><td>to_char</td></tr><tr><td>to_csv</td></tr><tr><td>to_date</td></tr><tr><td>to_json</td></tr><tr><td>to_number</td></tr><tr><td>to_timestamp</td></tr><tr><td>to_timestamp_ltz</td></tr><tr><td>to_timestamp_ntz</td></tr><tr><td>to_unix_timestamp</td></tr><tr><td>to_utc_timestamp</td></tr><tr><td>to_varchar</td></tr><tr><td>transform</td></tr><tr><td>transform_keys</td></tr><tr><td>transform_values</td></tr><tr><td>translate</td></tr><tr><td>trim</td></tr><tr><td>trunc</td></tr><tr><td>try_add</td></tr><tr><td>try_aes_decrypt</td></tr><tr><td>try_avg</td></tr><tr><td>try_divide</td></tr><tr><td>try_element_at</td></tr><tr><td>try_multiply</td></tr><tr><td>try_secret</td></tr><tr><td>try_subtract</td></tr><tr><td>try_sum</td></tr><tr><td>try_to_binary</td></tr><tr><td>try_to_number</td></tr><tr><td>try_to_timestamp</td></tr><tr><td>typeof</td></tr><tr><td>ucase</td></tr><tr><td>unbase64</td></tr><tr><td>unhex</td></tr><tr><td>unix_date</td></tr><tr><td>unix_micros</td></tr><tr><td>unix_millis</td></tr><tr><td>unix_seconds</td></tr><tr><td>unix_timestamp</td></tr><tr><td>upper</td></tr><tr><td>url_decode</td></tr><tr><td>url_encode</td></tr><tr><td>user</td></tr><tr><td>uuid</td></tr><tr><td>var_pop</td></tr><tr><td>var_samp</td></tr><tr><td>variance</td></tr><tr><td>version</td></tr><tr><td>weekday</td></tr><tr><td>weekofyear</td></tr><tr><td>when</td></tr><tr><td>width_bucket</td></tr><tr><td>window</td></tr><tr><td>window_time</td></tr><tr><td>xpath</td></tr><tr><td>xpath_boolean</td></tr><tr><td>xpath_double</td></tr><tr><td>xpath_float</td></tr><tr><td>xpath_int</td></tr><tr><td>xpath_long</td></tr><tr><td>xpath_number</td></tr><tr><td>xpath_short</td></tr><tr><td>xpath_string</td></tr><tr><td>xxhash64</td></tr><tr><td>year</td></tr><tr><td>zip_with</td></tr><tr><td>|</td></tr><tr><td>||</td></tr><tr><td>~</td></tr></tbody></table></div>"
      ]
     },
     "metadata": {
      "application/vnd.databricks.v1+output": {
       "addedWidgets": {},
       "aggData": [],
       "aggError": "",
       "aggOverflow": false,
       "aggSchema": [],
       "aggSeriesLimitReached": false,
       "aggType": "",
       "arguments": {},
       "columnCustomDisplayInfos": {},
       "data": [
        [
         "!"
        ],
        [
         "!="
        ],
        [
         "%"
        ],
        [
         "&"
        ],
        [
         "*"
        ],
        [
         "+"
        ],
        [
         "-"
        ],
        [
         "/"
        ],
        [
         "<"
        ],
        [
         "<="
        ],
        [
         "<=>"
        ],
        [
         "<>"
        ],
        [
         "="
        ],
        [
         "=="
        ],
        [
         ">"
        ],
        [
         ">="
        ],
        [
         "^"
        ],
        [
         "abs"
        ],
        [
         "acos"
        ],
        [
         "acosh"
        ],
        [
         "add_months"
        ],
        [
         "aes_decrypt"
        ],
        [
         "aes_encrypt"
        ],
        [
         "aggregate"
        ],
        [
         "ai_generate_text"
        ],
        [
         "ai_query"
        ],
        [
         "and"
        ],
        [
         "any"
        ],
        [
         "any_value"
        ],
        [
         "approx_count_distinct"
        ],
        [
         "approx_percentile"
        ],
        [
         "approx_top_k"
        ],
        [
         "array"
        ],
        [
         "array_agg"
        ],
        [
         "array_append"
        ],
        [
         "array_compact"
        ],
        [
         "array_contains"
        ],
        [
         "array_distinct"
        ],
        [
         "array_except"
        ],
        [
         "array_insert"
        ],
        [
         "array_intersect"
        ],
        [
         "array_join"
        ],
        [
         "array_max"
        ],
        [
         "array_min"
        ],
        [
         "array_position"
        ],
        [
         "array_prepend"
        ],
        [
         "array_remove"
        ],
        [
         "array_repeat"
        ],
        [
         "array_size"
        ],
        [
         "array_sort"
        ],
        [
         "array_union"
        ],
        [
         "arrays_overlap"
        ],
        [
         "arrays_zip"
        ],
        [
         "ascii"
        ],
        [
         "asin"
        ],
        [
         "asinh"
        ],
        [
         "assert_true"
        ],
        [
         "atan"
        ],
        [
         "atan2"
        ],
        [
         "atanh"
        ],
        [
         "avg"
        ],
        [
         "base64"
        ],
        [
         "between"
        ],
        [
         "bigint"
        ],
        [
         "bin"
        ],
        [
         "binary"
        ],
        [
         "bit_and"
        ],
        [
         "bit_count"
        ],
        [
         "bit_get"
        ],
        [
         "bit_length"
        ],
        [
         "bit_or"
        ],
        [
         "bit_reverse"
        ],
        [
         "bit_xor"
        ],
        [
         "bitmap_bit_position"
        ],
        [
         "bitmap_bucket_number"
        ],
        [
         "bitmap_construct_agg"
        ],
        [
         "bitmap_count"
        ],
        [
         "bitmap_or_agg"
        ],
        [
         "bool_and"
        ],
        [
         "bool_or"
        ],
        [
         "boolean"
        ],
        [
         "bround"
        ],
        [
         "btrim"
        ],
        [
         "cardinality"
        ],
        [
         "case"
        ],
        [
         "cast"
        ],
        [
         "cbrt"
        ],
        [
         "ceil"
        ],
        [
         "ceiling"
        ],
        [
         "char"
        ],
        [
         "char_length"
        ],
        [
         "character_length"
        ],
        [
         "charindex"
        ],
        [
         "chr"
        ],
        [
         "cloud_files"
        ],
        [
         "cloud_files_state"
        ],
        [
         "coalesce"
        ],
        [
         "collect_list"
        ],
        [
         "collect_set"
        ],
        [
         "concat"
        ],
        [
         "concat_ws"
        ],
        [
         "contains"
        ],
        [
         "conv"
        ],
        [
         "convert_timezone"
        ],
        [
         "corr"
        ],
        [
         "cos"
        ],
        [
         "cosh"
        ],
        [
         "cot"
        ],
        [
         "count"
        ],
        [
         "count_if"
        ],
        [
         "count_min_sketch"
        ],
        [
         "covar_pop"
        ],
        [
         "covar_samp"
        ],
        [
         "crc32"
        ],
        [
         "csc"
        ],
        [
         "cume_dist"
        ],
        [
         "curdate"
        ],
        [
         "current_catalog"
        ],
        [
         "current_database"
        ],
        [
         "current_date"
        ],
        [
         "current_metastore"
        ],
        [
         "current_oauth_custom_identity_claim"
        ],
        [
         "current_schema"
        ],
        [
         "current_timestamp"
        ],
        [
         "current_timezone"
        ],
        [
         "current_user"
        ],
        [
         "current_version"
        ],
        [
         "date"
        ],
        [
         "date_add"
        ],
        [
         "date_diff"
        ],
        [
         "date_format"
        ],
        [
         "date_from_unix_date"
        ],
        [
         "date_part"
        ],
        [
         "date_sub"
        ],
        [
         "date_trunc"
        ],
        [
         "dateadd"
        ],
        [
         "datediff"
        ],
        [
         "datepart"
        ],
        [
         "day"
        ],
        [
         "dayofmonth"
        ],
        [
         "dayofweek"
        ],
        [
         "dayofyear"
        ],
        [
         "decimal"
        ],
        [
         "decode"
        ],
        [
         "degrees"
        ],
        [
         "dense_rank"
        ],
        [
         "div"
        ],
        [
         "double"
        ],
        [
         "e"
        ],
        [
         "element_at"
        ],
        [
         "elt"
        ],
        [
         "encode"
        ],
        [
         "endswith"
        ],
        [
         "equal_null"
        ],
        [
         "event_log"
        ],
        [
         "every"
        ],
        [
         "exists"
        ],
        [
         "exp"
        ],
        [
         "explode"
        ],
        [
         "explode_outer"
        ],
        [
         "expm1"
        ],
        [
         "extract"
        ],
        [
         "factorial"
        ],
        [
         "filter"
        ],
        [
         "find_in_set"
        ],
        [
         "first"
        ],
        [
         "first_value"
        ],
        [
         "flatten"
        ],
        [
         "float"
        ],
        [
         "floor"
        ],
        [
         "forall"
        ],
        [
         "format_number"
        ],
        [
         "format_string"
        ],
        [
         "from_csv"
        ],
        [
         "from_json"
        ],
        [
         "from_unixtime"
        ],
        [
         "from_utc_timestamp"
        ],
        [
         "get"
        ],
        [
         "get_json_object"
        ],
        [
         "getbit"
        ],
        [
         "getdate"
        ],
        [
         "greatest"
        ],
        [
         "grouping"
        ],
        [
         "grouping_id"
        ],
        [
         "h3_boundaryasgeojson"
        ],
        [
         "h3_boundaryaswkb"
        ],
        [
         "h3_boundaryaswkt"
        ],
        [
         "h3_centerasgeojson"
        ],
        [
         "h3_centeraswkb"
        ],
        [
         "h3_centeraswkt"
        ],
        [
         "h3_compact"
        ],
        [
         "h3_coverash3"
        ],
        [
         "h3_coverash3string"
        ],
        [
         "h3_distance"
        ],
        [
         "h3_getpentagoncellids"
        ],
        [
         "h3_h3tostring"
        ],
        [
         "h3_hexring"
        ],
        [
         "h3_ischildof"
        ],
        [
         "h3_ispentagon"
        ],
        [
         "h3_isvalid"
        ],
        [
         "h3_kring"
        ],
        [
         "h3_kringdistances"
        ],
        [
         "h3_longlatash3"
        ],
        [
         "h3_longlatash3string"
        ],
        [
         "h3_maxchild"
        ],
        [
         "h3_minchild"
        ],
        [
         "h3_pointash3"
        ],
        [
         "h3_pointash3string"
        ],
        [
         "h3_polyfillash3"
        ],
        [
         "h3_polyfillash3string"
        ],
        [
         "h3_resolution"
        ],
        [
         "h3_stringtoh3"
        ],
        [
         "h3_tochildren"
        ],
        [
         "h3_toparent"
        ],
        [
         "h3_try_distance"
        ],
        [
         "h3_try_polyfillash3"
        ],
        [
         "h3_try_polyfillash3string"
        ],
        [
         "h3_try_validate"
        ],
        [
         "h3_uncompact"
        ],
        [
         "h3_validate"
        ],
        [
         "hash"
        ],
        [
         "hex"
        ],
        [
         "histogram_numeric"
        ],
        [
         "hll_cardinality_internal"
        ],
        [
         "hll_collect_internal"
        ],
        [
         "hll_sketch_agg"
        ],
        [
         "hll_sketch_estimate"
        ],
        [
         "hll_union"
        ],
        [
         "hll_union_agg"
        ],
        [
         "hour"
        ],
        [
         "hypot"
        ],
        [
         "if"
        ],
        [
         "iff"
        ],
        [
         "ifnull"
        ],
        [
         "ilike"
        ],
        [
         "in"
        ],
        [
         "initcap"
        ],
        [
         "inline"
        ],
        [
         "inline_outer"
        ],
        [
         "input_file_block_length"
        ],
        [
         "input_file_block_start"
        ],
        [
         "input_file_name"
        ],
        [
         "instr"
        ],
        [
         "int"
        ],
        [
         "is_account_group_member"
        ],
        [
         "is_member"
        ],
        [
         "isnan"
        ],
        [
         "isnotnull"
        ],
        [
         "isnull"
        ],
        [
         "java_method"
        ],
        [
         "json_array_length"
        ],
        [
         "json_object_keys"
        ],
        [
         "json_tuple"
        ],
        [
         "kurtosis"
        ],
        [
         "lag"
        ],
        [
         "last"
        ],
        [
         "last_day"
        ],
        [
         "last_value"
        ],
        [
         "lcase"
        ],
        [
         "lead"
        ],
        [
         "least"
        ],
        [
         "left"
        ],
        [
         "len"
        ],
        [
         "length"
        ],
        [
         "levenshtein"
        ],
        [
         "like"
        ],
        [
         "list_secrets"
        ],
        [
         "ln"
        ],
        [
         "localtimestamp"
        ],
        [
         "locate"
        ],
        [
         "log"
        ],
        [
         "log10"
        ],
        [
         "log1p"
        ],
        [
         "log2"
        ],
        [
         "lower"
        ],
        [
         "lpad"
        ],
        [
         "ltrim"
        ],
        [
         "luhn_check"
        ],
        [
         "make_date"
        ],
        [
         "make_dt_interval"
        ],
        [
         "make_interval"
        ],
        [
         "make_timestamp"
        ],
        [
         "make_timestamp_ltz"
        ],
        [
         "make_timestamp_ntz"
        ],
        [
         "make_ym_interval"
        ],
        [
         "map"
        ],
        [
         "map_concat"
        ],
        [
         "map_contains_key"
        ],
        [
         "map_entries"
        ],
        [
         "map_filter"
        ],
        [
         "map_from_arrays"
        ],
        [
         "map_from_entries"
        ],
        [
         "map_keys"
        ],
        [
         "map_values"
        ],
        [
         "map_zip_with"
        ],
        [
         "mask"
        ],
        [
         "max"
        ],
        [
         "max_by"
        ],
        [
         "md5"
        ],
        [
         "mean"
        ],
        [
         "median"
        ],
        [
         "min"
        ],
        [
         "min_by"
        ],
        [
         "minute"
        ],
        [
         "mod"
        ],
        [
         "mode"
        ],
        [
         "monotonically_increasing_id"
        ],
        [
         "month"
        ],
        [
         "months_between"
        ],
        [
         "named_struct"
        ],
        [
         "nanvl"
        ],
        [
         "negative"
        ],
        [
         "next_day"
        ],
        [
         "not"
        ],
        [
         "now"
        ],
        [
         "nth_value"
        ],
        [
         "ntile"
        ],
        [
         "nullif"
        ],
        [
         "nvl"
        ],
        [
         "nvl2"
        ],
        [
         "octet_length"
        ],
        [
         "or"
        ],
        [
         "overlay"
        ],
        [
         "parse_url"
        ],
        [
         "percent_rank"
        ],
        [
         "percentile"
        ],
        [
         "percentile_approx"
        ],
        [
         "pi"
        ],
        [
         "pmod"
        ],
        [
         "posexplode"
        ],
        [
         "posexplode_outer"
        ],
        [
         "position"
        ],
        [
         "positive"
        ],
        [
         "pow"
        ],
        [
         "power"
        ],
        [
         "printf"
        ],
        [
         "quarter"
        ],
        [
         "radians"
        ],
        [
         "raise_error"
        ],
        [
         "rand"
        ],
        [
         "randn"
        ],
        [
         "random"
        ],
        [
         "range"
        ],
        [
         "rank"
        ],
        [
         "read_files"
        ],
        [
         "read_kafka"
        ],
        [
         "read_kinesis"
        ],
        [
         "read_pubsub"
        ],
        [
         "reduce"
        ],
        [
         "reflect"
        ],
        [
         "regexp"
        ],
        [
         "regexp_count"
        ],
        [
         "regexp_extract"
        ],
        [
         "regexp_extract_all"
        ],
        [
         "regexp_instr"
        ],
        [
         "regexp_like"
        ],
        [
         "regexp_replace"
        ],
        [
         "regexp_substr"
        ],
        [
         "regr_avgx"
        ],
        [
         "regr_avgy"
        ],
        [
         "regr_count"
        ],
        [
         "regr_intercept"
        ],
        [
         "regr_r2"
        ],
        [
         "regr_slope"
        ],
        [
         "regr_sxx"
        ],
        [
         "regr_sxy"
        ],
        [
         "regr_syy"
        ],
        [
         "repeat"
        ],
        [
         "replace"
        ],
        [
         "reverse"
        ],
        [
         "right"
        ],
        [
         "rint"
        ],
        [
         "rlike"
        ],
        [
         "round"
        ],
        [
         "row_number"
        ],
        [
         "rpad"
        ],
        [
         "rtrim"
        ],
        [
         "schema_of_csv"
        ],
        [
         "schema_of_json"
        ],
        [
         "schema_of_json_agg"
        ],
        [
         "sec"
        ],
        [
         "second"
        ],
        [
         "secret"
        ],
        [
         "sentences"
        ],
        [
         "sequence"
        ],
        [
         "session_window"
        ],
        [
         "sha"
        ],
        [
         "sha1"
        ],
        [
         "sha2"
        ],
        [
         "shiftleft"
        ],
        [
         "shiftright"
        ],
        [
         "shiftrightunsigned"
        ],
        [
         "shuffle"
        ],
        [
         "sign"
        ],
        [
         "signum"
        ],
        [
         "sin"
        ],
        [
         "sinh"
        ],
        [
         "size"
        ],
        [
         "skewness"
        ],
        [
         "slice"
        ],
        [
         "smallint"
        ],
        [
         "some"
        ],
        [
         "sort_array"
        ],
        [
         "soundex"
        ],
        [
         "space"
        ],
        [
         "spark_partition_id"
        ],
        [
         "split"
        ],
        [
         "split_part"
        ],
        [
         "sql_keywords"
        ],
        [
         "sqrt"
        ],
        [
         "st_area"
        ],
        [
         "st_astext"
        ],
        [
         "st_geogfromtext"
        ],
        [
         "st_geogfromwkt"
        ],
        [
         "st_geometrytype"
        ],
        [
         "st_geomfromtext"
        ],
        [
         "st_geomfromwkt"
        ],
        [
         "st_isempty"
        ],
        [
         "st_length"
        ],
        [
         "st_ndims"
        ],
        [
         "st_npoints"
        ],
        [
         "st_point"
        ],
        [
         "st_setsrid"
        ],
        [
         "st_srid"
        ],
        [
         "st_xmax"
        ],
        [
         "st_xmin"
        ],
        [
         "st_ymax"
        ],
        [
         "st_ymin"
        ],
        [
         "stack"
        ],
        [
         "startswith"
        ],
        [
         "std"
        ],
        [
         "stddev"
        ],
        [
         "stddev_pop"
        ],
        [
         "stddev_samp"
        ],
        [
         "str_to_map"
        ],
        [
         "string"
        ],
        [
         "stringdecode"
        ],
        [
         "struct"
        ],
        [
         "substr"
        ],
        [
         "substring"
        ],
        [
         "substring_index"
        ],
        [
         "sum"
        ],
        [
         "tan"
        ],
        [
         "tanh"
        ],
        [
         "timestamp"
        ],
        [
         "timestamp_micros"
        ],
        [
         "timestamp_millis"
        ],
        [
         "timestamp_seconds"
        ],
        [
         "tinyint"
        ],
        [
         "to_binary"
        ],
        [
         "to_char"
        ],
        [
         "to_csv"
        ],
        [
         "to_date"
        ],
        [
         "to_json"
        ],
        [
         "to_number"
        ],
        [
         "to_timestamp"
        ],
        [
         "to_timestamp_ltz"
        ],
        [
         "to_timestamp_ntz"
        ],
        [
         "to_unix_timestamp"
        ],
        [
         "to_utc_timestamp"
        ],
        [
         "to_varchar"
        ],
        [
         "transform"
        ],
        [
         "transform_keys"
        ],
        [
         "transform_values"
        ],
        [
         "translate"
        ],
        [
         "trim"
        ],
        [
         "trunc"
        ],
        [
         "try_add"
        ],
        [
         "try_aes_decrypt"
        ],
        [
         "try_avg"
        ],
        [
         "try_divide"
        ],
        [
         "try_element_at"
        ],
        [
         "try_multiply"
        ],
        [
         "try_secret"
        ],
        [
         "try_subtract"
        ],
        [
         "try_sum"
        ],
        [
         "try_to_binary"
        ],
        [
         "try_to_number"
        ],
        [
         "try_to_timestamp"
        ],
        [
         "typeof"
        ],
        [
         "ucase"
        ],
        [
         "unbase64"
        ],
        [
         "unhex"
        ],
        [
         "unix_date"
        ],
        [
         "unix_micros"
        ],
        [
         "unix_millis"
        ],
        [
         "unix_seconds"
        ],
        [
         "unix_timestamp"
        ],
        [
         "upper"
        ],
        [
         "url_decode"
        ],
        [
         "url_encode"
        ],
        [
         "user"
        ],
        [
         "uuid"
        ],
        [
         "var_pop"
        ],
        [
         "var_samp"
        ],
        [
         "variance"
        ],
        [
         "version"
        ],
        [
         "weekday"
        ],
        [
         "weekofyear"
        ],
        [
         "when"
        ],
        [
         "width_bucket"
        ],
        [
         "window"
        ],
        [
         "window_time"
        ],
        [
         "xpath"
        ],
        [
         "xpath_boolean"
        ],
        [
         "xpath_double"
        ],
        [
         "xpath_float"
        ],
        [
         "xpath_int"
        ],
        [
         "xpath_long"
        ],
        [
         "xpath_number"
        ],
        [
         "xpath_short"
        ],
        [
         "xpath_string"
        ],
        [
         "xxhash64"
        ],
        [
         "year"
        ],
        [
         "zip_with"
        ],
        [
         "|"
        ],
        [
         "||"
        ],
        [
         "~"
        ]
       ],
       "datasetInfos": [],
       "dbfsResultPath": null,
       "isJsonSchema": true,
       "metadata": {
        "dataframeName": "_sqldf",
        "executionCount": 382
       },
       "overflow": false,
       "plotOptions": {
        "customPlotOptions": {},
        "displayType": "table",
        "pivotAggregation": null,
        "pivotColumns": null,
        "xColumns": null,
        "yColumns": null
       },
       "removedWidgets": [],
       "schema": [
        {
         "metadata": "{}",
         "name": "function",
         "type": "\"string\""
        }
       ],
       "type": "table"
      }
     },
     "output_type": "display_data"
    }
   ],
   "source": [
    "%sql\n",
    "SHOW SYSTEM FUNCTIONS\n"
   ]
  },
  {
   "cell_type": "code",
   "execution_count": 0,
   "metadata": {
    "application/vnd.databricks.v1+cell": {
     "cellMetadata": {
      "byteLimit": 2048000,
      "implicitDf": true,
      "rowLimit": 10000
     },
     "inputWidgets": {},
     "nuid": "ddceb6ee-22cd-4811-8132-f21f957ed026",
     "showTitle": false,
     "title": ""
    }
   },
   "outputs": [
    {
     "output_type": "display_data",
     "data": {
      "text/html": [
       "<style scoped>\n",
       "  .table-result-container {\n",
       "    max-height: 300px;\n",
       "    overflow: auto;\n",
       "  }\n",
       "  table, th, td {\n",
       "    border: 1px solid black;\n",
       "    border-collapse: collapse;\n",
       "  }\n",
       "  th, td {\n",
       "    padding: 5px;\n",
       "  }\n",
       "  th {\n",
       "    text-align: left;\n",
       "  }\n",
       "</style><div class='table-result-container'><table class='table-result'><thead style='background-color: white'><tr><th>function</th></tr></thead><tbody><tr><td>getargument</td></tr></tbody></table></div>"
      ]
     },
     "metadata": {
      "application/vnd.databricks.v1+output": {
       "addedWidgets": {},
       "aggData": [],
       "aggError": "",
       "aggOverflow": false,
       "aggSchema": [],
       "aggSeriesLimitReached": false,
       "aggType": "",
       "arguments": {},
       "columnCustomDisplayInfos": {},
       "data": [
        [
         "getargument"
        ]
       ],
       "datasetInfos": [],
       "dbfsResultPath": null,
       "isJsonSchema": true,
       "metadata": {
        "dataframeName": "_sqldf",
        "executionCount": 383
       },
       "overflow": false,
       "plotOptions": {
        "customPlotOptions": {},
        "displayType": "table",
        "pivotAggregation": null,
        "pivotColumns": null,
        "xColumns": null,
        "yColumns": null
       },
       "removedWidgets": [],
       "schema": [
        {
         "metadata": "{}",
         "name": "function",
         "type": "\"string\""
        }
       ],
       "type": "table"
      }
     },
     "output_type": "display_data"
    }
   ],
   "source": [
    "%sql\n",
    "SHOW USER FUNCTIONS\n",
    "\n"
   ]
  },
  {
   "cell_type": "code",
   "execution_count": 0,
   "metadata": {
    "application/vnd.databricks.v1+cell": {
     "cellMetadata": {
      "byteLimit": 2048000,
      "implicitDf": true,
      "rowLimit": 10000
     },
     "inputWidgets": {},
     "nuid": "2f6b61b4-ff07-4ee0-b220-1c5d73f8930a",
     "showTitle": false,
     "title": ""
    }
   },
   "outputs": [
    {
     "output_type": "display_data",
     "data": {
      "text/html": [
       "<style scoped>\n",
       "  .table-result-container {\n",
       "    max-height: 300px;\n",
       "    overflow: auto;\n",
       "  }\n",
       "  table, th, td {\n",
       "    border: 1px solid black;\n",
       "    border-collapse: collapse;\n",
       "  }\n",
       "  th, td {\n",
       "    padding: 5px;\n",
       "  }\n",
       "  th {\n",
       "    text-align: left;\n",
       "  }\n",
       "</style><div class='table-result-container'><table class='table-result'><thead style='background-color: white'><tr><th>dest_country_name</th></tr></thead><tbody><tr><td>United States</td></tr><tr><td>Canada</td></tr><tr><td>Mexico</td></tr><tr><td>United Kingdom</td></tr><tr><td>Japan</td></tr></tbody></table></div>"
      ]
     },
     "metadata": {
      "application/vnd.databricks.v1+output": {
       "addedWidgets": {},
       "aggData": [],
       "aggError": "",
       "aggOverflow": false,
       "aggSchema": [],
       "aggSeriesLimitReached": false,
       "aggType": "",
       "arguments": {},
       "columnCustomDisplayInfos": {},
       "data": [
        [
         "United States"
        ],
        [
         "Canada"
        ],
        [
         "Mexico"
        ],
        [
         "United Kingdom"
        ],
        [
         "Japan"
        ]
       ],
       "datasetInfos": [],
       "dbfsResultPath": null,
       "isJsonSchema": true,
       "metadata": {
        "dataframeName": "_sqldf",
        "executionCount": 384
       },
       "overflow": false,
       "plotOptions": {
        "customPlotOptions": {},
        "displayType": "table",
        "pivotAggregation": null,
        "pivotColumns": null,
        "xColumns": null,
        "yColumns": null
       },
       "removedWidgets": [],
       "schema": [
        {
         "metadata": "{}",
         "name": "dest_country_name",
         "type": "\"string\""
        }
       ],
       "type": "table"
      }
     },
     "output_type": "display_data"
    }
   ],
   "source": [
    "%sql\n",
    "SELECT dest_country_name FROM flights\n",
    "GROUP BY dest_country_name ORDER BY sum(count) DESC LIMIT 5\n"
   ]
  },
  {
   "cell_type": "code",
   "execution_count": 0,
   "metadata": {
    "application/vnd.databricks.v1+cell": {
     "cellMetadata": {
      "byteLimit": 2048000,
      "implicitDf": true,
      "rowLimit": 10000
     },
     "inputWidgets": {},
     "nuid": "96c46e35-46f8-4abd-94cb-4281c03b9607",
     "showTitle": false,
     "title": ""
    }
   },
   "outputs": [
    {
     "output_type": "display_data",
     "data": {
      "text/html": [
       "<style scoped>\n",
       "  .table-result-container {\n",
       "    max-height: 300px;\n",
       "    overflow: auto;\n",
       "  }\n",
       "  table, th, td {\n",
       "    border: 1px solid black;\n",
       "    border-collapse: collapse;\n",
       "  }\n",
       "  th, td {\n",
       "    padding: 5px;\n",
       "  }\n",
       "  th {\n",
       "    text-align: left;\n",
       "  }\n",
       "</style><div class='table-result-container'><table class='table-result'><thead style='background-color: white'><tr><th>DEST_COUNTRY_NAME</th><th>ORIGIN_COUNTRY_NAME</th><th>count</th></tr></thead><tbody><tr><td>Egypt</td><td>United States</td><td>15</td></tr><tr><td>Costa Rica</td><td>United States</td><td>588</td></tr><tr><td>Senegal</td><td>United States</td><td>40</td></tr><tr><td>Moldova</td><td>United States</td><td>1</td></tr><tr><td>Guyana</td><td>United States</td><td>64</td></tr><tr><td>Malta</td><td>United States</td><td>1</td></tr><tr><td>Anguilla</td><td>United States</td><td>41</td></tr><tr><td>Bolivia</td><td>United States</td><td>30</td></tr><tr><td>Algeria</td><td>United States</td><td>4</td></tr><tr><td>Turks and Caicos Islands</td><td>United States</td><td>230</td></tr><tr><td>Saint Vincent and the Grenadines</td><td>United States</td><td>1</td></tr><tr><td>Italy</td><td>United States</td><td>382</td></tr><tr><td>Pakistan</td><td>United States</td><td>12</td></tr><tr><td>Iceland</td><td>United States</td><td>181</td></tr><tr><td>Marshall Islands</td><td>United States</td><td>42</td></tr><tr><td>Luxembourg</td><td>United States</td><td>155</td></tr><tr><td>Honduras</td><td>United States</td><td>362</td></tr><tr><td>The Bahamas</td><td>United States</td><td>955</td></tr><tr><td>El Salvador</td><td>United States</td><td>561</td></tr><tr><td>Samoa</td><td>United States</td><td>25</td></tr><tr><td>Switzerland</td><td>United States</td><td>294</td></tr><tr><td>Sint Maarten</td><td>United States</td><td>325</td></tr><tr><td>Hong Kong</td><td>United States</td><td>332</td></tr><tr><td>Trinidad and Tobago</td><td>United States</td><td>211</td></tr><tr><td>Latvia</td><td>United States</td><td>19</td></tr><tr><td>Suriname</td><td>United States</td><td>1</td></tr><tr><td>Mexico</td><td>United States</td><td>7140</td></tr><tr><td>Ecuador</td><td>United States</td><td>268</td></tr><tr><td>Colombia</td><td>United States</td><td>873</td></tr><tr><td>Norway</td><td>United States</td><td>121</td></tr><tr><td>Thailand</td><td>United States</td><td>3</td></tr><tr><td>Venezuela</td><td>United States</td><td>290</td></tr><tr><td>Panama</td><td>United States</td><td>510</td></tr><tr><td>Antigua and Barbuda</td><td>United States</td><td>126</td></tr><tr><td>Morocco</td><td>United States</td><td>15</td></tr><tr><td>Azerbaijan</td><td>United States</td><td>21</td></tr><tr><td>New Zealand</td><td>United States</td><td>111</td></tr><tr><td>Liberia</td><td>United States</td><td>2</td></tr><tr><td>Hungary</td><td>United States</td><td>2</td></tr><tr><td>Burkina Faso</td><td>United States</td><td>1</td></tr><tr><td>Sweden</td><td>United States</td><td>118</td></tr><tr><td>Israel</td><td>United States</td><td>134</td></tr><tr><td>United States</td><td>United States</td><td>370002</td></tr><tr><td>Ethiopia</td><td>United States</td><td>13</td></tr><tr><td>Martinique</td><td>United States</td><td>44</td></tr><tr><td>Saint Barthelemy</td><td>United States</td><td>39</td></tr><tr><td>Barbados</td><td>United States</td><td>154</td></tr><tr><td>Djibouti</td><td>United States</td><td>1</td></tr><tr><td>Germany</td><td>United States</td><td>1468</td></tr><tr><td>Ireland</td><td>United States</td><td>335</td></tr><tr><td>Zambia</td><td>United States</td><td>1</td></tr><tr><td>Malaysia</td><td>United States</td><td>2</td></tr><tr><td>Croatia</td><td>United States</td><td>2</td></tr><tr><td>Cyprus</td><td>United States</td><td>1</td></tr><tr><td>Fiji</td><td>United States</td><td>24</td></tr><tr><td>Qatar</td><td>United States</td><td>108</td></tr><tr><td>Saint Kitts and Nevis</td><td>United States</td><td>139</td></tr><tr><td>Kuwait</td><td>United States</td><td>32</td></tr><tr><td>Taiwan</td><td>United States</td><td>266</td></tr><tr><td>Haiti</td><td>United States</td><td>226</td></tr><tr><td>Canada</td><td>United States</td><td>8399</td></tr><tr><td>Federated States of Micronesia</td><td>United States</td><td>69</td></tr><tr><td>Jamaica</td><td>United States</td><td>666</td></tr><tr><td>Dominican Republic</td><td>United States</td><td>1353</td></tr><tr><td>Japan</td><td>United States</td><td>1548</td></tr><tr><td>Finland</td><td>United States</td><td>26</td></tr><tr><td>Aruba</td><td>United States</td><td>346</td></tr><tr><td>French Guiana</td><td>United States</td><td>5</td></tr><tr><td>India</td><td>United States</td><td>61</td></tr><tr><td>British Virgin Islands</td><td>United States</td><td>107</td></tr><tr><td>Brazil</td><td>United States</td><td>853</td></tr><tr><td>French Polynesia</td><td>United States</td><td>43</td></tr><tr><td>United Arab Emirates</td><td>United States</td><td>320</td></tr><tr><td>Singapore</td><td>United States</td><td>3</td></tr><tr><td>United States</td><td>Mexico</td><td>7187</td></tr><tr><td>Netherlands</td><td>United States</td><td>776</td></tr><tr><td>Denmark</td><td>United States</td><td>153</td></tr><tr><td>China</td><td>United States</td><td>772</td></tr><tr><td>Cayman Islands</td><td>United States</td><td>314</td></tr><tr><td>Argentina</td><td>United States</td><td>180</td></tr><tr><td>Peru</td><td>United States</td><td>279</td></tr><tr><td>South Africa</td><td>United States</td><td>36</td></tr><tr><td>Spain</td><td>United States</td><td>420</td></tr><tr><td>Bermuda</td><td>United States</td><td>183</td></tr><tr><td>Kiribati</td><td>United States</td><td>26</td></tr><tr><td>Saudi Arabia</td><td>United States</td><td>83</td></tr><tr><td>Czech Republic</td><td>United States</td><td>13</td></tr><tr><td>Belgium</td><td>United States</td><td>259</td></tr><tr><td>Curacao</td><td>United States</td><td>90</td></tr><tr><td>Georgia</td><td>United States</td><td>2</td></tr><tr><td>Philippines</td><td>United States</td><td>134</td></tr><tr><td>Grenada</td><td>United States</td><td>53</td></tr><tr><td>Cape Verde</td><td>United States</td><td>20</td></tr><tr><td>Cote d'Ivoire</td><td>United States</td><td>1</td></tr><tr><td>Ukraine</td><td>United States</td><td>14</td></tr><tr><td>Russia</td><td>United States</td><td>176</td></tr><tr><td>Guatemala</td><td>United States</td><td>397</td></tr><tr><td>Saint Lucia</td><td>United States</td><td>123</td></tr><tr><td>Paraguay</td><td>United States</td><td>60</td></tr><tr><td>Kosovo</td><td>United States</td><td>1</td></tr><tr><td>Tunisia</td><td>United States</td><td>3</td></tr><tr><td>Niger</td><td>United States</td><td>2</td></tr><tr><td>Turkey</td><td>United States</td><td>138</td></tr><tr><td>United Kingdom</td><td>United States</td><td>2025</td></tr><tr><td>Romania</td><td>United States</td><td>14</td></tr><tr><td>Papua New Guinea</td><td>United States</td><td>3</td></tr><tr><td>Iraq</td><td>United States</td><td>1</td></tr><tr><td>Cuba</td><td>United States</td><td>466</td></tr><tr><td>Dominica</td><td>United States</td><td>20</td></tr><tr><td>United States</td><td>Japan</td><td>1496</td></tr><tr><td>Portugal</td><td>United States</td><td>127</td></tr><tr><td>Bahrain</td><td>United States</td><td>19</td></tr><tr><td>Indonesia</td><td>United States</td><td>1</td></tr><tr><td>United States</td><td>United Kingdom</td><td>1970</td></tr><tr><td>Belize</td><td>United States</td><td>188</td></tr><tr><td>United States</td><td>Canada</td><td>8483</td></tr><tr><td>Nicaragua</td><td>United States</td><td>179</td></tr><tr><td>Austria</td><td>United States</td><td>62</td></tr><tr><td>Jordan</td><td>United States</td><td>44</td></tr><tr><td>Palau</td><td>United States</td><td>30</td></tr><tr><td>South Korea</td><td>United States</td><td>1048</td></tr><tr><td>Angola</td><td>United States</td><td>15</td></tr><tr><td>Ghana</td><td>United States</td><td>18</td></tr><tr><td>New Caledonia</td><td>United States</td><td>1</td></tr><tr><td>Guadeloupe</td><td>United States</td><td>56</td></tr><tr><td>France</td><td>United States</td><td>935</td></tr><tr><td>Poland</td><td>United States</td><td>32</td></tr><tr><td>Nigeria</td><td>United States</td><td>59</td></tr><tr><td>Greenland</td><td>United States</td><td>2</td></tr><tr><td>Chile</td><td>United States</td><td>174</td></tr><tr><td>Australia</td><td>United States</td><td>329</td></tr><tr><td>Cook Islands</td><td>United States</td><td>13</td></tr><tr><td>Bulgaria</td><td>United States</td><td>3</td></tr><tr><td>Uruguay</td><td>United States</td><td>43</td></tr><tr><td>Bonaire, Sint Eustatius, and Saba</td><td>United States</td><td>58</td></tr><tr><td>Greece</td><td>United States</td><td>30</td></tr></tbody></table></div>"
      ]
     },
     "metadata": {
      "application/vnd.databricks.v1+output": {
       "addedWidgets": {},
       "aggData": [],
       "aggError": "",
       "aggOverflow": false,
       "aggSchema": [],
       "aggSeriesLimitReached": false,
       "aggType": "",
       "arguments": {},
       "columnCustomDisplayInfos": {},
       "data": [
        [
         "Egypt",
         "United States",
         15
        ],
        [
         "Costa Rica",
         "United States",
         588
        ],
        [
         "Senegal",
         "United States",
         40
        ],
        [
         "Moldova",
         "United States",
         1
        ],
        [
         "Guyana",
         "United States",
         64
        ],
        [
         "Malta",
         "United States",
         1
        ],
        [
         "Anguilla",
         "United States",
         41
        ],
        [
         "Bolivia",
         "United States",
         30
        ],
        [
         "Algeria",
         "United States",
         4
        ],
        [
         "Turks and Caicos Islands",
         "United States",
         230
        ],
        [
         "Saint Vincent and the Grenadines",
         "United States",
         1
        ],
        [
         "Italy",
         "United States",
         382
        ],
        [
         "Pakistan",
         "United States",
         12
        ],
        [
         "Iceland",
         "United States",
         181
        ],
        [
         "Marshall Islands",
         "United States",
         42
        ],
        [
         "Luxembourg",
         "United States",
         155
        ],
        [
         "Honduras",
         "United States",
         362
        ],
        [
         "The Bahamas",
         "United States",
         955
        ],
        [
         "El Salvador",
         "United States",
         561
        ],
        [
         "Samoa",
         "United States",
         25
        ],
        [
         "Switzerland",
         "United States",
         294
        ],
        [
         "Sint Maarten",
         "United States",
         325
        ],
        [
         "Hong Kong",
         "United States",
         332
        ],
        [
         "Trinidad and Tobago",
         "United States",
         211
        ],
        [
         "Latvia",
         "United States",
         19
        ],
        [
         "Suriname",
         "United States",
         1
        ],
        [
         "Mexico",
         "United States",
         7140
        ],
        [
         "Ecuador",
         "United States",
         268
        ],
        [
         "Colombia",
         "United States",
         873
        ],
        [
         "Norway",
         "United States",
         121
        ],
        [
         "Thailand",
         "United States",
         3
        ],
        [
         "Venezuela",
         "United States",
         290
        ],
        [
         "Panama",
         "United States",
         510
        ],
        [
         "Antigua and Barbuda",
         "United States",
         126
        ],
        [
         "Morocco",
         "United States",
         15
        ],
        [
         "Azerbaijan",
         "United States",
         21
        ],
        [
         "New Zealand",
         "United States",
         111
        ],
        [
         "Liberia",
         "United States",
         2
        ],
        [
         "Hungary",
         "United States",
         2
        ],
        [
         "Burkina Faso",
         "United States",
         1
        ],
        [
         "Sweden",
         "United States",
         118
        ],
        [
         "Israel",
         "United States",
         134
        ],
        [
         "United States",
         "United States",
         370002
        ],
        [
         "Ethiopia",
         "United States",
         13
        ],
        [
         "Martinique",
         "United States",
         44
        ],
        [
         "Saint Barthelemy",
         "United States",
         39
        ],
        [
         "Barbados",
         "United States",
         154
        ],
        [
         "Djibouti",
         "United States",
         1
        ],
        [
         "Germany",
         "United States",
         1468
        ],
        [
         "Ireland",
         "United States",
         335
        ],
        [
         "Zambia",
         "United States",
         1
        ],
        [
         "Malaysia",
         "United States",
         2
        ],
        [
         "Croatia",
         "United States",
         2
        ],
        [
         "Cyprus",
         "United States",
         1
        ],
        [
         "Fiji",
         "United States",
         24
        ],
        [
         "Qatar",
         "United States",
         108
        ],
        [
         "Saint Kitts and Nevis",
         "United States",
         139
        ],
        [
         "Kuwait",
         "United States",
         32
        ],
        [
         "Taiwan",
         "United States",
         266
        ],
        [
         "Haiti",
         "United States",
         226
        ],
        [
         "Canada",
         "United States",
         8399
        ],
        [
         "Federated States of Micronesia",
         "United States",
         69
        ],
        [
         "Jamaica",
         "United States",
         666
        ],
        [
         "Dominican Republic",
         "United States",
         1353
        ],
        [
         "Japan",
         "United States",
         1548
        ],
        [
         "Finland",
         "United States",
         26
        ],
        [
         "Aruba",
         "United States",
         346
        ],
        [
         "French Guiana",
         "United States",
         5
        ],
        [
         "India",
         "United States",
         61
        ],
        [
         "British Virgin Islands",
         "United States",
         107
        ],
        [
         "Brazil",
         "United States",
         853
        ],
        [
         "French Polynesia",
         "United States",
         43
        ],
        [
         "United Arab Emirates",
         "United States",
         320
        ],
        [
         "Singapore",
         "United States",
         3
        ],
        [
         "United States",
         "Mexico",
         7187
        ],
        [
         "Netherlands",
         "United States",
         776
        ],
        [
         "Denmark",
         "United States",
         153
        ],
        [
         "China",
         "United States",
         772
        ],
        [
         "Cayman Islands",
         "United States",
         314
        ],
        [
         "Argentina",
         "United States",
         180
        ],
        [
         "Peru",
         "United States",
         279
        ],
        [
         "South Africa",
         "United States",
         36
        ],
        [
         "Spain",
         "United States",
         420
        ],
        [
         "Bermuda",
         "United States",
         183
        ],
        [
         "Kiribati",
         "United States",
         26
        ],
        [
         "Saudi Arabia",
         "United States",
         83
        ],
        [
         "Czech Republic",
         "United States",
         13
        ],
        [
         "Belgium",
         "United States",
         259
        ],
        [
         "Curacao",
         "United States",
         90
        ],
        [
         "Georgia",
         "United States",
         2
        ],
        [
         "Philippines",
         "United States",
         134
        ],
        [
         "Grenada",
         "United States",
         53
        ],
        [
         "Cape Verde",
         "United States",
         20
        ],
        [
         "Cote d'Ivoire",
         "United States",
         1
        ],
        [
         "Ukraine",
         "United States",
         14
        ],
        [
         "Russia",
         "United States",
         176
        ],
        [
         "Guatemala",
         "United States",
         397
        ],
        [
         "Saint Lucia",
         "United States",
         123
        ],
        [
         "Paraguay",
         "United States",
         60
        ],
        [
         "Kosovo",
         "United States",
         1
        ],
        [
         "Tunisia",
         "United States",
         3
        ],
        [
         "Niger",
         "United States",
         2
        ],
        [
         "Turkey",
         "United States",
         138
        ],
        [
         "United Kingdom",
         "United States",
         2025
        ],
        [
         "Romania",
         "United States",
         14
        ],
        [
         "Papua New Guinea",
         "United States",
         3
        ],
        [
         "Iraq",
         "United States",
         1
        ],
        [
         "Cuba",
         "United States",
         466
        ],
        [
         "Dominica",
         "United States",
         20
        ],
        [
         "United States",
         "Japan",
         1496
        ],
        [
         "Portugal",
         "United States",
         127
        ],
        [
         "Bahrain",
         "United States",
         19
        ],
        [
         "Indonesia",
         "United States",
         1
        ],
        [
         "United States",
         "United Kingdom",
         1970
        ],
        [
         "Belize",
         "United States",
         188
        ],
        [
         "United States",
         "Canada",
         8483
        ],
        [
         "Nicaragua",
         "United States",
         179
        ],
        [
         "Austria",
         "United States",
         62
        ],
        [
         "Jordan",
         "United States",
         44
        ],
        [
         "Palau",
         "United States",
         30
        ],
        [
         "South Korea",
         "United States",
         1048
        ],
        [
         "Angola",
         "United States",
         15
        ],
        [
         "Ghana",
         "United States",
         18
        ],
        [
         "New Caledonia",
         "United States",
         1
        ],
        [
         "Guadeloupe",
         "United States",
         56
        ],
        [
         "France",
         "United States",
         935
        ],
        [
         "Poland",
         "United States",
         32
        ],
        [
         "Nigeria",
         "United States",
         59
        ],
        [
         "Greenland",
         "United States",
         2
        ],
        [
         "Chile",
         "United States",
         174
        ],
        [
         "Australia",
         "United States",
         329
        ],
        [
         "Cook Islands",
         "United States",
         13
        ],
        [
         "Bulgaria",
         "United States",
         3
        ],
        [
         "Uruguay",
         "United States",
         43
        ],
        [
         "Bonaire, Sint Eustatius, and Saba",
         "United States",
         58
        ],
        [
         "Greece",
         "United States",
         30
        ]
       ],
       "datasetInfos": [],
       "dbfsResultPath": null,
       "isJsonSchema": true,
       "metadata": {
        "dataframeName": "_sqldf",
        "executionCount": 385
       },
       "overflow": false,
       "plotOptions": {
        "customPlotOptions": {},
        "displayType": "table",
        "pivotAggregation": null,
        "pivotColumns": null,
        "xColumns": null,
        "yColumns": null
       },
       "removedWidgets": [],
       "schema": [
        {
         "metadata": "{}",
         "name": "DEST_COUNTRY_NAME",
         "type": "\"string\""
        },
        {
         "metadata": "{}",
         "name": "ORIGIN_COUNTRY_NAME",
         "type": "\"string\""
        },
        {
         "metadata": "{}",
         "name": "count",
         "type": "\"long\""
        }
       ],
       "type": "table"
      }
     },
     "output_type": "display_data"
    }
   ],
   "source": [
    "%sql\n",
    "SELECT * FROM flights\n",
    "WHERE origin_country_name IN (SELECT dest_country_name FROM flights\n",
    "GROUP BY dest_country_name ORDER BY sum(count) DESC LIMIT 5)\n"
   ]
  },
  {
   "cell_type": "code",
   "execution_count": 0,
   "metadata": {
    "application/vnd.databricks.v1+cell": {
     "cellMetadata": {
      "byteLimit": 2048000,
      "implicitDf": true,
      "rowLimit": 10000
     },
     "inputWidgets": {},
     "nuid": "4e62682a-33d6-4db6-a552-f1d17c263ae9",
     "showTitle": false,
     "title": ""
    }
   },
   "outputs": [
    {
     "output_type": "display_data",
     "data": {
      "text/html": [
       "<style scoped>\n",
       "  .table-result-container {\n",
       "    max-height: 300px;\n",
       "    overflow: auto;\n",
       "  }\n",
       "  table, th, td {\n",
       "    border: 1px solid black;\n",
       "    border-collapse: collapse;\n",
       "  }\n",
       "  th, td {\n",
       "    padding: 5px;\n",
       "  }\n",
       "  th {\n",
       "    text-align: left;\n",
       "  }\n",
       "</style><div class='table-result-container'><table class='table-result'><thead style='background-color: white'><tr><th>DEST_COUNTRY_NAME</th><th>ORIGIN_COUNTRY_NAME</th><th>count</th></tr></thead><tbody><tr><td>United States</td><td>Romania</td><td>15</td></tr><tr><td>United States</td><td>Croatia</td><td>1</td></tr><tr><td>United States</td><td>Ireland</td><td>344</td></tr><tr><td>Egypt</td><td>United States</td><td>15</td></tr><tr><td>United States</td><td>India</td><td>62</td></tr><tr><td>United States</td><td>Singapore</td><td>1</td></tr><tr><td>United States</td><td>Grenada</td><td>62</td></tr><tr><td>Costa Rica</td><td>United States</td><td>588</td></tr><tr><td>Senegal</td><td>United States</td><td>40</td></tr><tr><td>United States</td><td>Sint Maarten</td><td>325</td></tr><tr><td>United States</td><td>Marshall Islands</td><td>39</td></tr><tr><td>Guyana</td><td>United States</td><td>64</td></tr><tr><td>Malta</td><td>United States</td><td>1</td></tr><tr><td>Anguilla</td><td>United States</td><td>41</td></tr><tr><td>Bolivia</td><td>United States</td><td>30</td></tr><tr><td>United States</td><td>Paraguay</td><td>6</td></tr><tr><td>Turks and Caicos Islands</td><td>United States</td><td>230</td></tr><tr><td>Italy</td><td>United States</td><td>382</td></tr><tr><td>United States</td><td>Federated States of Micronesia</td><td>69</td></tr><tr><td>United States</td><td>Russia</td><td>161</td></tr><tr><td>Pakistan</td><td>United States</td><td>12</td></tr><tr><td>United States</td><td>Netherlands</td><td>660</td></tr><tr><td>Iceland</td><td>United States</td><td>181</td></tr><tr><td>Marshall Islands</td><td>United States</td><td>42</td></tr><tr><td>Luxembourg</td><td>United States</td><td>155</td></tr><tr><td>Honduras</td><td>United States</td><td>362</td></tr><tr><td>The Bahamas</td><td>United States</td><td>955</td></tr><tr><td>United States</td><td>Senegal</td><td>42</td></tr><tr><td>El Salvador</td><td>United States</td><td>561</td></tr><tr><td>Samoa</td><td>United States</td><td>25</td></tr><tr><td>United States</td><td>Angola</td><td>13</td></tr><tr><td>Switzerland</td><td>United States</td><td>294</td></tr><tr><td>United States</td><td>Anguilla</td><td>38</td></tr><tr><td>Sint Maarten</td><td>United States</td><td>325</td></tr><tr><td>Hong Kong</td><td>United States</td><td>332</td></tr><tr><td>Trinidad and Tobago</td><td>United States</td><td>211</td></tr><tr><td>Latvia</td><td>United States</td><td>19</td></tr><tr><td>United States</td><td>Ecuador</td><td>300</td></tr><tr><td>Suriname</td><td>United States</td><td>1</td></tr><tr><td>Mexico</td><td>United States</td><td>7140</td></tr><tr><td>United States</td><td>Cyprus</td><td>1</td></tr><tr><td>Ecuador</td><td>United States</td><td>268</td></tr><tr><td>United States</td><td>Portugal</td><td>134</td></tr><tr><td>United States</td><td>Costa Rica</td><td>608</td></tr><tr><td>United States</td><td>Guatemala</td><td>318</td></tr><tr><td>United States</td><td>Suriname</td><td>34</td></tr><tr><td>Colombia</td><td>United States</td><td>873</td></tr><tr><td>United States</td><td>Cape Verde</td><td>14</td></tr><tr><td>United States</td><td>Jamaica</td><td>712</td></tr><tr><td>Norway</td><td>United States</td><td>121</td></tr><tr><td>United States</td><td>Malaysia</td><td>3</td></tr><tr><td>United States</td><td>Morocco</td><td>19</td></tr><tr><td>Thailand</td><td>United States</td><td>3</td></tr><tr><td>United States</td><td>Samoa</td><td>25</td></tr><tr><td>Venezuela</td><td>United States</td><td>290</td></tr><tr><td>United States</td><td>Palau</td><td>31</td></tr><tr><td>United States</td><td>Venezuela</td><td>246</td></tr><tr><td>Panama</td><td>United States</td><td>510</td></tr><tr><td>Antigua and Barbuda</td><td>United States</td><td>126</td></tr><tr><td>United States</td><td>Chile</td><td>185</td></tr><tr><td>Morocco</td><td>United States</td><td>15</td></tr><tr><td>United States</td><td>Finland</td><td>28</td></tr><tr><td>Azerbaijan</td><td>United States</td><td>21</td></tr><tr><td>United States</td><td>Greece</td><td>23</td></tr><tr><td>United States</td><td>The Bahamas</td><td>986</td></tr><tr><td>New Zealand</td><td>United States</td><td>111</td></tr><tr><td>Liberia</td><td>United States</td><td>2</td></tr><tr><td>United States</td><td>Hong Kong</td><td>414</td></tr><tr><td>Hungary</td><td>United States</td><td>2</td></tr><tr><td>United States</td><td>China</td><td>920</td></tr><tr><td>Sweden</td><td>United States</td><td>118</td></tr><tr><td>United States</td><td>Kuwait</td><td>28</td></tr><tr><td>United States</td><td>Dominican Republic</td><td>1420</td></tr><tr><td>United States</td><td>Egypt</td><td>12</td></tr><tr><td>Israel</td><td>United States</td><td>134</td></tr><tr><td>United States</td><td>United States</td><td>370002</td></tr><tr><td>Ethiopia</td><td>United States</td><td>13</td></tr><tr><td>United States</td><td>Luxembourg</td><td>134</td></tr><tr><td>United States</td><td>Poland</td><td>33</td></tr><tr><td>Martinique</td><td>United States</td><td>44</td></tr><tr><td>United States</td><td>Saint Barthelemy</td><td>41</td></tr><tr><td>Saint Barthelemy</td><td>United States</td><td>39</td></tr><tr><td>Barbados</td><td>United States</td><td>154</td></tr><tr><td>United States</td><td>Turkey</td><td>129</td></tr><tr><td>United States</td><td>Azerbaijan</td><td>21</td></tr><tr><td>Germany</td><td>United States</td><td>1468</td></tr><tr><td>United States</td><td>South Korea</td><td>827</td></tr><tr><td>United States</td><td>El Salvador</td><td>508</td></tr><tr><td>Ireland</td><td>United States</td><td>335</td></tr><tr><td>United States</td><td>Hungary</td><td>3</td></tr><tr><td>Malaysia</td><td>United States</td><td>2</td></tr><tr><td>United States</td><td>Ethiopia</td><td>12</td></tr><tr><td>United States</td><td>Panama</td><td>465</td></tr><tr><td>United States</td><td>Aruba</td><td>342</td></tr><tr><td>United States</td><td>Thailand</td><td>4</td></tr><tr><td>United States</td><td>Turks and Caicos Islands</td><td>236</td></tr><tr><td>Croatia</td><td>United States</td><td>2</td></tr><tr><td>United States</td><td>Pakistan</td><td>12</td></tr><tr><td>Cyprus</td><td>United States</td><td>1</td></tr><tr><td>United States</td><td>Honduras</td><td>407</td></tr><tr><td>Fiji</td><td>United States</td><td>24</td></tr><tr><td>Qatar</td><td>United States</td><td>108</td></tr><tr><td>Saint Kitts and Nevis</td><td>United States</td><td>139</td></tr><tr><td>Kuwait</td><td>United States</td><td>32</td></tr><tr><td>Taiwan</td><td>United States</td><td>266</td></tr><tr><td>Haiti</td><td>United States</td><td>226</td></tr><tr><td>Canada</td><td>United States</td><td>8399</td></tr><tr><td>Federated States of Micronesia</td><td>United States</td><td>69</td></tr><tr><td>United States</td><td>Liberia</td><td>2</td></tr><tr><td>Jamaica</td><td>United States</td><td>666</td></tr><tr><td>United States</td><td>Malta</td><td>2</td></tr><tr><td>Dominican Republic</td><td>United States</td><td>1353</td></tr><tr><td>Japan</td><td>United States</td><td>1548</td></tr><tr><td>Finland</td><td>United States</td><td>26</td></tr><tr><td>United States</td><td>Guadeloupe</td><td>59</td></tr><tr><td>United States</td><td>Ukraine</td><td>13</td></tr><tr><td>United States</td><td>France</td><td>952</td></tr><tr><td>United States</td><td>Norway</td><td>115</td></tr><tr><td>Aruba</td><td>United States</td><td>346</td></tr><tr><td>United States</td><td>Kiribati</td><td>35</td></tr><tr><td>India</td><td>United States</td><td>61</td></tr><tr><td>British Virgin Islands</td><td>United States</td><td>107</td></tr><tr><td>Brazil</td><td>United States</td><td>853</td></tr><tr><td>United States</td><td>Germany</td><td>1336</td></tr><tr><td>United States</td><td>New Zealand</td><td>74</td></tr><tr><td>French Polynesia</td><td>United States</td><td>43</td></tr><tr><td>United Arab Emirates</td><td>United States</td><td>320</td></tr><tr><td>Singapore</td><td>United States</td><td>3</td></tr><tr><td>United States</td><td>Mexico</td><td>7187</td></tr><tr><td>United States</td><td>Sweden</td><td>119</td></tr><tr><td>Netherlands</td><td>United States</td><td>776</td></tr><tr><td>United States</td><td>Martinique</td><td>43</td></tr><tr><td>United States</td><td>United Arab Emirates</td><td>313</td></tr><tr><td>United States</td><td>Bulgaria</td><td>1</td></tr><tr><td>Denmark</td><td>United States</td><td>153</td></tr><tr><td>China</td><td>United States</td><td>772</td></tr><tr><td>United States</td><td>Nicaragua</td><td>201</td></tr><tr><td>United States</td><td>Philippines</td><td>126</td></tr><tr><td>United States</td><td>Georgia</td><td>1</td></tr><tr><td>United States</td><td>Belgium</td><td>228</td></tr><tr><td>Cayman Islands</td><td>United States</td><td>314</td></tr><tr><td>Argentina</td><td>United States</td><td>180</td></tr><tr><td>Peru</td><td>United States</td><td>279</td></tr><tr><td>South Africa</td><td>United States</td><td>36</td></tr><tr><td>United States</td><td>Iceland</td><td>202</td></tr><tr><td>United States</td><td>Argentina</td><td>141</td></tr><tr><td>Spain</td><td>United States</td><td>420</td></tr><tr><td>Bermuda</td><td>United States</td><td>183</td></tr><tr><td>United States</td><td>Nigeria</td><td>50</td></tr><tr><td>United States</td><td>Austria</td><td>63</td></tr><tr><td>United States</td><td>Bonaire, Sint Eustatius, and Saba</td><td>59</td></tr><tr><td>Kiribati</td><td>United States</td><td>26</td></tr><tr><td>Saudi Arabia</td><td>United States</td><td>83</td></tr><tr><td>Czech Republic</td><td>United States</td><td>13</td></tr><tr><td>United States</td><td>Israel</td><td>127</td></tr><tr><td>Belgium</td><td>United States</td><td>259</td></tr><tr><td>United States</td><td>Saint Lucia</td><td>136</td></tr><tr><td>United States</td><td>Bahrain</td><td>1</td></tr><tr><td>United States</td><td>British Virgin Islands</td><td>80</td></tr><tr><td>Curacao</td><td>United States</td><td>90</td></tr><tr><td>Georgia</td><td>United States</td><td>2</td></tr><tr><td>United States</td><td>Denmark</td><td>152</td></tr><tr><td>United States</td><td>Guyana</td><td>63</td></tr><tr><td>Philippines</td><td>United States</td><td>134</td></tr><tr><td>Grenada</td><td>United States</td><td>53</td></tr><tr><td>Cape Verde</td><td>United States</td><td>20</td></tr><tr><td>Ukraine</td><td>United States</td><td>14</td></tr><tr><td>United States</td><td>Papua New Guinea</td><td>1</td></tr><tr><td>Russia</td><td>United States</td><td>176</td></tr><tr><td>United States</td><td>Saudi Arabia</td><td>70</td></tr><tr><td>Guatemala</td><td>United States</td><td>397</td></tr><tr><td>Saint Lucia</td><td>United States</td><td>123</td></tr><tr><td>Paraguay</td><td>United States</td><td>60</td></tr><tr><td>United States</td><td>Curacao</td><td>83</td></tr><tr><td>United States</td><td>Taiwan</td><td>235</td></tr><tr><td>United States</td><td>South Africa</td><td>40</td></tr><tr><td>Turkey</td><td>United States</td><td>138</td></tr><tr><td>United Kingdom</td><td>United States</td><td>2025</td></tr><tr><td>Romania</td><td>United States</td><td>14</td></tr><tr><td>United States</td><td>Greenland</td><td>4</td></tr><tr><td>Papua New Guinea</td><td>United States</td><td>3</td></tr><tr><td>United States</td><td>Spain</td><td>442</td></tr><tr><td>United States</td><td>Italy</td><td>438</td></tr><tr><td>Cuba</td><td>United States</td><td>466</td></tr><tr><td>United States</td><td>Switzerland</td><td>305</td></tr><tr><td>Dominica</td><td>United States</td><td>20</td></tr><tr><td>United States</td><td>Japan</td><td>1496</td></tr><tr><td>Portugal</td><td>United States</td><td>127</td></tr><tr><td>United States</td><td>Brazil</td><td>619</td></tr><tr><td>Bahrain</td><td>United States</td><td>19</td></tr><tr><td>United States</td><td>Peru</td><td>337</td></tr><tr><td>Indonesia</td><td>United States</td><td>1</td></tr><tr><td>United States</td><td>Belize</td><td>193</td></tr><tr><td>United States</td><td>United Kingdom</td><td>1970</td></tr><tr><td>Belize</td><td>United States</td><td>188</td></tr><tr><td>United States</td><td>Ghana</td><td>20</td></tr><tr><td>United States</td><td>Indonesia</td><td>2</td></tr><tr><td>United States</td><td>Fiji</td><td>25</td></tr><tr><td>United States</td><td>Canada</td><td>8483</td></tr><tr><td>United States</td><td>Antigua and Barbuda</td><td>117</td></tr><tr><td>United States</td><td>French Polynesia</td><td>40</td></tr><tr><td>Nicaragua</td><td>United States</td><td>179</td></tr><tr><td>United States</td><td>Latvia</td><td>15</td></tr><tr><td>United States</td><td>Dominica</td><td>27</td></tr><tr><td>United States</td><td>Czech Republic</td><td>12</td></tr><tr><td>United States</td><td>Australia</td><td>258</td></tr><tr><td>United States</td><td>Cook Islands</td><td>13</td></tr><tr><td>Austria</td><td>United States</td><td>62</td></tr><tr><td>Jordan</td><td>United States</td><td>44</td></tr><tr><td>Palau</td><td>United States</td><td>30</td></tr><tr><td>South Korea</td><td>United States</td><td>1048</td></tr><tr><td>Angola</td><td>United States</td><td>15</td></tr><tr><td>Ghana</td><td>United States</td><td>18</td></tr><tr><td>Guadeloupe</td><td>United States</td><td>56</td></tr><tr><td>France</td><td>United States</td><td>935</td></tr><tr><td>Poland</td><td>United States</td><td>32</td></tr><tr><td>Nigeria</td><td>United States</td><td>59</td></tr><tr><td>United States</td><td>Uruguay</td><td>13</td></tr><tr><td>Greenland</td><td>United States</td><td>2</td></tr><tr><td>United States</td><td>Bermuda</td><td>193</td></tr><tr><td>Chile</td><td>United States</td><td>174</td></tr><tr><td>United States</td><td>Cuba</td><td>478</td></tr><tr><td>United States</td><td>Colombia</td><td>867</td></tr><tr><td>United States</td><td>Barbados</td><td>130</td></tr><tr><td>United States</td><td>Qatar</td><td>109</td></tr><tr><td>Australia</td><td>United States</td><td>329</td></tr><tr><td>United States</td><td>Cayman Islands</td><td>310</td></tr><tr><td>United States</td><td>Jordan</td><td>44</td></tr><tr><td>United States</td><td>Trinidad and Tobago</td><td>217</td></tr><tr><td>United States</td><td>Bolivia</td><td>13</td></tr><tr><td>Cook Islands</td><td>United States</td><td>13</td></tr><tr><td>Bulgaria</td><td>United States</td><td>3</td></tr><tr><td>United States</td><td>Saint Kitts and Nevis</td><td>145</td></tr><tr><td>Uruguay</td><td>United States</td><td>43</td></tr><tr><td>United States</td><td>Haiti</td><td>225</td></tr><tr><td>Bonaire, Sint Eustatius, and Saba</td><td>United States</td><td>58</td></tr><tr><td>Greece</td><td>United States</td><td>30</td></tr></tbody></table></div>"
      ]
     },
     "metadata": {
      "application/vnd.databricks.v1+output": {
       "addedWidgets": {},
       "aggData": [],
       "aggError": "",
       "aggOverflow": false,
       "aggSchema": [],
       "aggSeriesLimitReached": false,
       "aggType": "",
       "arguments": {},
       "columnCustomDisplayInfos": {},
       "data": [
        [
         "United States",
         "Romania",
         15
        ],
        [
         "United States",
         "Croatia",
         1
        ],
        [
         "United States",
         "Ireland",
         344
        ],
        [
         "Egypt",
         "United States",
         15
        ],
        [
         "United States",
         "India",
         62
        ],
        [
         "United States",
         "Singapore",
         1
        ],
        [
         "United States",
         "Grenada",
         62
        ],
        [
         "Costa Rica",
         "United States",
         588
        ],
        [
         "Senegal",
         "United States",
         40
        ],
        [
         "United States",
         "Sint Maarten",
         325
        ],
        [
         "United States",
         "Marshall Islands",
         39
        ],
        [
         "Guyana",
         "United States",
         64
        ],
        [
         "Malta",
         "United States",
         1
        ],
        [
         "Anguilla",
         "United States",
         41
        ],
        [
         "Bolivia",
         "United States",
         30
        ],
        [
         "United States",
         "Paraguay",
         6
        ],
        [
         "Turks and Caicos Islands",
         "United States",
         230
        ],
        [
         "Italy",
         "United States",
         382
        ],
        [
         "United States",
         "Federated States of Micronesia",
         69
        ],
        [
         "United States",
         "Russia",
         161
        ],
        [
         "Pakistan",
         "United States",
         12
        ],
        [
         "United States",
         "Netherlands",
         660
        ],
        [
         "Iceland",
         "United States",
         181
        ],
        [
         "Marshall Islands",
         "United States",
         42
        ],
        [
         "Luxembourg",
         "United States",
         155
        ],
        [
         "Honduras",
         "United States",
         362
        ],
        [
         "The Bahamas",
         "United States",
         955
        ],
        [
         "United States",
         "Senegal",
         42
        ],
        [
         "El Salvador",
         "United States",
         561
        ],
        [
         "Samoa",
         "United States",
         25
        ],
        [
         "United States",
         "Angola",
         13
        ],
        [
         "Switzerland",
         "United States",
         294
        ],
        [
         "United States",
         "Anguilla",
         38
        ],
        [
         "Sint Maarten",
         "United States",
         325
        ],
        [
         "Hong Kong",
         "United States",
         332
        ],
        [
         "Trinidad and Tobago",
         "United States",
         211
        ],
        [
         "Latvia",
         "United States",
         19
        ],
        [
         "United States",
         "Ecuador",
         300
        ],
        [
         "Suriname",
         "United States",
         1
        ],
        [
         "Mexico",
         "United States",
         7140
        ],
        [
         "United States",
         "Cyprus",
         1
        ],
        [
         "Ecuador",
         "United States",
         268
        ],
        [
         "United States",
         "Portugal",
         134
        ],
        [
         "United States",
         "Costa Rica",
         608
        ],
        [
         "United States",
         "Guatemala",
         318
        ],
        [
         "United States",
         "Suriname",
         34
        ],
        [
         "Colombia",
         "United States",
         873
        ],
        [
         "United States",
         "Cape Verde",
         14
        ],
        [
         "United States",
         "Jamaica",
         712
        ],
        [
         "Norway",
         "United States",
         121
        ],
        [
         "United States",
         "Malaysia",
         3
        ],
        [
         "United States",
         "Morocco",
         19
        ],
        [
         "Thailand",
         "United States",
         3
        ],
        [
         "United States",
         "Samoa",
         25
        ],
        [
         "Venezuela",
         "United States",
         290
        ],
        [
         "United States",
         "Palau",
         31
        ],
        [
         "United States",
         "Venezuela",
         246
        ],
        [
         "Panama",
         "United States",
         510
        ],
        [
         "Antigua and Barbuda",
         "United States",
         126
        ],
        [
         "United States",
         "Chile",
         185
        ],
        [
         "Morocco",
         "United States",
         15
        ],
        [
         "United States",
         "Finland",
         28
        ],
        [
         "Azerbaijan",
         "United States",
         21
        ],
        [
         "United States",
         "Greece",
         23
        ],
        [
         "United States",
         "The Bahamas",
         986
        ],
        [
         "New Zealand",
         "United States",
         111
        ],
        [
         "Liberia",
         "United States",
         2
        ],
        [
         "United States",
         "Hong Kong",
         414
        ],
        [
         "Hungary",
         "United States",
         2
        ],
        [
         "United States",
         "China",
         920
        ],
        [
         "Sweden",
         "United States",
         118
        ],
        [
         "United States",
         "Kuwait",
         28
        ],
        [
         "United States",
         "Dominican Republic",
         1420
        ],
        [
         "United States",
         "Egypt",
         12
        ],
        [
         "Israel",
         "United States",
         134
        ],
        [
         "United States",
         "United States",
         370002
        ],
        [
         "Ethiopia",
         "United States",
         13
        ],
        [
         "United States",
         "Luxembourg",
         134
        ],
        [
         "United States",
         "Poland",
         33
        ],
        [
         "Martinique",
         "United States",
         44
        ],
        [
         "United States",
         "Saint Barthelemy",
         41
        ],
        [
         "Saint Barthelemy",
         "United States",
         39
        ],
        [
         "Barbados",
         "United States",
         154
        ],
        [
         "United States",
         "Turkey",
         129
        ],
        [
         "United States",
         "Azerbaijan",
         21
        ],
        [
         "Germany",
         "United States",
         1468
        ],
        [
         "United States",
         "South Korea",
         827
        ],
        [
         "United States",
         "El Salvador",
         508
        ],
        [
         "Ireland",
         "United States",
         335
        ],
        [
         "United States",
         "Hungary",
         3
        ],
        [
         "Malaysia",
         "United States",
         2
        ],
        [
         "United States",
         "Ethiopia",
         12
        ],
        [
         "United States",
         "Panama",
         465
        ],
        [
         "United States",
         "Aruba",
         342
        ],
        [
         "United States",
         "Thailand",
         4
        ],
        [
         "United States",
         "Turks and Caicos Islands",
         236
        ],
        [
         "Croatia",
         "United States",
         2
        ],
        [
         "United States",
         "Pakistan",
         12
        ],
        [
         "Cyprus",
         "United States",
         1
        ],
        [
         "United States",
         "Honduras",
         407
        ],
        [
         "Fiji",
         "United States",
         24
        ],
        [
         "Qatar",
         "United States",
         108
        ],
        [
         "Saint Kitts and Nevis",
         "United States",
         139
        ],
        [
         "Kuwait",
         "United States",
         32
        ],
        [
         "Taiwan",
         "United States",
         266
        ],
        [
         "Haiti",
         "United States",
         226
        ],
        [
         "Canada",
         "United States",
         8399
        ],
        [
         "Federated States of Micronesia",
         "United States",
         69
        ],
        [
         "United States",
         "Liberia",
         2
        ],
        [
         "Jamaica",
         "United States",
         666
        ],
        [
         "United States",
         "Malta",
         2
        ],
        [
         "Dominican Republic",
         "United States",
         1353
        ],
        [
         "Japan",
         "United States",
         1548
        ],
        [
         "Finland",
         "United States",
         26
        ],
        [
         "United States",
         "Guadeloupe",
         59
        ],
        [
         "United States",
         "Ukraine",
         13
        ],
        [
         "United States",
         "France",
         952
        ],
        [
         "United States",
         "Norway",
         115
        ],
        [
         "Aruba",
         "United States",
         346
        ],
        [
         "United States",
         "Kiribati",
         35
        ],
        [
         "India",
         "United States",
         61
        ],
        [
         "British Virgin Islands",
         "United States",
         107
        ],
        [
         "Brazil",
         "United States",
         853
        ],
        [
         "United States",
         "Germany",
         1336
        ],
        [
         "United States",
         "New Zealand",
         74
        ],
        [
         "French Polynesia",
         "United States",
         43
        ],
        [
         "United Arab Emirates",
         "United States",
         320
        ],
        [
         "Singapore",
         "United States",
         3
        ],
        [
         "United States",
         "Mexico",
         7187
        ],
        [
         "United States",
         "Sweden",
         119
        ],
        [
         "Netherlands",
         "United States",
         776
        ],
        [
         "United States",
         "Martinique",
         43
        ],
        [
         "United States",
         "United Arab Emirates",
         313
        ],
        [
         "United States",
         "Bulgaria",
         1
        ],
        [
         "Denmark",
         "United States",
         153
        ],
        [
         "China",
         "United States",
         772
        ],
        [
         "United States",
         "Nicaragua",
         201
        ],
        [
         "United States",
         "Philippines",
         126
        ],
        [
         "United States",
         "Georgia",
         1
        ],
        [
         "United States",
         "Belgium",
         228
        ],
        [
         "Cayman Islands",
         "United States",
         314
        ],
        [
         "Argentina",
         "United States",
         180
        ],
        [
         "Peru",
         "United States",
         279
        ],
        [
         "South Africa",
         "United States",
         36
        ],
        [
         "United States",
         "Iceland",
         202
        ],
        [
         "United States",
         "Argentina",
         141
        ],
        [
         "Spain",
         "United States",
         420
        ],
        [
         "Bermuda",
         "United States",
         183
        ],
        [
         "United States",
         "Nigeria",
         50
        ],
        [
         "United States",
         "Austria",
         63
        ],
        [
         "United States",
         "Bonaire, Sint Eustatius, and Saba",
         59
        ],
        [
         "Kiribati",
         "United States",
         26
        ],
        [
         "Saudi Arabia",
         "United States",
         83
        ],
        [
         "Czech Republic",
         "United States",
         13
        ],
        [
         "United States",
         "Israel",
         127
        ],
        [
         "Belgium",
         "United States",
         259
        ],
        [
         "United States",
         "Saint Lucia",
         136
        ],
        [
         "United States",
         "Bahrain",
         1
        ],
        [
         "United States",
         "British Virgin Islands",
         80
        ],
        [
         "Curacao",
         "United States",
         90
        ],
        [
         "Georgia",
         "United States",
         2
        ],
        [
         "United States",
         "Denmark",
         152
        ],
        [
         "United States",
         "Guyana",
         63
        ],
        [
         "Philippines",
         "United States",
         134
        ],
        [
         "Grenada",
         "United States",
         53
        ],
        [
         "Cape Verde",
         "United States",
         20
        ],
        [
         "Ukraine",
         "United States",
         14
        ],
        [
         "United States",
         "Papua New Guinea",
         1
        ],
        [
         "Russia",
         "United States",
         176
        ],
        [
         "United States",
         "Saudi Arabia",
         70
        ],
        [
         "Guatemala",
         "United States",
         397
        ],
        [
         "Saint Lucia",
         "United States",
         123
        ],
        [
         "Paraguay",
         "United States",
         60
        ],
        [
         "United States",
         "Curacao",
         83
        ],
        [
         "United States",
         "Taiwan",
         235
        ],
        [
         "United States",
         "South Africa",
         40
        ],
        [
         "Turkey",
         "United States",
         138
        ],
        [
         "United Kingdom",
         "United States",
         2025
        ],
        [
         "Romania",
         "United States",
         14
        ],
        [
         "United States",
         "Greenland",
         4
        ],
        [
         "Papua New Guinea",
         "United States",
         3
        ],
        [
         "United States",
         "Spain",
         442
        ],
        [
         "United States",
         "Italy",
         438
        ],
        [
         "Cuba",
         "United States",
         466
        ],
        [
         "United States",
         "Switzerland",
         305
        ],
        [
         "Dominica",
         "United States",
         20
        ],
        [
         "United States",
         "Japan",
         1496
        ],
        [
         "Portugal",
         "United States",
         127
        ],
        [
         "United States",
         "Brazil",
         619
        ],
        [
         "Bahrain",
         "United States",
         19
        ],
        [
         "United States",
         "Peru",
         337
        ],
        [
         "Indonesia",
         "United States",
         1
        ],
        [
         "United States",
         "Belize",
         193
        ],
        [
         "United States",
         "United Kingdom",
         1970
        ],
        [
         "Belize",
         "United States",
         188
        ],
        [
         "United States",
         "Ghana",
         20
        ],
        [
         "United States",
         "Indonesia",
         2
        ],
        [
         "United States",
         "Fiji",
         25
        ],
        [
         "United States",
         "Canada",
         8483
        ],
        [
         "United States",
         "Antigua and Barbuda",
         117
        ],
        [
         "United States",
         "French Polynesia",
         40
        ],
        [
         "Nicaragua",
         "United States",
         179
        ],
        [
         "United States",
         "Latvia",
         15
        ],
        [
         "United States",
         "Dominica",
         27
        ],
        [
         "United States",
         "Czech Republic",
         12
        ],
        [
         "United States",
         "Australia",
         258
        ],
        [
         "United States",
         "Cook Islands",
         13
        ],
        [
         "Austria",
         "United States",
         62
        ],
        [
         "Jordan",
         "United States",
         44
        ],
        [
         "Palau",
         "United States",
         30
        ],
        [
         "South Korea",
         "United States",
         1048
        ],
        [
         "Angola",
         "United States",
         15
        ],
        [
         "Ghana",
         "United States",
         18
        ],
        [
         "Guadeloupe",
         "United States",
         56
        ],
        [
         "France",
         "United States",
         935
        ],
        [
         "Poland",
         "United States",
         32
        ],
        [
         "Nigeria",
         "United States",
         59
        ],
        [
         "United States",
         "Uruguay",
         13
        ],
        [
         "Greenland",
         "United States",
         2
        ],
        [
         "United States",
         "Bermuda",
         193
        ],
        [
         "Chile",
         "United States",
         174
        ],
        [
         "United States",
         "Cuba",
         478
        ],
        [
         "United States",
         "Colombia",
         867
        ],
        [
         "United States",
         "Barbados",
         130
        ],
        [
         "United States",
         "Qatar",
         109
        ],
        [
         "Australia",
         "United States",
         329
        ],
        [
         "United States",
         "Cayman Islands",
         310
        ],
        [
         "United States",
         "Jordan",
         44
        ],
        [
         "United States",
         "Trinidad and Tobago",
         217
        ],
        [
         "United States",
         "Bolivia",
         13
        ],
        [
         "Cook Islands",
         "United States",
         13
        ],
        [
         "Bulgaria",
         "United States",
         3
        ],
        [
         "United States",
         "Saint Kitts and Nevis",
         145
        ],
        [
         "Uruguay",
         "United States",
         43
        ],
        [
         "United States",
         "Haiti",
         225
        ],
        [
         "Bonaire, Sint Eustatius, and Saba",
         "United States",
         58
        ],
        [
         "Greece",
         "United States",
         30
        ]
       ],
       "datasetInfos": [],
       "dbfsResultPath": null,
       "isJsonSchema": true,
       "metadata": {
        "dataframeName": "_sqldf",
        "executionCount": 386
       },
       "overflow": false,
       "plotOptions": {
        "customPlotOptions": {},
        "displayType": "table",
        "pivotAggregation": null,
        "pivotColumns": null,
        "xColumns": null,
        "yColumns": null
       },
       "removedWidgets": [],
       "schema": [
        {
         "metadata": "{}",
         "name": "DEST_COUNTRY_NAME",
         "type": "\"string\""
        },
        {
         "metadata": "{}",
         "name": "ORIGIN_COUNTRY_NAME",
         "type": "\"string\""
        },
        {
         "metadata": "{}",
         "name": "count",
         "type": "\"long\""
        }
       ],
       "type": "table"
      }
     },
     "output_type": "display_data"
    }
   ],
   "source": [
    "%sql\n",
    "SELECT * FROM flights f1\n",
    "WHERE EXISTS (SELECT 1 FROM flights f2\n",
    "WHERE f1.dest_country_name = f2.origin_country_name)\n",
    "AND EXISTS (SELECT 1 FROM flights f2\n",
    "WHERE f2.dest_country_name = f1.origin_country_name)\n"
   ]
  },
  {
   "cell_type": "code",
   "execution_count": 0,
   "metadata": {
    "application/vnd.databricks.v1+cell": {
     "cellMetadata": {
      "byteLimit": 2048000,
      "implicitDf": true,
      "rowLimit": 10000
     },
     "inputWidgets": {},
     "nuid": "98a71022-40fa-41af-8fa5-a3f0f7b34d28",
     "showTitle": false,
     "title": ""
    }
   },
   "outputs": [
    {
     "output_type": "display_data",
     "data": {
      "text/html": [
       "<style scoped>\n",
       "  .table-result-container {\n",
       "    max-height: 300px;\n",
       "    overflow: auto;\n",
       "  }\n",
       "  table, th, td {\n",
       "    border: 1px solid black;\n",
       "    border-collapse: collapse;\n",
       "  }\n",
       "  th, td {\n",
       "    padding: 5px;\n",
       "  }\n",
       "  th {\n",
       "    text-align: left;\n",
       "  }\n",
       "</style><div class='table-result-container'><table class='table-result'><thead style='background-color: white'><tr><th>DEST_COUNTRY_NAME</th><th>ORIGIN_COUNTRY_NAME</th><th>count</th><th>maximum</th></tr></thead><tbody><tr><td>United States</td><td>Romania</td><td>15</td><td>370002</td></tr><tr><td>United States</td><td>Croatia</td><td>1</td><td>370002</td></tr><tr><td>United States</td><td>Ireland</td><td>344</td><td>370002</td></tr><tr><td>Egypt</td><td>United States</td><td>15</td><td>370002</td></tr><tr><td>United States</td><td>India</td><td>62</td><td>370002</td></tr><tr><td>United States</td><td>Singapore</td><td>1</td><td>370002</td></tr><tr><td>United States</td><td>Grenada</td><td>62</td><td>370002</td></tr><tr><td>Costa Rica</td><td>United States</td><td>588</td><td>370002</td></tr><tr><td>Senegal</td><td>United States</td><td>40</td><td>370002</td></tr><tr><td>Moldova</td><td>United States</td><td>1</td><td>370002</td></tr><tr><td>United States</td><td>Sint Maarten</td><td>325</td><td>370002</td></tr><tr><td>United States</td><td>Marshall Islands</td><td>39</td><td>370002</td></tr><tr><td>Guyana</td><td>United States</td><td>64</td><td>370002</td></tr><tr><td>Malta</td><td>United States</td><td>1</td><td>370002</td></tr><tr><td>Anguilla</td><td>United States</td><td>41</td><td>370002</td></tr><tr><td>Bolivia</td><td>United States</td><td>30</td><td>370002</td></tr><tr><td>United States</td><td>Paraguay</td><td>6</td><td>370002</td></tr><tr><td>Algeria</td><td>United States</td><td>4</td><td>370002</td></tr><tr><td>Turks and Caicos Islands</td><td>United States</td><td>230</td><td>370002</td></tr><tr><td>United States</td><td>Gibraltar</td><td>1</td><td>370002</td></tr><tr><td>Saint Vincent and the Grenadines</td><td>United States</td><td>1</td><td>370002</td></tr><tr><td>Italy</td><td>United States</td><td>382</td><td>370002</td></tr><tr><td>United States</td><td>Federated States of Micronesia</td><td>69</td><td>370002</td></tr><tr><td>United States</td><td>Russia</td><td>161</td><td>370002</td></tr><tr><td>Pakistan</td><td>United States</td><td>12</td><td>370002</td></tr><tr><td>United States</td><td>Netherlands</td><td>660</td><td>370002</td></tr><tr><td>Iceland</td><td>United States</td><td>181</td><td>370002</td></tr><tr><td>Marshall Islands</td><td>United States</td><td>42</td><td>370002</td></tr><tr><td>Luxembourg</td><td>United States</td><td>155</td><td>370002</td></tr><tr><td>Honduras</td><td>United States</td><td>362</td><td>370002</td></tr><tr><td>The Bahamas</td><td>United States</td><td>955</td><td>370002</td></tr><tr><td>United States</td><td>Senegal</td><td>42</td><td>370002</td></tr><tr><td>El Salvador</td><td>United States</td><td>561</td><td>370002</td></tr><tr><td>Samoa</td><td>United States</td><td>25</td><td>370002</td></tr><tr><td>United States</td><td>Angola</td><td>13</td><td>370002</td></tr><tr><td>Switzerland</td><td>United States</td><td>294</td><td>370002</td></tr><tr><td>United States</td><td>Anguilla</td><td>38</td><td>370002</td></tr><tr><td>Sint Maarten</td><td>United States</td><td>325</td><td>370002</td></tr><tr><td>Hong Kong</td><td>United States</td><td>332</td><td>370002</td></tr><tr><td>Trinidad and Tobago</td><td>United States</td><td>211</td><td>370002</td></tr><tr><td>Latvia</td><td>United States</td><td>19</td><td>370002</td></tr><tr><td>United States</td><td>Ecuador</td><td>300</td><td>370002</td></tr><tr><td>Suriname</td><td>United States</td><td>1</td><td>370002</td></tr><tr><td>Mexico</td><td>United States</td><td>7140</td><td>370002</td></tr><tr><td>United States</td><td>Cyprus</td><td>1</td><td>370002</td></tr><tr><td>Ecuador</td><td>United States</td><td>268</td><td>370002</td></tr><tr><td>United States</td><td>Portugal</td><td>134</td><td>370002</td></tr><tr><td>United States</td><td>Costa Rica</td><td>608</td><td>370002</td></tr><tr><td>United States</td><td>Guatemala</td><td>318</td><td>370002</td></tr><tr><td>United States</td><td>Suriname</td><td>34</td><td>370002</td></tr><tr><td>Colombia</td><td>United States</td><td>873</td><td>370002</td></tr><tr><td>United States</td><td>Cape Verde</td><td>14</td><td>370002</td></tr><tr><td>United States</td><td>Jamaica</td><td>712</td><td>370002</td></tr><tr><td>Norway</td><td>United States</td><td>121</td><td>370002</td></tr><tr><td>United States</td><td>Malaysia</td><td>3</td><td>370002</td></tr><tr><td>United States</td><td>Morocco</td><td>19</td><td>370002</td></tr><tr><td>Thailand</td><td>United States</td><td>3</td><td>370002</td></tr><tr><td>United States</td><td>Samoa</td><td>25</td><td>370002</td></tr><tr><td>Venezuela</td><td>United States</td><td>290</td><td>370002</td></tr><tr><td>United States</td><td>Palau</td><td>31</td><td>370002</td></tr><tr><td>United States</td><td>Venezuela</td><td>246</td><td>370002</td></tr><tr><td>Panama</td><td>United States</td><td>510</td><td>370002</td></tr><tr><td>Antigua and Barbuda</td><td>United States</td><td>126</td><td>370002</td></tr><tr><td>United States</td><td>Chile</td><td>185</td><td>370002</td></tr><tr><td>Morocco</td><td>United States</td><td>15</td><td>370002</td></tr><tr><td>United States</td><td>Finland</td><td>28</td><td>370002</td></tr><tr><td>Azerbaijan</td><td>United States</td><td>21</td><td>370002</td></tr><tr><td>United States</td><td>Greece</td><td>23</td><td>370002</td></tr><tr><td>United States</td><td>The Bahamas</td><td>986</td><td>370002</td></tr><tr><td>New Zealand</td><td>United States</td><td>111</td><td>370002</td></tr><tr><td>Liberia</td><td>United States</td><td>2</td><td>370002</td></tr><tr><td>United States</td><td>Hong Kong</td><td>414</td><td>370002</td></tr><tr><td>Hungary</td><td>United States</td><td>2</td><td>370002</td></tr><tr><td>United States</td><td>China</td><td>920</td><td>370002</td></tr><tr><td>United States</td><td>Vietnam</td><td>2</td><td>370002</td></tr><tr><td>Burkina Faso</td><td>United States</td><td>1</td><td>370002</td></tr><tr><td>Sweden</td><td>United States</td><td>118</td><td>370002</td></tr><tr><td>United States</td><td>Kuwait</td><td>28</td><td>370002</td></tr><tr><td>United States</td><td>Dominican Republic</td><td>1420</td><td>370002</td></tr><tr><td>United States</td><td>Egypt</td><td>12</td><td>370002</td></tr><tr><td>Israel</td><td>United States</td><td>134</td><td>370002</td></tr><tr><td>United States</td><td>United States</td><td>370002</td><td>370002</td></tr><tr><td>Ethiopia</td><td>United States</td><td>13</td><td>370002</td></tr><tr><td>United States</td><td>Luxembourg</td><td>134</td><td>370002</td></tr><tr><td>United States</td><td>Poland</td><td>33</td><td>370002</td></tr><tr><td>Martinique</td><td>United States</td><td>44</td><td>370002</td></tr><tr><td>United States</td><td>Saint Barthelemy</td><td>41</td><td>370002</td></tr><tr><td>Saint Barthelemy</td><td>United States</td><td>39</td><td>370002</td></tr><tr><td>Barbados</td><td>United States</td><td>154</td><td>370002</td></tr><tr><td>United States</td><td>Turkey</td><td>129</td><td>370002</td></tr><tr><td>Djibouti</td><td>United States</td><td>1</td><td>370002</td></tr><tr><td>United States</td><td>Azerbaijan</td><td>21</td><td>370002</td></tr><tr><td>United States</td><td>Estonia</td><td>1</td><td>370002</td></tr><tr><td>Germany</td><td>United States</td><td>1468</td><td>370002</td></tr><tr><td>United States</td><td>South Korea</td><td>827</td><td>370002</td></tr><tr><td>United States</td><td>El Salvador</td><td>508</td><td>370002</td></tr><tr><td>Ireland</td><td>United States</td><td>335</td><td>370002</td></tr><tr><td>United States</td><td>Hungary</td><td>3</td><td>370002</td></tr><tr><td>Zambia</td><td>United States</td><td>1</td><td>370002</td></tr><tr><td>Malaysia</td><td>United States</td><td>2</td><td>370002</td></tr><tr><td>United States</td><td>Ethiopia</td><td>12</td><td>370002</td></tr><tr><td>United States</td><td>Panama</td><td>465</td><td>370002</td></tr><tr><td>United States</td><td>Aruba</td><td>342</td><td>370002</td></tr><tr><td>United States</td><td>Thailand</td><td>4</td><td>370002</td></tr><tr><td>United States</td><td>Turks and Caicos Islands</td><td>236</td><td>370002</td></tr><tr><td>Croatia</td><td>United States</td><td>2</td><td>370002</td></tr><tr><td>United States</td><td>Pakistan</td><td>12</td><td>370002</td></tr><tr><td>Cyprus</td><td>United States</td><td>1</td><td>370002</td></tr><tr><td>United States</td><td>Honduras</td><td>407</td><td>370002</td></tr><tr><td>Fiji</td><td>United States</td><td>24</td><td>370002</td></tr><tr><td>Qatar</td><td>United States</td><td>108</td><td>370002</td></tr><tr><td>Saint Kitts and Nevis</td><td>United States</td><td>139</td><td>370002</td></tr><tr><td>Kuwait</td><td>United States</td><td>32</td><td>370002</td></tr><tr><td>Taiwan</td><td>United States</td><td>266</td><td>370002</td></tr><tr><td>Haiti</td><td>United States</td><td>226</td><td>370002</td></tr><tr><td>Canada</td><td>United States</td><td>8399</td><td>370002</td></tr><tr><td>Federated States of Micronesia</td><td>United States</td><td>69</td><td>370002</td></tr><tr><td>United States</td><td>Liberia</td><td>2</td><td>370002</td></tr><tr><td>Jamaica</td><td>United States</td><td>666</td><td>370002</td></tr><tr><td>United States</td><td>Malta</td><td>2</td><td>370002</td></tr><tr><td>Dominican Republic</td><td>United States</td><td>1353</td><td>370002</td></tr><tr><td>Japan</td><td>United States</td><td>1548</td><td>370002</td></tr><tr><td>United States</td><td>Lithuania</td><td>1</td><td>370002</td></tr><tr><td>Finland</td><td>United States</td><td>26</td><td>370002</td></tr><tr><td>United States</td><td>Guadeloupe</td><td>59</td><td>370002</td></tr><tr><td>United States</td><td>Ukraine</td><td>13</td><td>370002</td></tr><tr><td>United States</td><td>France</td><td>952</td><td>370002</td></tr><tr><td>United States</td><td>Norway</td><td>115</td><td>370002</td></tr><tr><td>Aruba</td><td>United States</td><td>346</td><td>370002</td></tr><tr><td>French Guiana</td><td>United States</td><td>5</td><td>370002</td></tr><tr><td>United States</td><td>Kiribati</td><td>35</td><td>370002</td></tr><tr><td>India</td><td>United States</td><td>61</td><td>370002</td></tr><tr><td>British Virgin Islands</td><td>United States</td><td>107</td><td>370002</td></tr><tr><td>Brazil</td><td>United States</td><td>853</td><td>370002</td></tr><tr><td>United States</td><td>Germany</td><td>1336</td><td>370002</td></tr><tr><td>United States</td><td>New Zealand</td><td>74</td><td>370002</td></tr><tr><td>French Polynesia</td><td>United States</td><td>43</td><td>370002</td></tr><tr><td>United Arab Emirates</td><td>United States</td><td>320</td><td>370002</td></tr><tr><td>Singapore</td><td>United States</td><td>3</td><td>370002</td></tr><tr><td>United States</td><td>Mexico</td><td>7187</td><td>370002</td></tr><tr><td>United States</td><td>Sweden</td><td>119</td><td>370002</td></tr><tr><td>Netherlands</td><td>United States</td><td>776</td><td>370002</td></tr><tr><td>United States</td><td>Martinique</td><td>43</td><td>370002</td></tr><tr><td>United States</td><td>United Arab Emirates</td><td>313</td><td>370002</td></tr><tr><td>United States</td><td>Bulgaria</td><td>1</td><td>370002</td></tr><tr><td>Denmark</td><td>United States</td><td>153</td><td>370002</td></tr><tr><td>China</td><td>United States</td><td>772</td><td>370002</td></tr><tr><td>United States</td><td>Nicaragua</td><td>201</td><td>370002</td></tr><tr><td>United States</td><td>Philippines</td><td>126</td><td>370002</td></tr><tr><td>United States</td><td>Georgia</td><td>1</td><td>370002</td></tr><tr><td>United States</td><td>Belgium</td><td>228</td><td>370002</td></tr><tr><td>Cayman Islands</td><td>United States</td><td>314</td><td>370002</td></tr><tr><td>Argentina</td><td>United States</td><td>180</td><td>370002</td></tr><tr><td>Peru</td><td>United States</td><td>279</td><td>370002</td></tr><tr><td>South Africa</td><td>United States</td><td>36</td><td>370002</td></tr><tr><td>United States</td><td>Iceland</td><td>202</td><td>370002</td></tr><tr><td>United States</td><td>Argentina</td><td>141</td><td>370002</td></tr><tr><td>Spain</td><td>United States</td><td>420</td><td>370002</td></tr><tr><td>Bermuda</td><td>United States</td><td>183</td><td>370002</td></tr><tr><td>United States</td><td>Nigeria</td><td>50</td><td>370002</td></tr><tr><td>United States</td><td>Austria</td><td>63</td><td>370002</td></tr><tr><td>United States</td><td>Bonaire, Sint Eustatius, and Saba</td><td>59</td><td>370002</td></tr><tr><td>Kiribati</td><td>United States</td><td>26</td><td>370002</td></tr><tr><td>Saudi Arabia</td><td>United States</td><td>83</td><td>370002</td></tr><tr><td>Czech Republic</td><td>United States</td><td>13</td><td>370002</td></tr><tr><td>United States</td><td>Israel</td><td>127</td><td>370002</td></tr><tr><td>Belgium</td><td>United States</td><td>259</td><td>370002</td></tr><tr><td>United States</td><td>Saint Lucia</td><td>136</td><td>370002</td></tr><tr><td>United States</td><td>Bahrain</td><td>1</td><td>370002</td></tr><tr><td>United States</td><td>British Virgin Islands</td><td>80</td><td>370002</td></tr><tr><td>Curacao</td><td>United States</td><td>90</td><td>370002</td></tr><tr><td>Georgia</td><td>United States</td><td>2</td><td>370002</td></tr><tr><td>United States</td><td>Denmark</td><td>152</td><td>370002</td></tr><tr><td>United States</td><td>Guyana</td><td>63</td><td>370002</td></tr><tr><td>Philippines</td><td>United States</td><td>134</td><td>370002</td></tr><tr><td>Grenada</td><td>United States</td><td>53</td><td>370002</td></tr><tr><td>Cape Verde</td><td>United States</td><td>20</td><td>370002</td></tr><tr><td>Cote d'Ivoire</td><td>United States</td><td>1</td><td>370002</td></tr><tr><td>Ukraine</td><td>United States</td><td>14</td><td>370002</td></tr><tr><td>United States</td><td>Papua New Guinea</td><td>1</td><td>370002</td></tr><tr><td>Russia</td><td>United States</td><td>176</td><td>370002</td></tr><tr><td>United States</td><td>Saudi Arabia</td><td>70</td><td>370002</td></tr><tr><td>Guatemala</td><td>United States</td><td>397</td><td>370002</td></tr><tr><td>Saint Lucia</td><td>United States</td><td>123</td><td>370002</td></tr><tr><td>Paraguay</td><td>United States</td><td>60</td><td>370002</td></tr><tr><td>United States</td><td>Curacao</td><td>83</td><td>370002</td></tr><tr><td>Kosovo</td><td>United States</td><td>1</td><td>370002</td></tr><tr><td>United States</td><td>Taiwan</td><td>235</td><td>370002</td></tr><tr><td>Tunisia</td><td>United States</td><td>3</td><td>370002</td></tr><tr><td>United States</td><td>South Africa</td><td>40</td><td>370002</td></tr><tr><td>Niger</td><td>United States</td><td>2</td><td>370002</td></tr><tr><td>Turkey</td><td>United States</td><td>138</td><td>370002</td></tr><tr><td>United Kingdom</td><td>United States</td><td>2025</td><td>370002</td></tr><tr><td>Romania</td><td>United States</td><td>14</td><td>370002</td></tr><tr><td>United States</td><td>Greenland</td><td>4</td><td>370002</td></tr><tr><td>Papua New Guinea</td><td>United States</td><td>3</td><td>370002</td></tr><tr><td>United States</td><td>Spain</td><td>442</td><td>370002</td></tr><tr><td>Iraq</td><td>United States</td><td>1</td><td>370002</td></tr><tr><td>United States</td><td>Italy</td><td>438</td><td>370002</td></tr><tr><td>Cuba</td><td>United States</td><td>466</td><td>370002</td></tr><tr><td>United States</td><td>Switzerland</td><td>305</td><td>370002</td></tr><tr><td>Dominica</td><td>United States</td><td>20</td><td>370002</td></tr><tr><td>United States</td><td>Japan</td><td>1496</td><td>370002</td></tr><tr><td>Portugal</td><td>United States</td><td>127</td><td>370002</td></tr><tr><td>United States</td><td>Brazil</td><td>619</td><td>370002</td></tr><tr><td>Bahrain</td><td>United States</td><td>19</td><td>370002</td></tr><tr><td>United States</td><td>Peru</td><td>337</td><td>370002</td></tr><tr><td>Indonesia</td><td>United States</td><td>1</td><td>370002</td></tr><tr><td>United States</td><td>Belize</td><td>193</td><td>370002</td></tr><tr><td>United States</td><td>United Kingdom</td><td>1970</td><td>370002</td></tr><tr><td>Belize</td><td>United States</td><td>188</td><td>370002</td></tr><tr><td>United States</td><td>Ghana</td><td>20</td><td>370002</td></tr><tr><td>United States</td><td>Indonesia</td><td>2</td><td>370002</td></tr><tr><td>United States</td><td>Fiji</td><td>25</td><td>370002</td></tr><tr><td>United States</td><td>Canada</td><td>8483</td><td>370002</td></tr><tr><td>United States</td><td>Antigua and Barbuda</td><td>117</td><td>370002</td></tr><tr><td>United States</td><td>French Polynesia</td><td>40</td><td>370002</td></tr><tr><td>Nicaragua</td><td>United States</td><td>179</td><td>370002</td></tr><tr><td>United States</td><td>Latvia</td><td>15</td><td>370002</td></tr><tr><td>United States</td><td>Dominica</td><td>27</td><td>370002</td></tr><tr><td>United States</td><td>Czech Republic</td><td>12</td><td>370002</td></tr><tr><td>United States</td><td>Australia</td><td>258</td><td>370002</td></tr><tr><td>United States</td><td>Cook Islands</td><td>13</td><td>370002</td></tr><tr><td>Austria</td><td>United States</td><td>62</td><td>370002</td></tr><tr><td>Jordan</td><td>United States</td><td>44</td><td>370002</td></tr><tr><td>Palau</td><td>United States</td><td>30</td><td>370002</td></tr><tr><td>South Korea</td><td>United States</td><td>1048</td><td>370002</td></tr><tr><td>Angola</td><td>United States</td><td>15</td><td>370002</td></tr><tr><td>Ghana</td><td>United States</td><td>18</td><td>370002</td></tr><tr><td>New Caledonia</td><td>United States</td><td>1</td><td>370002</td></tr><tr><td>Guadeloupe</td><td>United States</td><td>56</td><td>370002</td></tr><tr><td>France</td><td>United States</td><td>935</td><td>370002</td></tr><tr><td>Poland</td><td>United States</td><td>32</td><td>370002</td></tr><tr><td>Nigeria</td><td>United States</td><td>59</td><td>370002</td></tr><tr><td>United States</td><td>Uruguay</td><td>13</td><td>370002</td></tr><tr><td>Greenland</td><td>United States</td><td>2</td><td>370002</td></tr><tr><td>United States</td><td>Bermuda</td><td>193</td><td>370002</td></tr><tr><td>Chile</td><td>United States</td><td>174</td><td>370002</td></tr><tr><td>United States</td><td>Cuba</td><td>478</td><td>370002</td></tr><tr><td>United States</td><td>Montenegro</td><td>1</td><td>370002</td></tr><tr><td>United States</td><td>Colombia</td><td>867</td><td>370002</td></tr><tr><td>United States</td><td>Barbados</td><td>130</td><td>370002</td></tr><tr><td>United States</td><td>Qatar</td><td>109</td><td>370002</td></tr><tr><td>Australia</td><td>United States</td><td>329</td><td>370002</td></tr><tr><td>United States</td><td>Cayman Islands</td><td>310</td><td>370002</td></tr><tr><td>United States</td><td>Jordan</td><td>44</td><td>370002</td></tr><tr><td>United States</td><td>Namibia</td><td>1</td><td>370002</td></tr><tr><td>United States</td><td>Trinidad and Tobago</td><td>217</td><td>370002</td></tr><tr><td>United States</td><td>Bolivia</td><td>13</td><td>370002</td></tr><tr><td>Cook Islands</td><td>United States</td><td>13</td><td>370002</td></tr><tr><td>Bulgaria</td><td>United States</td><td>3</td><td>370002</td></tr><tr><td>United States</td><td>Saint Kitts and Nevis</td><td>145</td><td>370002</td></tr><tr><td>Uruguay</td><td>United States</td><td>43</td><td>370002</td></tr><tr><td>United States</td><td>Haiti</td><td>225</td><td>370002</td></tr><tr><td>Bonaire, Sint Eustatius, and Saba</td><td>United States</td><td>58</td><td>370002</td></tr><tr><td>Greece</td><td>United States</td><td>30</td><td>370002</td></tr></tbody></table></div>"
      ]
     },
     "metadata": {
      "application/vnd.databricks.v1+output": {
       "addedWidgets": {},
       "aggData": [],
       "aggError": "",
       "aggOverflow": false,
       "aggSchema": [],
       "aggSeriesLimitReached": false,
       "aggType": "",
       "arguments": {},
       "columnCustomDisplayInfos": {},
       "data": [
        [
         "United States",
         "Romania",
         15,
         370002
        ],
        [
         "United States",
         "Croatia",
         1,
         370002
        ],
        [
         "United States",
         "Ireland",
         344,
         370002
        ],
        [
         "Egypt",
         "United States",
         15,
         370002
        ],
        [
         "United States",
         "India",
         62,
         370002
        ],
        [
         "United States",
         "Singapore",
         1,
         370002
        ],
        [
         "United States",
         "Grenada",
         62,
         370002
        ],
        [
         "Costa Rica",
         "United States",
         588,
         370002
        ],
        [
         "Senegal",
         "United States",
         40,
         370002
        ],
        [
         "Moldova",
         "United States",
         1,
         370002
        ],
        [
         "United States",
         "Sint Maarten",
         325,
         370002
        ],
        [
         "United States",
         "Marshall Islands",
         39,
         370002
        ],
        [
         "Guyana",
         "United States",
         64,
         370002
        ],
        [
         "Malta",
         "United States",
         1,
         370002
        ],
        [
         "Anguilla",
         "United States",
         41,
         370002
        ],
        [
         "Bolivia",
         "United States",
         30,
         370002
        ],
        [
         "United States",
         "Paraguay",
         6,
         370002
        ],
        [
         "Algeria",
         "United States",
         4,
         370002
        ],
        [
         "Turks and Caicos Islands",
         "United States",
         230,
         370002
        ],
        [
         "United States",
         "Gibraltar",
         1,
         370002
        ],
        [
         "Saint Vincent and the Grenadines",
         "United States",
         1,
         370002
        ],
        [
         "Italy",
         "United States",
         382,
         370002
        ],
        [
         "United States",
         "Federated States of Micronesia",
         69,
         370002
        ],
        [
         "United States",
         "Russia",
         161,
         370002
        ],
        [
         "Pakistan",
         "United States",
         12,
         370002
        ],
        [
         "United States",
         "Netherlands",
         660,
         370002
        ],
        [
         "Iceland",
         "United States",
         181,
         370002
        ],
        [
         "Marshall Islands",
         "United States",
         42,
         370002
        ],
        [
         "Luxembourg",
         "United States",
         155,
         370002
        ],
        [
         "Honduras",
         "United States",
         362,
         370002
        ],
        [
         "The Bahamas",
         "United States",
         955,
         370002
        ],
        [
         "United States",
         "Senegal",
         42,
         370002
        ],
        [
         "El Salvador",
         "United States",
         561,
         370002
        ],
        [
         "Samoa",
         "United States",
         25,
         370002
        ],
        [
         "United States",
         "Angola",
         13,
         370002
        ],
        [
         "Switzerland",
         "United States",
         294,
         370002
        ],
        [
         "United States",
         "Anguilla",
         38,
         370002
        ],
        [
         "Sint Maarten",
         "United States",
         325,
         370002
        ],
        [
         "Hong Kong",
         "United States",
         332,
         370002
        ],
        [
         "Trinidad and Tobago",
         "United States",
         211,
         370002
        ],
        [
         "Latvia",
         "United States",
         19,
         370002
        ],
        [
         "United States",
         "Ecuador",
         300,
         370002
        ],
        [
         "Suriname",
         "United States",
         1,
         370002
        ],
        [
         "Mexico",
         "United States",
         7140,
         370002
        ],
        [
         "United States",
         "Cyprus",
         1,
         370002
        ],
        [
         "Ecuador",
         "United States",
         268,
         370002
        ],
        [
         "United States",
         "Portugal",
         134,
         370002
        ],
        [
         "United States",
         "Costa Rica",
         608,
         370002
        ],
        [
         "United States",
         "Guatemala",
         318,
         370002
        ],
        [
         "United States",
         "Suriname",
         34,
         370002
        ],
        [
         "Colombia",
         "United States",
         873,
         370002
        ],
        [
         "United States",
         "Cape Verde",
         14,
         370002
        ],
        [
         "United States",
         "Jamaica",
         712,
         370002
        ],
        [
         "Norway",
         "United States",
         121,
         370002
        ],
        [
         "United States",
         "Malaysia",
         3,
         370002
        ],
        [
         "United States",
         "Morocco",
         19,
         370002
        ],
        [
         "Thailand",
         "United States",
         3,
         370002
        ],
        [
         "United States",
         "Samoa",
         25,
         370002
        ],
        [
         "Venezuela",
         "United States",
         290,
         370002
        ],
        [
         "United States",
         "Palau",
         31,
         370002
        ],
        [
         "United States",
         "Venezuela",
         246,
         370002
        ],
        [
         "Panama",
         "United States",
         510,
         370002
        ],
        [
         "Antigua and Barbuda",
         "United States",
         126,
         370002
        ],
        [
         "United States",
         "Chile",
         185,
         370002
        ],
        [
         "Morocco",
         "United States",
         15,
         370002
        ],
        [
         "United States",
         "Finland",
         28,
         370002
        ],
        [
         "Azerbaijan",
         "United States",
         21,
         370002
        ],
        [
         "United States",
         "Greece",
         23,
         370002
        ],
        [
         "United States",
         "The Bahamas",
         986,
         370002
        ],
        [
         "New Zealand",
         "United States",
         111,
         370002
        ],
        [
         "Liberia",
         "United States",
         2,
         370002
        ],
        [
         "United States",
         "Hong Kong",
         414,
         370002
        ],
        [
         "Hungary",
         "United States",
         2,
         370002
        ],
        [
         "United States",
         "China",
         920,
         370002
        ],
        [
         "United States",
         "Vietnam",
         2,
         370002
        ],
        [
         "Burkina Faso",
         "United States",
         1,
         370002
        ],
        [
         "Sweden",
         "United States",
         118,
         370002
        ],
        [
         "United States",
         "Kuwait",
         28,
         370002
        ],
        [
         "United States",
         "Dominican Republic",
         1420,
         370002
        ],
        [
         "United States",
         "Egypt",
         12,
         370002
        ],
        [
         "Israel",
         "United States",
         134,
         370002
        ],
        [
         "United States",
         "United States",
         370002,
         370002
        ],
        [
         "Ethiopia",
         "United States",
         13,
         370002
        ],
        [
         "United States",
         "Luxembourg",
         134,
         370002
        ],
        [
         "United States",
         "Poland",
         33,
         370002
        ],
        [
         "Martinique",
         "United States",
         44,
         370002
        ],
        [
         "United States",
         "Saint Barthelemy",
         41,
         370002
        ],
        [
         "Saint Barthelemy",
         "United States",
         39,
         370002
        ],
        [
         "Barbados",
         "United States",
         154,
         370002
        ],
        [
         "United States",
         "Turkey",
         129,
         370002
        ],
        [
         "Djibouti",
         "United States",
         1,
         370002
        ],
        [
         "United States",
         "Azerbaijan",
         21,
         370002
        ],
        [
         "United States",
         "Estonia",
         1,
         370002
        ],
        [
         "Germany",
         "United States",
         1468,
         370002
        ],
        [
         "United States",
         "South Korea",
         827,
         370002
        ],
        [
         "United States",
         "El Salvador",
         508,
         370002
        ],
        [
         "Ireland",
         "United States",
         335,
         370002
        ],
        [
         "United States",
         "Hungary",
         3,
         370002
        ],
        [
         "Zambia",
         "United States",
         1,
         370002
        ],
        [
         "Malaysia",
         "United States",
         2,
         370002
        ],
        [
         "United States",
         "Ethiopia",
         12,
         370002
        ],
        [
         "United States",
         "Panama",
         465,
         370002
        ],
        [
         "United States",
         "Aruba",
         342,
         370002
        ],
        [
         "United States",
         "Thailand",
         4,
         370002
        ],
        [
         "United States",
         "Turks and Caicos Islands",
         236,
         370002
        ],
        [
         "Croatia",
         "United States",
         2,
         370002
        ],
        [
         "United States",
         "Pakistan",
         12,
         370002
        ],
        [
         "Cyprus",
         "United States",
         1,
         370002
        ],
        [
         "United States",
         "Honduras",
         407,
         370002
        ],
        [
         "Fiji",
         "United States",
         24,
         370002
        ],
        [
         "Qatar",
         "United States",
         108,
         370002
        ],
        [
         "Saint Kitts and Nevis",
         "United States",
         139,
         370002
        ],
        [
         "Kuwait",
         "United States",
         32,
         370002
        ],
        [
         "Taiwan",
         "United States",
         266,
         370002
        ],
        [
         "Haiti",
         "United States",
         226,
         370002
        ],
        [
         "Canada",
         "United States",
         8399,
         370002
        ],
        [
         "Federated States of Micronesia",
         "United States",
         69,
         370002
        ],
        [
         "United States",
         "Liberia",
         2,
         370002
        ],
        [
         "Jamaica",
         "United States",
         666,
         370002
        ],
        [
         "United States",
         "Malta",
         2,
         370002
        ],
        [
         "Dominican Republic",
         "United States",
         1353,
         370002
        ],
        [
         "Japan",
         "United States",
         1548,
         370002
        ],
        [
         "United States",
         "Lithuania",
         1,
         370002
        ],
        [
         "Finland",
         "United States",
         26,
         370002
        ],
        [
         "United States",
         "Guadeloupe",
         59,
         370002
        ],
        [
         "United States",
         "Ukraine",
         13,
         370002
        ],
        [
         "United States",
         "France",
         952,
         370002
        ],
        [
         "United States",
         "Norway",
         115,
         370002
        ],
        [
         "Aruba",
         "United States",
         346,
         370002
        ],
        [
         "French Guiana",
         "United States",
         5,
         370002
        ],
        [
         "United States",
         "Kiribati",
         35,
         370002
        ],
        [
         "India",
         "United States",
         61,
         370002
        ],
        [
         "British Virgin Islands",
         "United States",
         107,
         370002
        ],
        [
         "Brazil",
         "United States",
         853,
         370002
        ],
        [
         "United States",
         "Germany",
         1336,
         370002
        ],
        [
         "United States",
         "New Zealand",
         74,
         370002
        ],
        [
         "French Polynesia",
         "United States",
         43,
         370002
        ],
        [
         "United Arab Emirates",
         "United States",
         320,
         370002
        ],
        [
         "Singapore",
         "United States",
         3,
         370002
        ],
        [
         "United States",
         "Mexico",
         7187,
         370002
        ],
        [
         "United States",
         "Sweden",
         119,
         370002
        ],
        [
         "Netherlands",
         "United States",
         776,
         370002
        ],
        [
         "United States",
         "Martinique",
         43,
         370002
        ],
        [
         "United States",
         "United Arab Emirates",
         313,
         370002
        ],
        [
         "United States",
         "Bulgaria",
         1,
         370002
        ],
        [
         "Denmark",
         "United States",
         153,
         370002
        ],
        [
         "China",
         "United States",
         772,
         370002
        ],
        [
         "United States",
         "Nicaragua",
         201,
         370002
        ],
        [
         "United States",
         "Philippines",
         126,
         370002
        ],
        [
         "United States",
         "Georgia",
         1,
         370002
        ],
        [
         "United States",
         "Belgium",
         228,
         370002
        ],
        [
         "Cayman Islands",
         "United States",
         314,
         370002
        ],
        [
         "Argentina",
         "United States",
         180,
         370002
        ],
        [
         "Peru",
         "United States",
         279,
         370002
        ],
        [
         "South Africa",
         "United States",
         36,
         370002
        ],
        [
         "United States",
         "Iceland",
         202,
         370002
        ],
        [
         "United States",
         "Argentina",
         141,
         370002
        ],
        [
         "Spain",
         "United States",
         420,
         370002
        ],
        [
         "Bermuda",
         "United States",
         183,
         370002
        ],
        [
         "United States",
         "Nigeria",
         50,
         370002
        ],
        [
         "United States",
         "Austria",
         63,
         370002
        ],
        [
         "United States",
         "Bonaire, Sint Eustatius, and Saba",
         59,
         370002
        ],
        [
         "Kiribati",
         "United States",
         26,
         370002
        ],
        [
         "Saudi Arabia",
         "United States",
         83,
         370002
        ],
        [
         "Czech Republic",
         "United States",
         13,
         370002
        ],
        [
         "United States",
         "Israel",
         127,
         370002
        ],
        [
         "Belgium",
         "United States",
         259,
         370002
        ],
        [
         "United States",
         "Saint Lucia",
         136,
         370002
        ],
        [
         "United States",
         "Bahrain",
         1,
         370002
        ],
        [
         "United States",
         "British Virgin Islands",
         80,
         370002
        ],
        [
         "Curacao",
         "United States",
         90,
         370002
        ],
        [
         "Georgia",
         "United States",
         2,
         370002
        ],
        [
         "United States",
         "Denmark",
         152,
         370002
        ],
        [
         "United States",
         "Guyana",
         63,
         370002
        ],
        [
         "Philippines",
         "United States",
         134,
         370002
        ],
        [
         "Grenada",
         "United States",
         53,
         370002
        ],
        [
         "Cape Verde",
         "United States",
         20,
         370002
        ],
        [
         "Cote d'Ivoire",
         "United States",
         1,
         370002
        ],
        [
         "Ukraine",
         "United States",
         14,
         370002
        ],
        [
         "United States",
         "Papua New Guinea",
         1,
         370002
        ],
        [
         "Russia",
         "United States",
         176,
         370002
        ],
        [
         "United States",
         "Saudi Arabia",
         70,
         370002
        ],
        [
         "Guatemala",
         "United States",
         397,
         370002
        ],
        [
         "Saint Lucia",
         "United States",
         123,
         370002
        ],
        [
         "Paraguay",
         "United States",
         60,
         370002
        ],
        [
         "United States",
         "Curacao",
         83,
         370002
        ],
        [
         "Kosovo",
         "United States",
         1,
         370002
        ],
        [
         "United States",
         "Taiwan",
         235,
         370002
        ],
        [
         "Tunisia",
         "United States",
         3,
         370002
        ],
        [
         "United States",
         "South Africa",
         40,
         370002
        ],
        [
         "Niger",
         "United States",
         2,
         370002
        ],
        [
         "Turkey",
         "United States",
         138,
         370002
        ],
        [
         "United Kingdom",
         "United States",
         2025,
         370002
        ],
        [
         "Romania",
         "United States",
         14,
         370002
        ],
        [
         "United States",
         "Greenland",
         4,
         370002
        ],
        [
         "Papua New Guinea",
         "United States",
         3,
         370002
        ],
        [
         "United States",
         "Spain",
         442,
         370002
        ],
        [
         "Iraq",
         "United States",
         1,
         370002
        ],
        [
         "United States",
         "Italy",
         438,
         370002
        ],
        [
         "Cuba",
         "United States",
         466,
         370002
        ],
        [
         "United States",
         "Switzerland",
         305,
         370002
        ],
        [
         "Dominica",
         "United States",
         20,
         370002
        ],
        [
         "United States",
         "Japan",
         1496,
         370002
        ],
        [
         "Portugal",
         "United States",
         127,
         370002
        ],
        [
         "United States",
         "Brazil",
         619,
         370002
        ],
        [
         "Bahrain",
         "United States",
         19,
         370002
        ],
        [
         "United States",
         "Peru",
         337,
         370002
        ],
        [
         "Indonesia",
         "United States",
         1,
         370002
        ],
        [
         "United States",
         "Belize",
         193,
         370002
        ],
        [
         "United States",
         "United Kingdom",
         1970,
         370002
        ],
        [
         "Belize",
         "United States",
         188,
         370002
        ],
        [
         "United States",
         "Ghana",
         20,
         370002
        ],
        [
         "United States",
         "Indonesia",
         2,
         370002
        ],
        [
         "United States",
         "Fiji",
         25,
         370002
        ],
        [
         "United States",
         "Canada",
         8483,
         370002
        ],
        [
         "United States",
         "Antigua and Barbuda",
         117,
         370002
        ],
        [
         "United States",
         "French Polynesia",
         40,
         370002
        ],
        [
         "Nicaragua",
         "United States",
         179,
         370002
        ],
        [
         "United States",
         "Latvia",
         15,
         370002
        ],
        [
         "United States",
         "Dominica",
         27,
         370002
        ],
        [
         "United States",
         "Czech Republic",
         12,
         370002
        ],
        [
         "United States",
         "Australia",
         258,
         370002
        ],
        [
         "United States",
         "Cook Islands",
         13,
         370002
        ],
        [
         "Austria",
         "United States",
         62,
         370002
        ],
        [
         "Jordan",
         "United States",
         44,
         370002
        ],
        [
         "Palau",
         "United States",
         30,
         370002
        ],
        [
         "South Korea",
         "United States",
         1048,
         370002
        ],
        [
         "Angola",
         "United States",
         15,
         370002
        ],
        [
         "Ghana",
         "United States",
         18,
         370002
        ],
        [
         "New Caledonia",
         "United States",
         1,
         370002
        ],
        [
         "Guadeloupe",
         "United States",
         56,
         370002
        ],
        [
         "France",
         "United States",
         935,
         370002
        ],
        [
         "Poland",
         "United States",
         32,
         370002
        ],
        [
         "Nigeria",
         "United States",
         59,
         370002
        ],
        [
         "United States",
         "Uruguay",
         13,
         370002
        ],
        [
         "Greenland",
         "United States",
         2,
         370002
        ],
        [
         "United States",
         "Bermuda",
         193,
         370002
        ],
        [
         "Chile",
         "United States",
         174,
         370002
        ],
        [
         "United States",
         "Cuba",
         478,
         370002
        ],
        [
         "United States",
         "Montenegro",
         1,
         370002
        ],
        [
         "United States",
         "Colombia",
         867,
         370002
        ],
        [
         "United States",
         "Barbados",
         130,
         370002
        ],
        [
         "United States",
         "Qatar",
         109,
         370002
        ],
        [
         "Australia",
         "United States",
         329,
         370002
        ],
        [
         "United States",
         "Cayman Islands",
         310,
         370002
        ],
        [
         "United States",
         "Jordan",
         44,
         370002
        ],
        [
         "United States",
         "Namibia",
         1,
         370002
        ],
        [
         "United States",
         "Trinidad and Tobago",
         217,
         370002
        ],
        [
         "United States",
         "Bolivia",
         13,
         370002
        ],
        [
         "Cook Islands",
         "United States",
         13,
         370002
        ],
        [
         "Bulgaria",
         "United States",
         3,
         370002
        ],
        [
         "United States",
         "Saint Kitts and Nevis",
         145,
         370002
        ],
        [
         "Uruguay",
         "United States",
         43,
         370002
        ],
        [
         "United States",
         "Haiti",
         225,
         370002
        ],
        [
         "Bonaire, Sint Eustatius, and Saba",
         "United States",
         58,
         370002
        ],
        [
         "Greece",
         "United States",
         30,
         370002
        ]
       ],
       "datasetInfos": [],
       "dbfsResultPath": null,
       "isJsonSchema": true,
       "metadata": {
        "dataframeName": "_sqldf",
        "executionCount": 387
       },
       "overflow": false,
       "plotOptions": {
        "customPlotOptions": {},
        "displayType": "table",
        "pivotAggregation": null,
        "pivotColumns": null,
        "xColumns": null,
        "yColumns": null
       },
       "removedWidgets": [],
       "schema": [
        {
         "metadata": "{}",
         "name": "DEST_COUNTRY_NAME",
         "type": "\"string\""
        },
        {
         "metadata": "{}",
         "name": "ORIGIN_COUNTRY_NAME",
         "type": "\"string\""
        },
        {
         "metadata": "{}",
         "name": "count",
         "type": "\"long\""
        },
        {
         "metadata": "{}",
         "name": "maximum",
         "type": "\"long\""
        }
       ],
       "type": "table"
      }
     },
     "output_type": "display_data"
    }
   ],
   "source": [
    "%sql\n",
    "SELECT *, (SELECT max(count) FROM flights) AS maximum FROM flights\n"
   ]
  },
  {
   "cell_type": "code",
   "execution_count": 0,
   "metadata": {
    "application/vnd.databricks.v1+cell": {
     "cellMetadata": {
      "byteLimit": 2048000,
      "implicitDf": true,
      "rowLimit": 10000
     },
     "inputWidgets": {},
     "nuid": "aa320588-d3bd-4bcd-9243-39e452e298a2",
     "showTitle": false,
     "title": ""
    }
   },
   "outputs": [
    {
     "output_type": "display_data",
     "data": {
      "text/html": [
       "<style scoped>\n",
       "  .table-result-container {\n",
       "    max-height: 300px;\n",
       "    overflow: auto;\n",
       "  }\n",
       "  table, th, td {\n",
       "    border: 1px solid black;\n",
       "    border-collapse: collapse;\n",
       "  }\n",
       "  th, td {\n",
       "    padding: 5px;\n",
       "  }\n",
       "  th {\n",
       "    text-align: left;\n",
       "  }\n",
       "</style><div class='table-result-container'><table class='table-result'><thead style='background-color: white'><tr><th>key</th><th>value</th></tr></thead><tbody><tr><td>spark.sql.shuffle.partitions</td><td>20</td></tr></tbody></table></div>"
      ]
     },
     "metadata": {
      "application/vnd.databricks.v1+output": {
       "addedWidgets": {},
       "aggData": [],
       "aggError": "",
       "aggOverflow": false,
       "aggSchema": [],
       "aggSeriesLimitReached": false,
       "aggType": "",
       "arguments": {},
       "columnCustomDisplayInfos": {},
       "data": [
        [
         "spark.sql.shuffle.partitions",
         "20"
        ]
       ],
       "datasetInfos": [],
       "dbfsResultPath": null,
       "isJsonSchema": true,
       "metadata": {
        "dataframeName": "_sqldf",
        "executionCount": 388
       },
       "overflow": false,
       "plotOptions": {
        "customPlotOptions": {},
        "displayType": "table",
        "pivotAggregation": null,
        "pivotColumns": null,
        "xColumns": null,
        "yColumns": null
       },
       "removedWidgets": [],
       "schema": [
        {
         "metadata": "{}",
         "name": "key",
         "type": "\"string\""
        },
        {
         "metadata": "{}",
         "name": "value",
         "type": "\"string\""
        }
       ],
       "type": "table"
      }
     },
     "output_type": "display_data"
    }
   ],
   "source": [
    "%sql\n",
    "SET spark.sql.shuffle.partitions=20\n"
   ]
  },
  {
   "cell_type": "code",
   "execution_count": 0,
   "metadata": {
    "application/vnd.databricks.v1+cell": {
     "cellMetadata": {
      "byteLimit": 2048000,
      "rowLimit": 10000
     },
     "inputWidgets": {},
     "nuid": "e3e5d39f-4af6-4ce1-a32a-4989ac90372c",
     "showTitle": false,
     "title": ""
    }
   },
   "outputs": [
    {
     "output_type": "stream",
     "name": "stdout",
     "output_type": "stream",
     "text": [
      "/mnt/pysparkcontainer has been unmounted.\n"
     ]
    },
    {
     "output_type": "execute_result",
     "data": {
      "text/plain": [
       "True"
      ]
     },
     "execution_count": 389,
     "metadata": {},
     "output_type": "execute_result"
    }
   ],
   "source": [
    "dbutils.fs.unmount(mount_point)"
   ]
  }
 ],
 "metadata": {
  "application/vnd.databricks.v1+notebook": {
   "dashboards": [],
   "environmentMetadata": null,
   "language": "python",
   "notebookMetadata": {
    "mostRecentlyExecutedCommandWithImplicitDF": {
     "commandId": 3829318710386823,
     "dataframes": [
      "_sqldf"
     ]
    },
    "pythonIndentUnit": 4
   },
   "notebookName": "PySpark_Assignment",
   "widgets": {}
  },
  "kernelspec": {
   "display_name": "Python 3 (ipykernel)",
   "language": "python",
   "name": "python3"
  },
  "language_info": {
   "codemirror_mode": {
    "name": "ipython",
    "version": 3
   },
   "file_extension": ".py",
   "mimetype": "text/x-python",
   "name": "python",
   "nbconvert_exporter": "python",
   "pygments_lexer": "ipython3",
   "version": "3.12.2"
  }
 },
 "nbformat": 4,
 "nbformat_minor": 0
}
