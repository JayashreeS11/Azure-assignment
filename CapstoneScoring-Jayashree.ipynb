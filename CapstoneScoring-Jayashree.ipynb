{
 "cells": [
  {
   "cell_type": "code",
   "execution_count": 0,
   "metadata": {
    "application/vnd.databricks.v1+cell": {
     "cellMetadata": {
      "byteLimit": 2048000,
      "rowLimit": 10000
     },
     "inputWidgets": {},
     "nuid": "7753103b-486b-4808-a3a1-aaae513e70d5",
     "showTitle": false,
     "title": ""
    }
   },
   "outputs": [],
   "source": [
    "from pyspark.ml.evaluation import RegressionEvaluator\n",
    "from pyspark.ml.regression import DecisionTreeRegressionModel, LinearRegressionModel\n",
    "from pyspark.ml import PipelineModel\n",
    "mount_point = \"/mnt/capstonejs\""
   ]
  },
  {
   "cell_type": "markdown",
   "metadata": {
    "application/vnd.databricks.v1+cell": {
     "cellMetadata": {},
     "inputWidgets": {},
     "nuid": "e5bc87d5-6715-4e55-8d3a-ae3f04338865",
     "showTitle": false,
     "title": ""
    }
   },
   "source": [
    "## Load the Trained models"
   ]
  },
  {
   "cell_type": "code",
   "execution_count": 0,
   "metadata": {
    "application/vnd.databricks.v1+cell": {
     "cellMetadata": {
      "byteLimit": 2048000,
      "rowLimit": 10000
     },
     "inputWidgets": {},
     "nuid": "5bc60f90-97f3-4521-8932-b685809e3d8d",
     "showTitle": false,
     "title": ""
    }
   },
   "outputs": [],
   "source": [
    "lr_model_path = \"/mnt/capstonejs/models/lr_model\"\n",
    "lr_model = LinearRegressionModel.load(lr_model_path)\n",
    "\n",
    "dt_model_path = \"/mnt/capstonejs/models/dt_model\"\n",
    "dt_model = DecisionTreeRegressionModel.load(dt_model_path)"
   ]
  },
  {
   "cell_type": "markdown",
   "metadata": {
    "application/vnd.databricks.v1+cell": {
     "cellMetadata": {},
     "inputWidgets": {},
     "nuid": "dcde8912-8825-4bc0-8f93-d1f1913166bf",
     "showTitle": false,
     "title": ""
    }
   },
   "source": [
    "## Load the Processed data"
   ]
  },
  {
   "cell_type": "code",
   "execution_count": 0,
   "metadata": {
    "application/vnd.databricks.v1+cell": {
     "cellMetadata": {
      "byteLimit": 2048000,
      "rowLimit": 10000
     },
     "inputWidgets": {},
     "nuid": "25b1c4e2-b8da-4227-97ac-a7637a6a67e6",
     "showTitle": false,
     "title": ""
    }
   },
   "outputs": [],
   "source": [
    "train_data_path = \"/mnt/capstonejs/dataset/processed/train\"\n",
    "test_data_path = \"/mnt/capstonejs/dataset/processed/test\"\n",
    "\n",
    "# Load train data from Parquet\n",
    "train_data = spark.read.parquet(train_data_path)\n",
    "\n",
    "# Load test data from Parquet\n",
    "test_data = spark.read.parquet(test_data_path)"
   ]
  },
  {
   "cell_type": "markdown",
   "metadata": {
    "application/vnd.databricks.v1+cell": {
     "cellMetadata": {},
     "inputWidgets": {},
     "nuid": "24ad0929-9395-4532-932d-b54201da96d6",
     "showTitle": false,
     "title": ""
    }
   },
   "source": [
    "## LR"
   ]
  },
  {
   "cell_type": "code",
   "execution_count": 0,
   "metadata": {
    "application/vnd.databricks.v1+cell": {
     "cellMetadata": {
      "byteLimit": 2048000,
      "rowLimit": 10000
     },
     "inputWidgets": {},
     "nuid": "6c633454-97a5-4297-831a-7dfafed2b516",
     "showTitle": false,
     "title": ""
    }
   },
   "outputs": [
    {
     "output_type": "stream",
     "name": "stdout",
     "output_type": "stream",
     "text": [
      "9.675390847294044e-28\n"
     ]
    }
   ],
   "source": [
    "lr_pred = lr_model.transform(test_data)\n",
    "evaluator = RegressionEvaluator(labelCol=\"quality\", predictionCol=\"prediction\", metricName=\"mse\")\n",
    "mse1 = evaluator.evaluate(lr_pred)"
   ]
  },
  {
   "cell_type": "markdown",
   "metadata": {
    "application/vnd.databricks.v1+cell": {
     "cellMetadata": {},
     "inputWidgets": {},
     "nuid": "42239fe7-2523-46f8-981b-88ceca0b7073",
     "showTitle": false,
     "title": ""
    }
   },
   "source": [
    "## DT"
   ]
  },
  {
   "cell_type": "code",
   "execution_count": 0,
   "metadata": {
    "application/vnd.databricks.v1+cell": {
     "cellMetadata": {
      "byteLimit": 2048000,
      "rowLimit": 10000
     },
     "inputWidgets": {},
     "nuid": "f3361c5f-ab8a-4ce8-bf3a-07504805b0ca",
     "showTitle": false,
     "title": ""
    }
   },
   "outputs": [
    {
     "output_type": "stream",
     "name": "stdout",
     "output_type": "stream",
     "text": [
      "0.0\n"
     ]
    }
   ],
   "source": [
    "dt_pred = dt_model.transform(test_data)\n",
    "evaluator = RegressionEvaluator(labelCol=\"quality\", predictionCol=\"prediction\", metricName=\"mse\")\n",
    "mse2 = evaluator.evaluate(dt_pred)"
   ]
  },
  {
   "cell_type": "code",
   "execution_count": 0,
   "metadata": {
    "application/vnd.databricks.v1+cell": {
     "cellMetadata": {
      "byteLimit": 2048000,
      "rowLimit": 10000
     },
     "inputWidgets": {},
     "nuid": "8601a401-1b8c-4f44-afe7-39e333fa236c",
     "showTitle": false,
     "title": ""
    }
   },
   "outputs": [],
   "source": [
    "Score_path=\"/dbfs/mnt/capstonejs/scores\"\n",
    "with open(Score_path, \"w\") as file:\n",
    "    file.write(\"linear regression - MSE: {}\\n\".format(mse1))\n",
    "    file.write(\"Decision Tree - MSE: {}\\n\".format(mse2))"
   ]
  },
  {
   "cell_type": "code",
   "execution_count": 0,
   "metadata": {
    "application/vnd.databricks.v1+cell": {
     "cellMetadata": {},
     "inputWidgets": {},
     "nuid": "36e95b0d-3b8e-4498-81ae-53b0e2b1c048",
     "showTitle": false,
     "title": ""
    }
   },
   "outputs": [],
   "source": [
    "dbutils.fs.unmount(mount_point)"
   ]
  }
 ],
 "metadata": {
  "application/vnd.databricks.v1+notebook": {
   "dashboards": [],
   "environmentMetadata": null,
   "language": "python",
   "notebookMetadata": {
    "pythonIndentUnit": 4
   },
   "notebookName": "CapstoneScoring-Jayashree",
   "widgets": {}
  },
  "kernelspec": {
   "display_name": "Python 3 (ipykernel)",
   "language": "python",
   "name": "python3"
  },
  "language_info": {
   "codemirror_mode": {
    "name": "ipython",
    "version": 3
   },
   "file_extension": ".py",
   "mimetype": "text/x-python",
   "name": "python",
   "nbconvert_exporter": "python",
   "pygments_lexer": "ipython3",
   "version": "3.12.2"
  }
 },
 "nbformat": 4,
 "nbformat_minor": 0
}
